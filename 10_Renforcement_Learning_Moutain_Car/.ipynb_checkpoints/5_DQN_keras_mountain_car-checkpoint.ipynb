{
 "cells": [
  {
   "cell_type": "markdown",
   "metadata": {
    "colab_type": "text",
    "id": "XT2oM6FHVJCf"
   },
   "source": [
    "## Enviroment: \n",
    "Open AI gym [MountainCar-v0](https://github.com/openai/gym/wiki/MountainCar-v0)\n",
    "\n",
    "### Observation\n",
    "Type: Box(2)\n",
    "\n",
    "| Num  | Observation | Min   | Max  |\n",
    "| ---- | ----------- | ----- | ---- |\n",
    "| 0    | position    | -1.2  | 0.6  |\n",
    "| 1    | velocity    | -0.07 | 0.07 |\n",
    "\n",
    "### Actions\n",
    "\n",
    "Type: Discrete(3)\n",
    "\n",
    "| Num  | Action     |\n",
    "| ---- | ---------- |\n",
    "| 0    | push left  |\n",
    "| 1    | no push    |\n",
    "| 2    | push right |\n",
    "\n",
    "### Reward\n",
    "\n",
    "-1 for each time step, until the goal position of 0.5 is reached. As with MountainCarContinuous v0, there is no penalty for climbing the left hill, which upon reached acts as a wall.\n",
    "\n",
    "### Starting State\n",
    "\n",
    "Random position from -0.6 to -0.4 with no velocity.\n",
    "\n",
    "### Episode Termination\n",
    "\n",
    "The episode ends when you reach 0.5 position, or if 200 iterations are reached.\n"
   ]
  },
  {
   "cell_type": "markdown",
   "metadata": {
    "colab_type": "text",
    "id": "xzVWtGxJVJCh"
   },
   "source": [
    "## 1. gym enviroment setup"
   ]
  },
  {
   "cell_type": "code",
   "execution_count": 0,
   "metadata": {
    "colab": {
     "base_uri": "https://localhost:8080/",
     "height": 34
    },
    "colab_type": "code",
    "id": "G312rzBjVJCi",
    "outputId": "f24448be-40e1-4cdd-e008-15b2534e6d37"
   },
   "outputs": [
    {
     "data": {
      "text/plain": [
       "array([-0.55733036,  0.        ])"
      ]
     },
     "execution_count": 1,
     "metadata": {
      "tags": []
     },
     "output_type": "execute_result"
    }
   ],
   "source": [
    "import gym\n",
    "import numpy as np\n",
    "\n",
    "import matplotlib.pyplot as plt\n",
    "\n",
    "env = gym.make(\"MountainCar-v0\")\n",
    "env.reset()"
   ]
  },
  {
   "cell_type": "code",
   "execution_count": 0,
   "metadata": {
    "colab": {},
    "colab_type": "code",
    "id": "80YCNcHUZYtI"
   },
   "outputs": [],
   "source": [
    "import tensorflow as tf\n",
    "from tensorflow import keras\n",
    "from tensorflow.keras import models\n",
    "from tensorflow.keras import losses,optimizers,metrics\n",
    "from tensorflow.keras.layers import Dense, Activation, Flatten\n",
    "from tensorflow.keras.optimizers import Adam\n",
    "from collections import deque\n",
    "import random\n",
    "from tqdm import tqdm"
   ]
  },
  {
   "cell_type": "code",
   "execution_count": 0,
   "metadata": {
    "colab": {},
    "colab_type": "code",
    "id": "IjkusASudj9W"
   },
   "outputs": [],
   "source": [
    "ACTION_SPACE_SIZE = env.action_space.n\n",
    "REPLAY_MEMORY_SIZE = 50_000\n",
    "MIN_REPLAY_MEMORY_SIZE = 1_000\n",
    "MINIBATCH_SIZE = 64\n",
    "UPDATE_TARGET_EVERY = 5\n",
    "DISCOUNT = 0.99\n",
    "EPISODES =1000\n",
    "\n",
    "# Exploration settings\n",
    "epsilon = 1  # not a constant, going to be decayed\n",
    "EPSILON_DECAY = 0.995\n",
    "MIN_EPSILON = 0.001\n",
    "\n",
    "ep_rewards = []\n",
    "\n",
    "AGGREGATE_STATS_EVERY = 50\n",
    "MIN_EPSILON = 0.001"
   ]
  },
  {
   "cell_type": "markdown",
   "metadata": {
    "colab_type": "text",
    "id": "Gm5w81XdRgyz"
   },
   "source": [
    "### Plot epsilon decay"
   ]
  },
  {
   "cell_type": "code",
   "execution_count": 0,
   "metadata": {
    "colab": {
     "base_uri": "https://localhost:8080/",
     "height": 286
    },
    "colab_type": "code",
    "id": "41yF0b4u46gb",
    "outputId": "03888fbc-7567-49b7-f190-4910f8c40816"
   },
   "outputs": [
    {
     "data": {
      "text/plain": [
       "[<matplotlib.lines.Line2D at 0x7f683078e4e0>]"
      ]
     },
     "execution_count": 24,
     "metadata": {
      "tags": []
     },
     "output_type": "execute_result"
    },
    {
     "data": {
      "image/png": "[encoded data removed]",
      "text/plain": [
       "<Figure size 432x288 with 1 Axes>"
      ]
     },
     "metadata": {
      "tags": []
     },
     "output_type": "display_data"
    }
   ],
   "source": [
    "recorder = {\"epsode\":[],\"epsilon\":[]}\n",
    "\n",
    "for epsode in range(EPISODES):\n",
    "    if epsilon > MIN_EPSILON:\n",
    "        epsilon *= EPSILON_DECAY\n",
    "        epsilon = max(MIN_EPSILON, epsilon)\n",
    "    \n",
    "    recorder[\"epsode\"].append(epsode)\n",
    "    recorder[\"epsilon\"].append(epsilon)\n",
    "\n",
    "plt.plot(recorder[\"epsode\"], recorder[\"epsilon\"])"
   ]
  },
  {
   "cell_type": "markdown",
   "metadata": {
    "colab_type": "text",
    "id": "fkddyPjSZOBU"
   },
   "source": [
    "## 2. Create Model"
   ]
  },
  {
   "cell_type": "code",
   "execution_count": 0,
   "metadata": {
    "colab": {},
    "colab_type": "code",
    "id": "tlX30pzsZXOb"
   },
   "outputs": [],
   "source": [
    "  def create_model():\n",
    "    model = models.Sequential()\n",
    "\n",
    "    model.add(Dense(16 ,input_shape=(env.observation_space.shape)))\n",
    "    model.add(Activation('relu'))\n",
    "    model.add(Dense(16))\n",
    "    model.add(Activation('relu'))\n",
    "    model.add(Dense(16))\n",
    "    model.add(Activation('relu'))\n",
    "    model.add(Dense(ACTION_SPACE_SIZE))\n",
    "    model.add(Activation('linear'))\n",
    "    \n",
    "    print(model.summary())\n",
    "    \n",
    "    model.compile(loss = 'mse', optimizer=Adam(lr=0.001),metrics=['accuracy'])\n",
    "    \n",
    "    return model"
   ]
  },
  {
   "cell_type": "markdown",
   "metadata": {
    "colab_type": "text",
    "id": "lTRr9PZPZ1-1"
   },
   "source": [
    "## 2. Agent Class"
   ]
  },
  {
   "cell_type": "code",
   "execution_count": 0,
   "metadata": {
    "colab": {},
    "colab_type": "code",
    "id": "w_7sLLVzZ1Tj"
   },
   "outputs": [],
   "source": [
    "class DQNAgent:\n",
    "\n",
    "  def __init__(self):\n",
    "    \n",
    "    # Replay memory\n",
    "    self.replay_memory = deque(maxlen=REPLAY_MEMORY_SIZE)\n",
    "    \n",
    "    # Prediction Network (the main Model)\n",
    "    self.model_prediction = create_model()\n",
    "    \n",
    "    # Target Network\n",
    "    self.model_target = create_model()\n",
    "    self.model_target.set_weights(self.model_prediction.get_weights())\n",
    "    \n",
    "   \n",
    "    \n",
    "    # Used to count when to update target network with prediction network's weights\n",
    "    self.target_update_counter = 0\n",
    "    \n",
    "    \n",
    "  \n",
    "  # Adds step's data to a memory replay array\n",
    "  # (current_state, action, reward, next_state, done)\n",
    "  def update_replay_memory(self, transition):\n",
    "    self.replay_memory.append(transition)\n",
    "  \n",
    "  \n",
    "  \n",
    "  # Queries prediction network for Q values given current observation space (environment state)\n",
    "  def get_qs(self, state):\n",
    "    return self.model_prediction.predict(np.array(state).reshape(-1, *state.shape))[0]\n",
    "  \n",
    "  def train(self, terminal_state, step):\n",
    "    \n",
    "    if len(self.replay_memory) < MIN_REPLAY_MEMORY_SIZE:\n",
    "      return\n",
    "    \n",
    "    minibatch = random.sample(self.replay_memory, MINIBATCH_SIZE)\n",
    "    \n",
    "    # Get current states from minibatch, then query NN model_prediction for current Q values\n",
    "    current_states = np.array([transition[0] for transition in minibatch])\n",
    "    current_qs_list = self.model_prediction.predict(current_states)   \n",
    "    \n",
    "    # Get next_states from minibatch, then query NN model_target for target Q values\n",
    "    # When using target network, query it, otherwise main network should be queried\n",
    "    next_states = np.array([transition[3] for transition in minibatch])\n",
    "    target_qs_list = self.model_target.predict(next_states)\n",
    "    \n",
    "    X = []\n",
    "    y = []\n",
    "    \n",
    "    # Now we need to enumerate our batches\n",
    "    for index, (current_state, action, reward, next_state, done) in enumerate(minibatch):\n",
    "\n",
    "        # If not a terminal state, get new q from future states, otherwise set it to 0\n",
    "        # almost like with Q Learning, but we use just part of equation here\n",
    "        if not done:\n",
    "            max_target_q = np.max(target_qs_list[index])\n",
    "            new_q = reward + DISCOUNT * max_target_q\n",
    "        else:\n",
    "            new_q = reward\n",
    "\n",
    "        # Update Q value for given state\n",
    "        current_qs = current_qs_list[index]\n",
    "        current_qs[action] = new_q\n",
    "\n",
    "        # And append to our training data\n",
    "        X.append(current_state)\n",
    "        y.append(current_qs)    \n",
    "    \n",
    "    # Fit on all samples as one batch, log only on terminal state\n",
    "    self.model_prediction.fit(np.array(X), np.array(y), batch_size=MINIBATCH_SIZE, verbose=0, shuffle=False if terminal_state else None)\n",
    "    \n",
    "    # Update target network counter every episode\n",
    "    if terminal_state:\n",
    "        self.target_update_counter +=1\n",
    "    \n",
    "    # If counter reaches set value, update target network with weights of main network\n",
    "    if self.target_update_counter > UPDATE_TARGET_EVERY:\n",
    "      self.model_target.set_weights(self.model_prediction.get_weights())\n",
    "      self.target_update_counter = 0"
   ]
  },
  {
   "cell_type": "code",
   "execution_count": 0,
   "metadata": {
    "colab": {
     "base_uri": "https://localhost:8080/",
     "height": 874
    },
    "colab_type": "code",
    "id": "TUDDhaxOadLa",
    "outputId": "4b30291d-f387-435a-e011-fa542d80db43"
   },
   "outputs": [
    {
     "name": "stdout",
     "output_type": "stream",
     "text": [
      "Model: \"sequential_2\"\n",
      "_________________________________________________________________\n",
      "Layer (type)                 Output Shape              Param #   \n",
      "=================================================================\n",
      "dense_8 (Dense)              (None, 16)                48        \n",
      "_________________________________________________________________\n",
      "activation_8 (Activation)    (None, 16)                0         \n",
      "_________________________________________________________________\n",
      "dense_9 (Dense)              (None, 16)                272       \n",
      "_________________________________________________________________\n",
      "activation_9 (Activation)    (None, 16)                0         \n",
      "_________________________________________________________________\n",
      "dense_10 (Dense)             (None, 16)                272       \n",
      "_________________________________________________________________\n",
      "activation_10 (Activation)   (None, 16)                0         \n",
      "_________________________________________________________________\n",
      "dense_11 (Dense)             (None, 3)                 51        \n",
      "_________________________________________________________________\n",
      "activation_11 (Activation)   (None, 3)                 0         \n",
      "=================================================================\n",
      "Total params: 643\n",
      "Trainable params: 643\n",
      "Non-trainable params: 0\n",
      "_________________________________________________________________\n",
      "None\n",
      "Model: \"sequential_3\"\n",
      "_________________________________________________________________\n",
      "Layer (type)                 Output Shape              Param #   \n",
      "=================================================================\n",
      "dense_12 (Dense)             (None, 16)                48        \n",
      "_________________________________________________________________\n",
      "activation_12 (Activation)   (None, 16)                0         \n",
      "_________________________________________________________________\n",
      "dense_13 (Dense)             (None, 16)                272       \n",
      "_________________________________________________________________\n",
      "activation_13 (Activation)   (None, 16)                0         \n",
      "_________________________________________________________________\n",
      "dense_14 (Dense)             (None, 16)                272       \n",
      "_________________________________________________________________\n",
      "activation_14 (Activation)   (None, 16)                0         \n",
      "_________________________________________________________________\n",
      "dense_15 (Dense)             (None, 3)                 51        \n",
      "_________________________________________________________________\n",
      "activation_15 (Activation)   (None, 3)                 0         \n",
      "=================================================================\n",
      "Total params: 643\n",
      "Trainable params: 643\n",
      "Non-trainable params: 0\n",
      "_________________________________________________________________\n",
      "None\n"
     ]
    }
   ],
   "source": [
    "agent = DQNAgent()"
   ]
  },
  {
   "cell_type": "markdown",
   "metadata": {
    "colab_type": "text",
    "id": "EvjpcUbaR3EF"
   },
   "source": [
    "## 3. Train the agent"
   ]
  },
  {
   "cell_type": "code",
   "execution_count": 0,
   "metadata": {
    "colab": {},
    "colab_type": "code",
    "id": "I7j_aM56tO2_"
   },
   "outputs": [],
   "source": [
    "aggr_ep_rewards = {'ep':[],'avg':[],'min':[],'max':[]}"
   ]
  },
  {
   "cell_type": "code",
   "execution_count": 0,
   "metadata": {
    "colab": {
     "base_uri": "https://localhost:8080/",
     "height": 34
    },
    "colab_type": "code",
    "id": "Xmoxp-PEjN3s",
    "outputId": "d39fc30e-0129-4c0e-a845-907eed7aea69"
   },
   "outputs": [
    {
     "name": "stderr",
     "output_type": "stream",
     "text": [
      "100%|##########| 1000/1000 [36:44<00:00,  1.48s/episodes]\n"
     ]
    }
   ],
   "source": [
    "# Iterate over episodes\n",
    "for episode in tqdm(range(1, EPISODES + 1), ascii=True, unit='episodes'):\n",
    "\n",
    "#     # Update tensorboard step every episode\n",
    "#     agent.tensorboard.step = episode\n",
    "\n",
    "    # Restarting episode - reset episode reward and step number\n",
    "    episode_reward = 0\n",
    "    step = 1\n",
    "\n",
    "    # Reset environment and get initial state\n",
    "    current_state = env.reset()\n",
    "\n",
    "    # Reset flag and start iterating until episode ends\n",
    "    done = False\n",
    "    while not done:\n",
    "\n",
    "        # This part stays mostly the same, the change is to query a model for Q values\n",
    "        if np.random.random() > epsilon:\n",
    "            # Get action from Q table\n",
    "            action = np.argmax(agent.get_qs(current_state))\n",
    "        else:\n",
    "            # Get random action\n",
    "            action = np.random.randint(0, ACTION_SPACE_SIZE)\n",
    "\n",
    "        next_state, reward, done, _ = env.step(action)\n",
    "\n",
    "        # Transform new continous state to new discrete state and count reward\n",
    "        episode_reward += reward\n",
    "\n",
    "#         if SHOW_PREVIEW and not episode % AGGREGATE_STATS_EVERY:\n",
    "#             env.render()\n",
    "\n",
    "        # Every step we update replay memory and train main network\n",
    "        agent.update_replay_memory((current_state, action, reward, next_state, done))\n",
    "        agent.train(done, step)\n",
    "\n",
    "        current_state = next_state\n",
    "        step += 1\n",
    "\n",
    "    # Append episode reward to a list and log stats (every given number of episodes)\n",
    "    ep_rewards.append(episode_reward)\n",
    "    if not episode % AGGREGATE_STATS_EVERY or episode == 1:\n",
    "        average_reward = sum(ep_rewards[-AGGREGATE_STATS_EVERY:])/len(ep_rewards[-AGGREGATE_STATS_EVERY:])\n",
    "        min_reward = min(ep_rewards[-AGGREGATE_STATS_EVERY:])\n",
    "        max_reward = max(ep_rewards[-AGGREGATE_STATS_EVERY:])\n",
    "        \n",
    "        # rewards recording\n",
    "        aggr_ep_rewards['ep'].append(episode)\n",
    "        aggr_ep_rewards['avg'].append(average_reward)\n",
    "        aggr_ep_rewards['min'].append(min_reward)\n",
    "        aggr_ep_rewards['max'].append(max_reward)\n",
    "        \n",
    "#         agent.tensorboard.update_stats(reward_avg=average_reward, reward_min=min_reward, reward_max=max_reward, epsilon=epsilon)\n",
    "\n",
    "        # Save model, but only when min reward is greater or equal a set value\n",
    "#         if min_reward >= MIN_REWARD:\n",
    "#             agent.model.save(f'models/{MODEL_NAME}__{max_reward:_>7.2f}max_{average_reward:_>7.2f}avg_{min_reward:_>7.2f}min__{int(time.time())}.model')\n",
    "\n",
    "    # Decay epsilon\n",
    "    if epsilon > MIN_EPSILON:\n",
    "        epsilon *= EPSILON_DECAY\n",
    "        epsilon = max(MIN_EPSILON, epsilon)\n"
   ]
  },
  {
   "cell_type": "markdown",
   "metadata": {
    "colab_type": "text",
    "id": "QQ22Ry_q4mQS"
   },
   "source": [
    "## Plot episodes vs rewards"
   ]
  },
  {
   "cell_type": "code",
   "execution_count": 0,
   "metadata": {
    "colab": {
     "base_uri": "https://localhost:8080/",
     "height": 300
    },
    "colab_type": "code",
    "id": "G1TtpQaZVJDA",
    "outputId": "5119d0e5-ca00-4d78-d9d6-887c5c7d7904"
   },
   "outputs": [
    {
     "data": {
      "text/plain": [
       "Text(0, 0.5, 'Rewards')"
      ]
     },
     "execution_count": 30,
     "metadata": {
      "tags": []
     },
     "output_type": "execute_result"
    },
    {
     "data": {
      "image/png": "[encoded data removed]",
      "text/plain": [
       "<Figure size 432x288 with 1 Axes>"
      ]
     },
     "metadata": {
      "tags": []
     },
     "output_type": "display_data"
    }
   ],
   "source": [
    "plt.plot(aggr_ep_rewards['ep'], aggr_ep_rewards['avg'], label = 'avg')\n",
    "plt.plot(aggr_ep_rewards['ep'], aggr_ep_rewards['min'], label = 'min')\n",
    "plt.plot(aggr_ep_rewards['ep'], aggr_ep_rewards['max'], label = 'max')\n",
    "plt.legend(loc='upper left')\n",
    "plt.xlabel('Episodes')\n",
    "plt.ylabel('Rewards')"
   ]
  },
  {
   "cell_type": "markdown",
   "metadata": {
    "colab_type": "text",
    "id": "nwD41YstHyGx"
   },
   "source": [
    "### Save model"
   ]
  },
  {
   "cell_type": "code",
   "execution_count": 0,
   "metadata": {
    "colab": {},
    "colab_type": "code",
    "id": "YU3N0zE_HxQb"
   },
   "outputs": [],
   "source": [
    "agent.model_prediction.save('dqn_1.model')"
   ]
  },
  {
   "cell_type": "markdown",
   "metadata": {
    "colab_type": "text",
    "id": "9ILbxFFfIckN"
   },
   "source": [
    "### Rendering Test"
   ]
  },
  {
   "cell_type": "code",
   "execution_count": 0,
   "metadata": {
    "colab": {},
    "colab_type": "code",
    "id": "iFZ1eIgjHwXw"
   },
   "outputs": [],
   "source": [
    "done = False\n",
    "state = env.reset()\n",
    "while not done:\n",
    "    qs_list = agent.get_qs(state)\n",
    "    action = np.argmax(qs_list())\n",
    "    next_state, _, done, _ = env.step(action)\n",
    "    state = next_state\n",
    "    env.render()\n",
    "\n",
    "env.close()\n",
    "    "
   ]
  }
 ],
 "metadata": {
  "accelerator": "GPU",
  "colab": {
   "name": "1_dqn_keras_mountain_car.ipynb",
   "provenance": [],
   "version": "0.3.2"
  },
  "kernelspec": {
   "display_name": "Python (spinningup)",
   "language": "python",
   "name": "spinningup"
  },
  "language_info": {
   "codemirror_mode": {
    "name": "ipython",
    "version": 3
   },
   "file_extension": ".py",
   "mimetype": "text/x-python",
   "name": "python",
   "nbconvert_exporter": "python",
   "pygments_lexer": "ipython3",
   "version": "3.6.8"
  }
 },
 "nbformat": 4,
 "nbformat_minor": 1
}
