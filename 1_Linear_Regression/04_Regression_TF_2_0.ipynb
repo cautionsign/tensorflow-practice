{
  "nbformat": 4,
  "nbformat_minor": 0,
  "metadata": {
    "kernelspec": {
      "display_name": "Python (spinningup)",
      "language": "python",
      "name": "spinningup"
    },
    "language_info": {
      "codemirror_mode": {
        "name": "ipython",
        "version": 3
      },
      "file_extension": ".py",
      "mimetype": "text/x-python",
      "name": "python",
      "nbconvert_exporter": "python",
      "pygments_lexer": "ipython3",
      "version": "3.6.8"
    },
    "colab": {
      "name": "04-Regression_TF_2.0.ipynb",
      "provenance": []
    }
  },
  "cells": [
    {
      "cell_type": "markdown",
      "metadata": {
        "collapsed": true,
        "id": "oYccxxnp8n57",
        "colab_type": "text"
      },
      "source": [
        "# TensorFlow Regression Example"
      ]
    },
    {
      "cell_type": "markdown",
      "metadata": {
        "id": "X_tOdBGk8n59",
        "colab_type": "text"
      },
      "source": [
        "## Creating Data"
      ]
    },
    {
      "cell_type": "code",
      "metadata": {
        "id": "K8bjLm3F8n5-",
        "colab_type": "code",
        "colab": {}
      },
      "source": [
        "import numpy as np\n",
        "import matplotlib.pyplot as plt\n",
        "%matplotlib inline"
      ],
      "execution_count": 0,
      "outputs": []
    },
    {
      "cell_type": "code",
      "metadata": {
        "id": "UHypSMNw8n6B",
        "colab_type": "code",
        "colab": {}
      },
      "source": [
        "# 1 Million Points\n",
        "x_data = np.linspace(0.0,10.0,1000000)"
      ],
      "execution_count": 0,
      "outputs": []
    },
    {
      "cell_type": "code",
      "metadata": {
        "id": "OOp59-hl8n6F",
        "colab_type": "code",
        "colab": {}
      },
      "source": [
        "noise = np.random.randn(len(x_data))"
      ],
      "execution_count": 0,
      "outputs": []
    },
    {
      "cell_type": "code",
      "metadata": {
        "id": "Jj-MqFWI8n6K",
        "colab_type": "code",
        "colab": {}
      },
      "source": [
        "# y = mx + b + noise_levels\n",
        "b = 10\n",
        "\n",
        "y_true =  (2.5 * x_data ) + 15 + noise"
      ],
      "execution_count": 0,
      "outputs": []
    },
    {
      "cell_type": "code",
      "metadata": {
        "id": "gnVtQiQI8n6O",
        "colab_type": "code",
        "outputId": "17c54fa3-64ba-49de-9979-390ef8f297ec",
        "colab": {
          "base_uri": "https://localhost:8080/",
          "height": 286
        }
      },
      "source": [
        "sample_indx = np.random.randint(len(x_data),size=(250))\n",
        "plt.plot(x_data[sample_indx],y_true[sample_indx],'*')"
      ],
      "execution_count": 5,
      "outputs": [
        {
          "output_type": "execute_result",
          "data": {
            "text/plain": [
              "[<matplotlib.lines.Line2D at 0x7fe7515b9a20>]"
            ]
          },
          "metadata": {
            "tags": []
          },
          "execution_count": 5
        },
        {
          "output_type": "display_data",
          "data": {
            "image/png": "[encoded data removed]",
            "text/plain": [
              "<Figure size 432x288 with 1 Axes>"
            ]
          },
          "metadata": {
            "tags": []
          }
        }
      ]
    },
    {
      "cell_type": "markdown",
      "metadata": {
        "id": "uZyXbrKi8u8I",
        "colab_type": "text"
      },
      "source": [
        "# Tensorflow 2.0"
      ]
    },
    {
      "cell_type": "code",
      "metadata": {
        "id": "4zoFygqh8zM9",
        "colab_type": "code",
        "outputId": "ec76068e-20a6-4929-f943-2cc788901443",
        "colab": {
          "base_uri": "https://localhost:8080/",
          "height": 34
        }
      },
      "source": [
        "try:\n",
        "  # %tensorflow_version only exists in Colab.\n",
        "  %tensorflow_version 2.x\n",
        "except Exception:\n",
        "  pass"
      ],
      "execution_count": 6,
      "outputs": [
        {
          "output_type": "stream",
          "text": [
            "TensorFlow 2.x selected.\n"
          ],
          "name": "stdout"
        }
      ]
    },
    {
      "cell_type": "code",
      "metadata": {
        "id": "KhVmpJD4_iy6",
        "colab_type": "code",
        "colab": {}
      },
      "source": [
        "import tensorflow as tf"
      ],
      "execution_count": 0,
      "outputs": []
    },
    {
      "cell_type": "code",
      "metadata": {
        "id": "G6tk00Fv89Gh",
        "colab_type": "code",
        "colab": {}
      },
      "source": [
        "BATCH_SIZE = 1000\n",
        "BATCHS = 10000\n",
        "\n",
        "display_step = 1000\n",
        "learning_rate = 0.001"
      ],
      "execution_count": 0,
      "outputs": []
    },
    {
      "cell_type": "code",
      "metadata": {
        "id": "QQFOC1mh_Q66",
        "colab_type": "code",
        "colab": {}
      },
      "source": [
        "w = tf.Variable(initial_value=0.)\n",
        "b = tf.Variable(initial_value=0.)"
      ],
      "execution_count": 0,
      "outputs": []
    },
    {
      "cell_type": "code",
      "metadata": {
        "id": "cpeeW-Zf9BbK",
        "colab_type": "code",
        "colab": {}
      },
      "source": [
        "def next_batch(x_data, batch_size):\n",
        "    batch_index = np.random.randint(len(x_data),size=(BATCH_SIZE))\n",
        "    x_train = x_data[batch_index]\n",
        "    y_train = y_true[batch_index]\n",
        "    return x_train, y_train"
      ],
      "execution_count": 0,
      "outputs": []
    },
    {
      "cell_type": "code",
      "metadata": {
        "id": "OgEPuJ-oBuSS",
        "colab_type": "code",
        "colab": {}
      },
      "source": [
        "optimizer = tf.keras.optimizers.SGD(learning_rate= learing_rate)"
      ],
      "execution_count": 0,
      "outputs": []
    },
    {
      "cell_type": "code",
      "metadata": {
        "id": "hIXdNnkNXryx",
        "colab_type": "code",
        "colab": {}
      },
      "source": [
        "x_train, y_train = next_batch(x_data, BATCH_SIZE)"
      ],
      "execution_count": 0,
      "outputs": []
    },
    {
      "cell_type": "code",
      "metadata": {
        "id": "_s7QyKzSYJxd",
        "colab_type": "code",
        "colab": {
          "base_uri": "https://localhost:8080/",
          "height": 34
        },
        "outputId": "747ab284-2964-40f6-e2c1-f136e60f9345"
      },
      "source": [
        "y_train.reshape((-1,1)).shape"
      ],
      "execution_count": 37,
      "outputs": [
        {
          "output_type": "execute_result",
          "data": {
            "text/plain": [
              "(1000, 1)"
            ]
          },
          "metadata": {
            "tags": []
          },
          "execution_count": 37
        }
      ]
    },
    {
      "cell_type": "code",
      "metadata": {
        "id": "RQQkd0HNXtps",
        "colab_type": "code",
        "colab": {
          "base_uri": "https://localhost:8080/",
          "height": 34
        },
        "outputId": "37cdd878-1435-4a43-c6f6-2ba83bf31dea"
      },
      "source": [
        "x_train.reshape((-1,1)).shape"
      ],
      "execution_count": 33,
      "outputs": [
        {
          "output_type": "execute_result",
          "data": {
            "text/plain": [
              "(1000, 1)"
            ]
          },
          "metadata": {
            "tags": []
          },
          "execution_count": 33
        }
      ]
    },
    {
      "cell_type": "code",
      "metadata": {
        "id": "4GGPEpf79jod",
        "colab_type": "code",
        "outputId": "eb935f20-ce8b-4b6b-df3b-7d9ec35cfe4e",
        "colab": {
          "base_uri": "https://localhost:8080/",
          "height": 204
        }
      },
      "source": [
        "for step in range(BATCHS):\n",
        "  x_train, y_train = next_batch(x_data, BATCH_SIZE)\n",
        "  with tf.GradientTape() as tape:\n",
        "    y_pred = w * x_train + b\n",
        "    # loss = tf.reduce_sum(tf.square(y_pred - y_train))/(BATCH_SIZE)\n",
        "    loss = tf.reduce_mean(tf.square(y_pred - y_train))\n",
        "  \n",
        "  \n",
        "  grads = tape.gradient(loss, [w, b])\n",
        "  optimizer.apply_gradients(grads_and_vars=zip(grads,[w,b]))\n",
        "  \n",
        "  if (step + 1) % display_step == 0 or step == 0:\n",
        "    print(\"Step : {}, loss : {} , w : {}, b : {}\".format(step, loss.numpy(), w.numpy(), b.numpy()))"
      ],
      "execution_count": 26,
      "outputs": [
        {
          "output_type": "stream",
          "text": [
            "Step : 0, loss : 813.4712524414062 , w : 0.31691431999206543, b : 0.05517519637942314\n",
            "Step : 999, loss : 20.257383346557617 , w : 3.821810245513916, b : 6.228170871734619\n",
            "Step : 1999, loss : 8.363652229309082 , w : 3.309018135070801, b : 9.620268821716309\n",
            "Step : 2999, loss : 4.025704383850098 , w : 2.998520851135254, b : 11.700251579284668\n",
            "Step : 3999, loss : 1.9712138175964355 , w : 2.805393695831299, b : 12.976557731628418\n",
            "Step : 4999, loss : 1.3898404836654663 , w : 2.6879377365112305, b : 13.758804321289062\n",
            "Step : 5999, loss : 1.073419451713562 , w : 2.613929271697998, b : 14.238375663757324\n",
            "Step : 6999, loss : 1.0848280191421509 , w : 2.569657564163208, b : 14.532112121582031\n",
            "Step : 7999, loss : 1.0170762538909912 , w : 2.540977716445923, b : 14.71386432647705\n",
            "Step : 8999, loss : 0.9608482718467712 , w : 2.5256636142730713, b : 14.82515811920166\n",
            "Step : 9999, loss : 1.05859375 , w : 2.5149433612823486, b : 14.893718719482422\n"
          ],
          "name": "stdout"
        }
      ]
    },
    {
      "cell_type": "code",
      "metadata": {
        "id": "K-jWJnsbCb9t",
        "colab_type": "code",
        "outputId": "ace707bf-b072-4bf9-e1dd-ca67018f9a4f",
        "colab": {
          "base_uri": "https://localhost:8080/",
          "height": 286
        }
      },
      "source": [
        "plt.plot(x_data[sample_indx],y_true[sample_indx],'*')\n",
        "plt.plot(x_data, w.numpy()*x_data+b.numpy(),'r')"
      ],
      "execution_count": 0,
      "outputs": [
        {
          "output_type": "execute_result",
          "data": {
            "text/plain": [
              "[<matplotlib.lines.Line2D at 0x7f6d7689f748>]"
            ]
          },
          "metadata": {
            "tags": []
          },
          "execution_count": 58
        },
        {
          "output_type": "display_data",
          "data": {
            "image/png": "[encoded data removed]",
            "text/plain": [
              "<Figure size 432x288 with 1 Axes>"
            ]
          },
          "metadata": {
            "tags": []
          }
        }
      ]
    },
    {
      "cell_type": "markdown",
      "metadata": {
        "id": "af947_5gSOb_",
        "colab_type": "text"
      },
      "source": [
        "### Using Keras Models"
      ]
    },
    {
      "cell_type": "code",
      "metadata": {
        "id": "6YJuwaAGSWBd",
        "colab_type": "code",
        "colab": {}
      },
      "source": [
        "class LinearModel(tf.keras.Model):\n",
        "  def __init__(self):\n",
        "    super().__init__()\n",
        "    self.dense = tf.keras.layers.Dense(\n",
        "        units=1)\n",
        "        # kernel_initializer=tf.zeros_initializer(),\n",
        "        # bias_initializer = tf.zeros_initializer())\n",
        "\n",
        "  def call(self,input):\n",
        "    output = self.dense(input)\n",
        "    return output\n"
      ],
      "execution_count": 0,
      "outputs": []
    },
    {
      "cell_type": "code",
      "metadata": {
        "id": "vvCaun-gVbMv",
        "colab_type": "code",
        "colab": {}
      },
      "source": [
        "model = LinearModel()"
      ],
      "execution_count": 0,
      "outputs": []
    },
    {
      "cell_type": "code",
      "metadata": {
        "id": "zhEtTjCrUojy",
        "colab_type": "code",
        "colab": {}
      },
      "source": [
        "optimizer = tf.keras.optimizers.SGD(learning_rate=learning_rate)"
      ],
      "execution_count": 0,
      "outputs": []
    },
    {
      "cell_type": "code",
      "metadata": {
        "id": "KJpw-Fg7VHNH",
        "colab_type": "code",
        "colab": {
          "base_uri": "https://localhost:8080/",
          "height": 309
        },
        "outputId": "349057c4-1f78-45fd-93a7-34d3ecee84b1"
      },
      "source": [
        "for step in range(BATCHS):\n",
        "  x_train, y_train = next_batch(x_data, BATCH_SIZE)\n",
        "  x_train = x_train.reshape((-1,1))\n",
        "  y_train = y_train.reshape((-1,1))\n",
        "  with tf.GradientTape() as tape:    \n",
        "    y_pred = model(x_train)\n",
        "    loss = tf.reduce_mean((y_pred - y_train)**2)\n",
        "  grads = tape.gradient(loss, model.variables)\n",
        "  optimizer.apply_gradients(zip(grads, model.variables))\n",
        "  if step%1000 == 0:\n",
        "    print(\"Step: {} loss: {}\".format(step,loss.numpy()))"
      ],
      "execution_count": 20,
      "outputs": [
        {
          "output_type": "stream",
          "text": [
            "WARNING:tensorflow:Layer linear_model_1 is casting an input tensor from dtype float64 to the layer's dtype of float32, which is new behavior in TensorFlow 2.  The layer has dtype float32 because it's dtype defaults to floatx.\n",
            "\n",
            "If you intended to run this layer in float32, you can safely ignore this warning. If in doubt, this warning is likely only an issue if you are porting a TensorFlow 1.X model to TensorFlow 2.\n",
            "\n",
            "To change all layers to have dtype float64 by default, call `tf.keras.backend.set_floatx('float64')`. To change just this layer, pass dtype='float64' to the layer constructor. If you are the author of this layer, you can disable autocasting by passing autocast=False to the base Layer constructor.\n",
            "\n",
            "Step: 0 loss: 484.9335632324219\n",
            "Step: 1000 loss: 20.907081604003906\n",
            "Step: 2000 loss: 8.306971549987793\n",
            "Step: 3000 loss: 4.338044166564941\n",
            "Step: 4000 loss: 2.01308274269104\n",
            "Step: 5000 loss: 1.4498724937438965\n",
            "Step: 6000 loss: 1.1431903839111328\n",
            "Step: 7000 loss: 1.0200426578521729\n",
            "Step: 8000 loss: 0.9427798986434937\n",
            "Step: 9000 loss: 0.9625763297080994\n"
          ],
          "name": "stdout"
        }
      ]
    },
    {
      "cell_type": "code",
      "metadata": {
        "id": "7yYOeG_5cL-W",
        "colab_type": "code",
        "colab": {}
      },
      "source": [
        "w,b = model.variables"
      ],
      "execution_count": 0,
      "outputs": []
    },
    {
      "cell_type": "code",
      "metadata": {
        "id": "HgS9Mhk2cWNq",
        "colab_type": "code",
        "colab": {
          "base_uri": "https://localhost:8080/",
          "height": 286
        },
        "outputId": "9c6f53d4-e776-4d31-bf62-8adf2d2d5dba"
      },
      "source": [
        "plt.plot(x_data[sample_indx],y_true[sample_indx],'*')\n",
        "plt.plot(x_data, w.numpy()[0]*x_data+b.numpy(),'r')"
      ],
      "execution_count": 29,
      "outputs": [
        {
          "output_type": "execute_result",
          "data": {
            "text/plain": [
              "[<matplotlib.lines.Line2D at 0x7fe74ed41748>]"
            ]
          },
          "metadata": {
            "tags": []
          },
          "execution_count": 29
        },
        {
          "output_type": "display_data",
          "data": {
            "image/png": "[encoded data removed]",
            "text/plain": [
              "<Figure size 432x288 with 1 Axes>"
            ]
          },
          "metadata": {
            "tags": []
          }
        }
      ]
    },
    {
      "cell_type": "markdown",
      "metadata": {
        "id": "zbw-oZBX8n6S",
        "colab_type": "text"
      },
      "source": [
        "# TF Eager Execution\n"
      ]
    },
    {
      "cell_type": "code",
      "metadata": {
        "id": "_OcFXyWL8n6T",
        "colab_type": "code",
        "colab": {}
      },
      "source": [
        "import tensorflow as tf"
      ],
      "execution_count": 0,
      "outputs": []
    },
    {
      "cell_type": "code",
      "metadata": {
        "id": "3diK_5KV8n6X",
        "colab_type": "code",
        "colab": {}
      },
      "source": [
        "# Set Eager API\n",
        "tf.enable_eager_execution()\n",
        "tfe = tf.contrib.eager"
      ],
      "execution_count": 0,
      "outputs": []
    },
    {
      "cell_type": "code",
      "metadata": {
        "id": "aYVlrE-78n6Z",
        "colab_type": "code",
        "colab": {}
      },
      "source": [
        "BATCH_SIZE = 1000\n",
        "BATCHS = 10000"
      ],
      "execution_count": 0,
      "outputs": []
    },
    {
      "cell_type": "code",
      "metadata": {
        "id": "jLHVq4AT8n6b",
        "colab_type": "code",
        "colab": {}
      },
      "source": [
        "def next_batch(x_data, batch_size):\n",
        "    batch_index = np.random.randint(len(x_data),size=(BATCH_SIZE))\n",
        "    x_train = x_data[batch_index]\n",
        "    y_train = y_true[batch_index]\n",
        "    return x_train, y_train"
      ],
      "execution_count": 0,
      "outputs": []
    },
    {
      "cell_type": "markdown",
      "metadata": {
        "id": "AkohyyRv8n6f",
        "colab_type": "text"
      },
      "source": [
        "**Variables**"
      ]
    },
    {
      "cell_type": "code",
      "metadata": {
        "id": "g97e_Xdv8n6f",
        "colab_type": "code",
        "colab": {}
      },
      "source": [
        "w_tfe = tf.Variable(np.random.uniform())\n",
        "b_tfe = tf.Variable(np.random.uniform(1,10))"
      ],
      "execution_count": 0,
      "outputs": []
    },
    {
      "cell_type": "markdown",
      "metadata": {
        "id": "pq5R2A0w8n6j",
        "colab_type": "text"
      },
      "source": [
        "**Linear regression function**"
      ]
    },
    {
      "cell_type": "code",
      "metadata": {
        "id": "eeERhtI98n6k",
        "colab_type": "code",
        "colab": {}
      },
      "source": [
        "# Linear regression (Wx + b)\n",
        "def linear_regression(inputs):\n",
        "    return inputs * w_tfe + b_tfe"
      ],
      "execution_count": 0,
      "outputs": []
    },
    {
      "cell_type": "markdown",
      "metadata": {
        "id": "QdbdmM3H8n6o",
        "colab_type": "text"
      },
      "source": [
        "**Lost function: MS**"
      ]
    },
    {
      "cell_type": "code",
      "metadata": {
        "id": "QhtlCGBx8n6p",
        "colab_type": "code",
        "colab": {}
      },
      "source": [
        "def mean_square_fn(model_fn, inputs, labels):\n",
        "    return tf.reduce_sum(tf.pow(model_fn(inputs) - labels, 2)) / (2 * BATCH_SIZE)"
      ],
      "execution_count": 0,
      "outputs": []
    },
    {
      "cell_type": "markdown",
      "metadata": {
        "id": "_Zcxe26i8n6u",
        "colab_type": "text"
      },
      "source": [
        "**Optimizer**"
      ]
    },
    {
      "cell_type": "code",
      "metadata": {
        "id": "g0w_9iaU8n6v",
        "colab_type": "code",
        "colab": {}
      },
      "source": [
        "optimizer = tf.train.GradientDescentOptimizer(learning_rate=0.001)\n",
        "\n",
        "grad = tfe.implicit_gradients(mean_square_fn)"
      ],
      "execution_count": 0,
      "outputs": []
    },
    {
      "cell_type": "code",
      "metadata": {
        "id": "BtozPYEZ8n6y",
        "colab_type": "code",
        "outputId": "a49e3b3f-e55f-48ab-bd19-037c87b881d2",
        "colab": {}
      },
      "source": [
        "# Initial cost\n",
        "x_train, y_train = next_batch(x_data, BATCH_SIZE)\n",
        "print(\"Initial cost= {:.9f}\".format(\n",
        "    mean_square_fn(linear_regression, x_train, y_train)),\n",
        "    \"W=\", w_tfe.numpy(), \"b=\", b_tfe.numpy())"
      ],
      "execution_count": 0,
      "outputs": [
        {
          "output_type": "stream",
          "text": [
            "Initial cost= 301.666534424 W= 0.29334104 b= 2.6102347\n"
          ],
          "name": "stdout"
        }
      ]
    },
    {
      "cell_type": "markdown",
      "metadata": {
        "id": "k__19OUE8n61",
        "colab_type": "text"
      },
      "source": [
        "**Training**"
      ]
    },
    {
      "cell_type": "code",
      "metadata": {
        "id": "2rep3N2e8n62",
        "colab_type": "code",
        "outputId": "0daea9dd-7a2a-42b8-b315-8f42e83c2d1c",
        "colab": {}
      },
      "source": [
        "# Training\n",
        "display_step = 100\n",
        "for step in range(BATCHS):\n",
        "    \n",
        "    x_train, y_train = next_batch(x_data, BATCH_SIZE)\n",
        "    optimizer.apply_gradients(grad(linear_regression, x_train, y_train))\n",
        "\n",
        "    if (step + 1) % display_step == 0 or step == 0:\n",
        "        print(\"Epoch:\", '%04d' % (step + 1), \"cost=\",\n",
        "              \"{:.9f}\".format(mean_square_fn(linear_regression, x_train, y_train)),\n",
        "              \"W=\", w_tfe.numpy(), \"b=\", b_tfe.numpy())\n"
      ],
      "execution_count": 0,
      "outputs": [
        {
          "output_type": "stream",
          "text": [
            "Epoch: 0001 cost= 275.481536865 W= 0.42854565 b= 2.6336372\n",
            "Epoch: 0100 cost= 16.771112442 W= 4.11131 b= 3.4798746\n",
            "Epoch: 0200 cost= 16.047227859 W= 4.1926284 b= 3.7750118\n",
            "Epoch: 0300 cost= 15.135506630 W= 4.155428 b= 4.045262\n",
            "Epoch: 0400 cost= 14.601335526 W= 4.1137743 b= 4.309869\n",
            "Epoch: 0500 cost= 12.988318443 W= 4.07434 b= 4.5675364\n",
            "Epoch: 0600 cost= 13.962398529 W= 4.0381775 b= 4.8191485\n",
            "Epoch: 0700 cost= 11.749617577 W= 3.9993713 b= 5.064703\n",
            "Epoch: 0800 cost= 11.554651260 W= 3.9644341 b= 5.3054633\n",
            "Epoch: 0900 cost= 11.580221176 W= 3.928494 b= 5.5401406\n",
            "Epoch: 1000 cost= 11.125984192 W= 3.8980548 b= 5.770336\n",
            "Epoch: 1100 cost= 10.007103920 W= 3.862554 b= 5.9936194\n",
            "Epoch: 1200 cost= 9.616973877 W= 3.8300939 b= 6.2107058\n",
            "Epoch: 1300 cost= 9.293504715 W= 3.7960896 b= 6.4219265\n",
            "Epoch: 1400 cost= 9.302433968 W= 3.7648456 b= 6.6274505\n",
            "Epoch: 1500 cost= 8.918160439 W= 3.7349737 b= 6.8296146\n",
            "Epoch: 1600 cost= 8.196873665 W= 3.700922 b= 7.025527\n",
            "Epoch: 1700 cost= 8.114662170 W= 3.6736612 b= 7.217224\n",
            "Epoch: 1800 cost= 7.420712471 W= 3.646926 b= 7.405056\n",
            "Epoch: 1900 cost= 7.244167805 W= 3.6210873 b= 7.5892572\n",
            "Epoch: 2000 cost= 7.027961254 W= 3.595361 b= 7.7688875\n",
            "Epoch: 2100 cost= 6.667112827 W= 3.5663705 b= 7.94299\n",
            "Epoch: 2200 cost= 6.635849476 W= 3.5434058 b= 8.11352\n",
            "Epoch: 2300 cost= 6.271118164 W= 3.5149488 b= 8.278675\n",
            "Epoch: 2400 cost= 6.085773945 W= 3.4919684 b= 8.440779\n",
            "Epoch: 2500 cost= 5.780133724 W= 3.4696915 b= 8.599832\n",
            "Epoch: 2600 cost= 5.293220520 W= 3.4442346 b= 8.753782\n",
            "Epoch: 2700 cost= 4.847285271 W= 3.4196973 b= 8.903981\n",
            "Epoch: 2800 cost= 4.648473740 W= 3.3974876 b= 9.051678\n",
            "Epoch: 2900 cost= 4.737245083 W= 3.3806791 b= 9.197361\n",
            "Epoch: 3000 cost= 4.325105190 W= 3.3542683 b= 9.336985\n",
            "Epoch: 3100 cost= 4.441687107 W= 3.3339086 b= 9.473751\n",
            "Epoch: 3200 cost= 4.256507874 W= 3.31495 b= 9.606302\n",
            "Epoch: 3300 cost= 4.133140564 W= 3.294693 b= 9.736195\n",
            "Epoch: 3400 cost= 3.762845039 W= 3.2755926 b= 9.86446\n",
            "Epoch: 3500 cost= 3.711015701 W= 3.2582154 b= 9.988206\n",
            "Epoch: 3600 cost= 3.403789759 W= 3.2384858 b= 10.109075\n",
            "Epoch: 3700 cost= 3.416311502 W= 3.2214046 b= 10.227655\n",
            "Epoch: 3800 cost= 3.367571354 W= 3.204864 b= 10.343255\n",
            "Epoch: 3900 cost= 3.045504808 W= 3.1882067 b= 10.45586\n",
            "Epoch: 4000 cost= 3.017071247 W= 3.1692305 b= 10.565196\n",
            "Epoch: 4100 cost= 2.872391939 W= 3.153776 b= 10.671853\n",
            "Epoch: 4200 cost= 2.893660307 W= 3.1390457 b= 10.776576\n",
            "Epoch: 4300 cost= 2.697478056 W= 3.1202095 b= 10.878318\n",
            "Epoch: 4400 cost= 2.426154852 W= 3.107227 b= 10.978092\n",
            "Epoch: 4500 cost= 2.500243902 W= 3.0942423 b= 11.074939\n",
            "Epoch: 4600 cost= 2.320518017 W= 3.078808 b= 11.169363\n",
            "Epoch: 4700 cost= 2.285497665 W= 3.0669324 b= 11.26185\n",
            "Epoch: 4800 cost= 2.077934504 W= 3.0534801 b= 11.352316\n",
            "Epoch: 4900 cost= 2.126533985 W= 3.0373795 b= 11.439814\n",
            "Epoch: 5000 cost= 1.963438749 W= 3.0228853 b= 11.524724\n",
            "Epoch: 5100 cost= 1.893150449 W= 3.0125375 b= 11.609567\n",
            "Epoch: 5200 cost= 1.800761700 W= 2.999554 b= 11.69099\n",
            "Epoch: 5300 cost= 1.826110840 W= 2.9880226 b= 11.770436\n",
            "Epoch: 5400 cost= 1.718632936 W= 2.977614 b= 11.848662\n",
            "Epoch: 5500 cost= 1.741396189 W= 2.9636 b= 11.925114\n",
            "Epoch: 5600 cost= 1.685652852 W= 2.9538183 b= 11.999487\n",
            "Epoch: 5700 cost= 1.694853544 W= 2.9414043 b= 12.071367\n",
            "Epoch: 5800 cost= 1.520098925 W= 2.9319844 b= 12.142838\n",
            "Epoch: 5900 cost= 1.461071968 W= 2.91992 b= 12.211847\n",
            "Epoch: 6000 cost= 1.357613325 W= 2.9111903 b= 12.279675\n",
            "Epoch: 6100 cost= 1.475282669 W= 2.9010105 b= 12.344868\n",
            "Epoch: 6200 cost= 1.343915820 W= 2.892209 b= 12.409323\n",
            "Epoch: 6300 cost= 1.281312704 W= 2.8823316 b= 12.471721\n",
            "Epoch: 6400 cost= 1.285332322 W= 2.8736398 b= 12.532852\n",
            "Epoch: 6500 cost= 1.212053418 W= 2.8630872 b= 12.592061\n",
            "Epoch: 6600 cost= 1.218060493 W= 2.8541899 b= 12.649966\n",
            "Epoch: 6700 cost= 1.172313809 W= 2.847736 b= 12.706566\n",
            "Epoch: 6800 cost= 1.166100621 W= 2.8382943 b= 12.762114\n",
            "Epoch: 6900 cost= 1.098492861 W= 2.829959 b= 12.816151\n",
            "Epoch: 7000 cost= 1.063740015 W= 2.8225312 b= 12.868826\n",
            "Epoch: 7100 cost= 1.023402214 W= 2.8145664 b= 12.919719\n",
            "Epoch: 7200 cost= 0.982637823 W= 2.8071923 b= 12.969754\n",
            "Epoch: 7300 cost= 1.033883810 W= 2.7985566 b= 13.018748\n",
            "Epoch: 7400 cost= 0.994429886 W= 2.792207 b= 13.066607\n",
            "Epoch: 7500 cost= 0.954064608 W= 2.784292 b= 13.113034\n",
            "Epoch: 7600 cost= 0.927848518 W= 2.7786987 b= 13.158699\n",
            "Epoch: 7700 cost= 0.887622297 W= 2.7697585 b= 13.202898\n",
            "Epoch: 7800 cost= 0.881225646 W= 2.7627225 b= 13.245891\n",
            "Epoch: 7900 cost= 0.895305872 W= 2.7579055 b= 13.28829\n",
            "Epoch: 8000 cost= 0.851209164 W= 2.7529163 b= 13.3296385\n",
            "Epoch: 8100 cost= 0.745737910 W= 2.7459857 b= 13.370074\n",
            "Epoch: 8200 cost= 0.795846760 W= 2.7407546 b= 13.409106\n",
            "Epoch: 8300 cost= 0.850925267 W= 2.733101 b= 13.447238\n",
            "Epoch: 8400 cost= 0.762317002 W= 2.7285335 b= 13.484957\n",
            "Epoch: 8500 cost= 0.799837947 W= 2.7227023 b= 13.521192\n",
            "Epoch: 8600 cost= 0.793936789 W= 2.7185183 b= 13.557222\n",
            "Epoch: 8700 cost= 0.703119099 W= 2.7118874 b= 13.591786\n",
            "Epoch: 8800 cost= 0.688881338 W= 2.7092729 b= 13.626094\n",
            "Epoch: 8900 cost= 0.720998645 W= 2.7014139 b= 13.658497\n",
            "Epoch: 9000 cost= 0.728614748 W= 2.698639 b= 13.691119\n",
            "Epoch: 9100 cost= 0.673389077 W= 2.6924767 b= 13.722499\n",
            "Epoch: 9200 cost= 0.665706694 W= 2.6888242 b= 13.75342\n",
            "Epoch: 9300 cost= 0.681291282 W= 2.6839147 b= 13.783423\n",
            "Epoch: 9400 cost= 0.666010678 W= 2.678437 b= 13.812644\n",
            "Epoch: 9500 cost= 0.643584788 W= 2.6734912 b= 13.841193\n",
            "Epoch: 9600 cost= 0.676403344 W= 2.6705093 b= 13.869479\n",
            "Epoch: 9700 cost= 0.583694935 W= 2.6669464 b= 13.896692\n",
            "Epoch: 9800 cost= 0.559415162 W= 2.662542 b= 13.922997\n",
            "Epoch: 9900 cost= 0.641796768 W= 2.6587977 b= 13.94918\n",
            "Epoch: 10000 cost= 0.607424080 W= 2.654848 b= 13.974417\n"
          ],
          "name": "stdout"
        }
      ]
    },
    {
      "cell_type": "markdown",
      "metadata": {
        "id": "uyDZ4L9T8n65",
        "colab_type": "text"
      },
      "source": [
        "**Results**"
      ]
    },
    {
      "cell_type": "code",
      "metadata": {
        "id": "xV9nosR08n66",
        "colab_type": "code",
        "outputId": "021a8010-8e08-46a1-fc3a-865e6d57faf8",
        "colab": {}
      },
      "source": [
        "plt.plot(x_data[sample_indx],y_true[sample_indx],'*')\n",
        "plt.plot(x_data, w_tfe*x_data+b_tfe,'r')"
      ],
      "execution_count": 0,
      "outputs": [
        {
          "output_type": "execute_result",
          "data": {
            "text/plain": [
              "[<matplotlib.lines.Line2D at 0x1a4302d9b0>]"
            ]
          },
          "metadata": {
            "tags": []
          },
          "execution_count": 16
        },
        {
          "output_type": "display_data",
          "data": {
            "image/png": "[encoded data removed]",
            "text/plain": [
              "<Figure size 432x288 with 1 Axes>"
            ]
          },
          "metadata": {
            "tags": [],
            "needs_background": "light"
          }
        }
      ]
    },
    {
      "cell_type": "code",
      "metadata": {
        "id": "emxjDLQR8n69",
        "colab_type": "code",
        "colab": {}
      },
      "source": [
        ""
      ],
      "execution_count": 0,
      "outputs": []
    }
  ]
}