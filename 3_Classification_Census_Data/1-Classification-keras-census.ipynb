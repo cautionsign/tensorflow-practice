{
 "cells": [
  {
   "cell_type": "markdown",
   "metadata": {
    "collapsed": true
   },
   "source": [
    "# Classification Exercise"
   ]
  },
  {
   "cell_type": "markdown",
   "metadata": {},
   "source": [
    "We'll be working with some California Census Data, we'll be trying to use various features of an individual to predict what class of income they belogn in (>50k or <=50k). \n",
    "\n",
    "Here is some information about the data:"
   ]
  },
  {
   "cell_type": "markdown",
   "metadata": {},
   "source": [
    "<table>\n",
    "<thead>\n",
    "<tr>\n",
    "<th>Column Name</th>\n",
    "<th>Type</th>\n",
    "<th>Description</th>\n",
    "</tr>\n",
    "</thead>\n",
    "<tbody>\n",
    "<tr>\n",
    "<td>age</td>\n",
    "<td>Continuous</td>\n",
    "<td>The age of the individual</td>\n",
    "</tr>\n",
    "<tr>\n",
    "<td>workclass</td>\n",
    "<td>Categorical</td>\n",
    "<td>The type of employer the  individual has (government,  military, private, etc.).</td>\n",
    "</tr>\n",
    "<tr>\n",
    "<td>fnlwgt</td>\n",
    "<td>Continuous</td>\n",
    "<td>The number of people the census  takers believe that observation  represents (sample weight). This  variable will not be used.</td>\n",
    "</tr>\n",
    "<tr>\n",
    "<td>education</td>\n",
    "<td>Categorical</td>\n",
    "<td>The highest level of education  achieved for that individual.</td>\n",
    "</tr>\n",
    "<tr>\n",
    "<td>education_num</td>\n",
    "<td>Continuous</td>\n",
    "<td>The highest level of education in  numerical form.</td>\n",
    "</tr>\n",
    "<tr>\n",
    "<td>marital_status</td>\n",
    "<td>Categorical</td>\n",
    "<td>Marital status of the individual.</td>\n",
    "</tr>\n",
    "<tr>\n",
    "<td>occupation</td>\n",
    "<td>Categorical</td>\n",
    "<td>The occupation of the individual.</td>\n",
    "</tr>\n",
    "<tr>\n",
    "<td>relationship</td>\n",
    "<td>Categorical</td>\n",
    "<td>Wife, Own-child, Husband,  Not-in-family, Other-relative,  Unmarried.</td>\n",
    "</tr>\n",
    "<tr>\n",
    "<td>race</td>\n",
    "<td>Categorical</td>\n",
    "<td>White, Asian-Pac-Islander,  Amer-Indian-Eskimo, Other, Black.</td>\n",
    "</tr>\n",
    "<tr>\n",
    "<td>gender</td>\n",
    "<td>Categorical</td>\n",
    "<td>Female, Male.</td>\n",
    "</tr>\n",
    "<tr>\n",
    "<td>capital_gain</td>\n",
    "<td>Continuous</td>\n",
    "<td>Capital gains recorded.</td>\n",
    "</tr>\n",
    "<tr>\n",
    "<td>capital_loss</td>\n",
    "<td>Continuous</td>\n",
    "<td>Capital Losses recorded.</td>\n",
    "</tr>\n",
    "<tr>\n",
    "<td>hours_per_week</td>\n",
    "<td>Continuous</td>\n",
    "<td>Hours worked per week.</td>\n",
    "</tr>\n",
    "<tr>\n",
    "<td>native_country</td>\n",
    "<td>Categorical</td>\n",
    "<td>Country of origin of the  individual.</td>\n",
    "</tr>\n",
    "<tr>\n",
    "<td>income</td>\n",
    "<td>Categorical</td>\n",
    "<td>\"&gt;50K\" or \"&lt;=50K\", meaning  whether the person makes more  than \\$50,000 annually.</td>\n",
    "</tr>\n",
    "</tbody>\n",
    "</table>"
   ]
  },
  {
   "cell_type": "markdown",
   "metadata": {},
   "source": [
    "## Follow the Directions in Bold. If you get stuck, check out the solutions lecture."
   ]
  },
  {
   "cell_type": "markdown",
   "metadata": {},
   "source": [
    "### THE DATA"
   ]
  },
  {
   "cell_type": "markdown",
   "metadata": {},
   "source": [
    "** Read in the census_data.csv data with pandas**"
   ]
  },
  {
   "cell_type": "code",
   "execution_count": null,
   "metadata": {},
   "outputs": [],
   "source": []
  },
  {
   "cell_type": "code",
   "execution_count": 121,
   "metadata": {},
   "outputs": [],
   "source": [
    "import pandas as pd\n",
    "import tensorflow as tf\n",
    "import numpy as np\n",
    "import matplotlib.pyplot as plt\n",
    "%matplotlib inline"
   ]
  },
  {
   "cell_type": "code",
   "execution_count": 122,
   "metadata": {},
   "outputs": [],
   "source": [
    "census = pd.read_csv(\"census_data.csv\")"
   ]
  },
  {
   "cell_type": "code",
   "execution_count": 123,
   "metadata": {
    "scrolled": true
   },
   "outputs": [
    {
     "data": {
      "text/html": [
       "<div>\n",
       "<style scoped>\n",
       "    .dataframe tbody tr th:only-of-type {\n",
       "        vertical-align: middle;\n",
       "    }\n",
       "\n",
       "    .dataframe tbody tr th {\n",
       "        vertical-align: top;\n",
       "    }\n",
       "\n",
       "    .dataframe thead th {\n",
       "        text-align: right;\n",
       "    }\n",
       "</style>\n",
       "<table border=\"1\" class=\"dataframe\">\n",
       "  <thead>\n",
       "    <tr style=\"text-align: right;\">\n",
       "      <th></th>\n",
       "      <th>age</th>\n",
       "      <th>workclass</th>\n",
       "      <th>education</th>\n",
       "      <th>education_num</th>\n",
       "      <th>marital_status</th>\n",
       "      <th>occupation</th>\n",
       "      <th>relationship</th>\n",
       "      <th>race</th>\n",
       "      <th>gender</th>\n",
       "      <th>capital_gain</th>\n",
       "      <th>capital_loss</th>\n",
       "      <th>hours_per_week</th>\n",
       "      <th>native_country</th>\n",
       "      <th>income_bracket</th>\n",
       "    </tr>\n",
       "  </thead>\n",
       "  <tbody>\n",
       "    <tr>\n",
       "      <th>0</th>\n",
       "      <td>39</td>\n",
       "      <td>State-gov</td>\n",
       "      <td>Bachelors</td>\n",
       "      <td>13</td>\n",
       "      <td>Never-married</td>\n",
       "      <td>Adm-clerical</td>\n",
       "      <td>Not-in-family</td>\n",
       "      <td>White</td>\n",
       "      <td>Male</td>\n",
       "      <td>2174</td>\n",
       "      <td>0</td>\n",
       "      <td>40</td>\n",
       "      <td>United-States</td>\n",
       "      <td>&lt;=50K</td>\n",
       "    </tr>\n",
       "    <tr>\n",
       "      <th>1</th>\n",
       "      <td>50</td>\n",
       "      <td>Self-emp-not-inc</td>\n",
       "      <td>Bachelors</td>\n",
       "      <td>13</td>\n",
       "      <td>Married-civ-spouse</td>\n",
       "      <td>Exec-managerial</td>\n",
       "      <td>Husband</td>\n",
       "      <td>White</td>\n",
       "      <td>Male</td>\n",
       "      <td>0</td>\n",
       "      <td>0</td>\n",
       "      <td>13</td>\n",
       "      <td>United-States</td>\n",
       "      <td>&lt;=50K</td>\n",
       "    </tr>\n",
       "    <tr>\n",
       "      <th>2</th>\n",
       "      <td>38</td>\n",
       "      <td>Private</td>\n",
       "      <td>HS-grad</td>\n",
       "      <td>9</td>\n",
       "      <td>Divorced</td>\n",
       "      <td>Handlers-cleaners</td>\n",
       "      <td>Not-in-family</td>\n",
       "      <td>White</td>\n",
       "      <td>Male</td>\n",
       "      <td>0</td>\n",
       "      <td>0</td>\n",
       "      <td>40</td>\n",
       "      <td>United-States</td>\n",
       "      <td>&lt;=50K</td>\n",
       "    </tr>\n",
       "    <tr>\n",
       "      <th>3</th>\n",
       "      <td>53</td>\n",
       "      <td>Private</td>\n",
       "      <td>11th</td>\n",
       "      <td>7</td>\n",
       "      <td>Married-civ-spouse</td>\n",
       "      <td>Handlers-cleaners</td>\n",
       "      <td>Husband</td>\n",
       "      <td>Black</td>\n",
       "      <td>Male</td>\n",
       "      <td>0</td>\n",
       "      <td>0</td>\n",
       "      <td>40</td>\n",
       "      <td>United-States</td>\n",
       "      <td>&lt;=50K</td>\n",
       "    </tr>\n",
       "    <tr>\n",
       "      <th>4</th>\n",
       "      <td>28</td>\n",
       "      <td>Private</td>\n",
       "      <td>Bachelors</td>\n",
       "      <td>13</td>\n",
       "      <td>Married-civ-spouse</td>\n",
       "      <td>Prof-specialty</td>\n",
       "      <td>Wife</td>\n",
       "      <td>Black</td>\n",
       "      <td>Female</td>\n",
       "      <td>0</td>\n",
       "      <td>0</td>\n",
       "      <td>40</td>\n",
       "      <td>Cuba</td>\n",
       "      <td>&lt;=50K</td>\n",
       "    </tr>\n",
       "  </tbody>\n",
       "</table>\n",
       "</div>"
      ],
      "text/plain": [
       "   age          workclass   education  education_num       marital_status  \\\n",
       "0   39          State-gov   Bachelors             13        Never-married   \n",
       "1   50   Self-emp-not-inc   Bachelors             13   Married-civ-spouse   \n",
       "2   38            Private     HS-grad              9             Divorced   \n",
       "3   53            Private        11th              7   Married-civ-spouse   \n",
       "4   28            Private   Bachelors             13   Married-civ-spouse   \n",
       "\n",
       "           occupation    relationship    race   gender  capital_gain  \\\n",
       "0        Adm-clerical   Not-in-family   White     Male          2174   \n",
       "1     Exec-managerial         Husband   White     Male             0   \n",
       "2   Handlers-cleaners   Not-in-family   White     Male             0   \n",
       "3   Handlers-cleaners         Husband   Black     Male             0   \n",
       "4      Prof-specialty            Wife   Black   Female             0   \n",
       "\n",
       "   capital_loss  hours_per_week  native_country income_bracket  \n",
       "0             0              40   United-States          <=50K  \n",
       "1             0              13   United-States          <=50K  \n",
       "2             0              40   United-States          <=50K  \n",
       "3             0              40   United-States          <=50K  \n",
       "4             0              40            Cuba          <=50K  "
      ]
     },
     "execution_count": 123,
     "metadata": {},
     "output_type": "execute_result"
    }
   ],
   "source": [
    "census.head()"
   ]
  },
  {
   "cell_type": "code",
   "execution_count": 124,
   "metadata": {},
   "outputs": [
    {
     "data": {
      "text/html": [
       "<div>\n",
       "<style scoped>\n",
       "    .dataframe tbody tr th:only-of-type {\n",
       "        vertical-align: middle;\n",
       "    }\n",
       "\n",
       "    .dataframe tbody tr th {\n",
       "        vertical-align: top;\n",
       "    }\n",
       "\n",
       "    .dataframe thead th {\n",
       "        text-align: right;\n",
       "    }\n",
       "</style>\n",
       "<table border=\"1\" class=\"dataframe\">\n",
       "  <thead>\n",
       "    <tr style=\"text-align: right;\">\n",
       "      <th></th>\n",
       "      <th>age</th>\n",
       "      <th>education_num</th>\n",
       "      <th>capital_gain</th>\n",
       "      <th>capital_loss</th>\n",
       "      <th>hours_per_week</th>\n",
       "    </tr>\n",
       "  </thead>\n",
       "  <tbody>\n",
       "    <tr>\n",
       "      <th>count</th>\n",
       "      <td>32561.000000</td>\n",
       "      <td>32561.000000</td>\n",
       "      <td>32561.000000</td>\n",
       "      <td>32561.000000</td>\n",
       "      <td>32561.000000</td>\n",
       "    </tr>\n",
       "    <tr>\n",
       "      <th>mean</th>\n",
       "      <td>38.581647</td>\n",
       "      <td>10.080679</td>\n",
       "      <td>1077.648844</td>\n",
       "      <td>87.303830</td>\n",
       "      <td>40.437456</td>\n",
       "    </tr>\n",
       "    <tr>\n",
       "      <th>std</th>\n",
       "      <td>13.640433</td>\n",
       "      <td>2.572720</td>\n",
       "      <td>7385.292085</td>\n",
       "      <td>402.960219</td>\n",
       "      <td>12.347429</td>\n",
       "    </tr>\n",
       "    <tr>\n",
       "      <th>min</th>\n",
       "      <td>17.000000</td>\n",
       "      <td>1.000000</td>\n",
       "      <td>0.000000</td>\n",
       "      <td>0.000000</td>\n",
       "      <td>1.000000</td>\n",
       "    </tr>\n",
       "    <tr>\n",
       "      <th>25%</th>\n",
       "      <td>28.000000</td>\n",
       "      <td>9.000000</td>\n",
       "      <td>0.000000</td>\n",
       "      <td>0.000000</td>\n",
       "      <td>40.000000</td>\n",
       "    </tr>\n",
       "    <tr>\n",
       "      <th>50%</th>\n",
       "      <td>37.000000</td>\n",
       "      <td>10.000000</td>\n",
       "      <td>0.000000</td>\n",
       "      <td>0.000000</td>\n",
       "      <td>40.000000</td>\n",
       "    </tr>\n",
       "    <tr>\n",
       "      <th>75%</th>\n",
       "      <td>48.000000</td>\n",
       "      <td>12.000000</td>\n",
       "      <td>0.000000</td>\n",
       "      <td>0.000000</td>\n",
       "      <td>45.000000</td>\n",
       "    </tr>\n",
       "    <tr>\n",
       "      <th>max</th>\n",
       "      <td>90.000000</td>\n",
       "      <td>16.000000</td>\n",
       "      <td>99999.000000</td>\n",
       "      <td>4356.000000</td>\n",
       "      <td>99.000000</td>\n",
       "    </tr>\n",
       "  </tbody>\n",
       "</table>\n",
       "</div>"
      ],
      "text/plain": [
       "                age  education_num  capital_gain  capital_loss  hours_per_week\n",
       "count  32561.000000   32561.000000  32561.000000  32561.000000    32561.000000\n",
       "mean      38.581647      10.080679   1077.648844     87.303830       40.437456\n",
       "std       13.640433       2.572720   7385.292085    402.960219       12.347429\n",
       "min       17.000000       1.000000      0.000000      0.000000        1.000000\n",
       "25%       28.000000       9.000000      0.000000      0.000000       40.000000\n",
       "50%       37.000000      10.000000      0.000000      0.000000       40.000000\n",
       "75%       48.000000      12.000000      0.000000      0.000000       45.000000\n",
       "max       90.000000      16.000000  99999.000000   4356.000000       99.000000"
      ]
     },
     "execution_count": 124,
     "metadata": {},
     "output_type": "execute_result"
    }
   ],
   "source": [
    "census.describe()"
   ]
  },
  {
   "cell_type": "markdown",
   "metadata": {},
   "source": [
    "** TensorFlow won't be able to understand strings as labels, you'll need to use pandas .apply() method to apply a custom function that converts them to 0s and 1s. This might be hard if you aren't very familiar with pandas, so feel free to take a peek at the solutions for this part.**\n",
    "\n",
    "** Convert the Label column to 0s and 1s instead of strings.**"
   ]
  },
  {
   "cell_type": "code",
   "execution_count": 125,
   "metadata": {},
   "outputs": [
    {
     "data": {
      "text/plain": [
       "array([' <=50K', ' >50K'], dtype=object)"
      ]
     },
     "execution_count": 125,
     "metadata": {},
     "output_type": "execute_result"
    }
   ],
   "source": [
    "census['income_bracket'].unique()"
   ]
  },
  {
   "cell_type": "code",
   "execution_count": 126,
   "metadata": {},
   "outputs": [],
   "source": [
    "def label_fix(label):\n",
    "    if label==' <=50K':\n",
    "        return 0\n",
    "    else:\n",
    "        return 1"
   ]
  },
  {
   "cell_type": "code",
   "execution_count": 127,
   "metadata": {},
   "outputs": [],
   "source": [
    "census['income_bracket'] = census['income_bracket'].apply(label_fix)"
   ]
  },
  {
   "cell_type": "code",
   "execution_count": 128,
   "metadata": {},
   "outputs": [
    {
     "data": {
      "text/html": [
       "<div>\n",
       "<style scoped>\n",
       "    .dataframe tbody tr th:only-of-type {\n",
       "        vertical-align: middle;\n",
       "    }\n",
       "\n",
       "    .dataframe tbody tr th {\n",
       "        vertical-align: top;\n",
       "    }\n",
       "\n",
       "    .dataframe thead th {\n",
       "        text-align: right;\n",
       "    }\n",
       "</style>\n",
       "<table border=\"1\" class=\"dataframe\">\n",
       "  <thead>\n",
       "    <tr style=\"text-align: right;\">\n",
       "      <th></th>\n",
       "      <th>age</th>\n",
       "      <th>education_num</th>\n",
       "      <th>capital_gain</th>\n",
       "      <th>capital_loss</th>\n",
       "      <th>hours_per_week</th>\n",
       "      <th>income_bracket</th>\n",
       "    </tr>\n",
       "  </thead>\n",
       "  <tbody>\n",
       "    <tr>\n",
       "      <th>count</th>\n",
       "      <td>32561.000000</td>\n",
       "      <td>32561.000000</td>\n",
       "      <td>32561.000000</td>\n",
       "      <td>32561.000000</td>\n",
       "      <td>32561.000000</td>\n",
       "      <td>32561.000000</td>\n",
       "    </tr>\n",
       "    <tr>\n",
       "      <th>mean</th>\n",
       "      <td>38.581647</td>\n",
       "      <td>10.080679</td>\n",
       "      <td>1077.648844</td>\n",
       "      <td>87.303830</td>\n",
       "      <td>40.437456</td>\n",
       "      <td>0.240810</td>\n",
       "    </tr>\n",
       "    <tr>\n",
       "      <th>std</th>\n",
       "      <td>13.640433</td>\n",
       "      <td>2.572720</td>\n",
       "      <td>7385.292085</td>\n",
       "      <td>402.960219</td>\n",
       "      <td>12.347429</td>\n",
       "      <td>0.427581</td>\n",
       "    </tr>\n",
       "    <tr>\n",
       "      <th>min</th>\n",
       "      <td>17.000000</td>\n",
       "      <td>1.000000</td>\n",
       "      <td>0.000000</td>\n",
       "      <td>0.000000</td>\n",
       "      <td>1.000000</td>\n",
       "      <td>0.000000</td>\n",
       "    </tr>\n",
       "    <tr>\n",
       "      <th>25%</th>\n",
       "      <td>28.000000</td>\n",
       "      <td>9.000000</td>\n",
       "      <td>0.000000</td>\n",
       "      <td>0.000000</td>\n",
       "      <td>40.000000</td>\n",
       "      <td>0.000000</td>\n",
       "    </tr>\n",
       "    <tr>\n",
       "      <th>50%</th>\n",
       "      <td>37.000000</td>\n",
       "      <td>10.000000</td>\n",
       "      <td>0.000000</td>\n",
       "      <td>0.000000</td>\n",
       "      <td>40.000000</td>\n",
       "      <td>0.000000</td>\n",
       "    </tr>\n",
       "    <tr>\n",
       "      <th>75%</th>\n",
       "      <td>48.000000</td>\n",
       "      <td>12.000000</td>\n",
       "      <td>0.000000</td>\n",
       "      <td>0.000000</td>\n",
       "      <td>45.000000</td>\n",
       "      <td>0.000000</td>\n",
       "    </tr>\n",
       "    <tr>\n",
       "      <th>max</th>\n",
       "      <td>90.000000</td>\n",
       "      <td>16.000000</td>\n",
       "      <td>99999.000000</td>\n",
       "      <td>4356.000000</td>\n",
       "      <td>99.000000</td>\n",
       "      <td>1.000000</td>\n",
       "    </tr>\n",
       "  </tbody>\n",
       "</table>\n",
       "</div>"
      ],
      "text/plain": [
       "                age  education_num  capital_gain  capital_loss  \\\n",
       "count  32561.000000   32561.000000  32561.000000  32561.000000   \n",
       "mean      38.581647      10.080679   1077.648844     87.303830   \n",
       "std       13.640433       2.572720   7385.292085    402.960219   \n",
       "min       17.000000       1.000000      0.000000      0.000000   \n",
       "25%       28.000000       9.000000      0.000000      0.000000   \n",
       "50%       37.000000      10.000000      0.000000      0.000000   \n",
       "75%       48.000000      12.000000      0.000000      0.000000   \n",
       "max       90.000000      16.000000  99999.000000   4356.000000   \n",
       "\n",
       "       hours_per_week  income_bracket  \n",
       "count    32561.000000    32561.000000  \n",
       "mean        40.437456        0.240810  \n",
       "std         12.347429        0.427581  \n",
       "min          1.000000        0.000000  \n",
       "25%         40.000000        0.000000  \n",
       "50%         40.000000        0.000000  \n",
       "75%         45.000000        0.000000  \n",
       "max         99.000000        1.000000  "
      ]
     },
     "execution_count": 128,
     "metadata": {},
     "output_type": "execute_result"
    }
   ],
   "source": [
    "census.describe()"
   ]
  },
  {
   "cell_type": "code",
   "execution_count": 129,
   "metadata": {},
   "outputs": [],
   "source": [
    "#lambda label :int(label=='<=50K')\n",
    "#census['income_bracket'].apply(lambda label: int(label==' <=50K'))"
   ]
  },
  {
   "cell_type": "code",
   "execution_count": 130,
   "metadata": {},
   "outputs": [
    {
     "data": {
      "text/html": [
       "<div>\n",
       "<style scoped>\n",
       "    .dataframe tbody tr th:only-of-type {\n",
       "        vertical-align: middle;\n",
       "    }\n",
       "\n",
       "    .dataframe tbody tr th {\n",
       "        vertical-align: top;\n",
       "    }\n",
       "\n",
       "    .dataframe thead th {\n",
       "        text-align: right;\n",
       "    }\n",
       "</style>\n",
       "<table border=\"1\" class=\"dataframe\">\n",
       "  <thead>\n",
       "    <tr style=\"text-align: right;\">\n",
       "      <th></th>\n",
       "      <th>age</th>\n",
       "      <th>workclass</th>\n",
       "      <th>education</th>\n",
       "      <th>education_num</th>\n",
       "      <th>marital_status</th>\n",
       "      <th>occupation</th>\n",
       "      <th>relationship</th>\n",
       "      <th>race</th>\n",
       "      <th>gender</th>\n",
       "      <th>capital_gain</th>\n",
       "      <th>capital_loss</th>\n",
       "      <th>hours_per_week</th>\n",
       "      <th>native_country</th>\n",
       "      <th>income_bracket</th>\n",
       "    </tr>\n",
       "  </thead>\n",
       "  <tbody>\n",
       "    <tr>\n",
       "      <th>0</th>\n",
       "      <td>39</td>\n",
       "      <td>State-gov</td>\n",
       "      <td>Bachelors</td>\n",
       "      <td>13</td>\n",
       "      <td>Never-married</td>\n",
       "      <td>Adm-clerical</td>\n",
       "      <td>Not-in-family</td>\n",
       "      <td>White</td>\n",
       "      <td>Male</td>\n",
       "      <td>2174</td>\n",
       "      <td>0</td>\n",
       "      <td>40</td>\n",
       "      <td>United-States</td>\n",
       "      <td>0</td>\n",
       "    </tr>\n",
       "    <tr>\n",
       "      <th>1</th>\n",
       "      <td>50</td>\n",
       "      <td>Self-emp-not-inc</td>\n",
       "      <td>Bachelors</td>\n",
       "      <td>13</td>\n",
       "      <td>Married-civ-spouse</td>\n",
       "      <td>Exec-managerial</td>\n",
       "      <td>Husband</td>\n",
       "      <td>White</td>\n",
       "      <td>Male</td>\n",
       "      <td>0</td>\n",
       "      <td>0</td>\n",
       "      <td>13</td>\n",
       "      <td>United-States</td>\n",
       "      <td>0</td>\n",
       "    </tr>\n",
       "    <tr>\n",
       "      <th>2</th>\n",
       "      <td>38</td>\n",
       "      <td>Private</td>\n",
       "      <td>HS-grad</td>\n",
       "      <td>9</td>\n",
       "      <td>Divorced</td>\n",
       "      <td>Handlers-cleaners</td>\n",
       "      <td>Not-in-family</td>\n",
       "      <td>White</td>\n",
       "      <td>Male</td>\n",
       "      <td>0</td>\n",
       "      <td>0</td>\n",
       "      <td>40</td>\n",
       "      <td>United-States</td>\n",
       "      <td>0</td>\n",
       "    </tr>\n",
       "    <tr>\n",
       "      <th>3</th>\n",
       "      <td>53</td>\n",
       "      <td>Private</td>\n",
       "      <td>11th</td>\n",
       "      <td>7</td>\n",
       "      <td>Married-civ-spouse</td>\n",
       "      <td>Handlers-cleaners</td>\n",
       "      <td>Husband</td>\n",
       "      <td>Black</td>\n",
       "      <td>Male</td>\n",
       "      <td>0</td>\n",
       "      <td>0</td>\n",
       "      <td>40</td>\n",
       "      <td>United-States</td>\n",
       "      <td>0</td>\n",
       "    </tr>\n",
       "    <tr>\n",
       "      <th>4</th>\n",
       "      <td>28</td>\n",
       "      <td>Private</td>\n",
       "      <td>Bachelors</td>\n",
       "      <td>13</td>\n",
       "      <td>Married-civ-spouse</td>\n",
       "      <td>Prof-specialty</td>\n",
       "      <td>Wife</td>\n",
       "      <td>Black</td>\n",
       "      <td>Female</td>\n",
       "      <td>0</td>\n",
       "      <td>0</td>\n",
       "      <td>40</td>\n",
       "      <td>Cuba</td>\n",
       "      <td>0</td>\n",
       "    </tr>\n",
       "  </tbody>\n",
       "</table>\n",
       "</div>"
      ],
      "text/plain": [
       "   age          workclass   education  education_num       marital_status  \\\n",
       "0   39          State-gov   Bachelors             13        Never-married   \n",
       "1   50   Self-emp-not-inc   Bachelors             13   Married-civ-spouse   \n",
       "2   38            Private     HS-grad              9             Divorced   \n",
       "3   53            Private        11th              7   Married-civ-spouse   \n",
       "4   28            Private   Bachelors             13   Married-civ-spouse   \n",
       "\n",
       "           occupation    relationship    race   gender  capital_gain  \\\n",
       "0        Adm-clerical   Not-in-family   White     Male          2174   \n",
       "1     Exec-managerial         Husband   White     Male             0   \n",
       "2   Handlers-cleaners   Not-in-family   White     Male             0   \n",
       "3   Handlers-cleaners         Husband   Black     Male             0   \n",
       "4      Prof-specialty            Wife   Black   Female             0   \n",
       "\n",
       "   capital_loss  hours_per_week  native_country  income_bracket  \n",
       "0             0              40   United-States               0  \n",
       "1             0              13   United-States               0  \n",
       "2             0              40   United-States               0  \n",
       "3             0              40   United-States               0  \n",
       "4             0              40            Cuba               0  "
      ]
     },
     "execution_count": 130,
     "metadata": {},
     "output_type": "execute_result"
    }
   ],
   "source": [
    "census.head()"
   ]
  },
  {
   "cell_type": "markdown",
   "metadata": {},
   "source": [
    "### Perform a Train Test Split on the Data"
   ]
  },
  {
   "cell_type": "code",
   "execution_count": 131,
   "metadata": {},
   "outputs": [],
   "source": [
    "from sklearn.model_selection import train_test_split "
   ]
  },
  {
   "cell_type": "code",
   "execution_count": 132,
   "metadata": {},
   "outputs": [
    {
     "data": {
      "text/plain": [
       "Index(['age', 'workclass', 'education', 'education_num', 'marital_status',\n",
       "       'occupation', 'relationship', 'race', 'gender', 'capital_gain',\n",
       "       'capital_loss', 'hours_per_week', 'native_country', 'income_bracket'],\n",
       "      dtype='object')"
      ]
     },
     "execution_count": 132,
     "metadata": {},
     "output_type": "execute_result"
    }
   ],
   "source": [
    "census.columns"
   ]
  },
  {
   "cell_type": "code",
   "execution_count": 133,
   "metadata": {},
   "outputs": [],
   "source": [
    "X = census.drop(labels= 'income_bracket', axis=1)\n",
    "y = census['income_bracket']"
   ]
  },
  {
   "cell_type": "code",
   "execution_count": 134,
   "metadata": {},
   "outputs": [
    {
     "data": {
      "text/html": [
       "<div>\n",
       "<style scoped>\n",
       "    .dataframe tbody tr th:only-of-type {\n",
       "        vertical-align: middle;\n",
       "    }\n",
       "\n",
       "    .dataframe tbody tr th {\n",
       "        vertical-align: top;\n",
       "    }\n",
       "\n",
       "    .dataframe thead th {\n",
       "        text-align: right;\n",
       "    }\n",
       "</style>\n",
       "<table border=\"1\" class=\"dataframe\">\n",
       "  <thead>\n",
       "    <tr style=\"text-align: right;\">\n",
       "      <th></th>\n",
       "      <th>age</th>\n",
       "      <th>workclass</th>\n",
       "      <th>education</th>\n",
       "      <th>education_num</th>\n",
       "      <th>marital_status</th>\n",
       "      <th>occupation</th>\n",
       "      <th>relationship</th>\n",
       "      <th>race</th>\n",
       "      <th>gender</th>\n",
       "      <th>capital_gain</th>\n",
       "      <th>capital_loss</th>\n",
       "      <th>hours_per_week</th>\n",
       "      <th>native_country</th>\n",
       "    </tr>\n",
       "  </thead>\n",
       "  <tbody>\n",
       "    <tr>\n",
       "      <th>0</th>\n",
       "      <td>39</td>\n",
       "      <td>State-gov</td>\n",
       "      <td>Bachelors</td>\n",
       "      <td>13</td>\n",
       "      <td>Never-married</td>\n",
       "      <td>Adm-clerical</td>\n",
       "      <td>Not-in-family</td>\n",
       "      <td>White</td>\n",
       "      <td>Male</td>\n",
       "      <td>2174</td>\n",
       "      <td>0</td>\n",
       "      <td>40</td>\n",
       "      <td>United-States</td>\n",
       "    </tr>\n",
       "    <tr>\n",
       "      <th>1</th>\n",
       "      <td>50</td>\n",
       "      <td>Self-emp-not-inc</td>\n",
       "      <td>Bachelors</td>\n",
       "      <td>13</td>\n",
       "      <td>Married-civ-spouse</td>\n",
       "      <td>Exec-managerial</td>\n",
       "      <td>Husband</td>\n",
       "      <td>White</td>\n",
       "      <td>Male</td>\n",
       "      <td>0</td>\n",
       "      <td>0</td>\n",
       "      <td>13</td>\n",
       "      <td>United-States</td>\n",
       "    </tr>\n",
       "    <tr>\n",
       "      <th>2</th>\n",
       "      <td>38</td>\n",
       "      <td>Private</td>\n",
       "      <td>HS-grad</td>\n",
       "      <td>9</td>\n",
       "      <td>Divorced</td>\n",
       "      <td>Handlers-cleaners</td>\n",
       "      <td>Not-in-family</td>\n",
       "      <td>White</td>\n",
       "      <td>Male</td>\n",
       "      <td>0</td>\n",
       "      <td>0</td>\n",
       "      <td>40</td>\n",
       "      <td>United-States</td>\n",
       "    </tr>\n",
       "    <tr>\n",
       "      <th>3</th>\n",
       "      <td>53</td>\n",
       "      <td>Private</td>\n",
       "      <td>11th</td>\n",
       "      <td>7</td>\n",
       "      <td>Married-civ-spouse</td>\n",
       "      <td>Handlers-cleaners</td>\n",
       "      <td>Husband</td>\n",
       "      <td>Black</td>\n",
       "      <td>Male</td>\n",
       "      <td>0</td>\n",
       "      <td>0</td>\n",
       "      <td>40</td>\n",
       "      <td>United-States</td>\n",
       "    </tr>\n",
       "    <tr>\n",
       "      <th>4</th>\n",
       "      <td>28</td>\n",
       "      <td>Private</td>\n",
       "      <td>Bachelors</td>\n",
       "      <td>13</td>\n",
       "      <td>Married-civ-spouse</td>\n",
       "      <td>Prof-specialty</td>\n",
       "      <td>Wife</td>\n",
       "      <td>Black</td>\n",
       "      <td>Female</td>\n",
       "      <td>0</td>\n",
       "      <td>0</td>\n",
       "      <td>40</td>\n",
       "      <td>Cuba</td>\n",
       "    </tr>\n",
       "  </tbody>\n",
       "</table>\n",
       "</div>"
      ],
      "text/plain": [
       "   age          workclass   education  education_num       marital_status  \\\n",
       "0   39          State-gov   Bachelors             13        Never-married   \n",
       "1   50   Self-emp-not-inc   Bachelors             13   Married-civ-spouse   \n",
       "2   38            Private     HS-grad              9             Divorced   \n",
       "3   53            Private        11th              7   Married-civ-spouse   \n",
       "4   28            Private   Bachelors             13   Married-civ-spouse   \n",
       "\n",
       "           occupation    relationship    race   gender  capital_gain  \\\n",
       "0        Adm-clerical   Not-in-family   White     Male          2174   \n",
       "1     Exec-managerial         Husband   White     Male             0   \n",
       "2   Handlers-cleaners   Not-in-family   White     Male             0   \n",
       "3   Handlers-cleaners         Husband   Black     Male             0   \n",
       "4      Prof-specialty            Wife   Black   Female             0   \n",
       "\n",
       "   capital_loss  hours_per_week  native_country  \n",
       "0             0              40   United-States  \n",
       "1             0              13   United-States  \n",
       "2             0              40   United-States  \n",
       "3             0              40   United-States  \n",
       "4             0              40            Cuba  "
      ]
     },
     "execution_count": 134,
     "metadata": {},
     "output_type": "execute_result"
    }
   ],
   "source": [
    "X.head()"
   ]
  },
  {
   "cell_type": "markdown",
   "metadata": {},
   "source": [
    "### Encode Label to string features"
   ]
  },
  {
   "cell_type": "code",
   "execution_count": 135,
   "metadata": {},
   "outputs": [],
   "source": [
    "from sklearn.preprocessing import LabelEncoder"
   ]
  },
  {
   "cell_type": "code",
   "execution_count": 136,
   "metadata": {},
   "outputs": [],
   "source": [
    "def lableEncode(features):\n",
    "    le = LabelEncoder()\n",
    "    return le.fit_transform(features)"
   ]
  },
  {
   "cell_type": "code",
   "execution_count": 137,
   "metadata": {},
   "outputs": [],
   "source": [
    "X['workclass'] = lableEncode(X['workclass'])\n",
    "X['education'] = lableEncode(X['education'])\n",
    "X['marital_status'] = lableEncode(X['marital_status'])\n",
    "X['occupation'] = lableEncode(X['occupation'])\n",
    "X['relationship'] = lableEncode(X['relationship'])\n",
    "X['race'] = lableEncode(X['race'])\n",
    "X['gender'] = lableEncode(X['gender'])\n",
    "X['native_country'] = lableEncode(X['native_country'])"
   ]
  },
  {
   "cell_type": "code",
   "execution_count": 138,
   "metadata": {},
   "outputs": [
    {
     "data": {
      "text/plain": [
       "<matplotlib.axes._subplots.AxesSubplot at 0x1a4140c358>"
      ]
     },
     "execution_count": 138,
     "metadata": {},
     "output_type": "execute_result"
    },
    {
     "data": {
      "image/png": "[encoded data removed]",
      "text/plain": [
       "<Figure size 432x288 with 1 Axes>"
      ]
     },
     "metadata": {
      "needs_background": "light"
     },
     "output_type": "display_data"
    }
   ],
   "source": [
    "X[\"age\"].hist()"
   ]
  },
  {
   "cell_type": "code",
   "execution_count": 139,
   "metadata": {},
   "outputs": [],
   "source": [
    "#bins = [0,30,50,70,100]\n",
    "#labels =[0,1,2,3]\n",
    "#X[\"age_buckets\"] = pd.cut(X[\"age\"],bins=bins, labels=labels, include_lowest=True)\n",
    "#X = X.drop(\"age\", axis=1)"
   ]
  },
  {
   "cell_type": "code",
   "execution_count": 140,
   "metadata": {},
   "outputs": [
    {
     "data": {
      "text/html": [
       "<div>\n",
       "<style scoped>\n",
       "    .dataframe tbody tr th:only-of-type {\n",
       "        vertical-align: middle;\n",
       "    }\n",
       "\n",
       "    .dataframe tbody tr th {\n",
       "        vertical-align: top;\n",
       "    }\n",
       "\n",
       "    .dataframe thead th {\n",
       "        text-align: right;\n",
       "    }\n",
       "</style>\n",
       "<table border=\"1\" class=\"dataframe\">\n",
       "  <thead>\n",
       "    <tr style=\"text-align: right;\">\n",
       "      <th></th>\n",
       "      <th>age</th>\n",
       "      <th>workclass</th>\n",
       "      <th>education</th>\n",
       "      <th>education_num</th>\n",
       "      <th>marital_status</th>\n",
       "      <th>occupation</th>\n",
       "      <th>relationship</th>\n",
       "      <th>race</th>\n",
       "      <th>gender</th>\n",
       "      <th>capital_gain</th>\n",
       "      <th>capital_loss</th>\n",
       "      <th>hours_per_week</th>\n",
       "      <th>native_country</th>\n",
       "    </tr>\n",
       "  </thead>\n",
       "  <tbody>\n",
       "    <tr>\n",
       "      <th>0</th>\n",
       "      <td>39</td>\n",
       "      <td>7</td>\n",
       "      <td>9</td>\n",
       "      <td>13</td>\n",
       "      <td>4</td>\n",
       "      <td>1</td>\n",
       "      <td>1</td>\n",
       "      <td>4</td>\n",
       "      <td>1</td>\n",
       "      <td>2174</td>\n",
       "      <td>0</td>\n",
       "      <td>40</td>\n",
       "      <td>39</td>\n",
       "    </tr>\n",
       "    <tr>\n",
       "      <th>1</th>\n",
       "      <td>50</td>\n",
       "      <td>6</td>\n",
       "      <td>9</td>\n",
       "      <td>13</td>\n",
       "      <td>2</td>\n",
       "      <td>4</td>\n",
       "      <td>0</td>\n",
       "      <td>4</td>\n",
       "      <td>1</td>\n",
       "      <td>0</td>\n",
       "      <td>0</td>\n",
       "      <td>13</td>\n",
       "      <td>39</td>\n",
       "    </tr>\n",
       "    <tr>\n",
       "      <th>2</th>\n",
       "      <td>38</td>\n",
       "      <td>4</td>\n",
       "      <td>11</td>\n",
       "      <td>9</td>\n",
       "      <td>0</td>\n",
       "      <td>6</td>\n",
       "      <td>1</td>\n",
       "      <td>4</td>\n",
       "      <td>1</td>\n",
       "      <td>0</td>\n",
       "      <td>0</td>\n",
       "      <td>40</td>\n",
       "      <td>39</td>\n",
       "    </tr>\n",
       "    <tr>\n",
       "      <th>3</th>\n",
       "      <td>53</td>\n",
       "      <td>4</td>\n",
       "      <td>1</td>\n",
       "      <td>7</td>\n",
       "      <td>2</td>\n",
       "      <td>6</td>\n",
       "      <td>0</td>\n",
       "      <td>2</td>\n",
       "      <td>1</td>\n",
       "      <td>0</td>\n",
       "      <td>0</td>\n",
       "      <td>40</td>\n",
       "      <td>39</td>\n",
       "    </tr>\n",
       "    <tr>\n",
       "      <th>4</th>\n",
       "      <td>28</td>\n",
       "      <td>4</td>\n",
       "      <td>9</td>\n",
       "      <td>13</td>\n",
       "      <td>2</td>\n",
       "      <td>10</td>\n",
       "      <td>5</td>\n",
       "      <td>2</td>\n",
       "      <td>0</td>\n",
       "      <td>0</td>\n",
       "      <td>0</td>\n",
       "      <td>40</td>\n",
       "      <td>5</td>\n",
       "    </tr>\n",
       "  </tbody>\n",
       "</table>\n",
       "</div>"
      ],
      "text/plain": [
       "   age  workclass  education  education_num  marital_status  occupation  \\\n",
       "0   39          7          9             13               4           1   \n",
       "1   50          6          9             13               2           4   \n",
       "2   38          4         11              9               0           6   \n",
       "3   53          4          1              7               2           6   \n",
       "4   28          4          9             13               2          10   \n",
       "\n",
       "   relationship  race  gender  capital_gain  capital_loss  hours_per_week  \\\n",
       "0             1     4       1          2174             0              40   \n",
       "1             0     4       1             0             0              13   \n",
       "2             1     4       1             0             0              40   \n",
       "3             0     2       1             0             0              40   \n",
       "4             5     2       0             0             0              40   \n",
       "\n",
       "   native_country  \n",
       "0              39  \n",
       "1              39  \n",
       "2              39  \n",
       "3              39  \n",
       "4               5  "
      ]
     },
     "execution_count": 140,
     "metadata": {},
     "output_type": "execute_result"
    }
   ],
   "source": [
    "X.head()"
   ]
  },
  {
   "cell_type": "code",
   "execution_count": 141,
   "metadata": {},
   "outputs": [
    {
     "data": {
      "text/plain": [
       "<matplotlib.axes._subplots.AxesSubplot at 0x1a41727160>"
      ]
     },
     "execution_count": 141,
     "metadata": {},
     "output_type": "execute_result"
    },
    {
     "data": {
      "image/png": "[encoded data removed]",
      "text/plain": [
       "<Figure size 432x288 with 1 Axes>"
      ]
     },
     "metadata": {
      "needs_background": "light"
     },
     "output_type": "display_data"
    }
   ],
   "source": [
    "y.hist()"
   ]
  },
  {
   "cell_type": "code",
   "execution_count": 142,
   "metadata": {},
   "outputs": [],
   "source": [
    "X_train, X_test, y_train, y_test = train_test_split(X, y, test_size=0.3,random_state=101)"
   ]
  },
  {
   "cell_type": "markdown",
   "metadata": {},
   "source": [
    "# Keras\n"
   ]
  },
  {
   "cell_type": "code",
   "execution_count": 143,
   "metadata": {},
   "outputs": [],
   "source": [
    "from tensorflow.keras.models import Sequential\n",
    "from tensorflow.keras.layers import Dense,Activation\n",
    "from tensorflow.keras.optimizers import SGD,Adam\n",
    "from tensorflow.keras.utils import to_categorical\n",
    "from tensorflow import keras"
   ]
  },
  {
   "cell_type": "code",
   "execution_count": 144,
   "metadata": {},
   "outputs": [
    {
     "name": "stdout",
     "output_type": "stream",
     "text": [
      "_________________________________________________________________\n",
      "Layer (type)                 Output Shape              Param #   \n",
      "=================================================================\n",
      "dense_15 (Dense)             (None, 10)                140       \n",
      "_________________________________________________________________\n",
      "dense_16 (Dense)             (None, 2)                 22        \n",
      "=================================================================\n",
      "Total params: 162\n",
      "Trainable params: 162\n",
      "Non-trainable params: 0\n",
      "_________________________________________________________________\n"
     ]
    }
   ],
   "source": [
    "model = Sequential()\n",
    "#model.add(Dense(2,input_shape = (X_train.shape[1],), activation = 'softmax'))\n",
    "model.add(Dense(10,input_shape = (X_train.shape[1],), activation = 'relu'))\n",
    "#model.add(keras.layers.Dropout(0.5))\n",
    "#model.add(Dense(10,activation = 'relu'))\n",
    "#model.add(keras.layers.Dropout(0.5))\n",
    "#model.add(Dense(10,activation = 'relu'))\n",
    "#model.add(keras.layers.Dropout(0.5))\n",
    "model.add(Dense(2, activation = 'softmax'))\n",
    "model.summary()\n"
   ]
  },
  {
   "cell_type": "code",
   "execution_count": 145,
   "metadata": {},
   "outputs": [],
   "source": [
    "adam = Adam(0.001)\n",
    "#sgd = SGD(0.0001)"
   ]
  },
  {
   "cell_type": "code",
   "execution_count": 146,
   "metadata": {},
   "outputs": [],
   "source": [
    "y_binary_train= to_categorical(y_train)\n",
    "y_binary_test = to_categorical(y_test)"
   ]
  },
  {
   "cell_type": "code",
   "execution_count": 147,
   "metadata": {},
   "outputs": [],
   "source": [
    "model.compile(loss = 'categorical_crossentropy', optimizer = adam, metrics=['accuracy'])"
   ]
  },
  {
   "cell_type": "code",
   "execution_count": 148,
   "metadata": {},
   "outputs": [
    {
     "name": "stdout",
     "output_type": "stream",
     "text": [
      "Train on 22792 samples, validate on 9769 samples\n",
      "Epoch 1/200\n",
      "22792/22792 [==============================] - 4s 164us/step - loss: 2.1302 - acc: 0.6726 - val_loss: 1.7056 - val_acc: 0.7380\n",
      "Epoch 2/200\n",
      "22792/22792 [==============================] - 2s 95us/step - loss: 1.6098 - acc: 0.7500 - val_loss: 1.6485 - val_acc: 0.7569\n",
      "Epoch 3/200\n",
      "22792/22792 [==============================] - 2s 94us/step - loss: 1.5761 - acc: 0.7563 - val_loss: 1.6261 - val_acc: 0.7592\n",
      "Epoch 4/200\n",
      "22792/22792 [==============================] - 2s 96us/step - loss: 1.5582 - acc: 0.7570 - val_loss: 1.6156 - val_acc: 0.7605\n",
      "Epoch 5/200\n",
      "22792/22792 [==============================] - 2s 99us/step - loss: 1.5465 - acc: 0.7578 - val_loss: 1.6042 - val_acc: 0.7605\n",
      "Epoch 6/200\n",
      "22792/22792 [==============================] - 3s 138us/step - loss: 1.5389 - acc: 0.7577 - val_loss: 1.5990 - val_acc: 0.7606\n",
      "Epoch 7/200\n",
      "22792/22792 [==============================] - 2s 99us/step - loss: 1.5324 - acc: 0.7579 - val_loss: 1.5943 - val_acc: 0.7608\n",
      "Epoch 8/200\n",
      "22792/22792 [==============================] - 2s 100us/step - loss: 1.5268 - acc: 0.7604 - val_loss: 1.5857 - val_acc: 0.7698\n",
      "Epoch 9/200\n",
      "22792/22792 [==============================] - 2s 109us/step - loss: 1.5205 - acc: 0.7678 - val_loss: 1.5801 - val_acc: 0.7724\n",
      "Epoch 10/200\n",
      "22792/22792 [==============================] - 2s 104us/step - loss: 1.5144 - acc: 0.7722 - val_loss: 1.5732 - val_acc: 0.7750\n",
      "Epoch 11/200\n",
      "22792/22792 [==============================] - 2s 102us/step - loss: 1.5086 - acc: 0.7758 - val_loss: 1.5662 - val_acc: 0.7798\n",
      "Epoch 12/200\n",
      "22792/22792 [==============================] - 2s 104us/step - loss: 1.5034 - acc: 0.7796 - val_loss: 1.5609 - val_acc: 0.7787\n",
      "Epoch 13/200\n",
      "22792/22792 [==============================] - 2s 105us/step - loss: 1.5013 - acc: 0.7799 - val_loss: 1.5563 - val_acc: 0.7833\n",
      "Epoch 14/200\n",
      "22792/22792 [==============================] - 2s 105us/step - loss: 1.4976 - acc: 0.7822 - val_loss: 1.5639 - val_acc: 0.7784\n",
      "Epoch 15/200\n",
      "22792/22792 [==============================] - 2s 104us/step - loss: 1.4951 - acc: 0.7831 - val_loss: 1.5528 - val_acc: 0.7817\n",
      "Epoch 16/200\n",
      "22792/22792 [==============================] - 2s 96us/step - loss: 1.4937 - acc: 0.7830 - val_loss: 1.5538 - val_acc: 0.7808\n",
      "Epoch 17/200\n",
      "22792/22792 [==============================] - 2s 92us/step - loss: 1.4928 - acc: 0.7844 - val_loss: 1.5533 - val_acc: 0.7842\n",
      "Epoch 18/200\n",
      "22792/22792 [==============================] - 2s 93us/step - loss: 1.4911 - acc: 0.7849 - val_loss: 1.5511 - val_acc: 0.7912\n",
      "Epoch 19/200\n",
      "22792/22792 [==============================] - 2s 94us/step - loss: 1.4900 - acc: 0.7872 - val_loss: 1.5612 - val_acc: 0.7813\n",
      "Epoch 20/200\n",
      "22792/22792 [==============================] - 2s 98us/step - loss: 1.4895 - acc: 0.7865 - val_loss: 1.5459 - val_acc: 0.7873\n",
      "Epoch 21/200\n",
      "22792/22792 [==============================] - 2s 95us/step - loss: 1.4889 - acc: 0.7853 - val_loss: 1.5483 - val_acc: 0.7878\n",
      "Epoch 22/200\n",
      "22792/22792 [==============================] - 3s 117us/step - loss: 1.4880 - acc: 0.7875 - val_loss: 1.5450 - val_acc: 0.7901\n",
      "Epoch 23/200\n",
      "22792/22792 [==============================] - 3s 116us/step - loss: 1.4885 - acc: 0.7874 - val_loss: 1.5442 - val_acc: 0.7867\n",
      "Epoch 24/200\n",
      "22792/22792 [==============================] - 3s 117us/step - loss: 1.4868 - acc: 0.7874 - val_loss: 1.5483 - val_acc: 0.7852\n",
      "Epoch 25/200\n",
      "22792/22792 [==============================] - 3s 142us/step - loss: 1.4866 - acc: 0.7882 - val_loss: 1.5435 - val_acc: 0.7913\n",
      "Epoch 26/200\n",
      "22792/22792 [==============================] - 3s 113us/step - loss: 1.4867 - acc: 0.7883 - val_loss: 1.5478 - val_acc: 0.7908\n",
      "Epoch 27/200\n",
      "22792/22792 [==============================] - 2s 97us/step - loss: 1.4869 - acc: 0.7884 - val_loss: 1.5423 - val_acc: 0.7927\n",
      "Epoch 28/200\n",
      "22792/22792 [==============================] - 2s 94us/step - loss: 1.4869 - acc: 0.7871 - val_loss: 1.5461 - val_acc: 0.7868\n",
      "Epoch 29/200\n",
      "22792/22792 [==============================] - 2s 101us/step - loss: 1.4865 - acc: 0.7860 - val_loss: 1.5421 - val_acc: 0.7896\n",
      "Epoch 30/200\n",
      "22792/22792 [==============================] - 2s 93us/step - loss: 1.4864 - acc: 0.7893 - val_loss: 1.5432 - val_acc: 0.7889\n",
      "Epoch 31/200\n",
      "22792/22792 [==============================] - 2s 88us/step - loss: 1.4852 - acc: 0.7862 - val_loss: 1.5482 - val_acc: 0.7886\n",
      "Epoch 32/200\n",
      "22792/22792 [==============================] - 2s 94us/step - loss: 1.4858 - acc: 0.7877 - val_loss: 1.5420 - val_acc: 0.7927\n",
      "Epoch 33/200\n",
      "22792/22792 [==============================] - 2s 100us/step - loss: 1.4848 - acc: 0.7894 - val_loss: 1.5423 - val_acc: 0.7898\n",
      "Epoch 34/200\n",
      "22792/22792 [==============================] - 2s 95us/step - loss: 1.4857 - acc: 0.7880 - val_loss: 1.5408 - val_acc: 0.7912\n",
      "Epoch 35/200\n",
      "22792/22792 [==============================] - 3s 114us/step - loss: 1.4850 - acc: 0.7876 - val_loss: 1.5430 - val_acc: 0.7883\n",
      "Epoch 36/200\n",
      "22792/22792 [==============================] - 2s 110us/step - loss: 1.4859 - acc: 0.7869 - val_loss: 1.5453 - val_acc: 0.7915\n",
      "Epoch 37/200\n",
      "22792/22792 [==============================] - 2s 99us/step - loss: 1.4858 - acc: 0.7888 - val_loss: 1.5414 - val_acc: 0.7930\n",
      "Epoch 38/200\n",
      "22792/22792 [==============================] - 2s 91us/step - loss: 1.4859 - acc: 0.7883 - val_loss: 1.5429 - val_acc: 0.7888\n",
      "Epoch 39/200\n",
      "22792/22792 [==============================] - 2s 88us/step - loss: 1.4849 - acc: 0.7875 - val_loss: 1.5444 - val_acc: 0.7898\n",
      "Epoch 40/200\n",
      "22792/22792 [==============================] - 2s 91us/step - loss: 1.4843 - acc: 0.7895 - val_loss: 1.5429 - val_acc: 0.7922\n",
      "Epoch 41/200\n",
      "22792/22792 [==============================] - 2s 108us/step - loss: 1.4841 - acc: 0.7886 - val_loss: 1.5418 - val_acc: 0.7888\n",
      "Epoch 42/200\n",
      "22792/22792 [==============================] - 2s 101us/step - loss: 1.4846 - acc: 0.7886 - val_loss: 1.5417 - val_acc: 0.7905\n",
      "Epoch 43/200\n",
      "22792/22792 [==============================] - 2s 94us/step - loss: 1.4845 - acc: 0.7883 - val_loss: 1.5417 - val_acc: 0.7890\n",
      "Epoch 44/200\n",
      "22792/22792 [==============================] - 3s 127us/step - loss: 1.4844 - acc: 0.7880 - val_loss: 1.5427 - val_acc: 0.7911\n",
      "Epoch 45/200\n",
      "22792/22792 [==============================] - 4s 158us/step - loss: 1.4842 - acc: 0.7871 - val_loss: 1.5434 - val_acc: 0.7907\n",
      "Epoch 46/200\n",
      "22792/22792 [==============================] - 3s 147us/step - loss: 1.4850 - acc: 0.7882 - val_loss: 1.5419 - val_acc: 0.7871\n",
      "Epoch 47/200\n",
      "22792/22792 [==============================] - 3s 145us/step - loss: 1.4847 - acc: 0.7893 - val_loss: 1.5419 - val_acc: 0.7906\n",
      "Epoch 48/200\n",
      "22792/22792 [==============================] - 2s 102us/step - loss: 1.4842 - acc: 0.7899 - val_loss: 1.5404 - val_acc: 0.7903\n",
      "Epoch 49/200\n",
      "22792/22792 [==============================] - 2s 93us/step - loss: 1.4845 - acc: 0.7897 - val_loss: 1.5415 - val_acc: 0.7890\n",
      "Epoch 50/200\n",
      "22792/22792 [==============================] - 2s 94us/step - loss: 1.4847 - acc: 0.7898 - val_loss: 1.5436 - val_acc: 0.7873\n",
      "Epoch 51/200\n",
      "22792/22792 [==============================] - 3s 119us/step - loss: 1.4846 - acc: 0.7885 - val_loss: 1.5443 - val_acc: 0.7880\n",
      "Epoch 52/200\n",
      "22792/22792 [==============================] - 3s 138us/step - loss: 1.4842 - acc: 0.7892 - val_loss: 1.5407 - val_acc: 0.7906\n",
      "Epoch 53/200\n",
      "22792/22792 [==============================] - 3s 140us/step - loss: 1.4844 - acc: 0.7894 - val_loss: 1.5444 - val_acc: 0.7850\n",
      "Epoch 54/200\n",
      "22792/22792 [==============================] - 3s 138us/step - loss: 1.4837 - acc: 0.7901 - val_loss: 1.5413 - val_acc: 0.7910\n",
      "Epoch 55/200\n",
      "22792/22792 [==============================] - 3s 149us/step - loss: 1.4837 - acc: 0.7880 - val_loss: 1.5418 - val_acc: 0.7866\n",
      "Epoch 56/200\n",
      "22792/22792 [==============================] - 3s 133us/step - loss: 1.4840 - acc: 0.7894 - val_loss: 1.5404 - val_acc: 0.7885\n",
      "Epoch 57/200\n",
      "22792/22792 [==============================] - 2s 98us/step - loss: 1.4844 - acc: 0.7876 - val_loss: 1.5429 - val_acc: 0.7901\n",
      "Epoch 58/200\n",
      "22792/22792 [==============================] - 2s 96us/step - loss: 1.4843 - acc: 0.7869 - val_loss: 1.5430 - val_acc: 0.7880\n",
      "Epoch 59/200\n"
     ]
    },
    {
     "name": "stdout",
     "output_type": "stream",
     "text": [
      "22792/22792 [==============================] - 2s 91us/step - loss: 1.4847 - acc: 0.7883 - val_loss: 1.5424 - val_acc: 0.7906\n",
      "Epoch 60/200\n",
      "22792/22792 [==============================] - 2s 94us/step - loss: 1.4844 - acc: 0.7888 - val_loss: 1.5410 - val_acc: 0.7893\n",
      "Epoch 61/200\n",
      "22792/22792 [==============================] - 2s 90us/step - loss: 1.4835 - acc: 0.7886 - val_loss: 1.5456 - val_acc: 0.7855\n",
      "Epoch 62/200\n",
      "22792/22792 [==============================] - 2s 87us/step - loss: 1.4840 - acc: 0.7890 - val_loss: 1.5417 - val_acc: 0.7905\n",
      "Epoch 63/200\n",
      "22792/22792 [==============================] - 2s 90us/step - loss: 1.4832 - acc: 0.7898 - val_loss: 1.5427 - val_acc: 0.7941\n",
      "Epoch 64/200\n",
      "22792/22792 [==============================] - 2s 95us/step - loss: 1.4845 - acc: 0.7878 - val_loss: 1.5533 - val_acc: 0.7813\n",
      "Epoch 65/200\n",
      "22792/22792 [==============================] - 2s 93us/step - loss: 1.4837 - acc: 0.7872 - val_loss: 1.5444 - val_acc: 0.7879\n",
      "Epoch 66/200\n",
      "22792/22792 [==============================] - 2s 91us/step - loss: 1.4839 - acc: 0.7902 - val_loss: 1.5422 - val_acc: 0.7879\n",
      "Epoch 67/200\n",
      "22792/22792 [==============================] - 2s 93us/step - loss: 1.4829 - acc: 0.7906 - val_loss: 1.5418 - val_acc: 0.7874\n",
      "Epoch 68/200\n",
      "22792/22792 [==============================] - 2s 91us/step - loss: 1.4831 - acc: 0.7890 - val_loss: 1.5414 - val_acc: 0.7948\n",
      "Epoch 69/200\n",
      "22792/22792 [==============================] - 2s 89us/step - loss: 1.4837 - acc: 0.7894 - val_loss: 1.5432 - val_acc: 0.7907\n",
      "Epoch 70/200\n",
      "22792/22792 [==============================] - 2s 92us/step - loss: 1.4838 - acc: 0.7874 - val_loss: 1.5428 - val_acc: 0.7870\n",
      "Epoch 71/200\n",
      "22792/22792 [==============================] - 2s 98us/step - loss: 1.4833 - acc: 0.7898 - val_loss: 1.5476 - val_acc: 0.7827\n",
      "Epoch 72/200\n",
      "22792/22792 [==============================] - 2s 94us/step - loss: 1.4833 - acc: 0.7875 - val_loss: 1.5408 - val_acc: 0.7885\n",
      "Epoch 73/200\n",
      "22792/22792 [==============================] - 2s 91us/step - loss: 1.4836 - acc: 0.7876 - val_loss: 1.5415 - val_acc: 0.7943\n",
      "Epoch 74/200\n",
      "22792/22792 [==============================] - 2s 95us/step - loss: 1.4827 - acc: 0.7887 - val_loss: 1.5418 - val_acc: 0.7885\n",
      "Epoch 75/200\n",
      "22792/22792 [==============================] - 2s 95us/step - loss: 1.4827 - acc: 0.7900 - val_loss: 1.5411 - val_acc: 0.7941\n",
      "Epoch 76/200\n",
      "22792/22792 [==============================] - 2s 92us/step - loss: 1.4830 - acc: 0.7889 - val_loss: 1.5405 - val_acc: 0.7877\n",
      "Epoch 77/200\n",
      "22792/22792 [==============================] - 2s 90us/step - loss: 1.4824 - acc: 0.7881 - val_loss: 1.5426 - val_acc: 0.7889\n",
      "Epoch 78/200\n",
      "22792/22792 [==============================] - 2s 91us/step - loss: 1.4835 - acc: 0.7890 - val_loss: 1.5420 - val_acc: 0.7878\n",
      "Epoch 79/200\n",
      "22792/22792 [==============================] - 2s 94us/step - loss: 1.4828 - acc: 0.7894 - val_loss: 1.5421 - val_acc: 0.7868\n",
      "Epoch 80/200\n",
      "22792/22792 [==============================] - 2s 103us/step - loss: 1.4833 - acc: 0.7883 - val_loss: 1.5397 - val_acc: 0.7928\n",
      "Epoch 81/200\n",
      "22792/22792 [==============================] - 3s 116us/step - loss: 1.4822 - acc: 0.7921 - val_loss: 1.5422 - val_acc: 0.7877\n",
      "Epoch 82/200\n",
      "22792/22792 [==============================] - 2s 98us/step - loss: 1.4838 - acc: 0.7887 - val_loss: 1.5404 - val_acc: 0.7869\n",
      "Epoch 83/200\n",
      "22792/22792 [==============================] - 2s 91us/step - loss: 1.4822 - acc: 0.7920 - val_loss: 1.5433 - val_acc: 0.7853\n",
      "Epoch 84/200\n",
      "22792/22792 [==============================] - 2s 90us/step - loss: 1.4830 - acc: 0.7884 - val_loss: 1.5474 - val_acc: 0.7840\n",
      "Epoch 85/200\n",
      "22792/22792 [==============================] - 2s 93us/step - loss: 1.4821 - acc: 0.7891 - val_loss: 1.5458 - val_acc: 0.7878\n",
      "Epoch 86/200\n",
      "22792/22792 [==============================] - 2s 105us/step - loss: 1.4830 - acc: 0.7901 - val_loss: 1.5403 - val_acc: 0.7936\n",
      "Epoch 87/200\n",
      "22792/22792 [==============================] - 2s 102us/step - loss: 1.4830 - acc: 0.7890 - val_loss: 1.5399 - val_acc: 0.7924\n",
      "Epoch 88/200\n",
      "22792/22792 [==============================] - 2s 101us/step - loss: 1.4837 - acc: 0.7890 - val_loss: 1.5408 - val_acc: 0.7875\n",
      "Epoch 89/200\n",
      "22792/22792 [==============================] - 2s 93us/step - loss: 1.4827 - acc: 0.7896 - val_loss: 1.5419 - val_acc: 0.7889\n",
      "Epoch 90/200\n",
      "22792/22792 [==============================] - 2s 96us/step - loss: 1.4827 - acc: 0.7898 - val_loss: 1.5405 - val_acc: 0.7912\n",
      "Epoch 91/200\n",
      "22792/22792 [==============================] - 3s 112us/step - loss: 1.4831 - acc: 0.7888 - val_loss: 1.5421 - val_acc: 0.7868\n",
      "Epoch 92/200\n",
      "22792/22792 [==============================] - 3s 113us/step - loss: 1.4837 - acc: 0.7880 - val_loss: 1.5401 - val_acc: 0.7895\n",
      "Epoch 93/200\n",
      "22792/22792 [==============================] - 3s 112us/step - loss: 1.4824 - acc: 0.7890 - val_loss: 1.5391 - val_acc: 0.7934\n",
      "Epoch 94/200\n",
      "22792/22792 [==============================] - 2s 102us/step - loss: 1.4827 - acc: 0.7888 - val_loss: 1.5402 - val_acc: 0.7902\n",
      "Epoch 95/200\n",
      "22792/22792 [==============================] - 2s 93us/step - loss: 1.4823 - acc: 0.7901 - val_loss: 1.5446 - val_acc: 0.7840\n",
      "Epoch 96/200\n",
      "22792/22792 [==============================] - 2s 91us/step - loss: 1.4820 - acc: 0.7898 - val_loss: 1.5395 - val_acc: 0.7920\n",
      "Epoch 97/200\n",
      "22792/22792 [==============================] - 2s 90us/step - loss: 1.4822 - acc: 0.7887 - val_loss: 1.5428 - val_acc: 0.7873\n",
      "Epoch 98/200\n",
      "22792/22792 [==============================] - 2s 92us/step - loss: 1.4814 - acc: 0.7899 - val_loss: 1.5401 - val_acc: 0.7903\n",
      "Epoch 99/200\n",
      "22792/22792 [==============================] - 2s 91us/step - loss: 1.4821 - acc: 0.7905 - val_loss: 1.5415 - val_acc: 0.7942\n",
      "Epoch 100/200\n",
      "22792/22792 [==============================] - 2s 90us/step - loss: 1.4826 - acc: 0.7900 - val_loss: 1.5391 - val_acc: 0.7911\n",
      "Epoch 101/200\n",
      "22792/22792 [==============================] - 2s 96us/step - loss: 1.4824 - acc: 0.7884 - val_loss: 1.5399 - val_acc: 0.7909\n",
      "Epoch 102/200\n",
      "22792/22792 [==============================] - 2s 94us/step - loss: 1.4825 - acc: 0.7895 - val_loss: 1.5409 - val_acc: 0.7914\n",
      "Epoch 103/200\n",
      "22792/22792 [==============================] - 2s 88us/step - loss: 1.4823 - acc: 0.7919 - val_loss: 1.5415 - val_acc: 0.7920\n",
      "Epoch 104/200\n",
      "22792/22792 [==============================] - 2s 89us/step - loss: 1.4815 - acc: 0.7909 - val_loss: 1.5398 - val_acc: 0.7903\n",
      "Epoch 105/200\n",
      "22792/22792 [==============================] - 2s 93us/step - loss: 1.4821 - acc: 0.7892 - val_loss: 1.5386 - val_acc: 0.7917\n",
      "Epoch 106/200\n",
      "22792/22792 [==============================] - 2s 99us/step - loss: 1.4817 - acc: 0.7909 - val_loss: 1.5390 - val_acc: 0.7904\n",
      "Epoch 107/200\n",
      "22792/22792 [==============================] - 2s 96us/step - loss: 1.4821 - acc: 0.7910 - val_loss: 1.5400 - val_acc: 0.7919\n",
      "Epoch 108/200\n",
      "22792/22792 [==============================] - 2s 104us/step - loss: 1.4821 - acc: 0.7897 - val_loss: 1.5384 - val_acc: 0.7922\n",
      "Epoch 109/200\n",
      "22792/22792 [==============================] - 2s 93us/step - loss: 1.4825 - acc: 0.7882 - val_loss: 1.5417 - val_acc: 0.7924\n",
      "Epoch 110/200\n",
      "22792/22792 [==============================] - 3s 117us/step - loss: 1.4821 - acc: 0.7917 - val_loss: 1.5395 - val_acc: 0.7915\n",
      "Epoch 111/200\n",
      "22792/22792 [==============================] - 2s 103us/step - loss: 1.4818 - acc: 0.7887 - val_loss: 1.5391 - val_acc: 0.7913\n",
      "Epoch 112/200\n",
      "22792/22792 [==============================] - 3s 113us/step - loss: 1.4818 - acc: 0.7892 - val_loss: 1.5433 - val_acc: 0.7872\n",
      "Epoch 113/200\n",
      "22792/22792 [==============================] - 2s 97us/step - loss: 1.4814 - acc: 0.7894 - val_loss: 1.5402 - val_acc: 0.7893\n",
      "Epoch 114/200\n",
      "22792/22792 [==============================] - 2s 97us/step - loss: 1.4818 - acc: 0.7896 - val_loss: 1.5407 - val_acc: 0.7921\n",
      "Epoch 115/200\n",
      "22792/22792 [==============================] - 2s 94us/step - loss: 1.4813 - acc: 0.7911 - val_loss: 1.5402 - val_acc: 0.7887\n",
      "Epoch 116/200\n",
      "22792/22792 [==============================] - 2s 94us/step - loss: 1.4817 - acc: 0.7895 - val_loss: 1.5384 - val_acc: 0.7920\n",
      "Epoch 117/200\n",
      "22792/22792 [==============================] - 2s 93us/step - loss: 1.4820 - acc: 0.7882 - val_loss: 1.5409 - val_acc: 0.7909\n"
     ]
    },
    {
     "name": "stdout",
     "output_type": "stream",
     "text": [
      "Epoch 118/200\n",
      "22792/22792 [==============================] - 2s 92us/step - loss: 1.4812 - acc: 0.7914 - val_loss: 1.5415 - val_acc: 0.7895\n",
      "Epoch 119/200\n",
      "22792/22792 [==============================] - 2s 96us/step - loss: 1.4818 - acc: 0.7912 - val_loss: 1.5407 - val_acc: 0.7897\n",
      "Epoch 120/200\n",
      "22792/22792 [==============================] - 2s 97us/step - loss: 1.4815 - acc: 0.7898 - val_loss: 1.5405 - val_acc: 0.7887\n",
      "Epoch 121/200\n",
      "22792/22792 [==============================] - 2s 94us/step - loss: 1.4814 - acc: 0.7909 - val_loss: 1.5387 - val_acc: 0.7942\n",
      "Epoch 122/200\n",
      "22792/22792 [==============================] - 2s 92us/step - loss: 1.4816 - acc: 0.7897 - val_loss: 1.5400 - val_acc: 0.7888\n",
      "Epoch 123/200\n",
      "22792/22792 [==============================] - 2s 102us/step - loss: 1.4819 - acc: 0.7903 - val_loss: 1.5427 - val_acc: 0.7895\n",
      "Epoch 124/200\n",
      "22792/22792 [==============================] - 2s 97us/step - loss: 1.4816 - acc: 0.7894 - val_loss: 1.5404 - val_acc: 0.7905\n",
      "Epoch 125/200\n",
      "22792/22792 [==============================] - 2s 94us/step - loss: 1.4819 - acc: 0.7891 - val_loss: 1.5399 - val_acc: 0.7913\n",
      "Epoch 126/200\n",
      "22792/22792 [==============================] - 2s 98us/step - loss: 1.4812 - acc: 0.7901 - val_loss: 1.5402 - val_acc: 0.7922\n",
      "Epoch 127/200\n",
      "22792/22792 [==============================] - 2s 97us/step - loss: 1.4819 - acc: 0.7895 - val_loss: 1.5393 - val_acc: 0.7913\n",
      "Epoch 128/200\n",
      "22792/22792 [==============================] - 2s 95us/step - loss: 1.4819 - acc: 0.7899 - val_loss: 1.5449 - val_acc: 0.7870\n",
      "Epoch 129/200\n",
      "22792/22792 [==============================] - 2s 108us/step - loss: 1.4821 - acc: 0.7873 - val_loss: 1.5412 - val_acc: 0.7891\n",
      "Epoch 130/200\n",
      "22792/22792 [==============================] - 2s 98us/step - loss: 1.4810 - acc: 0.7916 - val_loss: 1.5421 - val_acc: 0.7893\n",
      "Epoch 131/200\n",
      "22792/22792 [==============================] - 2s 93us/step - loss: 1.4809 - acc: 0.7893 - val_loss: 1.5399 - val_acc: 0.7928\n",
      "Epoch 132/200\n",
      "22792/22792 [==============================] - 2s 96us/step - loss: 1.4816 - acc: 0.7889 - val_loss: 1.5422 - val_acc: 0.7907\n",
      "Epoch 133/200\n",
      "22792/22792 [==============================] - 2s 97us/step - loss: 1.4818 - acc: 0.7894 - val_loss: 1.5414 - val_acc: 0.7911\n",
      "Epoch 134/200\n",
      "22792/22792 [==============================] - 2s 100us/step - loss: 1.4818 - acc: 0.7889 - val_loss: 1.5451 - val_acc: 0.7869\n",
      "Epoch 135/200\n",
      "22792/22792 [==============================] - 2s 98us/step - loss: 1.4813 - acc: 0.7892 - val_loss: 1.5387 - val_acc: 0.7919\n",
      "Epoch 136/200\n",
      "22792/22792 [==============================] - 2s 101us/step - loss: 1.4813 - acc: 0.7912 - val_loss: 1.5423 - val_acc: 0.7893\n",
      "Epoch 137/200\n",
      "22792/22792 [==============================] - 2s 97us/step - loss: 1.4813 - acc: 0.7897 - val_loss: 1.5428 - val_acc: 0.7866\n",
      "Epoch 138/200\n",
      "22792/22792 [==============================] - 2s 96us/step - loss: 1.4810 - acc: 0.7897 - val_loss: 1.5511 - val_acc: 0.7739\n",
      "Epoch 139/200\n",
      "22792/22792 [==============================] - 2s 99us/step - loss: 1.4809 - acc: 0.7916 - val_loss: 1.5409 - val_acc: 0.7895\n",
      "Epoch 140/200\n",
      "22792/22792 [==============================] - 2s 96us/step - loss: 1.4813 - acc: 0.7890 - val_loss: 1.5390 - val_acc: 0.7928\n",
      "Epoch 141/200\n",
      "22792/22792 [==============================] - 2s 92us/step - loss: 1.4806 - acc: 0.7898 - val_loss: 1.5381 - val_acc: 0.7938\n",
      "Epoch 142/200\n",
      "22792/22792 [==============================] - 2s 91us/step - loss: 1.4806 - acc: 0.7893 - val_loss: 1.5390 - val_acc: 0.7932\n",
      "Epoch 143/200\n",
      "22792/22792 [==============================] - 2s 87us/step - loss: 1.4809 - acc: 0.7914 - val_loss: 1.5380 - val_acc: 0.7916\n",
      "Epoch 144/200\n",
      "22792/22792 [==============================] - 2s 97us/step - loss: 1.4807 - acc: 0.7911 - val_loss: 1.5385 - val_acc: 0.7920\n",
      "Epoch 145/200\n",
      "22792/22792 [==============================] - 2s 95us/step - loss: 1.4812 - acc: 0.7904 - val_loss: 1.5382 - val_acc: 0.7914\n",
      "Epoch 146/200\n",
      "22792/22792 [==============================] - 2s 101us/step - loss: 1.4810 - acc: 0.7891 - val_loss: 1.5385 - val_acc: 0.7927\n",
      "Epoch 147/200\n",
      "22792/22792 [==============================] - 2s 96us/step - loss: 1.4807 - acc: 0.7900 - val_loss: 1.5398 - val_acc: 0.7926\n",
      "Epoch 148/200\n",
      "22792/22792 [==============================] - 2s 105us/step - loss: 1.4812 - acc: 0.7912 - val_loss: 1.5379 - val_acc: 0.7946\n",
      "Epoch 149/200\n",
      "22792/22792 [==============================] - 2s 102us/step - loss: 1.4811 - acc: 0.7893 - val_loss: 1.5394 - val_acc: 0.7905\n",
      "Epoch 150/200\n",
      "22792/22792 [==============================] - 2s 97us/step - loss: 1.4807 - acc: 0.7897 - val_loss: 1.5393 - val_acc: 0.7919\n",
      "Epoch 151/200\n",
      "22792/22792 [==============================] - 2s 96us/step - loss: 1.4805 - acc: 0.7929 - val_loss: 1.5408 - val_acc: 0.7917\n",
      "Epoch 152/200\n",
      "22792/22792 [==============================] - 2s 93us/step - loss: 1.4811 - acc: 0.7892 - val_loss: 1.5398 - val_acc: 0.7929\n",
      "Epoch 153/200\n",
      "22792/22792 [==============================] - 2s 98us/step - loss: 1.4811 - acc: 0.7892 - val_loss: 1.5400 - val_acc: 0.7902\n",
      "Epoch 154/200\n",
      "22792/22792 [==============================] - 2s 99us/step - loss: 1.4804 - acc: 0.7914 - val_loss: 1.5394 - val_acc: 0.7933\n",
      "Epoch 155/200\n",
      "22792/22792 [==============================] - 2s 96us/step - loss: 1.4809 - acc: 0.7909 - val_loss: 1.5402 - val_acc: 0.7889\n",
      "Epoch 156/200\n",
      "22792/22792 [==============================] - 2s 95us/step - loss: 1.4808 - acc: 0.7913 - val_loss: 1.5384 - val_acc: 0.7936\n",
      "Epoch 157/200\n",
      "22792/22792 [==============================] - 2s 95us/step - loss: 1.4813 - acc: 0.7899 - val_loss: 1.5388 - val_acc: 0.7908\n",
      "Epoch 158/200\n",
      "22792/22792 [==============================] - 2s 101us/step - loss: 1.4810 - acc: 0.7905 - val_loss: 1.5424 - val_acc: 0.7935\n",
      "Epoch 159/200\n",
      "22792/22792 [==============================] - 2s 97us/step - loss: 1.4811 - acc: 0.7900 - val_loss: 1.5419 - val_acc: 0.7903\n",
      "Epoch 160/200\n",
      "22792/22792 [==============================] - 2s 98us/step - loss: 1.4801 - acc: 0.7907 - val_loss: 1.5396 - val_acc: 0.7907\n",
      "Epoch 161/200\n",
      "22792/22792 [==============================] - 3s 113us/step - loss: 1.4806 - acc: 0.7899 - val_loss: 1.5389 - val_acc: 0.7909\n",
      "Epoch 162/200\n",
      "22792/22792 [==============================] - 2s 103us/step - loss: 1.4800 - acc: 0.7914 - val_loss: 1.5390 - val_acc: 0.7919\n",
      "Epoch 163/200\n",
      "22792/22792 [==============================] - 2s 96us/step - loss: 1.4808 - acc: 0.7890 - val_loss: 1.5395 - val_acc: 0.7913\n",
      "Epoch 164/200\n",
      "22792/22792 [==============================] - 3s 118us/step - loss: 1.4811 - acc: 0.7900 - val_loss: 1.5379 - val_acc: 0.7922\n",
      "Epoch 165/200\n",
      "22792/22792 [==============================] - 2s 108us/step - loss: 1.4807 - acc: 0.7891 - val_loss: 1.5399 - val_acc: 0.7950\n",
      "Epoch 166/200\n",
      "22792/22792 [==============================] - 2s 97us/step - loss: 1.4805 - acc: 0.7908 - val_loss: 1.5410 - val_acc: 0.7901\n",
      "Epoch 167/200\n",
      "22792/22792 [==============================] - 2s 96us/step - loss: 1.4801 - acc: 0.7906 - val_loss: 1.5380 - val_acc: 0.7923\n",
      "Epoch 168/200\n",
      "22792/22792 [==============================] - 2s 95us/step - loss: 1.4805 - acc: 0.7902 - val_loss: 1.5501 - val_acc: 0.7804\n",
      "Epoch 169/200\n",
      "22792/22792 [==============================] - 2s 94us/step - loss: 1.4807 - acc: 0.7899 - val_loss: 1.5380 - val_acc: 0.7925\n",
      "Epoch 170/200\n",
      "22792/22792 [==============================] - 2s 101us/step - loss: 1.4804 - acc: 0.7911 - val_loss: 1.5400 - val_acc: 0.7924\n",
      "Epoch 171/200\n",
      "22792/22792 [==============================] - 2s 98us/step - loss: 1.4797 - acc: 0.7908 - val_loss: 1.5403 - val_acc: 0.7912\n",
      "Epoch 172/200\n",
      "22792/22792 [==============================] - 2s 92us/step - loss: 1.4803 - acc: 0.7919 - val_loss: 1.5379 - val_acc: 0.7933\n",
      "Epoch 173/200\n",
      "22792/22792 [==============================] - 2s 102us/step - loss: 1.4801 - acc: 0.7912 - val_loss: 1.5414 - val_acc: 0.7872\n",
      "Epoch 174/200\n",
      "22792/22792 [==============================] - 2s 104us/step - loss: 1.4809 - acc: 0.7896 - val_loss: 1.5393 - val_acc: 0.7937\n",
      "Epoch 175/200\n",
      "22792/22792 [==============================] - 2s 92us/step - loss: 1.4797 - acc: 0.7908 - val_loss: 1.5381 - val_acc: 0.7930\n",
      "Epoch 176/200\n"
     ]
    },
    {
     "name": "stdout",
     "output_type": "stream",
     "text": [
      "22792/22792 [==============================] - 2s 91us/step - loss: 1.4809 - acc: 0.7918 - val_loss: 1.5390 - val_acc: 0.7916\n",
      "Epoch 177/200\n",
      "22792/22792 [==============================] - 2s 96us/step - loss: 1.4800 - acc: 0.7911 - val_loss: 1.5388 - val_acc: 0.7923\n",
      "Epoch 178/200\n",
      "22792/22792 [==============================] - 2s 99us/step - loss: 1.4806 - acc: 0.7915 - val_loss: 1.5389 - val_acc: 0.7917\n",
      "Epoch 179/200\n",
      "22792/22792 [==============================] - 2s 99us/step - loss: 1.4806 - acc: 0.7904 - val_loss: 1.5377 - val_acc: 0.7954\n",
      "Epoch 180/200\n",
      "22792/22792 [==============================] - 2s 98us/step - loss: 1.4805 - acc: 0.7892 - val_loss: 1.5379 - val_acc: 0.7925\n",
      "Epoch 181/200\n",
      "22792/22792 [==============================] - 2s 100us/step - loss: 1.4802 - acc: 0.7915 - val_loss: 1.5394 - val_acc: 0.7921\n",
      "Epoch 182/200\n",
      "22792/22792 [==============================] - 2s 104us/step - loss: 1.4802 - acc: 0.7900 - val_loss: 1.5382 - val_acc: 0.7924\n",
      "Epoch 183/200\n",
      "22792/22792 [==============================] - 2s 98us/step - loss: 1.4801 - acc: 0.7912 - val_loss: 1.5386 - val_acc: 0.7923\n",
      "Epoch 184/200\n",
      "22792/22792 [==============================] - 2s 93us/step - loss: 1.4797 - acc: 0.7895 - val_loss: 1.5420 - val_acc: 0.7913\n",
      "Epoch 185/200\n",
      "22792/22792 [==============================] - 2s 97us/step - loss: 1.4799 - acc: 0.7907 - val_loss: 1.5434 - val_acc: 0.7842\n",
      "Epoch 186/200\n",
      "22792/22792 [==============================] - 2s 98us/step - loss: 1.4804 - acc: 0.7884 - val_loss: 1.5426 - val_acc: 0.7894\n",
      "Epoch 187/200\n",
      "22792/22792 [==============================] - 2s 95us/step - loss: 1.4799 - acc: 0.7904 - val_loss: 1.5386 - val_acc: 0.7918\n",
      "Epoch 188/200\n",
      "22792/22792 [==============================] - 2s 94us/step - loss: 1.4806 - acc: 0.7894 - val_loss: 1.5394 - val_acc: 0.7888\n",
      "Epoch 189/200\n",
      "22792/22792 [==============================] - 2s 99us/step - loss: 1.4804 - acc: 0.7910 - val_loss: 1.5403 - val_acc: 0.7872\n",
      "Epoch 190/200\n",
      "22792/22792 [==============================] - 2s 95us/step - loss: 1.4796 - acc: 0.7907 - val_loss: 1.5394 - val_acc: 0.7903\n",
      "Epoch 191/200\n",
      "22792/22792 [==============================] - 2s 97us/step - loss: 1.4806 - acc: 0.7894 - val_loss: 1.5383 - val_acc: 0.7923\n",
      "Epoch 192/200\n",
      "22792/22792 [==============================] - 3s 121us/step - loss: 1.4799 - acc: 0.7898 - val_loss: 1.5433 - val_acc: 0.7869\n",
      "Epoch 193/200\n",
      "22792/22792 [==============================] - 3s 113us/step - loss: 1.4804 - acc: 0.7902 - val_loss: 1.5383 - val_acc: 0.7946\n",
      "Epoch 194/200\n",
      "22792/22792 [==============================] - 2s 92us/step - loss: 1.4807 - acc: 0.7914 - val_loss: 1.5403 - val_acc: 0.7903\n",
      "Epoch 195/200\n",
      "22792/22792 [==============================] - 2s 91us/step - loss: 1.4810 - acc: 0.7890 - val_loss: 1.5415 - val_acc: 0.7890\n",
      "Epoch 196/200\n",
      "22792/22792 [==============================] - 2s 95us/step - loss: 1.4797 - acc: 0.7933 - val_loss: 1.5468 - val_acc: 0.7921\n",
      "Epoch 197/200\n",
      "22792/22792 [==============================] - 3s 128us/step - loss: 1.4803 - acc: 0.7906 - val_loss: 1.5408 - val_acc: 0.7915\n",
      "Epoch 198/200\n",
      "22792/22792 [==============================] - 2s 95us/step - loss: 1.4804 - acc: 0.7918 - val_loss: 1.5400 - val_acc: 0.7902\n",
      "Epoch 199/200\n",
      "22792/22792 [==============================] - 3s 116us/step - loss: 1.4799 - acc: 0.7916 - val_loss: 1.5390 - val_acc: 0.7957\n",
      "Epoch 200/200\n",
      "22792/22792 [==============================] - 3s 111us/step - loss: 1.4799 - acc: 0.7905 - val_loss: 1.5384 - val_acc: 0.7907\n"
     ]
    }
   ],
   "source": [
    "H = model.fit(X_train, y_binary_train, \n",
    "              validation_data=(X_test, y_binary_test),\n",
    "              epochs = 200,batch_size=32)"
   ]
  },
  {
   "cell_type": "code",
   "execution_count": 119,
   "metadata": {},
   "outputs": [
    {
     "data": {
      "text/plain": [
       "[<matplotlib.lines.Line2D at 0x1a410c08d0>]"
      ]
     },
     "execution_count": 119,
     "metadata": {},
     "output_type": "execute_result"
    },
    {
     "data": {
      "image/png": "[encoded data removed]",
      "text/plain": [
       "<Figure size 432x288 with 1 Axes>"
      ]
     },
     "metadata": {
      "needs_background": "light"
     },
     "output_type": "display_data"
    }
   ],
   "source": [
    "plt.plot(H.history['acc'])\n",
    "plt.plot(H.history['val_acc'], 'r')"
   ]
  },
  {
   "cell_type": "code",
   "execution_count": 120,
   "metadata": {},
   "outputs": [
    {
     "data": {
      "text/plain": [
       "[<matplotlib.lines.Line2D at 0x1a3c69e5c0>]"
      ]
     },
     "execution_count": 120,
     "metadata": {},
     "output_type": "execute_result"
    },
    {
     "data": {
      "image/png": "[encoded data removed]",
      "text/plain": [
       "<Figure size 432x288 with 1 Axes>"
      ]
     },
     "metadata": {
      "needs_background": "light"
     },
     "output_type": "display_data"
    }
   ],
   "source": [
    "plt.plot(H.history['loss'])\n",
    "plt.plot(H.history['val_loss'], 'r')"
   ]
  },
  {
   "cell_type": "code",
   "execution_count": 112,
   "metadata": {},
   "outputs": [],
   "source": [
    "y_pred_cat = model.predict(X_test)"
   ]
  },
  {
   "cell_type": "code",
   "execution_count": 78,
   "metadata": {},
   "outputs": [],
   "source": [
    "y_pred = np.argmax(y_pred_cat, axis=1)"
   ]
  },
  {
   "cell_type": "code",
   "execution_count": 79,
   "metadata": {},
   "outputs": [],
   "source": [
    "from sklearn.metrics import classification_report"
   ]
  },
  {
   "cell_type": "code",
   "execution_count": 80,
   "metadata": {},
   "outputs": [
    {
     "name": "stdout",
     "output_type": "stream",
     "text": [
      "              precision    recall  f1-score   support\n",
      "\n",
      "           0       0.76      1.00      0.86      7436\n",
      "           1       0.00      0.00      0.00      2333\n",
      "\n",
      "   micro avg       0.76      0.76      0.76      9769\n",
      "   macro avg       0.38      0.50      0.43      9769\n",
      "weighted avg       0.58      0.76      0.66      9769\n",
      "\n"
     ]
    }
   ],
   "source": [
    "print(classification_report(y_test,y_pred))"
   ]
  },
  {
   "cell_type": "markdown",
   "metadata": {},
   "source": [
    "## Tensorflow"
   ]
  },
  {
   "cell_type": "markdown",
   "metadata": {},
   "source": [
    "\n",
    "\n",
    "### Create the Feature Columns for tf.esitmator\n",
    "\n",
    "** Take note of categorical vs continuous values! **"
   ]
  },
  {
   "cell_type": "code",
   "execution_count": null,
   "metadata": {},
   "outputs": [],
   "source": []
  },
  {
   "cell_type": "markdown",
   "metadata": {},
   "source": [
    "** Import Tensorflow **"
   ]
  },
  {
   "cell_type": "code",
   "execution_count": null,
   "metadata": {},
   "outputs": [],
   "source": []
  },
  {
   "cell_type": "markdown",
   "metadata": {
    "collapsed": true
   },
   "source": [
    "** Create the tf.feature_columns for the categorical values. Use vocabulary lists or just use hash buckets. **"
   ]
  },
  {
   "cell_type": "code",
   "execution_count": 330,
   "metadata": {},
   "outputs": [],
   "source": [
    "workclass = tf.feature_column.categorical_column_with_hash_bucket('workclass',hash_bucket_size=1000)\n",
    "education = tf.feature_column.categorical_column_with_hash_bucket('education',hash_bucket_size=1000)\n",
    "marital_status = tf.feature_column.categorical_column_with_hash_bucket('marital_status',hash_bucket_size=1000)\n",
    "occupation = tf.feature_column.categorical_column_with_hash_bucket('occupation',hash_bucket_size=1000)\n",
    "relationship = tf.feature_column.categorical_column_with_hash_bucket('relationship',hash_bucket_size=1000)\n",
    "race = tf.feature_column.categorical_column_with_hash_bucket('race',hash_bucket_size=1000)\n",
    "gender = tf.feature_column.categorical_column_with_hash_bucket('gender',hash_bucket_size=10)\n",
    "native_country = tf.feature_column.categorical_column_with_hash_bucket('native_country',hash_bucket_size=1000)\n"
   ]
  },
  {
   "cell_type": "markdown",
   "metadata": {},
   "source": [
    "** Create the continuous feature_columns for the continuous values using numeric_column **"
   ]
  },
  {
   "cell_type": "code",
   "execution_count": 331,
   "metadata": {},
   "outputs": [],
   "source": [
    "age = tf.feature_column.numeric_column('age')\n",
    "education_num = tf.feature_column.numeric_column('education_num')\n",
    "capital_gain = tf.feature_column.numeric_column('capital_gain')\n",
    "capital_loss = tf.feature_column.numeric_column('capital_loss')\n",
    "hours_per_week = tf.feature_column.numeric_column('hours_per_week')"
   ]
  },
  {
   "cell_type": "markdown",
   "metadata": {},
   "source": [
    "** Put all these variables into a single list with the variable name feat_cols **"
   ]
  },
  {
   "cell_type": "code",
   "execution_count": 332,
   "metadata": {},
   "outputs": [],
   "source": [
    "feat_cols = [age, workclass, education, education_num, marital_status,\n",
    "       occupation, relationship, race, gender, capital_gain,\n",
    "       capital_loss, hours_per_week, native_country]"
   ]
  },
  {
   "cell_type": "markdown",
   "metadata": {},
   "source": [
    "### Create Input Function\n",
    "\n",
    "** Batch_size is up to you. But do make sure to shuffle!**"
   ]
  },
  {
   "cell_type": "code",
   "execution_count": 333,
   "metadata": {},
   "outputs": [],
   "source": [
    "input_func = tf.estimator.inputs.pandas_input_fn(x=X_train,y=y_train,batch_size=100,num_epochs=None,shuffle=True)"
   ]
  },
  {
   "cell_type": "markdown",
   "metadata": {},
   "source": [
    "#### Create your model with tf.estimator\n",
    "\n",
    "**Create a LinearClassifier.(If you want to use a DNNClassifier, keep in mind you'll need to create embedded columns out of the cateogrical feature that use strings, check out the previous lecture on this for more info.)**"
   ]
  },
  {
   "cell_type": "code",
   "execution_count": 334,
   "metadata": {},
   "outputs": [
    {
     "name": "stdout",
     "output_type": "stream",
     "text": [
      "INFO:tensorflow:Using default config.\n",
      "WARNING:tensorflow:Using temporary folder as model directory: /var/folders/q_/7b87rxq97d74fk63y0b6xcy80000gn/T/tmpa5etbq7o\n",
      "INFO:tensorflow:Using config: {'_model_dir': '/var/folders/q_/7b87rxq97d74fk63y0b6xcy80000gn/T/tmpa5etbq7o', '_tf_random_seed': None, '_save_summary_steps': 100, '_save_checkpoints_steps': None, '_save_checkpoints_secs': 600, '_session_config': None, '_keep_checkpoint_max': 5, '_keep_checkpoint_every_n_hours': 10000, '_log_step_count_steps': 100, '_service': None, '_cluster_spec': <tensorflow.python.training.server_lib.ClusterSpec object at 0x1a1fe35f98>, '_task_type': 'worker', '_task_id': 0, '_master': '', '_is_chief': True, '_num_ps_replicas': 0, '_num_worker_replicas': 1}\n"
     ]
    }
   ],
   "source": [
    "model = tf.estimator.LinearClassifier(feature_columns=feat_cols,n_classes=2)"
   ]
  },
  {
   "cell_type": "markdown",
   "metadata": {},
   "source": [
    "** Train your model on the data, for at least 5000 steps. **"
   ]
  },
  {
   "cell_type": "code",
   "execution_count": 335,
   "metadata": {},
   "outputs": [
    {
     "name": "stdout",
     "output_type": "stream",
     "text": [
      "INFO:tensorflow:Create CheckpointSaverHook.\n",
      "INFO:tensorflow:Saving checkpoints for 1 into /var/folders/q_/7b87rxq97d74fk63y0b6xcy80000gn/T/tmpa5etbq7o/model.ckpt.\n",
      "INFO:tensorflow:loss = 69.31474, step = 1\n",
      "INFO:tensorflow:global_step/sec: 192.433\n",
      "INFO:tensorflow:loss = 0.00035486039, step = 101 (0.521 sec)\n",
      "INFO:tensorflow:global_step/sec: 264.805\n",
      "INFO:tensorflow:loss = 3.6905472e-05, step = 201 (0.379 sec)\n",
      "INFO:tensorflow:global_step/sec: 292.112\n",
      "INFO:tensorflow:loss = 6.332671e-05, step = 301 (0.343 sec)\n",
      "INFO:tensorflow:global_step/sec: 299.829\n",
      "INFO:tensorflow:loss = 0.00060355786, step = 401 (0.334 sec)\n",
      "INFO:tensorflow:global_step/sec: 344.996\n",
      "INFO:tensorflow:loss = 0.0002679027, step = 501 (0.290 sec)\n",
      "INFO:tensorflow:global_step/sec: 261.138\n",
      "INFO:tensorflow:loss = 5.5205506e-05, step = 601 (0.381 sec)\n",
      "INFO:tensorflow:global_step/sec: 262.962\n",
      "INFO:tensorflow:loss = 0.00017909532, step = 701 (0.381 sec)\n",
      "INFO:tensorflow:global_step/sec: 327.915\n",
      "INFO:tensorflow:loss = 0.00012366571, step = 801 (0.306 sec)\n",
      "INFO:tensorflow:global_step/sec: 262.759\n",
      "INFO:tensorflow:loss = 0.00010506217, step = 901 (0.379 sec)\n",
      "INFO:tensorflow:global_step/sec: 347.101\n",
      "INFO:tensorflow:loss = 0.0001078564, step = 1001 (0.290 sec)\n",
      "INFO:tensorflow:global_step/sec: 315.488\n",
      "INFO:tensorflow:loss = 5.261989e-06, step = 1101 (0.317 sec)\n",
      "INFO:tensorflow:global_step/sec: 265.971\n",
      "INFO:tensorflow:loss = 0.00035508056, step = 1201 (0.377 sec)\n",
      "INFO:tensorflow:global_step/sec: 263.774\n",
      "INFO:tensorflow:loss = 4.8439048e-05, step = 1301 (0.378 sec)\n",
      "INFO:tensorflow:global_step/sec: 322.856\n",
      "INFO:tensorflow:loss = 7.299482e-05, step = 1401 (0.310 sec)\n",
      "INFO:tensorflow:global_step/sec: 351.179\n",
      "INFO:tensorflow:loss = 6.892047e-05, step = 1501 (0.285 sec)\n",
      "INFO:tensorflow:global_step/sec: 322.813\n",
      "INFO:tensorflow:loss = 0.00010204307, step = 1601 (0.312 sec)\n",
      "INFO:tensorflow:global_step/sec: 348.598\n",
      "INFO:tensorflow:loss = 0.0003385248, step = 1701 (0.286 sec)\n",
      "INFO:tensorflow:global_step/sec: 365.748\n",
      "INFO:tensorflow:loss = 7.412107e-06, step = 1801 (0.274 sec)\n",
      "INFO:tensorflow:global_step/sec: 329.161\n",
      "INFO:tensorflow:loss = 2.526549e-05, step = 1901 (0.303 sec)\n",
      "INFO:tensorflow:global_step/sec: 346.873\n",
      "INFO:tensorflow:loss = 0.0001893299, step = 2001 (0.288 sec)\n",
      "INFO:tensorflow:global_step/sec: 342.53\n",
      "INFO:tensorflow:loss = 1.5307729e-05, step = 2101 (0.292 sec)\n",
      "INFO:tensorflow:global_step/sec: 300.846\n",
      "INFO:tensorflow:loss = 0.00058746594, step = 2201 (0.331 sec)\n",
      "INFO:tensorflow:global_step/sec: 338.166\n",
      "INFO:tensorflow:loss = 0.00021912502, step = 2301 (0.297 sec)\n",
      "INFO:tensorflow:global_step/sec: 255.209\n",
      "INFO:tensorflow:loss = 0.0004376581, step = 2401 (0.390 sec)\n",
      "INFO:tensorflow:global_step/sec: 338.463\n",
      "INFO:tensorflow:loss = 0.00013745876, step = 2501 (0.296 sec)\n",
      "INFO:tensorflow:global_step/sec: 355.2\n",
      "INFO:tensorflow:loss = 0.00015474063, step = 2601 (0.283 sec)\n",
      "INFO:tensorflow:global_step/sec: 358.098\n",
      "INFO:tensorflow:loss = 0.00028257555, step = 2701 (0.278 sec)\n",
      "INFO:tensorflow:global_step/sec: 250.937\n",
      "INFO:tensorflow:loss = 0.00012782379, step = 2801 (0.398 sec)\n",
      "INFO:tensorflow:global_step/sec: 283.216\n",
      "INFO:tensorflow:loss = 1.671609e-05, step = 2901 (0.355 sec)\n",
      "INFO:tensorflow:global_step/sec: 367.068\n",
      "INFO:tensorflow:loss = 3.05287e-05, step = 3001 (0.273 sec)\n",
      "INFO:tensorflow:global_step/sec: 300.584\n",
      "INFO:tensorflow:loss = 6.085734e-05, step = 3101 (0.333 sec)\n",
      "INFO:tensorflow:global_step/sec: 247.562\n",
      "INFO:tensorflow:loss = 0.00028200675, step = 3201 (0.402 sec)\n",
      "INFO:tensorflow:global_step/sec: 330.736\n",
      "INFO:tensorflow:loss = 2.3603425e-05, step = 3301 (0.302 sec)\n",
      "INFO:tensorflow:global_step/sec: 342.4\n",
      "INFO:tensorflow:loss = 0.00016654674, step = 3401 (0.292 sec)\n",
      "INFO:tensorflow:global_step/sec: 333.35\n",
      "INFO:tensorflow:loss = 0.0007090387, step = 3501 (0.302 sec)\n",
      "INFO:tensorflow:global_step/sec: 360.106\n",
      "INFO:tensorflow:loss = 0.00022332428, step = 3601 (0.278 sec)\n",
      "INFO:tensorflow:global_step/sec: 374.7\n",
      "INFO:tensorflow:loss = 5.2743955e-05, step = 3701 (0.267 sec)\n",
      "INFO:tensorflow:global_step/sec: 346.634\n",
      "INFO:tensorflow:loss = 0.000120391494, step = 3801 (0.288 sec)\n",
      "INFO:tensorflow:global_step/sec: 283.204\n",
      "INFO:tensorflow:loss = 0.00016638401, step = 3901 (0.352 sec)\n",
      "INFO:tensorflow:global_step/sec: 343.594\n",
      "INFO:tensorflow:loss = 0.00019014714, step = 4001 (0.292 sec)\n",
      "INFO:tensorflow:global_step/sec: 275.497\n",
      "INFO:tensorflow:loss = 3.9694034e-05, step = 4101 (0.363 sec)\n",
      "INFO:tensorflow:global_step/sec: 312.714\n",
      "INFO:tensorflow:loss = 0.00016885158, step = 4201 (0.319 sec)\n",
      "INFO:tensorflow:global_step/sec: 348.613\n",
      "INFO:tensorflow:loss = 0.00013688122, step = 4301 (0.286 sec)\n",
      "INFO:tensorflow:global_step/sec: 346.379\n",
      "INFO:tensorflow:loss = 3.0980063e-05, step = 4401 (0.289 sec)\n",
      "INFO:tensorflow:global_step/sec: 358.458\n",
      "INFO:tensorflow:loss = 2.172777e-05, step = 4501 (0.280 sec)\n",
      "INFO:tensorflow:global_step/sec: 348.347\n",
      "INFO:tensorflow:loss = 0.00074101484, step = 4601 (0.287 sec)\n",
      "INFO:tensorflow:global_step/sec: 285.804\n",
      "INFO:tensorflow:loss = 0.00057533826, step = 4701 (0.351 sec)\n",
      "INFO:tensorflow:global_step/sec: 316.423\n",
      "INFO:tensorflow:loss = 3.1545118e-05, step = 4801 (0.315 sec)\n",
      "INFO:tensorflow:global_step/sec: 314.556\n",
      "INFO:tensorflow:loss = 8.267825e-05, step = 4901 (0.318 sec)\n",
      "INFO:tensorflow:Saving checkpoints for 5000 into /var/folders/q_/7b87rxq97d74fk63y0b6xcy80000gn/T/tmpa5etbq7o/model.ckpt.\n",
      "INFO:tensorflow:Loss for final step: 0.0002136573.\n"
     ]
    },
    {
     "data": {
      "text/plain": [
       "<tensorflow.python.estimator.canned.linear.LinearClassifier at 0x1a1fe28470>"
      ]
     },
     "execution_count": 335,
     "metadata": {},
     "output_type": "execute_result"
    }
   ],
   "source": [
    "model.train(input_fn=input_func,steps=5000)"
   ]
  },
  {
   "cell_type": "markdown",
   "metadata": {},
   "source": [
    "### Evaluation\n",
    "\n",
    "** Create a prediction input function. Remember to only supprt X_test data and keep shuffle=False. **"
   ]
  },
  {
   "cell_type": "code",
   "execution_count": 336,
   "metadata": {},
   "outputs": [],
   "source": [
    "pred_fn = tf.estimator.inputs.pandas_input_fn(x=X_test,batch_size=len(X_test),shuffle=False)"
   ]
  },
  {
   "cell_type": "code",
   "execution_count": 337,
   "metadata": {},
   "outputs": [],
   "source": [
    "#evaluation_input_func = tf.estimator.inputs.pandas_input_fn(x=X_test,y=y_test,batch_size=len(X_test),num_epochs=None,shuffle=False)"
   ]
  },
  {
   "cell_type": "markdown",
   "metadata": {},
   "source": [
    "** Use model.predict() and pass in your input function. This will produce a generator of predictions, which you can then transform into a list, with list() **"
   ]
  },
  {
   "cell_type": "code",
   "execution_count": 338,
   "metadata": {},
   "outputs": [
    {
     "name": "stdout",
     "output_type": "stream",
     "text": [
      "INFO:tensorflow:Restoring parameters from /var/folders/q_/7b87rxq97d74fk63y0b6xcy80000gn/T/tmpa5etbq7o/model.ckpt-5000\n"
     ]
    }
   ],
   "source": [
    "predictions = list(model.predict(input_fn=pred_fn))"
   ]
  },
  {
   "cell_type": "code",
   "execution_count": 347,
   "metadata": {},
   "outputs": [
    {
     "name": "stdout",
     "output_type": "stream",
     "text": [
      "INFO:tensorflow:Starting evaluation at 2018-03-18-13:04:42\n",
      "INFO:tensorflow:Restoring parameters from /var/folders/q_/7b87rxq97d74fk63y0b6xcy80000gn/T/tmpa5etbq7o/model.ckpt-5000\n",
      "INFO:tensorflow:Finished evaluation at 2018-03-18-13:04:43\n",
      "INFO:tensorflow:Saving dict for global step 5000: accuracy = 1.0, accuracy_baseline = 1.0, auc = 0.0, auc_precision_recall = 1.0, average_loss = 1.7344979e-06, global_step = 5000, label/mean = 1.0, loss = 0.01694431, prediction/mean = 0.9999988\n"
     ]
    },
    {
     "data": {
      "text/plain": [
       "{'accuracy': 1.0,\n",
       " 'accuracy_baseline': 1.0,\n",
       " 'auc': 0.0,\n",
       " 'auc_precision_recall': 1.0,\n",
       " 'average_loss': 1.7344979e-06,\n",
       " 'global_step': 5000,\n",
       " 'label/mean': 1.0,\n",
       " 'loss': 0.01694431,\n",
       " 'prediction/mean': 0.9999988}"
      ]
     },
     "execution_count": 347,
     "metadata": {},
     "output_type": "execute_result"
    }
   ],
   "source": [
    "eva_fn = tf.estimator.inputs.pandas_input_fn(x=X_test,y=y_test,batch_size=len(X_test),shuffle=False)\n",
    "model.evaluate(eva_fn)"
   ]
  },
  {
   "cell_type": "code",
   "execution_count": 340,
   "metadata": {},
   "outputs": [
    {
     "data": {
      "text/plain": [
       "list"
      ]
     },
     "execution_count": 340,
     "metadata": {},
     "output_type": "execute_result"
    }
   ],
   "source": [
    "type(predictions)"
   ]
  },
  {
   "cell_type": "markdown",
   "metadata": {},
   "source": [
    "** Each item in your list will look like this: **"
   ]
  },
  {
   "cell_type": "code",
   "execution_count": 341,
   "metadata": {},
   "outputs": [
    {
     "data": {
      "text/plain": [
       "{'class_ids': array([1]),\n",
       " 'classes': array([b'1'], dtype=object),\n",
       " 'logistic': array([1.], dtype=float32),\n",
       " 'logits': array([21.99997], dtype=float32),\n",
       " 'probabilities': array([2.7895533e-10, 1.0000000e+00], dtype=float32)}"
      ]
     },
     "execution_count": 341,
     "metadata": {},
     "output_type": "execute_result"
    }
   ],
   "source": [
    "predictions[0]"
   ]
  },
  {
   "cell_type": "code",
   "execution_count": 342,
   "metadata": {},
   "outputs": [
    {
     "data": {
      "text/plain": [
       "1"
      ]
     },
     "execution_count": 342,
     "metadata": {},
     "output_type": "execute_result"
    }
   ],
   "source": [
    "predictions[0]['class_ids'][0]"
   ]
  },
  {
   "cell_type": "markdown",
   "metadata": {},
   "source": [
    "** Create a list of only the class_ids key values from the prediction list of dictionaries, these are the predictions you will use to compare against the real y_test values. **"
   ]
  },
  {
   "cell_type": "code",
   "execution_count": 343,
   "metadata": {},
   "outputs": [],
   "source": [
    "result = []\n",
    "for pred in predictions:\n",
    "    result.append(pred['class_ids'][0])"
   ]
  },
  {
   "cell_type": "code",
   "execution_count": 344,
   "metadata": {},
   "outputs": [
    {
     "data": {
      "text/plain": [
       "[1, 1, 1, 1, 1, 1, 1, 1, 1, 1]"
      ]
     },
     "execution_count": 344,
     "metadata": {},
     "output_type": "execute_result"
    }
   ],
   "source": [
    "result[:10]"
   ]
  },
  {
   "cell_type": "markdown",
   "metadata": {},
   "source": [
    "** Import classification_report from sklearn.metrics and then see if you can figure out how to use it to easily get a full report of your model's performance on the test data. **"
   ]
  },
  {
   "cell_type": "code",
   "execution_count": 345,
   "metadata": {},
   "outputs": [],
   "source": [
    "from sklearn.metrics import classification_report"
   ]
  },
  {
   "cell_type": "code",
   "execution_count": 346,
   "metadata": {},
   "outputs": [
    {
     "name": "stdout",
     "output_type": "stream",
     "text": [
      "             precision    recall  f1-score   support\n",
      "\n",
      "          1       1.00      1.00      1.00      9769\n",
      "\n",
      "avg / total       1.00      1.00      1.00      9769\n",
      "\n"
     ]
    }
   ],
   "source": [
    "print(classification_report(y_test,result))"
   ]
  },
  {
   "cell_type": "markdown",
   "metadata": {
    "collapsed": true
   },
   "source": [
    "# Great Job!"
   ]
  },
  {
   "cell_type": "code",
   "execution_count": null,
   "metadata": {},
   "outputs": [],
   "source": []
  },
  {
   "cell_type": "code",
   "execution_count": null,
   "metadata": {},
   "outputs": [],
   "source": []
  },
  {
   "cell_type": "code",
   "execution_count": null,
   "metadata": {},
   "outputs": [],
   "source": []
  },
  {
   "cell_type": "code",
   "execution_count": null,
   "metadata": {},
   "outputs": [],
   "source": []
  },
  {
   "cell_type": "code",
   "execution_count": null,
   "metadata": {},
   "outputs": [],
   "source": []
  },
  {
   "cell_type": "code",
   "execution_count": null,
   "metadata": {},
   "outputs": [],
   "source": []
  },
  {
   "cell_type": "code",
   "execution_count": null,
   "metadata": {},
   "outputs": [],
   "source": []
  },
  {
   "cell_type": "code",
   "execution_count": null,
   "metadata": {},
   "outputs": [],
   "source": []
  },
  {
   "cell_type": "code",
   "execution_count": null,
   "metadata": {},
   "outputs": [],
   "source": []
  },
  {
   "cell_type": "code",
   "execution_count": null,
   "metadata": {},
   "outputs": [],
   "source": []
  },
  {
   "cell_type": "code",
   "execution_count": null,
   "metadata": {},
   "outputs": [],
   "source": []
  }
 ],
 "metadata": {
  "kernelspec": {
   "display_name": "Python (spinningup)",
   "language": "python",
   "name": "spinningup"
  },
  "language_info": {
   "codemirror_mode": {
    "name": "ipython",
    "version": 3
   },
   "file_extension": ".py",
   "mimetype": "text/x-python",
   "name": "python",
   "nbconvert_exporter": "python",
   "pygments_lexer": "ipython3",
   "version": "3.6.8"
  }
 },
 "nbformat": 4,
 "nbformat_minor": 2
}