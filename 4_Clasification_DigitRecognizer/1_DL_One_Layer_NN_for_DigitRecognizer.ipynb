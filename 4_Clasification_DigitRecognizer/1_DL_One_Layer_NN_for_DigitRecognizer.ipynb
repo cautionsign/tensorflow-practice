{
  "cells": [
    {
      "cell_type": "markdown",
      "metadata": {
        "colab_type": "text",
        "id": "JS6jP7tpCrLr"
      },
      "source": [
        "## Digit Recognizer\n",
        "Learn computer vision fundamentals with the famous MNIST dat\n",
        "\n",
        "https://www.kaggle.com/c/digit-recognizer\n",
        "\n",
        "### Competition Description\n",
        "MNIST (\"Modified National Institute of Standards and Technology\") is the de facto “hello world” dataset of computer vision. Since its release in 1999, this classic dataset of handwritten images has served as the basis for benchmarking classification algorithms. As new machine learning techniques emerge, MNIST remains a reliable resource for researchers and learners alike.\n",
        "\n",
        "In this competition, your goal is to correctly identify digits from a dataset of tens of thousands of handwritten images. We’ve curated a set of tutorial-style kernels which cover everything from regression to neural networks. We encourage you to experiment with different algorithms to learn first-hand what works well and how techniques compare.\n",
        "\n",
        "### Practice Skills\n",
        "Computer vision fundamentals including simple neural networks\n",
        "\n",
        "Classification methods such as SVM and K-nearest neighbors\n",
        "\n",
        "#### Acknowledgements \n",
        "More details about the dataset, including algorithms that have been tried on it and their levels of success, can be found at http://yann.lecun.com/exdb/mnist/index.html. The dataset is made available under a Creative Commons Attribution-Share Alike 3.0 license."
      ]
    },
    {
      "cell_type": "code",
      "execution_count": null,
      "metadata": {},
      "outputs": [],
      "source": [
        "# Select tensorflow 1.x (colab only)\n",
        "%tensorflow_version 1.x"
      ]
    },
    {
      "cell_type": "code",
      "execution_count": 0,
      "metadata": {
        "colab": {},
        "colab_type": "code",
        "id": "LgcAAVmXgBPm"
      },
      "outputs": [],
      "source": [
        "import pandas as pd\n",
        "import math\n",
        "import numpy as np\n",
        "import matplotlib.pyplot as plt, matplotlib.image as mpimg\n",
        "from sklearn.model_selection import train_test_split\n",
        "import tensorflow as tf\n",
        "%matplotlib inline"
      ]
    },
    {
      "cell_type": "code",
      "execution_count": 0,
      "metadata": {
        "colab": {},
        "colab_type": "code",
        "id": "EITzxKZRgBPy"
      },
      "outputs": [],
      "source": [
        "from tensorflow import keras\n",
        "from tensorflow.keras import models\n",
        "from tensorflow.keras import losses,optimizers,metrics\n",
        "from tensorflow.keras import layers"
      ]
    },
    {
      "cell_type": "markdown",
      "metadata": {
        "colab_type": "text",
        "id": "4PihLjAggBP1"
      },
      "source": [
        "## Data Preparation"
      ]
    },
    {
      "cell_type": "code",
      "execution_count": 230,
      "metadata": {
        "colab": {
          "base_uri": "https://localhost:8080/",
          "height": 54
        },
        "colab_type": "code",
        "id": "cra90fdEsmsI",
        "outputId": "9b0f8661-e512-40d2-dc4c-20d61f675e5f"
      },
      "outputs": [
        {
          "name": "stdout",
          "output_type": "stream",
          "text": [
            "Drive already mounted at /content/gdrive; to attempt to forcibly remount, call drive.mount(\"/content/gdrive\", force_remount=True).\n"
          ]
        }
      ],
      "source": [
        "from google.colab import drive \n",
        "drive.mount('/content/gdrive')"
      ]
    },
    {
      "cell_type": "code",
      "execution_count": 0,
      "metadata": {
        "colab": {},
        "colab_type": "code",
        "id": "K58DeQH2gBP2"
      },
      "outputs": [],
      "source": [
        "labeled_images = pd.read_csv('gdrive/My Drive/dataML/train.csv')\n",
        "#labeled_images = pd.read_csv('train.csv')\n",
        "images = labeled_images.iloc[:,1:]\n",
        "labels = labeled_images.iloc[:,:1]\n",
        "train_images, test_images,train_labels, test_labels = train_test_split(images, labels, test_size=0.01)"
      ]
    },
    {
      "cell_type": "code",
      "execution_count": 232,
      "metadata": {
        "colab": {
          "base_uri": "https://localhost:8080/",
          "height": 85
        },
        "colab_type": "code",
        "id": "At9soAW0qOs4",
        "outputId": "bf6f9b5b-32ed-4fe6-96a7-5e4e8a7f1bd6"
      },
      "outputs": [
        {
          "name": "stdout",
          "output_type": "stream",
          "text": [
            "(41580, 784)\n",
            "(41580, 1)\n",
            "(420, 784)\n",
            "(420, 1)\n"
          ]
        }
      ],
      "source": [
        "print(train_images.shape)\n",
        "print(train_labels.shape)\n",
        "print(test_images.shape)\n",
        "print(test_labels.shape)"
      ]
    },
    {
      "cell_type": "markdown",
      "metadata": {
        "colab_type": "text",
        "id": "f87cEn1_xfqI"
      },
      "source": [
        "## Keras"
      ]
    },
    {
      "cell_type": "markdown",
      "metadata": {
        "colab_type": "text",
        "id": "UfkBgDM1gBP5"
      },
      "source": [
        "#### convert the data to the right type"
      ]
    },
    {
      "cell_type": "code",
      "execution_count": 0,
      "metadata": {
        "colab": {},
        "colab_type": "code",
        "id": "-X3Uu-o_gBP6"
      },
      "outputs": [],
      "source": [
        "x_train = train_images.values.reshape(train_images.shape[0],28,28,1)\n",
        "x_test = test_images.values.reshape(test_images.shape[0],28,28,1)\n",
        "y_train = train_labels.values\n",
        "y_test = test_labels.values"
      ]
    },
    {
      "cell_type": "code",
      "execution_count": 0,
      "metadata": {
        "colab": {},
        "colab_type": "code",
        "id": "7vboLIlsgBP9"
      },
      "outputs": [],
      "source": [
        "plt.imshow(x_train[12].squeeze())"
      ]
    },
    {
      "cell_type": "markdown",
      "metadata": {
        "colab_type": "text",
        "id": "b6I1adl5gBQD"
      },
      "source": [
        "#### convert the data to the right type"
      ]
    },
    {
      "cell_type": "code",
      "execution_count": 107,
      "metadata": {
        "colab": {
          "base_uri": "https://localhost:8080/",
          "height": 68
        },
        "colab_type": "code",
        "id": "GAIvNCv6gBQE",
        "outputId": "cd0ed9cc-9597-49e9-805c-7ca8276d9d75"
      },
      "outputs": [
        {
          "name": "stdout",
          "output_type": "stream",
          "text": [
            "x_train shape: (41580, 784)\n",
            "41580 train samples\n",
            "420 test samples\n"
          ]
        }
      ],
      "source": [
        "x_train = train_images\n",
        "x_test = test_images\n",
        "x_train /= 255\n",
        "x_test /= 255\n",
        "y_train = train_labels\n",
        "y_test = test_labels\n",
        "print('x_train shape:', x_train.shape)\n",
        "print(x_train.shape[0], 'train samples')\n",
        "print(x_test.shape[0], 'test samples')"
      ]
    },
    {
      "cell_type": "markdown",
      "metadata": {
        "colab_type": "text",
        "collapsed": true,
        "id": "xeMZR7ntgBQI"
      },
      "source": [
        "### convert class vectors to binary class matrices - this is for use in the\n",
        "### categorical_crossentropy loss below"
      ]
    },
    {
      "cell_type": "code",
      "execution_count": 0,
      "metadata": {
        "colab": {},
        "colab_type": "code",
        "id": "8e2qjHPLgBQJ"
      },
      "outputs": [],
      "source": [
        "y_train = keras.utils.to_categorical(y_train)\n",
        "y_test = keras.utils.to_categorical(y_test)"
      ]
    },
    {
      "cell_type": "markdown",
      "metadata": {
        "colab_type": "text",
        "id": "LT78eGccgBQN"
      },
      "source": [
        "### Creating the Model\n"
      ]
    },
    {
      "cell_type": "code",
      "execution_count": 109,
      "metadata": {
        "colab": {
          "base_uri": "https://localhost:8080/",
          "height": 170
        },
        "colab_type": "code",
        "id": "AMOStnPCFWSI",
        "outputId": "4abba544-ab01-4992-be57-e56ac0d5cf82"
      },
      "outputs": [
        {
          "name": "stdout",
          "output_type": "stream",
          "text": [
            "_________________________________________________________________\n",
            "Layer (type)                 Output Shape              Param #   \n",
            "=================================================================\n",
            "dense_21 (Dense)             (None, 10)                7850      \n",
            "=================================================================\n",
            "Total params: 7,850\n",
            "Trainable params: 7,850\n",
            "Non-trainable params: 0\n",
            "_________________________________________________________________\n"
          ]
        }
      ],
      "source": [
        "model = models.Sequential()\n",
        "\n",
        "model.add(layers.Dense(units=10, activation='softmax',input_shape=(784,)))\n",
        "# model.add(layers.Dense(units=10, activation='softmax'))\n",
        "\n",
        "model.summary()          "
      ]
    },
    {
      "cell_type": "code",
      "execution_count": 0,
      "metadata": {
        "colab": {},
        "colab_type": "code",
        "id": "BLdOV8vYgBQS"
      },
      "outputs": [],
      "source": [
        "model.compile(loss=keras.losses.categorical_crossentropy, \n",
        "              optimizer=keras.optimizers.Adam(0.001), \n",
        "              metrics=['accuracy'])"
      ]
    },
    {
      "cell_type": "code",
      "execution_count": 111,
      "metadata": {
        "colab": {
          "base_uri": "https://localhost:8080/",
          "height": 3454
        },
        "colab_type": "code",
        "id": "pxI5Gi4xgBQV",
        "outputId": "eaac424d-5b99-4307-e9f8-59b71f2aa0ca"
      },
      "outputs": [
        {
          "name": "stdout",
          "output_type": "stream",
          "text": [
            "Train on 41580 samples, validate on 420 samples\n",
            "Epoch 1/100\n",
            "41580/41580 [==============================] - 3s 80us/sample - loss: 0.7068 - acc: 0.8258 - val_loss: 0.4065 - val_acc: 0.9167\n",
            "Epoch 2/100\n",
            "41580/41580 [==============================] - 3s 70us/sample - loss: 0.3731 - acc: 0.8997 - val_loss: 0.3354 - val_acc: 0.9143\n",
            "Epoch 3/100\n",
            "41580/41580 [==============================] - 3s 70us/sample - loss: 0.3254 - acc: 0.9101 - val_loss: 0.3152 - val_acc: 0.9119\n",
            "Epoch 4/100\n",
            "41580/41580 [==============================] - 3s 70us/sample - loss: 0.3023 - acc: 0.9159 - val_loss: 0.3009 - val_acc: 0.9143\n",
            "Epoch 5/100\n",
            "41580/41580 [==============================] - 3s 69us/sample - loss: 0.2886 - acc: 0.9200 - val_loss: 0.2944 - val_acc: 0.9167\n",
            "Epoch 6/100\n",
            "41580/41580 [==============================] - 3s 70us/sample - loss: 0.2786 - acc: 0.9230 - val_loss: 0.2904 - val_acc: 0.9238\n",
            "Epoch 7/100\n",
            "41580/41580 [==============================] - 3s 70us/sample - loss: 0.2718 - acc: 0.9251 - val_loss: 0.2915 - val_acc: 0.9214\n",
            "Epoch 8/100\n",
            "41580/41580 [==============================] - 3s 70us/sample - loss: 0.2655 - acc: 0.9259 - val_loss: 0.2856 - val_acc: 0.9119\n",
            "Epoch 9/100\n",
            "41580/41580 [==============================] - 3s 69us/sample - loss: 0.2616 - acc: 0.9265 - val_loss: 0.2863 - val_acc: 0.9190\n",
            "Epoch 10/100\n",
            "41580/41580 [==============================] - 3s 69us/sample - loss: 0.2573 - acc: 0.9272 - val_loss: 0.2851 - val_acc: 0.9143\n",
            "Epoch 11/100\n",
            "41580/41580 [==============================] - 3s 69us/sample - loss: 0.2539 - acc: 0.9282 - val_loss: 0.2832 - val_acc: 0.9143\n",
            "Epoch 12/100\n",
            "41580/41580 [==============================] - 3s 70us/sample - loss: 0.2512 - acc: 0.9290 - val_loss: 0.2813 - val_acc: 0.9190\n",
            "Epoch 13/100\n",
            "41580/41580 [==============================] - 3s 70us/sample - loss: 0.2486 - acc: 0.9303 - val_loss: 0.2882 - val_acc: 0.9190\n",
            "Epoch 14/100\n",
            "41580/41580 [==============================] - 3s 70us/sample - loss: 0.2463 - acc: 0.9310 - val_loss: 0.2830 - val_acc: 0.9190\n",
            "Epoch 15/100\n",
            "41580/41580 [==============================] - 3s 69us/sample - loss: 0.2442 - acc: 0.9307 - val_loss: 0.2841 - val_acc: 0.9143\n",
            "Epoch 16/100\n",
            "41580/41580 [==============================] - 3s 69us/sample - loss: 0.2426 - acc: 0.9322 - val_loss: 0.2840 - val_acc: 0.9167\n",
            "Epoch 17/100\n",
            "41580/41580 [==============================] - 3s 70us/sample - loss: 0.2404 - acc: 0.9326 - val_loss: 0.2887 - val_acc: 0.9214\n",
            "Epoch 18/100\n",
            "41580/41580 [==============================] - 3s 71us/sample - loss: 0.2387 - acc: 0.9335 - val_loss: 0.2840 - val_acc: 0.9214\n",
            "Epoch 19/100\n",
            "41580/41580 [==============================] - 3s 70us/sample - loss: 0.2374 - acc: 0.9336 - val_loss: 0.2804 - val_acc: 0.9167\n",
            "Epoch 20/100\n",
            "41580/41580 [==============================] - 3s 70us/sample - loss: 0.2364 - acc: 0.9332 - val_loss: 0.2828 - val_acc: 0.9190\n",
            "Epoch 21/100\n",
            "41580/41580 [==============================] - 3s 70us/sample - loss: 0.2351 - acc: 0.9337 - val_loss: 0.2811 - val_acc: 0.9190\n",
            "Epoch 22/100\n",
            "41580/41580 [==============================] - 3s 69us/sample - loss: 0.2336 - acc: 0.9342 - val_loss: 0.2789 - val_acc: 0.9190\n",
            "Epoch 23/100\n",
            "41580/41580 [==============================] - 3s 70us/sample - loss: 0.2327 - acc: 0.9350 - val_loss: 0.2795 - val_acc: 0.9238\n",
            "Epoch 24/100\n",
            "41580/41580 [==============================] - 3s 70us/sample - loss: 0.2314 - acc: 0.9352 - val_loss: 0.2845 - val_acc: 0.9190\n",
            "Epoch 25/100\n",
            "41580/41580 [==============================] - 3s 70us/sample - loss: 0.2310 - acc: 0.9347 - val_loss: 0.2836 - val_acc: 0.9119\n",
            "Epoch 26/100\n",
            "41580/41580 [==============================] - 3s 69us/sample - loss: 0.2296 - acc: 0.9361 - val_loss: 0.2770 - val_acc: 0.9214\n",
            "Epoch 27/100\n",
            "41580/41580 [==============================] - 3s 70us/sample - loss: 0.2288 - acc: 0.9354 - val_loss: 0.2823 - val_acc: 0.9214\n",
            "Epoch 28/100\n",
            "41580/41580 [==============================] - 3s 70us/sample - loss: 0.2278 - acc: 0.9357 - val_loss: 0.2819 - val_acc: 0.9167\n",
            "Epoch 29/100\n",
            "41580/41580 [==============================] - 3s 70us/sample - loss: 0.2271 - acc: 0.9367 - val_loss: 0.2834 - val_acc: 0.9119\n",
            "Epoch 30/100\n",
            "41580/41580 [==============================] - 3s 70us/sample - loss: 0.2270 - acc: 0.9353 - val_loss: 0.2821 - val_acc: 0.9214\n",
            "Epoch 31/100\n",
            "41580/41580 [==============================] - 3s 69us/sample - loss: 0.2255 - acc: 0.9366 - val_loss: 0.2836 - val_acc: 0.9167\n",
            "Epoch 32/100\n",
            "41580/41580 [==============================] - 3s 70us/sample - loss: 0.2248 - acc: 0.9368 - val_loss: 0.2824 - val_acc: 0.9167\n",
            "Epoch 33/100\n",
            "41580/41580 [==============================] - 3s 70us/sample - loss: 0.2241 - acc: 0.9365 - val_loss: 0.2868 - val_acc: 0.9119\n",
            "Epoch 34/100\n",
            "41580/41580 [==============================] - 3s 69us/sample - loss: 0.2235 - acc: 0.9368 - val_loss: 0.2847 - val_acc: 0.9119\n",
            "Epoch 35/100\n",
            "41580/41580 [==============================] - 3s 70us/sample - loss: 0.2232 - acc: 0.9370 - val_loss: 0.2809 - val_acc: 0.9190\n",
            "Epoch 36/100\n",
            "41580/41580 [==============================] - 3s 70us/sample - loss: 0.2228 - acc: 0.9374 - val_loss: 0.2825 - val_acc: 0.9119\n",
            "Epoch 37/100\n",
            "41580/41580 [==============================] - 3s 70us/sample - loss: 0.2221 - acc: 0.9370 - val_loss: 0.2825 - val_acc: 0.9167\n",
            "Epoch 38/100\n",
            "41580/41580 [==============================] - 3s 70us/sample - loss: 0.2212 - acc: 0.9376 - val_loss: 0.2802 - val_acc: 0.9214\n",
            "Epoch 39/100\n",
            "41580/41580 [==============================] - 3s 70us/sample - loss: 0.2209 - acc: 0.9373 - val_loss: 0.2912 - val_acc: 0.9143\n",
            "Epoch 40/100\n",
            "41580/41580 [==============================] - 3s 70us/sample - loss: 0.2199 - acc: 0.9382 - val_loss: 0.2846 - val_acc: 0.9190\n",
            "Epoch 41/100\n",
            "41580/41580 [==============================] - 3s 70us/sample - loss: 0.2196 - acc: 0.9384 - val_loss: 0.2870 - val_acc: 0.9143\n",
            "Epoch 42/100\n",
            "41580/41580 [==============================] - 3s 70us/sample - loss: 0.2192 - acc: 0.9379 - val_loss: 0.2806 - val_acc: 0.9214\n",
            "Epoch 43/100\n",
            "41580/41580 [==============================] - 3s 69us/sample - loss: 0.2187 - acc: 0.9391 - val_loss: 0.2854 - val_acc: 0.9119\n",
            "Epoch 44/100\n",
            "41580/41580 [==============================] - 3s 69us/sample - loss: 0.2183 - acc: 0.9388 - val_loss: 0.2879 - val_acc: 0.9095\n",
            "Epoch 45/100\n",
            "41580/41580 [==============================] - 3s 69us/sample - loss: 0.2176 - acc: 0.9380 - val_loss: 0.2850 - val_acc: 0.9143\n",
            "Epoch 46/100\n",
            "41580/41580 [==============================] - 3s 71us/sample - loss: 0.2168 - acc: 0.9394 - val_loss: 0.2861 - val_acc: 0.9167\n",
            "Epoch 47/100\n",
            "41580/41580 [==============================] - 3s 70us/sample - loss: 0.2166 - acc: 0.9391 - val_loss: 0.2890 - val_acc: 0.9071\n",
            "Epoch 48/100\n",
            "41580/41580 [==============================] - 3s 70us/sample - loss: 0.2163 - acc: 0.9384 - val_loss: 0.2872 - val_acc: 0.9167\n",
            "Epoch 49/100\n",
            "41580/41580 [==============================] - 3s 70us/sample - loss: 0.2161 - acc: 0.9396 - val_loss: 0.2864 - val_acc: 0.9119\n",
            "Epoch 50/100\n",
            "41580/41580 [==============================] - 3s 69us/sample - loss: 0.2154 - acc: 0.9394 - val_loss: 0.2903 - val_acc: 0.9190\n",
            "Epoch 51/100\n",
            "41580/41580 [==============================] - 3s 70us/sample - loss: 0.2154 - acc: 0.9397 - val_loss: 0.2847 - val_acc: 0.9143\n",
            "Epoch 52/100\n",
            "41580/41580 [==============================] - 3s 70us/sample - loss: 0.2147 - acc: 0.9400 - val_loss: 0.2870 - val_acc: 0.9167\n",
            "Epoch 53/100\n",
            "41580/41580 [==============================] - 3s 70us/sample - loss: 0.2142 - acc: 0.9394 - val_loss: 0.2858 - val_acc: 0.9143\n",
            "Epoch 54/100\n",
            "41580/41580 [==============================] - 3s 69us/sample - loss: 0.2139 - acc: 0.9402 - val_loss: 0.2866 - val_acc: 0.9119\n",
            "Epoch 55/100\n",
            "41580/41580 [==============================] - 3s 69us/sample - loss: 0.2134 - acc: 0.9405 - val_loss: 0.2863 - val_acc: 0.9167\n",
            "Epoch 56/100\n",
            "41580/41580 [==============================] - 3s 69us/sample - loss: 0.2132 - acc: 0.9398 - val_loss: 0.2913 - val_acc: 0.9143\n",
            "Epoch 57/100\n",
            "41580/41580 [==============================] - 3s 70us/sample - loss: 0.2130 - acc: 0.9404 - val_loss: 0.2887 - val_acc: 0.9190\n",
            "Epoch 58/100\n",
            "41580/41580 [==============================] - 3s 70us/sample - loss: 0.2126 - acc: 0.9401 - val_loss: 0.2884 - val_acc: 0.9143\n",
            "Epoch 59/100\n",
            "41580/41580 [==============================] - 3s 70us/sample - loss: 0.2122 - acc: 0.9402 - val_loss: 0.2932 - val_acc: 0.9095\n",
            "Epoch 60/100\n",
            "41580/41580 [==============================] - 3s 70us/sample - loss: 0.2118 - acc: 0.9398 - val_loss: 0.2870 - val_acc: 0.9190\n",
            "Epoch 61/100\n",
            "41580/41580 [==============================] - 3s 70us/sample - loss: 0.2117 - acc: 0.9404 - val_loss: 0.2911 - val_acc: 0.9143\n",
            "Epoch 62/100\n",
            "41580/41580 [==============================] - 3s 69us/sample - loss: 0.2111 - acc: 0.9406 - val_loss: 0.2909 - val_acc: 0.9143\n",
            "Epoch 63/100\n",
            "41580/41580 [==============================] - 3s 70us/sample - loss: 0.2107 - acc: 0.9405 - val_loss: 0.2941 - val_acc: 0.9095\n",
            "Epoch 64/100\n",
            "41580/41580 [==============================] - 3s 70us/sample - loss: 0.2106 - acc: 0.9406 - val_loss: 0.2949 - val_acc: 0.9143\n",
            "Epoch 65/100\n",
            "41580/41580 [==============================] - 3s 70us/sample - loss: 0.2106 - acc: 0.9404 - val_loss: 0.2898 - val_acc: 0.9095\n",
            "Epoch 66/100\n",
            "41580/41580 [==============================] - 3s 69us/sample - loss: 0.2104 - acc: 0.9406 - val_loss: 0.2918 - val_acc: 0.9143\n",
            "Epoch 67/100\n",
            "41580/41580 [==============================] - 3s 69us/sample - loss: 0.2098 - acc: 0.9410 - val_loss: 0.2921 - val_acc: 0.9119\n",
            "Epoch 68/100\n",
            "41580/41580 [==============================] - 3s 70us/sample - loss: 0.2093 - acc: 0.9408 - val_loss: 0.2880 - val_acc: 0.9095\n",
            "Epoch 69/100\n",
            "41580/41580 [==============================] - 3s 69us/sample - loss: 0.2094 - acc: 0.9409 - val_loss: 0.2878 - val_acc: 0.9095\n",
            "Epoch 70/100\n",
            "41580/41580 [==============================] - 3s 70us/sample - loss: 0.2091 - acc: 0.9411 - val_loss: 0.2863 - val_acc: 0.9143\n",
            "Epoch 71/100\n",
            "41580/41580 [==============================] - 3s 70us/sample - loss: 0.2089 - acc: 0.9407 - val_loss: 0.2921 - val_acc: 0.9095\n",
            "Epoch 72/100\n",
            "41580/41580 [==============================] - 3s 70us/sample - loss: 0.2082 - acc: 0.9418 - val_loss: 0.2885 - val_acc: 0.9143\n",
            "Epoch 73/100\n",
            "41580/41580 [==============================] - 3s 69us/sample - loss: 0.2082 - acc: 0.9413 - val_loss: 0.2960 - val_acc: 0.9071\n",
            "Epoch 74/100\n",
            "41580/41580 [==============================] - 3s 71us/sample - loss: 0.2079 - acc: 0.9411 - val_loss: 0.2927 - val_acc: 0.9071\n",
            "Epoch 75/100\n",
            "41580/41580 [==============================] - 3s 69us/sample - loss: 0.2076 - acc: 0.9413 - val_loss: 0.2918 - val_acc: 0.9071\n",
            "Epoch 76/100\n",
            "41580/41580 [==============================] - 3s 70us/sample - loss: 0.2076 - acc: 0.9416 - val_loss: 0.2896 - val_acc: 0.9119\n",
            "Epoch 77/100\n",
            "41580/41580 [==============================] - 3s 71us/sample - loss: 0.2071 - acc: 0.9420 - val_loss: 0.2946 - val_acc: 0.9167\n",
            "Epoch 78/100\n",
            "41580/41580 [==============================] - 3s 70us/sample - loss: 0.2068 - acc: 0.9416 - val_loss: 0.2946 - val_acc: 0.9143\n",
            "Epoch 79/100\n",
            "41580/41580 [==============================] - 3s 70us/sample - loss: 0.2069 - acc: 0.9417 - val_loss: 0.2914 - val_acc: 0.9071\n",
            "Epoch 80/100\n",
            "41580/41580 [==============================] - 3s 70us/sample - loss: 0.2063 - acc: 0.9414 - val_loss: 0.2945 - val_acc: 0.9119\n",
            "Epoch 81/100\n",
            "41580/41580 [==============================] - 3s 70us/sample - loss: 0.2065 - acc: 0.9422 - val_loss: 0.2945 - val_acc: 0.9143\n",
            "Epoch 82/100\n",
            "41580/41580 [==============================] - 3s 69us/sample - loss: 0.2060 - acc: 0.9415 - val_loss: 0.2927 - val_acc: 0.9071\n",
            "Epoch 83/100\n",
            "41580/41580 [==============================] - 3s 70us/sample - loss: 0.2057 - acc: 0.9420 - val_loss: 0.2927 - val_acc: 0.9119\n",
            "Epoch 84/100\n",
            "41580/41580 [==============================] - 3s 70us/sample - loss: 0.2055 - acc: 0.9421 - val_loss: 0.2992 - val_acc: 0.9048\n",
            "Epoch 85/100\n",
            "41580/41580 [==============================] - 3s 69us/sample - loss: 0.2057 - acc: 0.9421 - val_loss: 0.2919 - val_acc: 0.9167\n",
            "Epoch 86/100\n",
            "41580/41580 [==============================] - 3s 69us/sample - loss: 0.2054 - acc: 0.9415 - val_loss: 0.2943 - val_acc: 0.9095\n",
            "Epoch 87/100\n",
            "41580/41580 [==============================] - 3s 70us/sample - loss: 0.2048 - acc: 0.9424 - val_loss: 0.2959 - val_acc: 0.9048\n",
            "Epoch 88/100\n",
            "41580/41580 [==============================] - 3s 70us/sample - loss: 0.2047 - acc: 0.9430 - val_loss: 0.2943 - val_acc: 0.9071\n",
            "Epoch 89/100\n",
            "41580/41580 [==============================] - 3s 70us/sample - loss: 0.2044 - acc: 0.9419 - val_loss: 0.2975 - val_acc: 0.9048\n",
            "Epoch 90/100\n",
            "41580/41580 [==============================] - 3s 69us/sample - loss: 0.2044 - acc: 0.9425 - val_loss: 0.3014 - val_acc: 0.9071\n",
            "Epoch 91/100\n",
            "41580/41580 [==============================] - 3s 70us/sample - loss: 0.2043 - acc: 0.9418 - val_loss: 0.2973 - val_acc: 0.9048\n",
            "Epoch 92/100\n",
            "41580/41580 [==============================] - 3s 70us/sample - loss: 0.2043 - acc: 0.9421 - val_loss: 0.2982 - val_acc: 0.9119\n",
            "Epoch 93/100\n",
            "41580/41580 [==============================] - 3s 70us/sample - loss: 0.2039 - acc: 0.9428 - val_loss: 0.2977 - val_acc: 0.9095\n",
            "Epoch 94/100\n",
            "41580/41580 [==============================] - 3s 70us/sample - loss: 0.2039 - acc: 0.9426 - val_loss: 0.3007 - val_acc: 0.9048\n",
            "Epoch 95/100\n",
            "41580/41580 [==============================] - 3s 70us/sample - loss: 0.2036 - acc: 0.9424 - val_loss: 0.2996 - val_acc: 0.9071\n",
            "Epoch 96/100\n",
            "41580/41580 [==============================] - 3s 69us/sample - loss: 0.2033 - acc: 0.9424 - val_loss: 0.2975 - val_acc: 0.9048\n",
            "Epoch 97/100\n",
            "41580/41580 [==============================] - 3s 70us/sample - loss: 0.2030 - acc: 0.9429 - val_loss: 0.2969 - val_acc: 0.9071\n",
            "Epoch 98/100\n",
            "41580/41580 [==============================] - 3s 70us/sample - loss: 0.2029 - acc: 0.9425 - val_loss: 0.2995 - val_acc: 0.9000\n",
            "Epoch 99/100\n",
            "41580/41580 [==============================] - 3s 69us/sample - loss: 0.2026 - acc: 0.9429 - val_loss: 0.2997 - val_acc: 0.9119\n",
            "Epoch 100/100\n",
            "41580/41580 [==============================] - 3s 70us/sample - loss: 0.2026 - acc: 0.9427 - val_loss: 0.2989 - val_acc: 0.9071\n"
          ]
        }
      ],
      "source": [
        "H = model.fit(x_train, y_train,\n",
        "          batch_size=100,\n",
        "          epochs=100,\n",
        "          verbose=1,\n",
        "          validation_data=(x_test, y_test))"
      ]
    },
    {
      "cell_type": "code",
      "execution_count": 0,
      "metadata": {
        "colab": {
          "base_uri": "https://localhost:8080/",
          "height": 34
        },
        "colab_type": "code",
        "id": "CHDGYz_Mki4G",
        "outputId": "1b6c61da-3632-4606-e1e0-3c829e1c58a9"
      },
      "outputs": [
        {
          "data": {
            "text/plain": [
              "dict_keys(['loss', 'acc', 'val_loss', 'val_acc'])"
            ]
          },
          "execution_count": 14,
          "metadata": {
            "tags": []
          },
          "output_type": "execute_result"
        }
      ],
      "source": [
        "H.history.keys()"
      ]
    },
    {
      "cell_type": "code",
      "execution_count": 112,
      "metadata": {
        "colab": {
          "base_uri": "https://localhost:8080/",
          "height": 282
        },
        "colab_type": "code",
        "id": "G1s_nCBWk-91",
        "outputId": "b4917a58-50f3-4500-8851-9ba90db6cf34"
      },
      "outputs": [
        {
          "data": {
            "text/plain": [
              "[<matplotlib.lines.Line2D at 0x7fd9762b8ba8>]"
            ]
          },
          "execution_count": 112,
          "metadata": {
            "tags": []
          },
          "output_type": "execute_result"
        },
        {
          "data": {
            "image/png": "[encoded data removed]",
            "text/plain": [
              "<Figure size 432x288 with 1 Axes>"
            ]
          },
          "metadata": {
            "tags": []
          },
          "output_type": "display_data"
        }
      ],
      "source": [
        "plt.plot(H.history['acc'])\n",
        "plt.plot(H.history['val_acc'],'r')"
      ]
    },
    {
      "cell_type": "code",
      "execution_count": 113,
      "metadata": {
        "colab": {
          "base_uri": "https://localhost:8080/",
          "height": 282
        },
        "colab_type": "code",
        "id": "-AGE67k2lGxL",
        "outputId": "e1ce36c6-50c0-4b3a-81ea-4fa7861d5e8b"
      },
      "outputs": [
        {
          "data": {
            "text/plain": [
              "[<matplotlib.lines.Line2D at 0x7fd975d12cc0>]"
            ]
          },
          "execution_count": 113,
          "metadata": {
            "tags": []
          },
          "output_type": "execute_result"
        },
        {
          "data": {
            "image/png": "[encoded data removed]",
            "text/plain": [
              "<Figure size 432x288 with 1 Axes>"
            ]
          },
          "metadata": {
            "tags": []
          },
          "output_type": "display_data"
        }
      ],
      "source": [
        "plt.plot(H.history['loss'])\n",
        "plt.plot(H.history['val_loss'],'r')"
      ]
    },
    {
      "cell_type": "markdown",
      "metadata": {
        "colab_type": "text",
        "id": "4RIGVSojmy-R"
      },
      "source": [
        "### Predict"
      ]
    },
    {
      "cell_type": "code",
      "execution_count": 0,
      "metadata": {
        "colab": {},
        "colab_type": "code",
        "id": "tnigE74rm39a"
      },
      "outputs": [],
      "source": [
        "unlabeled_images_test = pd.read_csv('gdrive/My Drive/dataML/test.csv')\n",
        "#unlabeled_images_test = pd.read_csv('test.csv')"
      ]
    },
    {
      "cell_type": "code",
      "execution_count": 0,
      "metadata": {
        "colab": {},
        "colab_type": "code",
        "id": "3Fotf1KrpXVE"
      },
      "outputs": [],
      "source": [
        "X_unlabeled = unlabeled_images_test.values.reshape(unlabeled_images_test.shape[0],28,28,1)/255"
      ]
    },
    {
      "cell_type": "code",
      "execution_count": 0,
      "metadata": {
        "colab": {},
        "colab_type": "code",
        "id": "jeRnCHzdutQ0"
      },
      "outputs": [],
      "source": [
        "y_pred = model.predict(X_unlabeled)"
      ]
    },
    {
      "cell_type": "code",
      "execution_count": 0,
      "metadata": {
        "colab": {},
        "colab_type": "code",
        "id": "3M_fePteu-3X"
      },
      "outputs": [],
      "source": [
        "y_label = np.argmax(y_pred, axis=1)"
      ]
    },
    {
      "cell_type": "markdown",
      "metadata": {
        "colab_type": "text",
        "id": "RX5PuSUmvRri"
      },
      "source": [
        "### Save csv"
      ]
    },
    {
      "cell_type": "code",
      "execution_count": 0,
      "metadata": {
        "colab": {},
        "colab_type": "code",
        "id": "zU5Q1fSRvVbn"
      },
      "outputs": [],
      "source": [
        "imageId = np.arange(1,y_label.shape[0]+1).tolist()\n",
        "prediction_pd = pd.DataFrame({'ImageId':imageId, 'Label':y_label})\n",
        "prediction_pd.to_csv('gdrive/My Drive/dataML/out_cnn05.csv',sep = ',', index = False)"
      ]
    },
    {
      "cell_type": "markdown",
      "metadata": {
        "colab_type": "text",
        "id": "_qetEX7AgBQY"
      },
      "source": [
        "# Tensorflow"
      ]
    },
    {
      "cell_type": "markdown",
      "metadata": {
        "colab_type": "text",
        "id": "4keUL7d0gBQZ"
      },
      "source": [
        "### Helper functions for batch learning"
      ]
    },
    {
      "cell_type": "code",
      "execution_count": 0,
      "metadata": {
        "colab": {},
        "colab_type": "code",
        "id": "czdbjPfcgBQd"
      },
      "outputs": [],
      "source": [
        "def one_hot_encode(vec, vals=10):\n",
        "    '''\n",
        "    For use to one-hot encode the 10- possible labels\n",
        "    '''\n",
        "    n = len(vec)\n",
        "    out = np.zeros((n, vals))\n",
        "    out[range(n), vec] = 1\n",
        "    return out"
      ]
    },
    {
      "cell_type": "code",
      "execution_count": 0,
      "metadata": {
        "colab": {},
        "colab_type": "code",
        "id": "Afc2XmK2gBQh"
      },
      "outputs": [],
      "source": [
        "class CifarHelper():\n",
        "    \n",
        "    def __init__(self):\n",
        "        self.i = 0\n",
        "        \n",
        "        # Intialize some empty variables for later on\n",
        "        self.training_images = None\n",
        "        self.training_labels = None\n",
        "        \n",
        "        self.test_images = None\n",
        "        self.test_labels = None\n",
        "    \n",
        "    def set_up_images(self):\n",
        "        \n",
        "        print(\"Setting Up Training Images and Labels\")\n",
        "        \n",
        "        # Vertically stacks the training images\n",
        "        self.training_images = train_images.as_matrix()\n",
        "        train_len = self.training_images.shape[0]\n",
        "        \n",
        "        # Reshapes and normalizes training images\n",
        "        self.training_images = self.training_images.reshape(train_len,28,28,1)/255\n",
        "        # One hot Encodes the training labels (e.g. [0,0,0,1,0,0,0,0,0,0])\n",
        "        self.training_labels = one_hot_encode(train_labels.as_matrix().reshape(-1), 10)\n",
        "        \n",
        "        print(\"Setting Up Test Images and Labels\")\n",
        "        \n",
        "        # Vertically stacks the test images\n",
        "        self.test_images = test_images.as_matrix()\n",
        "        test_len = self.test_images.shape[0]\n",
        "        \n",
        "        # Reshapes and normalizes test images\n",
        "        self.test_images = self.test_images.reshape(test_len,28,28,1)/255\n",
        "        # One hot Encodes the test labels (e.g. [0,0,0,1,0,0,0,0,0,0])\n",
        "        self.test_labels = one_hot_encode(test_labels.as_matrix().reshape(-1), 10)\n",
        "\n",
        "        \n",
        "    def next_batch(self, batch_size):\n",
        "        # Note that the 100 dimension in the reshape call is set by an assumed batch size of 100\n",
        "        x = self.training_images[self.i:self.i+batch_size]\n",
        "        y = self.training_labels[self.i:self.i+batch_size]\n",
        "        self.i = (self.i + batch_size) % len(self.training_images)\n",
        "        return x, y"
      ]
    },
    {
      "cell_type": "code",
      "execution_count": 207,
      "metadata": {
        "colab": {
          "base_uri": "https://localhost:8080/",
          "height": 51
        },
        "colab_type": "code",
        "id": "1qAiPT1-gBQp",
        "outputId": "8aaf4220-78b9-481a-d9af-dee6c7e229d3"
      },
      "outputs": [
        {
          "name": "stdout",
          "output_type": "stream",
          "text": [
            "Setting Up Training Images and Labels\n",
            "Setting Up Test Images and Labels\n"
          ]
        }
      ],
      "source": [
        "# Before Your tf.Session run these two lines\n",
        "ch = CifarHelper()\n",
        "ch.set_up_images()\n",
        "\n",
        "# During your session to grab the next batch use this line\n",
        "# (Just like we did for mnist.train.next_batch)\n",
        "# batch = ch.next_batch(100)"
      ]
    },
    {
      "cell_type": "markdown",
      "metadata": {
        "colab_type": "text",
        "id": "QUkUv8sKgBQw"
      },
      "source": [
        "## Creating the Model\n",
        "\n"
      ]
    },
    {
      "cell_type": "markdown",
      "metadata": {
        "colab_type": "text",
        "id": "l1XSMzIpgBQx"
      },
      "source": [
        "** Create 2 placeholders, x and y_true. Their shapes should be: **\n",
        "\n",
        "* X shape = [None,28,28,1]\n",
        "* Y_true shape = [None,10]"
      ]
    },
    {
      "cell_type": "code",
      "execution_count": 0,
      "metadata": {
        "colab": {},
        "colab_type": "code",
        "id": "8Y_4DDQvgBQz"
      },
      "outputs": [],
      "source": [
        "X = tf.placeholder(tf.float32, shape=[None,28,28,1])\n",
        "Y_true = tf.placeholder(tf.float32, shape=[None,10])"
      ]
    },
    {
      "cell_type": "markdown",
      "metadata": {
        "colab_type": "text",
        "id": "5egQVsS4NhxW"
      },
      "source": [
        "### Initialize W and b"
      ]
    },
    {
      "cell_type": "code",
      "execution_count": 0,
      "metadata": {
        "colab": {},
        "colab_type": "code",
        "id": "xiVQdlDsN1W-"
      },
      "outputs": [],
      "source": [
        "W1 = tf.Variable(tf.truncated_normal([784, 10], stddev=0.1))  # 784 = 28 * 28\n",
        "B1 = tf.Variable(tf.ones([10])/10)"
      ]
    },
    {
      "cell_type": "markdown",
      "metadata": {
        "colab_type": "text",
        "id": "u4RDJq8pO_Og"
      },
      "source": [
        "### layers nn"
      ]
    },
    {
      "cell_type": "code",
      "execution_count": 0,
      "metadata": {
        "colab": {},
        "colab_type": "code",
        "id": "x52yDbi6bCMb"
      },
      "outputs": [],
      "source": [
        "XX = tf.reshape(X,[-1,784])"
      ]
    },
    {
      "cell_type": "code",
      "execution_count": 0,
      "metadata": {
        "colab": {},
        "colab_type": "code",
        "id": "DM5_O098O4Di"
      },
      "outputs": [],
      "source": [
        "Ylogits = tf.matmul(XX, W1) + B1\n",
        "Y = tf.nn.softmax(Ylogits)"
      ]
    },
    {
      "cell_type": "markdown",
      "metadata": {
        "colab_type": "text",
        "id": "tT4TvNz-gBRI"
      },
      "source": [
        "### Loss Function"
      ]
    },
    {
      "cell_type": "code",
      "execution_count": 0,
      "metadata": {
        "colab": {},
        "colab_type": "code",
        "id": "wkqQ5GurgBRJ"
      },
      "outputs": [],
      "source": [
        "cross_entropy = -tf.reduce_mean(Y_true * tf.log(Y)) * 1000.0 \n",
        "#cross_entropy = tf.losses.softmax_cross_entropy(onehot_labels = Y_true, logits = Ylogits)"
      ]
    },
    {
      "cell_type": "markdown",
      "metadata": {
        "colab_type": "text",
        "id": "jmnEUVWxgBRM"
      },
      "source": [
        "### Optimizer"
      ]
    },
    {
      "cell_type": "code",
      "execution_count": 0,
      "metadata": {
        "colab": {},
        "colab_type": "code",
        "id": "MoyIlzCagBRN"
      },
      "outputs": [],
      "source": [
        "#optimizer = tf.train.GradientDescentOptimizer(learning_rate = 0.005)\n",
        "optimizer = tf.train.AdamOptimizer(learning_rate=0.001)\n",
        "train = optimizer.minimize(cross_entropy)"
      ]
    },
    {
      "cell_type": "markdown",
      "metadata": {
        "colab_type": "text",
        "id": "47rAzeVNgBRP"
      },
      "source": [
        "### Intialize Variables"
      ]
    },
    {
      "cell_type": "code",
      "execution_count": 0,
      "metadata": {
        "colab": {},
        "colab_type": "code",
        "id": "7WG1AszIgBRQ"
      },
      "outputs": [],
      "source": [
        "init = tf.global_variables_initializer()"
      ]
    },
    {
      "cell_type": "markdown",
      "metadata": {
        "colab_type": "text",
        "id": "rseSYLjggBRb"
      },
      "source": [
        "### Saving the Model"
      ]
    },
    {
      "cell_type": "code",
      "execution_count": 0,
      "metadata": {
        "colab": {},
        "colab_type": "code",
        "id": "OwdUgOG4gBRc"
      },
      "outputs": [],
      "source": [
        "saver = tf.train.Saver()"
      ]
    },
    {
      "cell_type": "markdown",
      "metadata": {
        "colab_type": "text",
        "id": "xGdHTpE0gBRe"
      },
      "source": [
        "## Graph Session\n",
        "\n",
        "** Perform the training and test print outs in a Tf session and run your model! **"
      ]
    },
    {
      "cell_type": "code",
      "execution_count": 253,
      "metadata": {
        "colab": {
          "base_uri": "https://localhost:8080/",
          "height": 15337
        },
        "colab_type": "code",
        "id": "pQHEYbyZgBRf",
        "outputId": "34cf9e7f-46b5-4587-dc12-502a30b7f97d"
      },
      "outputs": [
        {
          "name": "stdout",
          "output_type": "stream",
          "text": [
            "Iteration 0:\tloss_train=230.272629:\tloss_val=230.249054:\tacc_train=0.070000:\tacc_val=0.111905\n",
            "\n",
            "\n",
            "Iteration 100:\tloss_train=228.779739:\tloss_val=228.786118:\tacc_train=0.270000:\tacc_val=0.240476\n",
            "\n",
            "\n",
            "Iteration 200:\tloss_train=227.326981:\tloss_val=227.170975:\tacc_train=0.370000:\tacc_val=0.438095\n",
            "\n",
            "\n",
            "Iteration 300:\tloss_train=225.896072:\tloss_val=225.760147:\tacc_train=0.430000:\tacc_val=0.478571\n",
            "\n",
            "\n",
            "Iteration 400:\tloss_train=223.582092:\tloss_val=224.205093:\tacc_train=0.570000:\tacc_val=0.502381\n",
            "\n",
            "\n",
            "Iteration 500:\tloss_train=221.488022:\tloss_val=222.739929:\tacc_train=0.560000:\tacc_val=0.521429\n",
            "\n",
            "\n",
            "Iteration 600:\tloss_train=222.403641:\tloss_val=221.132553:\tacc_train=0.530000:\tacc_val=0.561905\n",
            "\n",
            "\n",
            "Iteration 700:\tloss_train=219.779999:\tloss_val=219.747086:\tacc_train=0.600000:\tacc_val=0.569048\n",
            "\n",
            "\n",
            "Iteration 800:\tloss_train=217.090851:\tloss_val=218.214050:\tacc_train=0.630000:\tacc_val=0.578571\n",
            "\n",
            "\n",
            "Iteration 900:\tloss_train=216.813965:\tloss_val=216.757675:\tacc_train=0.580000:\tacc_val=0.621429\n",
            "\n",
            "\n",
            "Iteration 1000:\tloss_train=214.546585:\tloss_val=215.229904:\tacc_train=0.650000:\tacc_val=0.628571\n",
            "\n",
            "\n",
            "Iteration 1100:\tloss_train=213.214813:\tloss_val=213.840652:\tacc_train=0.660000:\tacc_val=0.635714\n",
            "\n",
            "\n",
            "Iteration 1200:\tloss_train=213.010529:\tloss_val=212.369843:\tacc_train=0.600000:\tacc_val=0.623810\n",
            "\n",
            "\n",
            "Iteration 1300:\tloss_train=209.463562:\tloss_val=210.956100:\tacc_train=0.780000:\tacc_val=0.666667\n",
            "\n",
            "\n",
            "Iteration 1400:\tloss_train=209.903839:\tloss_val=209.491714:\tacc_train=0.640000:\tacc_val=0.650000\n",
            "\n",
            "\n",
            "Iteration 1500:\tloss_train=207.080719:\tloss_val=208.096649:\tacc_train=0.660000:\tacc_val=0.671429\n",
            "\n",
            "\n",
            "Iteration 1600:\tloss_train=204.438782:\tloss_val=206.698364:\tacc_train=0.720000:\tacc_val=0.659524\n",
            "\n",
            "\n",
            "Iteration 1700:\tloss_train=204.436615:\tloss_val=205.318985:\tacc_train=0.680000:\tacc_val=0.676190\n",
            "\n",
            "\n",
            "Iteration 1800:\tloss_train=203.331482:\tloss_val=203.929245:\tacc_train=0.710000:\tacc_val=0.685714\n",
            "\n",
            "\n",
            "Iteration 1900:\tloss_train=201.586639:\tloss_val=202.500885:\tacc_train=0.690000:\tacc_val=0.695238\n",
            "\n",
            "\n",
            "Iteration 2000:\tloss_train=199.304077:\tloss_val=201.187393:\tacc_train=0.780000:\tacc_val=0.688095\n",
            "\n",
            "\n",
            "Iteration 2100:\tloss_train=197.678711:\tloss_val=199.836472:\tacc_train=0.710000:\tacc_val=0.692857\n",
            "\n",
            "\n",
            "Iteration 2200:\tloss_train=198.198120:\tloss_val=198.532288:\tacc_train=0.700000:\tacc_val=0.711905\n",
            "\n",
            "\n",
            "Iteration 2300:\tloss_train=198.226700:\tloss_val=197.098160:\tacc_train=0.650000:\tacc_val=0.721429\n",
            "\n",
            "\n",
            "Iteration 2400:\tloss_train=196.248596:\tloss_val=195.886887:\tacc_train=0.670000:\tacc_val=0.709524\n",
            "\n",
            "\n",
            "Iteration 2500:\tloss_train=196.173615:\tloss_val=194.545486:\tacc_train=0.710000:\tacc_val=0.707143\n",
            "\n",
            "\n",
            "Iteration 2600:\tloss_train=193.130219:\tloss_val=193.302536:\tacc_train=0.750000:\tacc_val=0.728571\n",
            "\n",
            "\n",
            "Iteration 2700:\tloss_train=194.022049:\tloss_val=191.908463:\tacc_train=0.660000:\tacc_val=0.728571\n",
            "\n",
            "\n",
            "Iteration 2800:\tloss_train=192.264099:\tloss_val=190.751297:\tacc_train=0.710000:\tacc_val=0.723810\n",
            "\n",
            "\n",
            "Iteration 2900:\tloss_train=188.023560:\tloss_val=189.447830:\tacc_train=0.680000:\tacc_val=0.719048\n",
            "\n",
            "\n",
            "Iteration 3000:\tloss_train=183.677979:\tloss_val=188.221710:\tacc_train=0.760000:\tacc_val=0.735714\n",
            "\n",
            "\n",
            "Iteration 3100:\tloss_train=185.036255:\tloss_val=186.870224:\tacc_train=0.720000:\tacc_val=0.742857\n",
            "\n",
            "\n",
            "Iteration 3200:\tloss_train=185.666626:\tloss_val=185.745316:\tacc_train=0.760000:\tacc_val=0.735714\n",
            "\n",
            "\n",
            "Iteration 3300:\tloss_train=181.772827:\tloss_val=184.481400:\tacc_train=0.740000:\tacc_val=0.723810\n",
            "\n",
            "\n",
            "Iteration 3400:\tloss_train=176.778992:\tloss_val=183.282364:\tacc_train=0.730000:\tacc_val=0.747619\n",
            "\n",
            "\n",
            "Iteration 3500:\tloss_train=181.644150:\tloss_val=181.987793:\tacc_train=0.780000:\tacc_val=0.745238\n",
            "\n",
            "\n",
            "Iteration 3600:\tloss_train=180.518631:\tloss_val=180.878052:\tacc_train=0.670000:\tacc_val=0.757143\n",
            "\n",
            "\n",
            "Iteration 3700:\tloss_train=175.202454:\tloss_val=179.656647:\tacc_train=0.800000:\tacc_val=0.733333\n",
            "\n",
            "\n",
            "Iteration 3800:\tloss_train=178.122192:\tloss_val=178.497452:\tacc_train=0.810000:\tacc_val=0.750000\n",
            "\n",
            "\n",
            "Iteration 3900:\tloss_train=180.081268:\tloss_val=177.292374:\tacc_train=0.660000:\tacc_val=0.750000\n",
            "\n",
            "\n",
            "Iteration 4000:\tloss_train=173.740204:\tloss_val=176.159149:\tacc_train=0.770000:\tacc_val=0.766667\n",
            "\n",
            "\n",
            "Iteration 4100:\tloss_train=175.377563:\tloss_val=175.014130:\tacc_train=0.710000:\tacc_val=0.750000\n",
            "\n",
            "\n",
            "Iteration 4200:\tloss_train=176.567490:\tloss_val=173.888840:\tacc_train=0.780000:\tacc_val=0.757143\n",
            "\n",
            "\n",
            "Iteration 4300:\tloss_train=176.858780:\tloss_val=172.731308:\tacc_train=0.720000:\tacc_val=0.764286\n",
            "\n",
            "\n",
            "Iteration 4400:\tloss_train=171.444595:\tloss_val=171.587814:\tacc_train=0.710000:\tacc_val=0.776190\n",
            "\n",
            "\n",
            "Iteration 4500:\tloss_train=167.385223:\tloss_val=170.503571:\tacc_train=0.770000:\tacc_val=0.759524\n",
            "\n",
            "\n",
            "Iteration 4600:\tloss_train=167.726196:\tloss_val=169.412888:\tacc_train=0.820000:\tacc_val=0.766667\n",
            "\n",
            "\n",
            "Iteration 4700:\tloss_train=168.787201:\tloss_val=168.334534:\tacc_train=0.720000:\tacc_val=0.778571\n",
            "\n",
            "\n",
            "Iteration 4800:\tloss_train=167.639130:\tloss_val=167.163986:\tacc_train=0.730000:\tacc_val=0.783333\n",
            "\n",
            "\n",
            "Iteration 4900:\tloss_train=168.792191:\tloss_val=166.183426:\tacc_train=0.720000:\tacc_val=0.771429\n",
            "\n",
            "\n",
            "Iteration 5000:\tloss_train=164.845474:\tloss_val=165.098129:\tacc_train=0.770000:\tacc_val=0.769048\n",
            "\n",
            "\n",
            "Iteration 5100:\tloss_train=162.636978:\tloss_val=164.088013:\tacc_train=0.750000:\tacc_val=0.785714\n",
            "\n",
            "\n",
            "Iteration 5200:\tloss_train=161.439240:\tloss_val=162.935333:\tacc_train=0.810000:\tacc_val=0.790476\n",
            "\n",
            "\n",
            "Iteration 5300:\tloss_train=156.675644:\tloss_val=162.016098:\tacc_train=0.800000:\tacc_val=0.776190\n",
            "\n",
            "\n",
            "Iteration 5400:\tloss_train=159.447449:\tloss_val=160.959900:\tacc_train=0.810000:\tacc_val=0.776190\n",
            "\n",
            "\n",
            "Iteration 5500:\tloss_train=160.192688:\tloss_val=159.966187:\tacc_train=0.810000:\tacc_val=0.785714\n",
            "\n",
            "\n",
            "Iteration 5600:\tloss_train=158.898544:\tloss_val=158.857986:\tacc_train=0.800000:\tacc_val=0.788095\n",
            "\n",
            "\n",
            "Iteration 5700:\tloss_train=160.601044:\tloss_val=157.967499:\tacc_train=0.780000:\tacc_val=0.785714\n",
            "\n",
            "\n",
            "Iteration 5800:\tloss_train=153.872284:\tloss_val=156.944962:\tacc_train=0.750000:\tacc_val=0.780952\n",
            "\n",
            "\n",
            "Iteration 5900:\tloss_train=160.072708:\tloss_val=155.980408:\tacc_train=0.710000:\tacc_val=0.795238\n",
            "\n",
            "\n",
            "Iteration 6000:\tloss_train=158.002213:\tloss_val=154.906296:\tacc_train=0.700000:\tacc_val=0.790476\n",
            "\n",
            "\n",
            "Iteration 6100:\tloss_train=150.956253:\tloss_val=154.042862:\tacc_train=0.780000:\tacc_val=0.790476\n",
            "\n",
            "\n",
            "Iteration 6200:\tloss_train=152.944427:\tloss_val=153.040848:\tacc_train=0.790000:\tacc_val=0.783333\n",
            "\n",
            "\n",
            "Iteration 6300:\tloss_train=149.106110:\tloss_val=152.112244:\tacc_train=0.780000:\tacc_val=0.797619\n",
            "\n",
            "\n",
            "Iteration 6400:\tloss_train=150.545959:\tloss_val=151.125290:\tacc_train=0.750000:\tacc_val=0.795238\n",
            "\n",
            "\n",
            "Iteration 6500:\tloss_train=148.487000:\tloss_val=150.239594:\tacc_train=0.760000:\tacc_val=0.792857\n",
            "\n",
            "\n",
            "Iteration 6600:\tloss_train=142.306320:\tloss_val=149.314407:\tacc_train=0.820000:\tacc_val=0.790476\n",
            "\n",
            "\n",
            "Iteration 6700:\tloss_train=141.618408:\tloss_val=148.416245:\tacc_train=0.880000:\tacc_val=0.800000\n",
            "\n",
            "\n",
            "Iteration 6800:\tloss_train=141.811783:\tloss_val=147.467194:\tacc_train=0.800000:\tacc_val=0.797619\n",
            "\n",
            "\n",
            "Iteration 6900:\tloss_train=142.965775:\tloss_val=146.568726:\tacc_train=0.850000:\tacc_val=0.800000\n",
            "\n",
            "\n",
            "Iteration 7000:\tloss_train=148.305313:\tloss_val=145.695328:\tacc_train=0.760000:\tacc_val=0.795238\n",
            "\n",
            "\n",
            "Iteration 7100:\tloss_train=140.375000:\tloss_val=144.830780:\tacc_train=0.820000:\tacc_val=0.797619\n",
            "\n",
            "\n",
            "Iteration 7200:\tloss_train=139.383728:\tloss_val=143.947296:\tacc_train=0.830000:\tacc_val=0.807143\n",
            "\n",
            "\n",
            "Iteration 7300:\tloss_train=144.177673:\tloss_val=143.014114:\tacc_train=0.800000:\tacc_val=0.804762\n",
            "\n",
            "\n",
            "Iteration 7400:\tloss_train=143.049347:\tloss_val=142.221222:\tacc_train=0.840000:\tacc_val=0.800000\n",
            "\n",
            "\n",
            "Iteration 7500:\tloss_train=148.032990:\tloss_val=141.370193:\tacc_train=0.750000:\tacc_val=0.800000\n",
            "\n",
            "\n",
            "Iteration 7600:\tloss_train=137.760345:\tloss_val=140.551147:\tacc_train=0.810000:\tacc_val=0.811905\n",
            "\n",
            "\n",
            "Iteration 7700:\tloss_train=138.816833:\tloss_val=139.620880:\tacc_train=0.800000:\tacc_val=0.814286\n",
            "\n",
            "\n",
            "Iteration 7800:\tloss_train=133.118225:\tloss_val=138.900208:\tacc_train=0.760000:\tacc_val=0.802381\n",
            "\n",
            "\n",
            "Iteration 7900:\tloss_train=134.157379:\tloss_val=138.060806:\tacc_train=0.750000:\tacc_val=0.804762\n",
            "\n",
            "\n",
            "Iteration 8000:\tloss_train=143.508728:\tloss_val=137.269745:\tacc_train=0.720000:\tacc_val=0.811905\n",
            "\n",
            "\n",
            "Iteration 8100:\tloss_train=134.096695:\tloss_val=136.375168:\tacc_train=0.800000:\tacc_val=0.814286\n",
            "\n",
            "\n",
            "Iteration 8200:\tloss_train=144.135132:\tloss_val=135.686630:\tacc_train=0.710000:\tacc_val=0.807143\n",
            "\n",
            "\n",
            "Iteration 8300:\tloss_train=132.954529:\tloss_val=134.869843:\tacc_train=0.780000:\tacc_val=0.804762\n",
            "\n",
            "\n",
            "Iteration 8400:\tloss_train=123.812744:\tloss_val=134.103516:\tacc_train=0.850000:\tacc_val=0.809524\n",
            "\n",
            "\n",
            "Iteration 8500:\tloss_train=138.412827:\tloss_val=133.236130:\tacc_train=0.780000:\tacc_val=0.816667\n",
            "\n",
            "\n",
            "Iteration 8600:\tloss_train=126.683357:\tloss_val=132.572220:\tacc_train=0.840000:\tacc_val=0.807143\n",
            "\n",
            "\n",
            "Iteration 8700:\tloss_train=119.054230:\tloss_val=131.775146:\tacc_train=0.900000:\tacc_val=0.809524\n",
            "\n",
            "\n",
            "Iteration 8800:\tloss_train=135.427612:\tloss_val=131.035751:\tacc_train=0.750000:\tacc_val=0.811905\n",
            "\n",
            "\n",
            "Iteration 8900:\tloss_train=126.261505:\tloss_val=130.227402:\tacc_train=0.760000:\tacc_val=0.816667\n",
            "\n",
            "\n",
            "Iteration 9000:\tloss_train=127.463264:\tloss_val=129.555969:\tacc_train=0.850000:\tacc_val=0.816667\n",
            "\n",
            "\n",
            "Iteration 9100:\tloss_train=138.103729:\tloss_val=128.813110:\tacc_train=0.670000:\tacc_val=0.811905\n",
            "\n",
            "\n",
            "Iteration 9200:\tloss_train=122.462776:\tloss_val=128.104782:\tacc_train=0.820000:\tacc_val=0.809524\n",
            "\n",
            "\n",
            "Iteration 9300:\tloss_train=125.869232:\tloss_val=127.337593:\tacc_train=0.780000:\tacc_val=0.814286\n",
            "\n",
            "\n",
            "Iteration 9400:\tloss_train=127.519249:\tloss_val=126.652344:\tacc_train=0.810000:\tacc_val=0.821429\n",
            "\n",
            "\n",
            "Iteration 9500:\tloss_train=123.441513:\tloss_val=125.954239:\tacc_train=0.820000:\tacc_val=0.814286\n",
            "\n",
            "\n",
            "Iteration 9600:\tloss_train=120.213623:\tloss_val=125.275002:\tacc_train=0.800000:\tacc_val=0.816667\n",
            "\n",
            "\n",
            "Iteration 9700:\tloss_train=122.089684:\tloss_val=124.549255:\tacc_train=0.780000:\tacc_val=0.821429\n",
            "\n",
            "\n",
            "Iteration 9800:\tloss_train=125.124695:\tloss_val=123.826599:\tacc_train=0.780000:\tacc_val=0.826190\n",
            "\n",
            "\n",
            "Iteration 9900:\tloss_train=117.591309:\tloss_val=123.196411:\tacc_train=0.800000:\tacc_val=0.819048\n",
            "\n",
            "\n",
            "Iteration 10000:\tloss_train=115.593460:\tloss_val=122.530533:\tacc_train=0.840000:\tacc_val=0.819048\n",
            "\n",
            "\n",
            "Iteration 10100:\tloss_train=123.534637:\tloss_val=121.863525:\tacc_train=0.760000:\tacc_val=0.828571\n",
            "\n",
            "\n",
            "Iteration 10200:\tloss_train=122.304779:\tloss_val=121.126144:\tacc_train=0.840000:\tacc_val=0.828571\n",
            "\n",
            "\n",
            "Iteration 10300:\tloss_train=122.379829:\tloss_val=120.569191:\tacc_train=0.770000:\tacc_val=0.821429\n",
            "\n",
            "\n",
            "Iteration 10400:\tloss_train=125.189018:\tloss_val=119.906433:\tacc_train=0.810000:\tacc_val=0.826190\n",
            "\n",
            "\n",
            "Iteration 10500:\tloss_train=116.488243:\tloss_val=119.282074:\tacc_train=0.860000:\tacc_val=0.828571\n",
            "\n",
            "\n",
            "Iteration 10600:\tloss_train=125.149551:\tloss_val=118.568489:\tacc_train=0.740000:\tacc_val=0.828571\n",
            "\n",
            "\n",
            "Iteration 10700:\tloss_train=117.868858:\tloss_val=118.047028:\tacc_train=0.810000:\tacc_val=0.828571\n",
            "\n",
            "\n",
            "Iteration 10800:\tloss_train=119.577744:\tloss_val=117.400452:\tacc_train=0.770000:\tacc_val=0.828571\n",
            "\n",
            "\n",
            "Iteration 10900:\tloss_train=110.638481:\tloss_val=116.789062:\tacc_train=0.850000:\tacc_val=0.830952\n",
            "\n",
            "\n",
            "Iteration 11000:\tloss_train=111.853516:\tloss_val=116.095467:\tacc_train=0.850000:\tacc_val=0.828571\n",
            "\n",
            "\n",
            "Iteration 11100:\tloss_train=122.342812:\tloss_val=115.590523:\tacc_train=0.790000:\tacc_val=0.828571\n",
            "\n",
            "\n",
            "Iteration 11200:\tloss_train=116.919266:\tloss_val=114.968124:\tacc_train=0.810000:\tacc_val=0.830952\n",
            "\n",
            "\n",
            "Iteration 11300:\tloss_train=108.811806:\tloss_val=114.381729:\tacc_train=0.840000:\tacc_val=0.828571\n",
            "\n",
            "\n",
            "Iteration 11400:\tloss_train=110.590828:\tloss_val=113.715347:\tacc_train=0.820000:\tacc_val=0.833333\n",
            "\n",
            "\n",
            "Iteration 11500:\tloss_train=113.746506:\tloss_val=113.214966:\tacc_train=0.760000:\tacc_val=0.830952\n",
            "\n",
            "\n",
            "Iteration 11600:\tloss_train=103.388443:\tloss_val=112.614708:\tacc_train=0.880000:\tacc_val=0.833333\n",
            "\n",
            "\n",
            "Iteration 11700:\tloss_train=111.711349:\tloss_val=112.062035:\tacc_train=0.820000:\tacc_val=0.830952\n",
            "\n",
            "\n",
            "Iteration 11800:\tloss_train=117.979210:\tloss_val=111.445610:\tacc_train=0.780000:\tacc_val=0.835714\n",
            "\n",
            "\n",
            "Iteration 11900:\tloss_train=103.607430:\tloss_val=110.919937:\tacc_train=0.830000:\tacc_val=0.838095\n",
            "\n",
            "\n",
            "Iteration 12000:\tloss_train=105.922920:\tloss_val=110.374786:\tacc_train=0.840000:\tacc_val=0.833333\n",
            "\n",
            "\n",
            "Iteration 12100:\tloss_train=113.601723:\tloss_val=109.838074:\tacc_train=0.770000:\tacc_val=0.830952\n",
            "\n",
            "\n",
            "Iteration 12200:\tloss_train=113.049370:\tloss_val=109.243294:\tacc_train=0.810000:\tacc_val=0.835714\n",
            "\n",
            "\n",
            "Iteration 12300:\tloss_train=108.944931:\tloss_val=108.700142:\tacc_train=0.810000:\tacc_val=0.840476\n",
            "\n",
            "\n",
            "Iteration 12400:\tloss_train=100.024925:\tloss_val=108.189095:\tacc_train=0.850000:\tacc_val=0.833333\n",
            "\n",
            "\n",
            "Iteration 12500:\tloss_train=108.231461:\tloss_val=107.676987:\tacc_train=0.860000:\tacc_val=0.833333\n",
            "\n",
            "\n",
            "Iteration 12600:\tloss_train=107.596970:\tloss_val=107.128174:\tacc_train=0.790000:\tacc_val=0.838095\n",
            "\n",
            "\n",
            "Iteration 12700:\tloss_train=111.895035:\tloss_val=106.549232:\tacc_train=0.780000:\tacc_val=0.842857\n",
            "\n",
            "\n",
            "Iteration 12800:\tloss_train=113.815605:\tloss_val=106.117676:\tacc_train=0.750000:\tacc_val=0.838095\n",
            "\n",
            "\n",
            "Iteration 12900:\tloss_train=110.494873:\tloss_val=105.601242:\tacc_train=0.780000:\tacc_val=0.838095\n",
            "\n",
            "\n",
            "Iteration 13000:\tloss_train=99.394722:\tloss_val=105.099518:\tacc_train=0.860000:\tacc_val=0.840476\n",
            "\n",
            "\n",
            "Iteration 13100:\tloss_train=101.473381:\tloss_val=104.528511:\tacc_train=0.840000:\tacc_val=0.840476\n",
            "\n",
            "\n",
            "Iteration 13200:\tloss_train=100.730423:\tloss_val=104.136665:\tacc_train=0.830000:\tacc_val=0.840476\n",
            "\n",
            "\n",
            "Iteration 13300:\tloss_train=102.612976:\tloss_val=103.629227:\tacc_train=0.850000:\tacc_val=0.838095\n",
            "\n",
            "\n",
            "Iteration 13400:\tloss_train=106.389656:\tloss_val=103.138123:\tacc_train=0.820000:\tacc_val=0.842857\n",
            "\n",
            "\n",
            "Iteration 13500:\tloss_train=103.076851:\tloss_val=102.584686:\tacc_train=0.820000:\tacc_val=0.842857\n",
            "\n",
            "\n",
            "Iteration 13600:\tloss_train=109.938522:\tloss_val=102.201675:\tacc_train=0.810000:\tacc_val=0.840476\n",
            "\n",
            "\n",
            "Iteration 13700:\tloss_train=93.335266:\tloss_val=101.709274:\tacc_train=0.860000:\tacc_val=0.842857\n",
            "\n",
            "\n",
            "Iteration 13800:\tloss_train=103.046394:\tloss_val=101.243576:\tacc_train=0.830000:\tacc_val=0.842857\n",
            "\n",
            "\n",
            "Iteration 13900:\tloss_train=105.301460:\tloss_val=100.696884:\tacc_train=0.770000:\tacc_val=0.845238\n",
            "\n",
            "\n",
            "Iteration 14000:\tloss_train=100.487335:\tloss_val=100.331680:\tacc_train=0.810000:\tacc_val=0.840476\n",
            "\n",
            "\n",
            "Iteration 14100:\tloss_train=94.755974:\tloss_val=99.844055:\tacc_train=0.890000:\tacc_val=0.840476\n",
            "\n",
            "\n",
            "Iteration 14200:\tloss_train=101.092567:\tloss_val=99.410439:\tacc_train=0.810000:\tacc_val=0.842857\n",
            "\n",
            "\n",
            "Iteration 14300:\tloss_train=96.309677:\tloss_val=98.905746:\tacc_train=0.820000:\tacc_val=0.847619\n",
            "\n",
            "\n",
            "Iteration 14400:\tloss_train=95.206993:\tloss_val=98.515137:\tacc_train=0.820000:\tacc_val=0.847619\n",
            "\n",
            "\n",
            "Iteration 14500:\tloss_train=94.505913:\tloss_val=98.081154:\tacc_train=0.850000:\tacc_val=0.840476\n",
            "\n",
            "\n",
            "Iteration 14600:\tloss_train=90.329330:\tloss_val=97.661682:\tacc_train=0.890000:\tacc_val=0.838095\n",
            "\n",
            "\n",
            "Iteration 14700:\tloss_train=92.418884:\tloss_val=97.172379:\tacc_train=0.870000:\tacc_val=0.847619\n",
            "\n",
            "\n",
            "Iteration 14800:\tloss_train=93.685867:\tloss_val=96.762260:\tacc_train=0.880000:\tacc_val=0.850000\n",
            "\n",
            "\n",
            "Iteration 14900:\tloss_train=98.393654:\tloss_val=96.352058:\tacc_train=0.790000:\tacc_val=0.842857\n",
            "\n",
            "\n",
            "Iteration 15000:\tloss_train=94.113258:\tloss_val=95.956825:\tacc_train=0.830000:\tacc_val=0.840476\n",
            "\n",
            "\n",
            "Iteration 15100:\tloss_train=89.607468:\tloss_val=95.501961:\tacc_train=0.860000:\tacc_val=0.847619\n",
            "\n",
            "\n",
            "Iteration 15200:\tloss_train=100.189362:\tloss_val=95.051018:\tacc_train=0.800000:\tacc_val=0.850000\n",
            "\n",
            "\n",
            "Iteration 15300:\tloss_train=88.643784:\tloss_val=94.703995:\tacc_train=0.840000:\tacc_val=0.845238\n",
            "\n",
            "\n",
            "Iteration 15400:\tloss_train=98.370605:\tloss_val=94.309990:\tacc_train=0.840000:\tacc_val=0.840476\n",
            "\n",
            "\n",
            "Iteration 15500:\tloss_train=92.680557:\tloss_val=93.896484:\tacc_train=0.840000:\tacc_val=0.852381\n",
            "\n",
            "\n",
            "Iteration 15600:\tloss_train=94.610123:\tloss_val=93.439140:\tacc_train=0.800000:\tacc_val=0.850000\n",
            "\n",
            "\n",
            "Iteration 15700:\tloss_train=90.530296:\tloss_val=93.137444:\tacc_train=0.790000:\tacc_val=0.847619\n",
            "\n",
            "\n",
            "Iteration 15800:\tloss_train=85.752975:\tloss_val=92.737511:\tacc_train=0.840000:\tacc_val=0.842857\n",
            "\n",
            "\n",
            "Iteration 15900:\tloss_train=95.323692:\tloss_val=92.344284:\tacc_train=0.800000:\tacc_val=0.852381\n",
            "\n",
            "\n",
            "Iteration 16000:\tloss_train=86.316261:\tloss_val=91.899422:\tacc_train=0.890000:\tacc_val=0.854762\n",
            "\n",
            "\n",
            "Iteration 16100:\tloss_train=93.606339:\tloss_val=91.614189:\tacc_train=0.810000:\tacc_val=0.847619\n",
            "\n",
            "\n",
            "Iteration 16200:\tloss_train=89.785629:\tloss_val=91.218422:\tacc_train=0.840000:\tacc_val=0.845238\n",
            "\n",
            "\n",
            "Iteration 16300:\tloss_train=74.686569:\tloss_val=90.843849:\tacc_train=0.870000:\tacc_val=0.854762\n",
            "\n",
            "\n",
            "Iteration 16400:\tloss_train=97.269302:\tloss_val=90.402466:\tacc_train=0.830000:\tacc_val=0.854762\n",
            "\n",
            "\n",
            "Iteration 16500:\tloss_train=83.147720:\tloss_val=90.129395:\tacc_train=0.890000:\tacc_val=0.850000\n",
            "\n",
            "\n",
            "Iteration 16600:\tloss_train=75.565964:\tloss_val=89.738968:\tacc_train=0.910000:\tacc_val=0.850000\n",
            "\n",
            "\n",
            "Iteration 16700:\tloss_train=96.209808:\tloss_val=89.390137:\tacc_train=0.780000:\tacc_val=0.852381\n",
            "\n",
            "\n",
            "Iteration 16800:\tloss_train=78.790298:\tloss_val=88.971573:\tacc_train=0.850000:\tacc_val=0.854762\n",
            "\n",
            "\n",
            "Iteration 16900:\tloss_train=87.468475:\tloss_val=88.685730:\tacc_train=0.860000:\tacc_val=0.850000\n",
            "\n",
            "\n",
            "Iteration 17000:\tloss_train=95.539330:\tloss_val=88.331375:\tacc_train=0.760000:\tacc_val=0.854762\n",
            "\n",
            "\n",
            "Iteration 17100:\tloss_train=79.930107:\tloss_val=88.001411:\tacc_train=0.870000:\tacc_val=0.854762\n",
            "\n",
            "\n",
            "Iteration 17200:\tloss_train=91.269119:\tloss_val=87.600311:\tacc_train=0.760000:\tacc_val=0.854762\n",
            "\n",
            "\n",
            "Iteration 17300:\tloss_train=87.103653:\tloss_val=87.294014:\tacc_train=0.840000:\tacc_val=0.854762\n",
            "\n",
            "\n",
            "Iteration 17400:\tloss_train=84.859940:\tloss_val=86.966370:\tacc_train=0.860000:\tacc_val=0.854762\n",
            "\n",
            "\n",
            "Iteration 17500:\tloss_train=84.003700:\tloss_val=86.653618:\tacc_train=0.810000:\tacc_val=0.854762\n",
            "\n",
            "\n",
            "Iteration 17600:\tloss_train=85.730286:\tloss_val=86.268112:\tacc_train=0.810000:\tacc_val=0.854762\n",
            "\n",
            "\n",
            "Iteration 17700:\tloss_train=80.595535:\tloss_val=85.924324:\tacc_train=0.850000:\tacc_val=0.859524\n",
            "\n",
            "\n",
            "Iteration 17800:\tloss_train=75.824615:\tloss_val=85.641342:\tacc_train=0.870000:\tacc_val=0.857143\n",
            "\n",
            "\n",
            "Iteration 17900:\tloss_train=76.898659:\tloss_val=85.333084:\tacc_train=0.870000:\tacc_val=0.857143\n",
            "\n",
            "\n",
            "Iteration 18000:\tloss_train=86.158546:\tloss_val=84.984901:\tacc_train=0.830000:\tacc_val=0.857143\n",
            "\n",
            "\n",
            "Iteration 18100:\tloss_train=82.780769:\tloss_val=84.617920:\tacc_train=0.880000:\tacc_val=0.861905\n",
            "\n",
            "\n",
            "Iteration 18200:\tloss_train=84.582748:\tloss_val=84.386711:\tacc_train=0.800000:\tacc_val=0.859524\n",
            "\n",
            "\n",
            "Iteration 18300:\tloss_train=89.575111:\tloss_val=84.066132:\tacc_train=0.860000:\tacc_val=0.859524\n",
            "\n",
            "\n",
            "Iteration 18400:\tloss_train=79.080002:\tloss_val=83.748344:\tacc_train=0.870000:\tacc_val=0.859524\n",
            "\n",
            "\n",
            "Iteration 18500:\tloss_train=89.247017:\tloss_val=83.392212:\tacc_train=0.820000:\tacc_val=0.864286\n",
            "\n",
            "\n",
            "Iteration 18600:\tloss_train=85.261482:\tloss_val=83.178368:\tacc_train=0.800000:\tacc_val=0.861905\n",
            "\n",
            "\n",
            "Iteration 18700:\tloss_train=80.706299:\tloss_val=82.859947:\tacc_train=0.870000:\tacc_val=0.859524\n",
            "\n",
            "\n",
            "Iteration 18800:\tloss_train=81.892494:\tloss_val=82.549606:\tacc_train=0.900000:\tacc_val=0.864286\n",
            "\n",
            "\n",
            "Iteration 18900:\tloss_train=73.309074:\tloss_val=82.194923:\tacc_train=0.880000:\tacc_val=0.866667\n",
            "\n",
            "\n",
            "Iteration 19000:\tloss_train=94.430771:\tloss_val=81.984665:\tacc_train=0.780000:\tacc_val=0.861905\n",
            "\n",
            "\n",
            "Iteration 19100:\tloss_train=91.149796:\tloss_val=81.675919:\tacc_train=0.800000:\tacc_val=0.861905\n",
            "\n",
            "\n",
            "Iteration 19200:\tloss_train=79.613365:\tloss_val=81.394638:\tacc_train=0.850000:\tacc_val=0.869048\n",
            "\n",
            "\n",
            "Iteration 19300:\tloss_train=78.346954:\tloss_val=81.040840:\tacc_train=0.870000:\tacc_val=0.866667\n",
            "\n",
            "\n",
            "Iteration 19400:\tloss_train=82.683006:\tloss_val=80.830711:\tacc_train=0.800000:\tacc_val=0.864286\n",
            "\n",
            "\n",
            "Iteration 19500:\tloss_train=77.305840:\tloss_val=80.535843:\tacc_train=0.870000:\tacc_val=0.861905\n",
            "\n",
            "\n",
            "Iteration 19600:\tloss_train=80.384590:\tloss_val=80.276932:\tacc_train=0.860000:\tacc_val=0.871429\n",
            "\n",
            "\n",
            "Iteration 19700:\tloss_train=91.245010:\tloss_val=79.946777:\tacc_train=0.810000:\tacc_val=0.869048\n",
            "\n",
            "\n",
            "Iteration 19800:\tloss_train=75.018539:\tloss_val=79.710335:\tacc_train=0.870000:\tacc_val=0.866667\n",
            "\n",
            "\n",
            "Iteration 19900:\tloss_train=70.764877:\tloss_val=79.449310:\tacc_train=0.890000:\tacc_val=0.864286\n",
            "\n",
            "\n",
            "Iteration 20000:\tloss_train=82.118874:\tloss_val=79.196823:\tacc_train=0.850000:\tacc_val=0.871429\n",
            "\n",
            "\n",
            "Iteration 20100:\tloss_train=79.408730:\tloss_val=78.869385:\tacc_train=0.830000:\tacc_val=0.873810\n",
            "\n",
            "\n",
            "Iteration 20200:\tloss_train=86.626038:\tloss_val=78.614304:\tacc_train=0.780000:\tacc_val=0.871429\n",
            "\n",
            "\n",
            "Iteration 20300:\tloss_train=70.698013:\tloss_val=78.374237:\tacc_train=0.860000:\tacc_val=0.871429\n",
            "\n",
            "\n",
            "Iteration 20400:\tloss_train=73.210754:\tloss_val=78.134583:\tacc_train=0.880000:\tacc_val=0.871429\n",
            "\n",
            "\n",
            "Iteration 20500:\tloss_train=76.868355:\tloss_val=77.834122:\tacc_train=0.790000:\tacc_val=0.873810\n",
            "\n",
            "\n",
            "Iteration 20600:\tloss_train=85.305481:\tloss_val=77.541054:\tacc_train=0.810000:\tacc_val=0.866667\n",
            "\n",
            "\n",
            "Iteration 20700:\tloss_train=83.203804:\tloss_val=77.357529:\tacc_train=0.830000:\tacc_val=0.873810\n",
            "\n",
            "\n",
            "Iteration 20800:\tloss_train=85.707031:\tloss_val=77.105400:\tacc_train=0.800000:\tacc_val=0.871429\n",
            "\n",
            "\n",
            "Iteration 20900:\tloss_train=69.773483:\tloss_val=76.836365:\tacc_train=0.900000:\tacc_val=0.873810\n",
            "\n",
            "\n",
            "Iteration 21000:\tloss_train=79.394241:\tloss_val=76.548470:\tacc_train=0.820000:\tacc_val=0.871429\n",
            "\n",
            "\n",
            "Iteration 21100:\tloss_train=75.725098:\tloss_val=76.384819:\tacc_train=0.830000:\tacc_val=0.873810\n",
            "\n",
            "\n",
            "Iteration 21200:\tloss_train=73.200111:\tloss_val=76.129402:\tacc_train=0.890000:\tacc_val=0.871429\n",
            "\n",
            "\n",
            "Iteration 21300:\tloss_train=79.279091:\tloss_val=75.870972:\tacc_train=0.830000:\tacc_val=0.876190\n",
            "\n",
            "\n",
            "Iteration 21400:\tloss_train=72.739059:\tloss_val=75.585342:\tacc_train=0.860000:\tacc_val=0.873810\n",
            "\n",
            "\n",
            "Iteration 21500:\tloss_train=79.177933:\tloss_val=75.423149:\tacc_train=0.870000:\tacc_val=0.876190\n",
            "\n",
            "\n",
            "Iteration 21600:\tloss_train=64.518539:\tloss_val=75.173935:\tacc_train=0.890000:\tacc_val=0.873810\n",
            "\n",
            "\n",
            "Iteration 21700:\tloss_train=77.080391:\tloss_val=74.939568:\tacc_train=0.810000:\tacc_val=0.873810\n",
            "\n",
            "\n",
            "Iteration 21800:\tloss_train=78.538513:\tloss_val=74.640915:\tacc_train=0.830000:\tacc_val=0.876190\n",
            "\n",
            "\n",
            "Iteration 21900:\tloss_train=71.687744:\tloss_val=74.492287:\tacc_train=0.850000:\tacc_val=0.873810\n",
            "\n",
            "\n",
            "Iteration 22000:\tloss_train=71.509689:\tloss_val=74.237503:\tacc_train=0.900000:\tacc_val=0.873810\n",
            "\n",
            "\n",
            "Iteration 22100:\tloss_train=70.502380:\tloss_val=74.032074:\tacc_train=0.860000:\tacc_val=0.876190\n",
            "\n",
            "\n",
            "Iteration 22200:\tloss_train=66.596100:\tloss_val=73.750069:\tacc_train=0.890000:\tacc_val=0.878571\n",
            "\n",
            "\n",
            "Iteration 22300:\tloss_train=70.336945:\tloss_val=73.577721:\tacc_train=0.870000:\tacc_val=0.873810\n",
            "\n",
            "\n",
            "Iteration 22400:\tloss_train=64.261047:\tloss_val=73.363792:\tacc_train=0.920000:\tacc_val=0.876190\n",
            "\n",
            "\n",
            "Iteration 22500:\tloss_train=74.408798:\tloss_val=73.161041:\tacc_train=0.870000:\tacc_val=0.876190\n",
            "\n",
            "\n",
            "Iteration 22600:\tloss_train=72.110535:\tloss_val=72.880135:\tacc_train=0.840000:\tacc_val=0.878571\n",
            "\n",
            "\n",
            "Iteration 22700:\tloss_train=65.878067:\tloss_val=72.687698:\tacc_train=0.890000:\tacc_val=0.876190\n",
            "\n",
            "\n",
            "Iteration 22800:\tloss_train=81.448257:\tloss_val=72.484100:\tacc_train=0.760000:\tacc_val=0.876190\n",
            "\n",
            "\n",
            "Iteration 22900:\tloss_train=70.581596:\tloss_val=72.297890:\tacc_train=0.870000:\tacc_val=0.876190\n",
            "\n",
            "\n",
            "Iteration 23000:\tloss_train=61.335590:\tloss_val=72.035843:\tacc_train=0.930000:\tacc_val=0.878571\n",
            "\n",
            "\n",
            "Iteration 23100:\tloss_train=77.555115:\tloss_val=71.804832:\tacc_train=0.840000:\tacc_val=0.876190\n",
            "\n",
            "\n",
            "Iteration 23200:\tloss_train=66.742912:\tloss_val=71.647408:\tacc_train=0.850000:\tacc_val=0.878571\n",
            "\n",
            "\n",
            "Iteration 23300:\tloss_train=76.583763:\tloss_val=71.454391:\tacc_train=0.850000:\tacc_val=0.878571\n",
            "\n",
            "\n",
            "Iteration 23400:\tloss_train=70.172958:\tloss_val=71.222504:\tacc_train=0.860000:\tacc_val=0.880952\n",
            "\n",
            "\n",
            "Iteration 23500:\tloss_train=71.798752:\tloss_val=70.984070:\tacc_train=0.850000:\tacc_val=0.880952\n",
            "\n",
            "\n",
            "Iteration 23600:\tloss_train=71.160423:\tloss_val=70.855919:\tacc_train=0.820000:\tacc_val=0.876190\n",
            "\n",
            "\n",
            "Iteration 23700:\tloss_train=72.473648:\tloss_val=70.650078:\tacc_train=0.830000:\tacc_val=0.876190\n",
            "\n",
            "\n",
            "Iteration 23800:\tloss_train=72.489159:\tloss_val=70.435005:\tacc_train=0.810000:\tacc_val=0.880952\n",
            "\n",
            "\n",
            "Iteration 23900:\tloss_train=60.801216:\tloss_val=70.200584:\tacc_train=0.890000:\tacc_val=0.883333\n",
            "\n",
            "\n",
            "Iteration 24000:\tloss_train=69.366867:\tloss_val=70.078056:\tacc_train=0.840000:\tacc_val=0.878571\n",
            "\n",
            "\n",
            "Iteration 24100:\tloss_train=74.823143:\tloss_val=69.866966:\tacc_train=0.850000:\tacc_val=0.880952\n",
            "\n",
            "\n",
            "Iteration 24200:\tloss_train=52.177116:\tloss_val=69.669739:\tacc_train=0.920000:\tacc_val=0.883333\n",
            "\n",
            "\n",
            "Iteration 24300:\tloss_train=63.374763:\tloss_val=69.424019:\tacc_train=0.910000:\tacc_val=0.883333\n",
            "\n",
            "\n",
            "Iteration 24400:\tloss_train=61.655220:\tloss_val=69.314079:\tacc_train=0.920000:\tacc_val=0.880952\n",
            "\n",
            "\n",
            "Iteration 24500:\tloss_train=56.435951:\tloss_val=69.102486:\tacc_train=0.940000:\tacc_val=0.883333\n",
            "\n",
            "\n",
            "Iteration 24600:\tloss_train=73.868011:\tloss_val=68.928726:\tacc_train=0.850000:\tacc_val=0.883333\n",
            "\n",
            "\n",
            "Iteration 24700:\tloss_train=56.027805:\tloss_val=68.684608:\tacc_train=0.910000:\tacc_val=0.885714\n",
            "\n",
            "\n",
            "Iteration 24800:\tloss_train=74.894279:\tloss_val=68.562096:\tacc_train=0.850000:\tacc_val=0.883333\n",
            "\n",
            "\n",
            "Iteration 24900:\tloss_train=79.595146:\tloss_val=68.376709:\tacc_train=0.750000:\tacc_val=0.885714\n",
            "\n",
            "\n",
            "Iteration 25000:\tloss_train=65.117416:\tloss_val=68.214760:\tacc_train=0.870000:\tacc_val=0.885714\n",
            "\n",
            "\n",
            "Iteration 25100:\tloss_train=75.617142:\tloss_val=67.975906:\tacc_train=0.760000:\tacc_val=0.885714\n",
            "\n",
            "\n",
            "Iteration 25200:\tloss_train=69.361206:\tloss_val=67.833420:\tacc_train=0.850000:\tacc_val=0.883333\n",
            "\n",
            "\n",
            "Iteration 25300:\tloss_train=68.011047:\tloss_val=67.662697:\tacc_train=0.870000:\tacc_val=0.885714\n",
            "\n",
            "\n",
            "Iteration 25400:\tloss_train=64.582497:\tloss_val=67.511482:\tacc_train=0.840000:\tacc_val=0.885714\n",
            "\n",
            "\n",
            "Iteration 25500:\tloss_train=66.132141:\tloss_val=67.278900:\tacc_train=0.830000:\tacc_val=0.885714\n",
            "\n",
            "\n",
            "Iteration 25600:\tloss_train=63.290306:\tloss_val=67.101418:\tacc_train=0.860000:\tacc_val=0.883333\n",
            "\n",
            "\n",
            "Iteration 25700:\tloss_train=59.773273:\tloss_val=66.965660:\tacc_train=0.880000:\tacc_val=0.885714\n",
            "\n",
            "\n",
            "Iteration 25800:\tloss_train=58.993137:\tloss_val=66.813820:\tacc_train=0.870000:\tacc_val=0.885714\n",
            "\n",
            "\n",
            "Iteration 25900:\tloss_train=63.869610:\tloss_val=66.607620:\tacc_train=0.880000:\tacc_val=0.885714\n",
            "\n",
            "\n",
            "Iteration 26000:\tloss_train=54.167030:\tloss_val=66.408264:\tacc_train=0.910000:\tacc_val=0.885714\n",
            "\n",
            "\n",
            "Iteration 26100:\tloss_train=63.541168:\tloss_val=66.307724:\tacc_train=0.860000:\tacc_val=0.885714\n",
            "\n",
            "\n",
            "Iteration 26200:\tloss_train=70.245712:\tloss_val=66.136635:\tacc_train=0.870000:\tacc_val=0.885714\n",
            "\n",
            "\n",
            "Iteration 26300:\tloss_train=62.732391:\tloss_val=65.956169:\tacc_train=0.860000:\tacc_val=0.885714\n",
            "\n",
            "\n",
            "Iteration 26400:\tloss_train=73.898277:\tloss_val=65.764297:\tacc_train=0.850000:\tacc_val=0.885714\n",
            "\n",
            "\n",
            "Iteration 26500:\tloss_train=64.518837:\tloss_val=65.674141:\tacc_train=0.870000:\tacc_val=0.885714\n",
            "\n",
            "\n",
            "Iteration 26600:\tloss_train=65.705994:\tloss_val=65.498283:\tacc_train=0.880000:\tacc_val=0.883333\n",
            "\n",
            "\n",
            "Iteration 26700:\tloss_train=65.560577:\tloss_val=65.323128:\tacc_train=0.910000:\tacc_val=0.885714\n",
            "\n",
            "\n",
            "Iteration 26800:\tloss_train=59.304070:\tloss_val=65.121796:\tacc_train=0.890000:\tacc_val=0.885714\n",
            "\n",
            "\n",
            "Iteration 26900:\tloss_train=72.320084:\tloss_val=65.034340:\tacc_train=0.840000:\tacc_val=0.883333\n",
            "\n",
            "\n",
            "Iteration 27000:\tloss_train=78.186646:\tloss_val=64.861862:\tacc_train=0.800000:\tacc_val=0.888095\n",
            "\n",
            "\n",
            "Iteration 27100:\tloss_train=69.430016:\tloss_val=64.713699:\tacc_train=0.820000:\tacc_val=0.888095\n",
            "\n",
            "\n",
            "Iteration 27200:\tloss_train=61.472633:\tloss_val=64.501625:\tacc_train=0.900000:\tacc_val=0.888095\n",
            "\n",
            "\n",
            "Iteration 27300:\tloss_train=58.163860:\tloss_val=64.412621:\tacc_train=0.880000:\tacc_val=0.883333\n",
            "\n",
            "\n",
            "Iteration 27400:\tloss_train=63.707024:\tloss_val=64.247108:\tacc_train=0.860000:\tacc_val=0.888095\n",
            "\n",
            "\n",
            "Iteration 27500:\tloss_train=64.893379:\tloss_val=64.119286:\tacc_train=0.860000:\tacc_val=0.888095\n",
            "\n",
            "\n",
            "Iteration 27600:\tloss_train=70.412888:\tloss_val=63.917778:\tacc_train=0.860000:\tacc_val=0.888095\n",
            "\n",
            "\n",
            "Iteration 27700:\tloss_train=60.150631:\tloss_val=63.806198:\tacc_train=0.890000:\tacc_val=0.883333\n",
            "\n",
            "\n",
            "Iteration 27800:\tloss_train=53.665691:\tloss_val=63.666866:\tacc_train=0.900000:\tacc_val=0.888095\n",
            "\n",
            "\n",
            "Iteration 27900:\tloss_train=65.907372:\tloss_val=63.540169:\tacc_train=0.870000:\tacc_val=0.888095\n",
            "\n",
            "\n",
            "Iteration 28000:\tloss_train=65.093529:\tloss_val=63.333988:\tacc_train=0.850000:\tacc_val=0.888095\n",
            "\n",
            "\n",
            "Iteration 28100:\tloss_train=72.526855:\tloss_val=63.204208:\tacc_train=0.820000:\tacc_val=0.883333\n",
            "\n",
            "\n",
            "Iteration 28200:\tloss_train=51.931427:\tloss_val=63.077339:\tacc_train=0.910000:\tacc_val=0.888095\n",
            "\n",
            "\n",
            "Iteration 28300:\tloss_train=60.789669:\tloss_val=62.957817:\tacc_train=0.860000:\tacc_val=0.888095\n",
            "\n",
            "\n",
            "Iteration 28400:\tloss_train=61.388783:\tloss_val=62.770969:\tacc_train=0.840000:\tacc_val=0.888095\n",
            "\n",
            "\n",
            "Iteration 28500:\tloss_train=64.711479:\tloss_val=62.607563:\tacc_train=0.880000:\tacc_val=0.885714\n",
            "\n",
            "\n",
            "Iteration 28600:\tloss_train=66.800095:\tloss_val=62.525959:\tacc_train=0.840000:\tacc_val=0.888095\n",
            "\n",
            "\n",
            "Iteration 28700:\tloss_train=76.400276:\tloss_val=62.388481:\tacc_train=0.810000:\tacc_val=0.888095\n",
            "\n",
            "\n",
            "Iteration 28800:\tloss_train=59.689484:\tloss_val=62.225319:\tacc_train=0.870000:\tacc_val=0.888095\n",
            "\n",
            "\n",
            "Iteration 28900:\tloss_train=59.266975:\tloss_val=62.067471:\tacc_train=0.870000:\tacc_val=0.888095\n",
            "\n",
            "\n",
            "Iteration 29000:\tloss_train=61.453972:\tloss_val=61.996998:\tacc_train=0.860000:\tacc_val=0.888095\n",
            "\n",
            "\n",
            "Iteration 29100:\tloss_train=61.090820:\tloss_val=61.852184:\tacc_train=0.870000:\tacc_val=0.888095\n",
            "\n",
            "\n",
            "Iteration 29200:\tloss_train=63.335217:\tloss_val=61.697876:\tacc_train=0.870000:\tacc_val=0.888095\n",
            "\n",
            "\n",
            "Iteration 29300:\tloss_train=55.869629:\tloss_val=61.534416:\tacc_train=0.880000:\tacc_val=0.888095\n",
            "\n",
            "\n",
            "Iteration 29400:\tloss_train=62.632420:\tloss_val=61.463203:\tacc_train=0.890000:\tacc_val=0.888095\n",
            "\n",
            "\n",
            "Iteration 29500:\tloss_train=53.331635:\tloss_val=61.318844:\tacc_train=0.880000:\tacc_val=0.888095\n",
            "\n",
            "\n",
            "Iteration 29600:\tloss_train=66.677948:\tloss_val=61.189030:\tacc_train=0.830000:\tacc_val=0.890476\n",
            "\n",
            "\n",
            "Iteration 29700:\tloss_train=60.288574:\tloss_val=61.004333:\tacc_train=0.870000:\tacc_val=0.888095\n",
            "\n",
            "\n",
            "Iteration 29800:\tloss_train=59.544861:\tloss_val=60.947651:\tacc_train=0.860000:\tacc_val=0.885714\n",
            "\n",
            "\n",
            "Iteration 29900:\tloss_train=65.286079:\tloss_val=60.796352:\tacc_train=0.860000:\tacc_val=0.888095\n",
            "\n",
            "\n"
          ]
        }
      ],
      "source": [
        "history = {'acc_train':list(),'acc_val':list(),\n",
        "           'loss_train':list(),'loss_val':list()}\n",
        "with tf.Session() as sess:\n",
        "    sess.run(tf.global_variables_initializer())\n",
        "    \n",
        "    for i in range(30000):\n",
        "        batch = ch.next_batch(100)\n",
        "        sess.run(train, feed_dict={X: batch[0], Y_true: batch[1]})\n",
        "        \n",
        "        # PRINT OUT A MESSAGE EVERY 100 STEPS\n",
        "        if i%100 == 0:\n",
        "            \n",
        "            # Test the Train Model\n",
        "            feed_dict_train = {X: batch[0], Y_true: batch[1]}\n",
        "            feed_dict_val = {X:ch.test_images, Y_true:ch.test_labels}\n",
        "\n",
        "            matches = tf.equal(tf.argmax(Y,1),tf.argmax(Y_true,1))\n",
        "            acc = tf.reduce_mean(tf.cast(matches,tf.float32))\n",
        "            history['acc_train'].append(sess.run(acc, feed_dict = feed_dict_train))\n",
        "            history['acc_val'].append(sess.run(acc, feed_dict = feed_dict_val))\n",
        "\n",
        "            history['loss_train'].append(sess.run(cross_entropy, feed_dict = feed_dict_train))\n",
        "            history['loss_val'].append(sess.run(cross_entropy, feed_dict = feed_dict_val))\n",
        "            \n",
        "            print(\"Iteration {}:\\tloss_train={:.6f}:\\tloss_val={:.6f}:\\tacc_train={:.6f}:\\tacc_val={:.6f}\"\n",
        "                  .format(i,history['loss_train'][-1],history['loss_val'][-1],history['acc_train'][-1],history['acc_val'][-1]))\n",
        "            \n",
        "            print('\\n')\n",
        "        \n",
        "    saver.save(sess,'models_saving/my_model.ckpt')"
      ]
    },
    {
      "cell_type": "code",
      "execution_count": 254,
      "metadata": {
        "colab": {
          "base_uri": "https://localhost:8080/",
          "height": 282
        },
        "colab_type": "code",
        "id": "s5rC6lSIAR-P",
        "outputId": "ed9fa49d-40e6-4f4f-b965-74cb68adfa34"
      },
      "outputs": [
        {
          "data": {
            "text/plain": [
              "[<matplotlib.lines.Line2D at 0x7fd96c6ab240>]"
            ]
          },
          "execution_count": 254,
          "metadata": {
            "tags": []
          },
          "output_type": "execute_result"
        },
        {
          "data": {
            "image/png": "[encoded data removed]",
            "text/plain": [
              "<Figure size 432x288 with 1 Axes>"
            ]
          },
          "metadata": {
            "tags": []
          },
          "output_type": "display_data"
        }
      ],
      "source": [
        "plt.plot(history['acc_train'],'b*')\n",
        "plt.plot(history['acc_val'],'r*')"
      ]
    },
    {
      "cell_type": "code",
      "execution_count": 255,
      "metadata": {
        "colab": {
          "base_uri": "https://localhost:8080/",
          "height": 282
        },
        "colab_type": "code",
        "id": "tkToA3CjBxJe",
        "outputId": "c1dd28a6-ea31-44e4-e41d-1225b00cd7f0"
      },
      "outputs": [
        {
          "data": {
            "text/plain": [
              "[<matplotlib.lines.Line2D at 0x7fd96c6ab0f0>]"
            ]
          },
          "execution_count": 255,
          "metadata": {
            "tags": []
          },
          "output_type": "execute_result"
        },
        {
          "data": {
            "image/png": "[encoded data removed]",
            "text/plain": [
              "<Figure size 432x288 with 1 Axes>"
            ]
          },
          "metadata": {
            "tags": []
          },
          "output_type": "display_data"
        }
      ],
      "source": [
        "plt.plot(history['loss_train'],'b*')\n",
        "plt.plot(history['loss_val'],'r*')"
      ]
    },
    {
      "cell_type": "markdown",
      "metadata": {
        "colab_type": "text",
        "id": "X9uiFJ-ogBRi"
      },
      "source": [
        "### Loading a Model"
      ]
    },
    {
      "cell_type": "code",
      "execution_count": 0,
      "metadata": {
        "colab": {},
        "colab_type": "code",
        "id": "Xo1mKz1aCmWf"
      },
      "outputs": [],
      "source": [
        "unlabeled_images_test = pd.read_csv('gdrive/My Drive/dataML/test.csv')\n",
        "#unlabeled_images_test = pd.read_csv('test.csv')"
      ]
    },
    {
      "cell_type": "code",
      "execution_count": 0,
      "metadata": {
        "colab": {},
        "colab_type": "code",
        "id": "SB5PoV4uDu_0"
      },
      "outputs": [],
      "source": [
        "X_unlabeled = unlabeled_images_test.values.reshape(unlabeled_images_test.shape[0],28,28,1)/255"
      ]
    },
    {
      "cell_type": "code",
      "execution_count": 265,
      "metadata": {
        "colab": {
          "base_uri": "https://localhost:8080/",
          "height": 34
        },
        "colab_type": "code",
        "id": "dbtjpi8JgBRj",
        "outputId": "38d35ea3-7c67-4544-80f8-6d93388ddf22"
      },
      "outputs": [
        {
          "name": "stdout",
          "output_type": "stream",
          "text": [
            "INFO:tensorflow:Restoring parameters from models_saving/my_model.ckpt\n"
          ]
        }
      ],
      "source": [
        "with tf.Session() as sess:\n",
        "    \n",
        "    # Restore the model\n",
        "    saver.restore(sess, 'models_saving/my_model.ckpt')\n",
        "    \n",
        "\n",
        "    # Fetch Back Results\n",
        "    label = sess.run(Y, feed_dict={X:X_unlabeled})"
      ]
    },
    {
      "cell_type": "code",
      "execution_count": 0,
      "metadata": {
        "colab": {},
        "colab_type": "code",
        "id": "9KWKoSzEgBRq"
      },
      "outputs": [],
      "source": [
        "label = np.argmax(label, axis=1 )"
      ]
    },
    {
      "cell_type": "code",
      "execution_count": 0,
      "metadata": {
        "colab": {},
        "colab_type": "code",
        "id": "hCR-AZTmgBRt",
        "outputId": "15cd3ce6-3b5d-4d1e-ff47-c470d7594ecf"
      },
      "outputs": [
        {
          "data": {
            "text/plain": [
              "(28000,)"
            ]
          },
          "execution_count": 147,
          "metadata": {
            "tags": []
          },
          "output_type": "execute_result"
        }
      ],
      "source": [
        "label.shape"
      ]
    },
    {
      "cell_type": "markdown",
      "metadata": {
        "colab_type": "text",
        "id": "u13ffZdjrqQf"
      },
      "source": [
        "### Predict"
      ]
    },
    {
      "cell_type": "code",
      "execution_count": 0,
      "metadata": {
        "colab": {},
        "colab_type": "code",
        "id": "In9n3ZirrqQg"
      },
      "outputs": [],
      "source": [
        "unlabeled_images_test = pd.read_csv('gdrive/My Drive/dataML/test.csv')\n",
        "#unlabeled_images_test = pd.read_csv('test.csv')"
      ]
    },
    {
      "cell_type": "code",
      "execution_count": 0,
      "metadata": {
        "colab": {},
        "colab_type": "code",
        "id": "ErPyp1xIrqQi"
      },
      "outputs": [],
      "source": [
        "X_unlabeled = unlabeled_images_test.values.reshape(unlabeled_images_test.shape[0],28,28,1)/255"
      ]
    },
    {
      "cell_type": "code",
      "execution_count": 0,
      "metadata": {
        "colab": {
          "base_uri": "https://localhost:8080/",
          "height": 282
        },
        "colab_type": "code",
        "id": "0f6xn42MrqQk",
        "outputId": "be1e8ef0-ff29-43e5-bc02-b33c5b515d43"
      },
      "outputs": [
        {
          "data": {
            "text/plain": [
              "<matplotlib.image.AxesImage at 0x7f077569d588>"
            ]
          },
          "execution_count": 24,
          "metadata": {
            "tags": []
          },
          "output_type": "execute_result"
        },
        {
          "data": {
            "image/png": "[encoded data removed]",
            "text/plain": [
              "<Figure size 432x288 with 1 Axes>"
            ]
          },
          "metadata": {
            "tags": []
          },
          "output_type": "display_data"
        }
      ],
      "source": [
        "plt.imshow(X_unlabeled[1].reshape(28,28))"
      ]
    },
    {
      "cell_type": "code",
      "execution_count": 0,
      "metadata": {
        "colab": {
          "base_uri": "https://localhost:8080/",
          "height": 34
        },
        "colab_type": "code",
        "id": "3QYd9lBwrqQo",
        "outputId": "e287e92d-d7c5-4e6b-cc37-711face336b9"
      },
      "outputs": [
        {
          "data": {
            "text/plain": [
              "(28000, 28, 28, 1)"
            ]
          },
          "execution_count": 25,
          "metadata": {
            "tags": []
          },
          "output_type": "execute_result"
        }
      ],
      "source": [
        "X_unlabeled.shape"
      ]
    },
    {
      "cell_type": "markdown",
      "metadata": {
        "colab_type": "text",
        "id": "ojRKNc76gBRx"
      },
      "source": [
        "## Predict the unlabeled test sets using the model"
      ]
    },
    {
      "cell_type": "code",
      "execution_count": 0,
      "metadata": {
        "colab": {},
        "colab_type": "code",
        "id": "yQrGiou8gBRy"
      },
      "outputs": [],
      "source": [
        "imageId = np.arange(1,label.shape[0]+1).tolist()"
      ]
    },
    {
      "cell_type": "code",
      "execution_count": 0,
      "metadata": {
        "colab": {},
        "colab_type": "code",
        "id": "9Oj02pY3gBR1"
      },
      "outputs": [],
      "source": [
        "prediction_pd = pd.DataFrame({'ImageId':imageId, 'Label':label})"
      ]
    },
    {
      "cell_type": "code",
      "execution_count": 0,
      "metadata": {
        "colab": {},
        "colab_type": "code",
        "id": "VLjMgeXEgBR4"
      },
      "outputs": [],
      "source": [
        "prediction_pd.to_csv('out_cnn4.csv',sep = ',', index = False)"
      ]
    },
    {
      "cell_type": "code",
      "execution_count": 0,
      "metadata": {
        "colab": {},
        "colab_type": "code",
        "id": "76xhwmO1gBR6"
      },
      "outputs": [],
      "source": [
        ""
      ]
    }
  ],
  "metadata": {
    "colab": {
      "name": "1 DL One Layer NN for DigitRecognizer.ipynb",
      "version": "0.3.2",
      "provenance": [],
      "collapsed_sections": [
        "f87cEn1_xfqI",
        "4RIGVSojmy-R",
        "4keUL7d0gBQZ",
        "X9uiFJ-ogBRi",
        "u13ffZdjrqQf"
      ]
    },
    "kernelspec": {
      "name": "python3",
      "display_name": "Python 3"
    },
    "accelerator": "GPU"
  },
  "nbformat": 4,
  "nbformat_minor": 0
}