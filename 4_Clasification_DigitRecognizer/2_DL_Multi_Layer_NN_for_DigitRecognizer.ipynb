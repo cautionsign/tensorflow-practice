{
  "cells": [
    {
      "metadata": {
        "id": "JS6jP7tpCrLr",
        "colab_type": "text"
      },
      "cell_type": "markdown",
      "source": [
        "## Digit Recognizer\n",
        "Learn computer vision fundamentals with the famous MNIST dat\n",
        "\n",
        "https://www.kaggle.com/c/digit-recognizer\n",
        "\n",
        "### Competition Description\n",
        "MNIST (\"Modified National Institute of Standards and Technology\") is the de facto “hello world” dataset of computer vision. Since its release in 1999, this classic dataset of handwritten images has served as the basis for benchmarking classification algorithms. As new machine learning techniques emerge, MNIST remains a reliable resource for researchers and learners alike.\n",
        "\n",
        "In this competition, your goal is to correctly identify digits from a dataset of tens of thousands of handwritten images. We’ve curated a set of tutorial-style kernels which cover everything from regression to neural networks. We encourage you to experiment with different algorithms to learn first-hand what works well and how techniques compare.\n",
        "\n",
        "### Practice Skills\n",
        "Computer vision fundamentals including simple neural networks\n",
        "\n",
        "Classification methods such as SVM and K-nearest neighbors\n",
        "\n",
        "#### Acknowledgements \n",
        "More details about the dataset, including algorithms that have been tried on it and their levels of success, can be found at http://yann.lecun.com/exdb/mnist/index.html. The dataset is made available under a Creative Commons Attribution-Share Alike 3.0 license."
      ]
    },
    {
      "cell_type": "code",
      "execution_count": null,
      "metadata": {},
      "outputs": [],
      "source": [
        "# Select tensorflow 1.x (colab only)\n",
        "%tensorflow_version 1.x"
      ]
    },
    {
      "metadata": {
        "id": "LgcAAVmXgBPm",
        "colab_type": "code",
        "colab": {}
      },
      "cell_type": "code",
      "source": [
        "import pandas as pd\n",
        "import math\n",
        "import numpy as np\n",
        "import matplotlib.pyplot as plt, matplotlib.image as mpimg\n",
        "from sklearn.model_selection import train_test_split\n",
        "import tensorflow as tf\n",
        "%matplotlib inline"
      ],
      "execution_count": 0,
      "outputs": []
    },
    {
      "metadata": {
        "id": "EITzxKZRgBPy",
        "colab_type": "code",
        "colab": {}
      },
      "cell_type": "code",
      "source": [
        "from tensorflow import keras\n",
        "from tensorflow.keras import models\n",
        "from tensorflow.keras import losses,optimizers,metrics\n",
        "from tensorflow.keras import layers"
      ],
      "execution_count": 0,
      "outputs": []
    },
    {
      "metadata": {
        "id": "4PihLjAggBP1",
        "colab_type": "text"
      },
      "cell_type": "markdown",
      "source": [
        "## Data Preparation"
      ]
    },
    {
      "metadata": {
        "id": "cra90fdEsmsI",
        "colab_type": "code",
        "outputId": "d873fca1-d2d0-40dc-9c09-9cb07b14a591",
        "colab": {
          "base_uri": "https://localhost:8080/",
          "height": 34
        }
      },
      "cell_type": "code",
      "source": [
        "from google.colab import drive \n",
        "drive.mount('/content/gdrive')"
      ],
      "execution_count": 57,
      "outputs": [
        {
          "output_type": "stream",
          "text": [
            "Drive already mounted at /content/gdrive; to attempt to forcibly remount, call drive.mount(\"/content/gdrive\", force_remount=True).\n"
          ],
          "name": "stdout"
        }
      ]
    },
    {
      "metadata": {
        "id": "K58DeQH2gBP2",
        "colab_type": "code",
        "colab": {}
      },
      "cell_type": "code",
      "source": [
        "labeled_images = pd.read_csv('gdrive/My Drive/dataML/train.csv')\n",
        "#labeled_images = pd.read_csv('train.csv')\n",
        "images = labeled_images.iloc[:,1:]\n",
        "labels = labeled_images.iloc[:,:1]\n",
        "train_images, test_images,train_labels, test_labels = train_test_split(images, labels, test_size=0.01)"
      ],
      "execution_count": 0,
      "outputs": []
    },
    {
      "metadata": {
        "id": "At9soAW0qOs4",
        "colab_type": "code",
        "outputId": "f4fa52ce-be55-4e43-dccc-e72632b8fe93",
        "colab": {
          "base_uri": "https://localhost:8080/",
          "height": 85
        }
      },
      "cell_type": "code",
      "source": [
        "print(train_images.shape)\n",
        "print(train_labels.shape)\n",
        "print(test_images.shape)\n",
        "print(test_labels.shape)"
      ],
      "execution_count": 39,
      "outputs": [
        {
          "output_type": "stream",
          "text": [
            "(41580, 784)\n",
            "(41580, 1)\n",
            "(420, 784)\n",
            "(420, 1)\n"
          ],
          "name": "stdout"
        }
      ]
    },
    {
      "metadata": {
        "id": "f87cEn1_xfqI",
        "colab_type": "text"
      },
      "cell_type": "markdown",
      "source": [
        "## Keras"
      ]
    },
    {
      "metadata": {
        "id": "UfkBgDM1gBP5",
        "colab_type": "text"
      },
      "cell_type": "markdown",
      "source": [
        "#### convert the data to the right type"
      ]
    },
    {
      "metadata": {
        "id": "-X3Uu-o_gBP6",
        "colab_type": "code",
        "colab": {}
      },
      "cell_type": "code",
      "source": [
        "x_train = train_images.values.reshape(train_images.shape[0],28,28,1)\n",
        "x_test = test_images.values.reshape(test_images.shape[0],28,28,1)\n",
        "y_train = train_labels.values\n",
        "y_test = test_labels.values"
      ],
      "execution_count": 0,
      "outputs": []
    },
    {
      "metadata": {
        "id": "7vboLIlsgBP9",
        "colab_type": "code",
        "colab": {
          "base_uri": "https://localhost:8080/",
          "height": 282
        },
        "outputId": "b12b1420-306e-4486-a168-7e5da894cb45"
      },
      "cell_type": "code",
      "source": [
        "plt.imshow(x_train[12].squeeze())"
      ],
      "execution_count": 41,
      "outputs": [
        {
          "output_type": "execute_result",
          "data": {
            "text/plain": [
              "<matplotlib.image.AxesImage at 0x7f65316dec88>"
            ]
          },
          "metadata": {
            "tags": []
          },
          "execution_count": 41
        },
        {
          "output_type": "display_data",
          "data": {
            "image/png": "[encoded data removed]",
            "text/plain": [
              "<Figure size 432x288 with 1 Axes>"
            ]
          },
          "metadata": {
            "tags": []
          }
        }
      ]
    },
    {
      "metadata": {
        "id": "b6I1adl5gBQD",
        "colab_type": "text"
      },
      "cell_type": "markdown",
      "source": [
        "#### convert the data to the right type"
      ]
    },
    {
      "metadata": {
        "id": "GAIvNCv6gBQE",
        "colab_type": "code",
        "outputId": "e6f42659-0766-4f2c-df33-fba496026756",
        "colab": {
          "base_uri": "https://localhost:8080/",
          "height": 68
        }
      },
      "cell_type": "code",
      "source": [
        "x_train = train_images\n",
        "x_test = test_images\n",
        "x_train /= 255\n",
        "x_test /= 255\n",
        "y_train = train_labels\n",
        "y_test = test_labels\n",
        "print('x_train shape:', x_train.shape)\n",
        "print(x_train.shape[0], 'train samples')\n",
        "print(x_test.shape[0], 'test samples')"
      ],
      "execution_count": 42,
      "outputs": [
        {
          "output_type": "stream",
          "text": [
            "x_train shape: (41580, 784)\n",
            "41580 train samples\n",
            "420 test samples\n"
          ],
          "name": "stdout"
        }
      ]
    },
    {
      "metadata": {
        "collapsed": true,
        "id": "xeMZR7ntgBQI",
        "colab_type": "text"
      },
      "cell_type": "markdown",
      "source": [
        "### convert class vectors to binary class matrices - this is for use in the\n",
        "### categorical_crossentropy loss below"
      ]
    },
    {
      "metadata": {
        "id": "8e2qjHPLgBQJ",
        "colab_type": "code",
        "colab": {}
      },
      "cell_type": "code",
      "source": [
        "y_train = keras.utils.to_categorical(y_train)\n",
        "y_test = keras.utils.to_categorical(y_test)"
      ],
      "execution_count": 0,
      "outputs": []
    },
    {
      "metadata": {
        "id": "LT78eGccgBQN",
        "colab_type": "text"
      },
      "cell_type": "markdown",
      "source": [
        "### Creating the Model\n"
      ]
    },
    {
      "metadata": {
        "id": "AMOStnPCFWSI",
        "colab_type": "code",
        "outputId": "67e94478-d67d-40c4-e1c6-b1f9840d6c3e",
        "colab": {
          "base_uri": "https://localhost:8080/",
          "height": 513
        }
      },
      "cell_type": "code",
      "source": [
        "model = models.Sequential()\n",
        "\n",
        "model.add(layers.Dense(units=200, activation='relu',input_shape=(784,)))\n",
        "model.add(layers.Dropout(0.25))\n",
        "\n",
        "model.add(layers.Dense(units=100, activation='relu'))\n",
        "model.add(layers.Dropout(0.25))\n",
        "\n",
        "model.add(layers.Dense(units=60, activation='relu'))\n",
        "model.add(layers.Dropout(0.25))\n",
        "\n",
        "model.add(layers.Dense(units=30, activation='relu'))\n",
        "model.add(layers.Dropout(0.25))\n",
        "\n",
        "model.add(layers.Dense(units=10, activation='softmax'))\n",
        "\n",
        "model.summary()          "
      ],
      "execution_count": 46,
      "outputs": [
        {
          "output_type": "stream",
          "text": [
            "WARNING:tensorflow:From /usr/local/lib/python3.6/dist-packages/tensorflow/python/keras/layers/core.py:143: calling dropout (from tensorflow.python.ops.nn_ops) with keep_prob is deprecated and will be removed in a future version.\n",
            "Instructions for updating:\n",
            "Please use `rate` instead of `keep_prob`. Rate should be set to `rate = 1 - keep_prob`.\n",
            "_________________________________________________________________\n",
            "Layer (type)                 Output Shape              Param #   \n",
            "=================================================================\n",
            "dense (Dense)                (None, 200)               157000    \n",
            "_________________________________________________________________\n",
            "dropout (Dropout)            (None, 200)               0         \n",
            "_________________________________________________________________\n",
            "dense_1 (Dense)              (None, 100)               20100     \n",
            "_________________________________________________________________\n",
            "dropout_1 (Dropout)          (None, 100)               0         \n",
            "_________________________________________________________________\n",
            "dense_2 (Dense)              (None, 60)                6060      \n",
            "_________________________________________________________________\n",
            "dropout_2 (Dropout)          (None, 60)                0         \n",
            "_________________________________________________________________\n",
            "dense_3 (Dense)              (None, 30)                1830      \n",
            "_________________________________________________________________\n",
            "dropout_3 (Dropout)          (None, 30)                0         \n",
            "_________________________________________________________________\n",
            "dense_4 (Dense)              (None, 10)                310       \n",
            "=================================================================\n",
            "Total params: 185,300\n",
            "Trainable params: 185,300\n",
            "Non-trainable params: 0\n",
            "_________________________________________________________________\n"
          ],
          "name": "stdout"
        }
      ]
    },
    {
      "metadata": {
        "id": "BLdOV8vYgBQS",
        "colab_type": "code",
        "colab": {}
      },
      "cell_type": "code",
      "source": [
        "adam = keras.optimizers.Adam(lr = 0.0001)\n",
        "\n",
        "model.compile(loss=keras.losses.categorical_crossentropy, \n",
        "              optimizer=adam, \n",
        "              metrics=['accuracy'])"
      ],
      "execution_count": 0,
      "outputs": []
    },
    {
      "metadata": {
        "id": "pxI5Gi4xgBQV",
        "colab_type": "code",
        "outputId": "8f81e033-49ed-4cbb-bb7b-0bb92596fc75",
        "colab": {
          "base_uri": "https://localhost:8080/",
          "height": 10234
        }
      },
      "cell_type": "code",
      "source": [
        "H = model.fit(x_train, y_train,\n",
        "          batch_size=100,\n",
        "          epochs=300,\n",
        "          verbose=1,\n",
        "          validation_data=(x_test, y_test))"
      ],
      "execution_count": 54,
      "outputs": [
        {
          "output_type": "stream",
          "text": [
            "Train on 41580 samples, validate on 420 samples\n",
            "Epoch 1/300\n",
            "41580/41580 [==============================] - 5s 118us/sample - loss: 0.7477 - acc: 0.7655 - val_loss: 0.3542 - val_acc: 0.9095\n",
            "Epoch 2/300\n",
            "41580/41580 [==============================] - 4s 106us/sample - loss: 0.5722 - acc: 0.8306 - val_loss: 0.2722 - val_acc: 0.9143\n",
            "Epoch 3/300\n",
            "41580/41580 [==============================] - 4s 106us/sample - loss: 0.4821 - acc: 0.8623 - val_loss: 0.2321 - val_acc: 0.9381\n",
            "Epoch 4/300\n",
            "41580/41580 [==============================] - 4s 107us/sample - loss: 0.4089 - acc: 0.8867 - val_loss: 0.2080 - val_acc: 0.9405\n",
            "Epoch 5/300\n",
            "41580/41580 [==============================] - 4s 107us/sample - loss: 0.3600 - acc: 0.9008 - val_loss: 0.1891 - val_acc: 0.9452\n",
            "Epoch 6/300\n",
            "41580/41580 [==============================] - 4s 107us/sample - loss: 0.3222 - acc: 0.9113 - val_loss: 0.1781 - val_acc: 0.9405\n",
            "Epoch 7/300\n",
            "41580/41580 [==============================] - 4s 107us/sample - loss: 0.2986 - acc: 0.9197 - val_loss: 0.1643 - val_acc: 0.9524\n",
            "Epoch 8/300\n",
            "41580/41580 [==============================] - 4s 108us/sample - loss: 0.2733 - acc: 0.9261 - val_loss: 0.1603 - val_acc: 0.9524\n",
            "Epoch 9/300\n",
            "41580/41580 [==============================] - 4s 107us/sample - loss: 0.2532 - acc: 0.9317 - val_loss: 0.1529 - val_acc: 0.9524\n",
            "Epoch 10/300\n",
            "41580/41580 [==============================] - 4s 107us/sample - loss: 0.2361 - acc: 0.9372 - val_loss: 0.1488 - val_acc: 0.9500\n",
            "Epoch 11/300\n",
            "41580/41580 [==============================] - 4s 106us/sample - loss: 0.2207 - acc: 0.9411 - val_loss: 0.1499 - val_acc: 0.9548\n",
            "Epoch 12/300\n",
            "41580/41580 [==============================] - 4s 106us/sample - loss: 0.2042 - acc: 0.9464 - val_loss: 0.1316 - val_acc: 0.9548\n",
            "Epoch 13/300\n",
            "41580/41580 [==============================] - 4s 107us/sample - loss: 0.1924 - acc: 0.9486 - val_loss: 0.1291 - val_acc: 0.9619\n",
            "Epoch 14/300\n",
            "41580/41580 [==============================] - 4s 106us/sample - loss: 0.1845 - acc: 0.9508 - val_loss: 0.1294 - val_acc: 0.9619\n",
            "Epoch 15/300\n",
            "41580/41580 [==============================] - 4s 107us/sample - loss: 0.1737 - acc: 0.9544 - val_loss: 0.1229 - val_acc: 0.9595\n",
            "Epoch 16/300\n",
            "41580/41580 [==============================] - 4s 107us/sample - loss: 0.1643 - acc: 0.9565 - val_loss: 0.1137 - val_acc: 0.9667\n",
            "Epoch 17/300\n",
            "41580/41580 [==============================] - 4s 106us/sample - loss: 0.1587 - acc: 0.9576 - val_loss: 0.1219 - val_acc: 0.9643\n",
            "Epoch 18/300\n",
            "41580/41580 [==============================] - 4s 106us/sample - loss: 0.1498 - acc: 0.9607 - val_loss: 0.1167 - val_acc: 0.9667\n",
            "Epoch 19/300\n",
            "41580/41580 [==============================] - 4s 107us/sample - loss: 0.1445 - acc: 0.9621 - val_loss: 0.1144 - val_acc: 0.9667\n",
            "Epoch 20/300\n",
            "41580/41580 [==============================] - 4s 107us/sample - loss: 0.1379 - acc: 0.9650 - val_loss: 0.1148 - val_acc: 0.9690\n",
            "Epoch 21/300\n",
            "41580/41580 [==============================] - 4s 106us/sample - loss: 0.1309 - acc: 0.9649 - val_loss: 0.1063 - val_acc: 0.9690\n",
            "Epoch 22/300\n",
            "41580/41580 [==============================] - 4s 107us/sample - loss: 0.1282 - acc: 0.9657 - val_loss: 0.1119 - val_acc: 0.9690\n",
            "Epoch 23/300\n",
            "41580/41580 [==============================] - 4s 106us/sample - loss: 0.1219 - acc: 0.9678 - val_loss: 0.1175 - val_acc: 0.9667\n",
            "Epoch 24/300\n",
            "41580/41580 [==============================] - 4s 106us/sample - loss: 0.1158 - acc: 0.9698 - val_loss: 0.1144 - val_acc: 0.9690\n",
            "Epoch 25/300\n",
            "41580/41580 [==============================] - 4s 106us/sample - loss: 0.1104 - acc: 0.9714 - val_loss: 0.1218 - val_acc: 0.9667\n",
            "Epoch 26/300\n",
            "41580/41580 [==============================] - 4s 107us/sample - loss: 0.1094 - acc: 0.9718 - val_loss: 0.1012 - val_acc: 0.9690\n",
            "Epoch 27/300\n",
            "41580/41580 [==============================] - 4s 106us/sample - loss: 0.1045 - acc: 0.9726 - val_loss: 0.1001 - val_acc: 0.9714\n",
            "Epoch 28/300\n",
            "41580/41580 [==============================] - 4s 106us/sample - loss: 0.1030 - acc: 0.9729 - val_loss: 0.1008 - val_acc: 0.9738\n",
            "Epoch 29/300\n",
            "41580/41580 [==============================] - 4s 106us/sample - loss: 0.0970 - acc: 0.9743 - val_loss: 0.1141 - val_acc: 0.9738\n",
            "Epoch 30/300\n",
            "41580/41580 [==============================] - 4s 107us/sample - loss: 0.0943 - acc: 0.9747 - val_loss: 0.1156 - val_acc: 0.9714\n",
            "Epoch 31/300\n",
            "41580/41580 [==============================] - 4s 106us/sample - loss: 0.0907 - acc: 0.9755 - val_loss: 0.1176 - val_acc: 0.9714\n",
            "Epoch 32/300\n",
            "41580/41580 [==============================] - 4s 106us/sample - loss: 0.0867 - acc: 0.9774 - val_loss: 0.1128 - val_acc: 0.9762\n",
            "Epoch 33/300\n",
            "41580/41580 [==============================] - 4s 107us/sample - loss: 0.0853 - acc: 0.9778 - val_loss: 0.1214 - val_acc: 0.9714\n",
            "Epoch 34/300\n",
            "41580/41580 [==============================] - 4s 107us/sample - loss: 0.0802 - acc: 0.9788 - val_loss: 0.0992 - val_acc: 0.9738\n",
            "Epoch 35/300\n",
            "41580/41580 [==============================] - 4s 107us/sample - loss: 0.0785 - acc: 0.9794 - val_loss: 0.1172 - val_acc: 0.9690\n",
            "Epoch 36/300\n",
            "41580/41580 [==============================] - 4s 107us/sample - loss: 0.0779 - acc: 0.9789 - val_loss: 0.1168 - val_acc: 0.9714\n",
            "Epoch 37/300\n",
            "41580/41580 [==============================] - 4s 106us/sample - loss: 0.0739 - acc: 0.9800 - val_loss: 0.1139 - val_acc: 0.9714\n",
            "Epoch 38/300\n",
            "41580/41580 [==============================] - 4s 106us/sample - loss: 0.0711 - acc: 0.9804 - val_loss: 0.1130 - val_acc: 0.9714\n",
            "Epoch 39/300\n",
            "41580/41580 [==============================] - 4s 107us/sample - loss: 0.0688 - acc: 0.9819 - val_loss: 0.1053 - val_acc: 0.9738\n",
            "Epoch 40/300\n",
            "41580/41580 [==============================] - 4s 106us/sample - loss: 0.0689 - acc: 0.9808 - val_loss: 0.1233 - val_acc: 0.9762\n",
            "Epoch 41/300\n",
            "41580/41580 [==============================] - 4s 106us/sample - loss: 0.0663 - acc: 0.9822 - val_loss: 0.1180 - val_acc: 0.9738\n",
            "Epoch 42/300\n",
            "41580/41580 [==============================] - 4s 107us/sample - loss: 0.0608 - acc: 0.9832 - val_loss: 0.1244 - val_acc: 0.9714\n",
            "Epoch 43/300\n",
            "41580/41580 [==============================] - 4s 106us/sample - loss: 0.0607 - acc: 0.9844 - val_loss: 0.1212 - val_acc: 0.9738\n",
            "Epoch 44/300\n",
            "41580/41580 [==============================] - 4s 106us/sample - loss: 0.0576 - acc: 0.9844 - val_loss: 0.1090 - val_acc: 0.9762\n",
            "Epoch 45/300\n",
            "41580/41580 [==============================] - 4s 106us/sample - loss: 0.0614 - acc: 0.9841 - val_loss: 0.1098 - val_acc: 0.9738\n",
            "Epoch 46/300\n",
            "41580/41580 [==============================] - 4s 106us/sample - loss: 0.0587 - acc: 0.9837 - val_loss: 0.1202 - val_acc: 0.9738\n",
            "Epoch 47/300\n",
            "41580/41580 [==============================] - 4s 106us/sample - loss: 0.0558 - acc: 0.9850 - val_loss: 0.1333 - val_acc: 0.9714\n",
            "Epoch 48/300\n",
            "41580/41580 [==============================] - 4s 107us/sample - loss: 0.0560 - acc: 0.9844 - val_loss: 0.1296 - val_acc: 0.9714\n",
            "Epoch 49/300\n",
            "41580/41580 [==============================] - 4s 108us/sample - loss: 0.0523 - acc: 0.9854 - val_loss: 0.1357 - val_acc: 0.9738\n",
            "Epoch 50/300\n",
            "41580/41580 [==============================] - 4s 107us/sample - loss: 0.0540 - acc: 0.9856 - val_loss: 0.1286 - val_acc: 0.9738\n",
            "Epoch 51/300\n",
            "41580/41580 [==============================] - 4s 105us/sample - loss: 0.0499 - acc: 0.9860 - val_loss: 0.1165 - val_acc: 0.9738\n",
            "Epoch 52/300\n",
            "41580/41580 [==============================] - 4s 106us/sample - loss: 0.0480 - acc: 0.9868 - val_loss: 0.1333 - val_acc: 0.9738\n",
            "Epoch 53/300\n",
            "41580/41580 [==============================] - 4s 105us/sample - loss: 0.0493 - acc: 0.9865 - val_loss: 0.1328 - val_acc: 0.9714\n",
            "Epoch 54/300\n",
            "41580/41580 [==============================] - 4s 107us/sample - loss: 0.0483 - acc: 0.9867 - val_loss: 0.1210 - val_acc: 0.9738\n",
            "Epoch 55/300\n",
            "41580/41580 [==============================] - 4s 106us/sample - loss: 0.0444 - acc: 0.9878 - val_loss: 0.1374 - val_acc: 0.9738\n",
            "Epoch 56/300\n",
            "41580/41580 [==============================] - 4s 107us/sample - loss: 0.0434 - acc: 0.9881 - val_loss: 0.1324 - val_acc: 0.9762\n",
            "Epoch 57/300\n",
            "41580/41580 [==============================] - 4s 105us/sample - loss: 0.0452 - acc: 0.9877 - val_loss: 0.1369 - val_acc: 0.9738\n",
            "Epoch 58/300\n",
            "41580/41580 [==============================] - 4s 106us/sample - loss: 0.0435 - acc: 0.9886 - val_loss: 0.1337 - val_acc: 0.9738\n",
            "Epoch 59/300\n",
            "41580/41580 [==============================] - 4s 107us/sample - loss: 0.0420 - acc: 0.9888 - val_loss: 0.1259 - val_acc: 0.9786\n",
            "Epoch 60/300\n",
            "41580/41580 [==============================] - 4s 107us/sample - loss: 0.0406 - acc: 0.9883 - val_loss: 0.1329 - val_acc: 0.9762\n",
            "Epoch 61/300\n",
            "41580/41580 [==============================] - 4s 106us/sample - loss: 0.0414 - acc: 0.9889 - val_loss: 0.1327 - val_acc: 0.9714\n",
            "Epoch 62/300\n",
            "41580/41580 [==============================] - 4s 106us/sample - loss: 0.0391 - acc: 0.9892 - val_loss: 0.1314 - val_acc: 0.9738\n",
            "Epoch 63/300\n",
            "41580/41580 [==============================] - 4s 105us/sample - loss: 0.0370 - acc: 0.9902 - val_loss: 0.1269 - val_acc: 0.9762\n",
            "Epoch 64/300\n",
            "41580/41580 [==============================] - 4s 105us/sample - loss: 0.0348 - acc: 0.9905 - val_loss: 0.1458 - val_acc: 0.9714\n",
            "Epoch 65/300\n",
            "41580/41580 [==============================] - 4s 106us/sample - loss: 0.0392 - acc: 0.9892 - val_loss: 0.1432 - val_acc: 0.9762\n",
            "Epoch 66/300\n",
            "41580/41580 [==============================] - 4s 106us/sample - loss: 0.0374 - acc: 0.9898 - val_loss: 0.1553 - val_acc: 0.9714\n",
            "Epoch 67/300\n",
            "41580/41580 [==============================] - 4s 106us/sample - loss: 0.0358 - acc: 0.9908 - val_loss: 0.1456 - val_acc: 0.9738\n",
            "Epoch 68/300\n",
            "41580/41580 [==============================] - 4s 107us/sample - loss: 0.0339 - acc: 0.9911 - val_loss: 0.1415 - val_acc: 0.9762\n",
            "Epoch 69/300\n",
            "41580/41580 [==============================] - 4s 106us/sample - loss: 0.0349 - acc: 0.9911 - val_loss: 0.1700 - val_acc: 0.9738\n",
            "Epoch 70/300\n",
            "41580/41580 [==============================] - 4s 106us/sample - loss: 0.0332 - acc: 0.9910 - val_loss: 0.1500 - val_acc: 0.9762\n",
            "Epoch 71/300\n",
            "41580/41580 [==============================] - 4s 106us/sample - loss: 0.0331 - acc: 0.9912 - val_loss: 0.1388 - val_acc: 0.9738\n",
            "Epoch 72/300\n",
            "41580/41580 [==============================] - 4s 107us/sample - loss: 0.0305 - acc: 0.9917 - val_loss: 0.1209 - val_acc: 0.9738\n",
            "Epoch 73/300\n",
            "41580/41580 [==============================] - 4s 107us/sample - loss: 0.0340 - acc: 0.9910 - val_loss: 0.1141 - val_acc: 0.9738\n",
            "Epoch 74/300\n",
            "41580/41580 [==============================] - 4s 106us/sample - loss: 0.0324 - acc: 0.9919 - val_loss: 0.1432 - val_acc: 0.9762\n",
            "Epoch 75/300\n",
            "41580/41580 [==============================] - 4s 106us/sample - loss: 0.0302 - acc: 0.9920 - val_loss: 0.1581 - val_acc: 0.9738\n",
            "Epoch 76/300\n",
            "41580/41580 [==============================] - 4s 107us/sample - loss: 0.0268 - acc: 0.9929 - val_loss: 0.1241 - val_acc: 0.9738\n",
            "Epoch 77/300\n",
            "41580/41580 [==============================] - 4s 106us/sample - loss: 0.0294 - acc: 0.9917 - val_loss: 0.1399 - val_acc: 0.9786\n",
            "Epoch 78/300\n",
            "41580/41580 [==============================] - 4s 108us/sample - loss: 0.0293 - acc: 0.9922 - val_loss: 0.1225 - val_acc: 0.9762\n",
            "Epoch 79/300\n",
            "41580/41580 [==============================] - 4s 106us/sample - loss: 0.0274 - acc: 0.9930 - val_loss: 0.1527 - val_acc: 0.9762\n",
            "Epoch 80/300\n",
            "41580/41580 [==============================] - 4s 107us/sample - loss: 0.0290 - acc: 0.9920 - val_loss: 0.1298 - val_acc: 0.9786\n",
            "Epoch 81/300\n",
            "41580/41580 [==============================] - 4s 105us/sample - loss: 0.0276 - acc: 0.9922 - val_loss: 0.1287 - val_acc: 0.9762\n",
            "Epoch 82/300\n",
            "41580/41580 [==============================] - 4s 106us/sample - loss: 0.0259 - acc: 0.9928 - val_loss: 0.1454 - val_acc: 0.9738\n",
            "Epoch 83/300\n",
            "41580/41580 [==============================] - 4s 105us/sample - loss: 0.0279 - acc: 0.9924 - val_loss: 0.1612 - val_acc: 0.9738\n",
            "Epoch 84/300\n",
            "41580/41580 [==============================] - 4s 105us/sample - loss: 0.0250 - acc: 0.9937 - val_loss: 0.1641 - val_acc: 0.9714\n",
            "Epoch 85/300\n",
            "41580/41580 [==============================] - 4s 106us/sample - loss: 0.0258 - acc: 0.9929 - val_loss: 0.1769 - val_acc: 0.9738\n",
            "Epoch 86/300\n",
            "41580/41580 [==============================] - 4s 106us/sample - loss: 0.0274 - acc: 0.9925 - val_loss: 0.1626 - val_acc: 0.9762\n",
            "Epoch 87/300\n",
            "41580/41580 [==============================] - 4s 106us/sample - loss: 0.0248 - acc: 0.9939 - val_loss: 0.1502 - val_acc: 0.9762\n",
            "Epoch 88/300\n",
            "41580/41580 [==============================] - 4s 105us/sample - loss: 0.0242 - acc: 0.9935 - val_loss: 0.1823 - val_acc: 0.9714\n",
            "Epoch 89/300\n",
            "41580/41580 [==============================] - 4s 105us/sample - loss: 0.0260 - acc: 0.9932 - val_loss: 0.1528 - val_acc: 0.9762\n",
            "Epoch 90/300\n",
            "41580/41580 [==============================] - 4s 106us/sample - loss: 0.0233 - acc: 0.9941 - val_loss: 0.1427 - val_acc: 0.9786\n",
            "Epoch 91/300\n",
            "41580/41580 [==============================] - 4s 106us/sample - loss: 0.0254 - acc: 0.9931 - val_loss: 0.1535 - val_acc: 0.9738\n",
            "Epoch 92/300\n",
            "41580/41580 [==============================] - 4s 106us/sample - loss: 0.0241 - acc: 0.9938 - val_loss: 0.1298 - val_acc: 0.9762\n",
            "Epoch 93/300\n",
            "41580/41580 [==============================] - 4s 107us/sample - loss: 0.0255 - acc: 0.9932 - val_loss: 0.1823 - val_acc: 0.9738\n",
            "Epoch 94/300\n",
            "41580/41580 [==============================] - 4s 106us/sample - loss: 0.0247 - acc: 0.9936 - val_loss: 0.1604 - val_acc: 0.9738\n",
            "Epoch 95/300\n",
            "41580/41580 [==============================] - 4s 106us/sample - loss: 0.0222 - acc: 0.9940 - val_loss: 0.1611 - val_acc: 0.9738\n",
            "Epoch 96/300\n",
            "41580/41580 [==============================] - 4s 106us/sample - loss: 0.0236 - acc: 0.9938 - val_loss: 0.1751 - val_acc: 0.9738\n",
            "Epoch 97/300\n",
            "41580/41580 [==============================] - 4s 106us/sample - loss: 0.0209 - acc: 0.9945 - val_loss: 0.1550 - val_acc: 0.9762\n",
            "Epoch 98/300\n",
            "41580/41580 [==============================] - 4s 105us/sample - loss: 0.0217 - acc: 0.9942 - val_loss: 0.1538 - val_acc: 0.9762\n",
            "Epoch 99/300\n",
            "41580/41580 [==============================] - 4s 106us/sample - loss: 0.0205 - acc: 0.9945 - val_loss: 0.1587 - val_acc: 0.9762\n",
            "Epoch 100/300\n",
            "41580/41580 [==============================] - 4s 106us/sample - loss: 0.0208 - acc: 0.9948 - val_loss: 0.1408 - val_acc: 0.9762\n",
            "Epoch 101/300\n",
            "41580/41580 [==============================] - 4s 107us/sample - loss: 0.0210 - acc: 0.9943 - val_loss: 0.1553 - val_acc: 0.9738\n",
            "Epoch 102/300\n",
            "41580/41580 [==============================] - 4s 105us/sample - loss: 0.0211 - acc: 0.9943 - val_loss: 0.1296 - val_acc: 0.9762\n",
            "Epoch 103/300\n",
            "41580/41580 [==============================] - 4s 106us/sample - loss: 0.0207 - acc: 0.9947 - val_loss: 0.1349 - val_acc: 0.9762\n",
            "Epoch 104/300\n",
            "41580/41580 [==============================] - 4s 105us/sample - loss: 0.0228 - acc: 0.9938 - val_loss: 0.1174 - val_acc: 0.9762\n",
            "Epoch 105/300\n",
            "41580/41580 [==============================] - 4s 106us/sample - loss: 0.0190 - acc: 0.9949 - val_loss: 0.1303 - val_acc: 0.9810\n",
            "Epoch 106/300\n",
            "41580/41580 [==============================] - 4s 105us/sample - loss: 0.0222 - acc: 0.9943 - val_loss: 0.1509 - val_acc: 0.9714\n",
            "Epoch 107/300\n",
            "41580/41580 [==============================] - 4s 106us/sample - loss: 0.0201 - acc: 0.9944 - val_loss: 0.1356 - val_acc: 0.9786\n",
            "Epoch 108/300\n",
            "41580/41580 [==============================] - 4s 107us/sample - loss: 0.0197 - acc: 0.9948 - val_loss: 0.1312 - val_acc: 0.9714\n",
            "Epoch 109/300\n",
            "41580/41580 [==============================] - 4s 106us/sample - loss: 0.0195 - acc: 0.9946 - val_loss: 0.1252 - val_acc: 0.9738\n",
            "Epoch 110/300\n",
            "41580/41580 [==============================] - 4s 107us/sample - loss: 0.0198 - acc: 0.9944 - val_loss: 0.1581 - val_acc: 0.9738\n",
            "Epoch 111/300\n",
            "41580/41580 [==============================] - 4s 107us/sample - loss: 0.0218 - acc: 0.9943 - val_loss: 0.1436 - val_acc: 0.9762\n",
            "Epoch 112/300\n",
            "41580/41580 [==============================] - 4s 106us/sample - loss: 0.0193 - acc: 0.9949 - val_loss: 0.1551 - val_acc: 0.9786\n",
            "Epoch 113/300\n",
            "41580/41580 [==============================] - 4s 106us/sample - loss: 0.0166 - acc: 0.9958 - val_loss: 0.1531 - val_acc: 0.9690\n",
            "Epoch 114/300\n",
            "41580/41580 [==============================] - 4s 106us/sample - loss: 0.0195 - acc: 0.9949 - val_loss: 0.1617 - val_acc: 0.9714\n",
            "Epoch 115/300\n",
            "41580/41580 [==============================] - 4s 107us/sample - loss: 0.0181 - acc: 0.9953 - val_loss: 0.1789 - val_acc: 0.9690\n",
            "Epoch 116/300\n",
            "41580/41580 [==============================] - 4s 106us/sample - loss: 0.0186 - acc: 0.9948 - val_loss: 0.1611 - val_acc: 0.9738\n",
            "Epoch 117/300\n",
            "41580/41580 [==============================] - 4s 106us/sample - loss: 0.0192 - acc: 0.9948 - val_loss: 0.1520 - val_acc: 0.9762\n",
            "Epoch 118/300\n",
            "41580/41580 [==============================] - 4s 106us/sample - loss: 0.0174 - acc: 0.9956 - val_loss: 0.1568 - val_acc: 0.9786\n",
            "Epoch 119/300\n",
            "41580/41580 [==============================] - 4s 107us/sample - loss: 0.0179 - acc: 0.9953 - val_loss: 0.1594 - val_acc: 0.9786\n",
            "Epoch 120/300\n",
            "41580/41580 [==============================] - 4s 106us/sample - loss: 0.0165 - acc: 0.9960 - val_loss: 0.1427 - val_acc: 0.9762\n",
            "Epoch 121/300\n",
            "41580/41580 [==============================] - 4s 106us/sample - loss: 0.0177 - acc: 0.9951 - val_loss: 0.1540 - val_acc: 0.9786\n",
            "Epoch 122/300\n",
            "41580/41580 [==============================] - 4s 106us/sample - loss: 0.0184 - acc: 0.9951 - val_loss: 0.1555 - val_acc: 0.9786\n",
            "Epoch 123/300\n",
            "41580/41580 [==============================] - 4s 105us/sample - loss: 0.0165 - acc: 0.9958 - val_loss: 0.1608 - val_acc: 0.9762\n",
            "Epoch 124/300\n",
            "41580/41580 [==============================] - 4s 106us/sample - loss: 0.0169 - acc: 0.9957 - val_loss: 0.1672 - val_acc: 0.9738\n",
            "Epoch 125/300\n",
            "41580/41580 [==============================] - 4s 106us/sample - loss: 0.0164 - acc: 0.9957 - val_loss: 0.1473 - val_acc: 0.9738\n",
            "Epoch 126/300\n",
            "41580/41580 [==============================] - 4s 106us/sample - loss: 0.0185 - acc: 0.9951 - val_loss: 0.1547 - val_acc: 0.9786\n",
            "Epoch 127/300\n",
            "41580/41580 [==============================] - 4s 106us/sample - loss: 0.0178 - acc: 0.9956 - val_loss: 0.1573 - val_acc: 0.9762\n",
            "Epoch 128/300\n",
            "41580/41580 [==============================] - 4s 106us/sample - loss: 0.0180 - acc: 0.9952 - val_loss: 0.1427 - val_acc: 0.9786\n",
            "Epoch 129/300\n",
            "41580/41580 [==============================] - 4s 108us/sample - loss: 0.0168 - acc: 0.9958 - val_loss: 0.1781 - val_acc: 0.9762\n",
            "Epoch 130/300\n",
            "41580/41580 [==============================] - 4s 107us/sample - loss: 0.0160 - acc: 0.9958 - val_loss: 0.1408 - val_acc: 0.9786\n",
            "Epoch 131/300\n",
            "41580/41580 [==============================] - 4s 107us/sample - loss: 0.0184 - acc: 0.9953 - val_loss: 0.1463 - val_acc: 0.9762\n",
            "Epoch 132/300\n",
            "41580/41580 [==============================] - 4s 107us/sample - loss: 0.0169 - acc: 0.9961 - val_loss: 0.1643 - val_acc: 0.9786\n",
            "Epoch 133/300\n",
            "41580/41580 [==============================] - 4s 105us/sample - loss: 0.0150 - acc: 0.9961 - val_loss: 0.1714 - val_acc: 0.9810\n",
            "Epoch 134/300\n",
            "41580/41580 [==============================] - 4s 105us/sample - loss: 0.0169 - acc: 0.9959 - val_loss: 0.1484 - val_acc: 0.9762\n",
            "Epoch 135/300\n",
            "41580/41580 [==============================] - 4s 106us/sample - loss: 0.0168 - acc: 0.9962 - val_loss: 0.1505 - val_acc: 0.9786\n",
            "Epoch 136/300\n",
            "41580/41580 [==============================] - 4s 107us/sample - loss: 0.0150 - acc: 0.9965 - val_loss: 0.1497 - val_acc: 0.9810\n",
            "Epoch 137/300\n",
            "41580/41580 [==============================] - 4s 106us/sample - loss: 0.0144 - acc: 0.9961 - val_loss: 0.1587 - val_acc: 0.9762\n",
            "Epoch 138/300\n",
            "41580/41580 [==============================] - 4s 106us/sample - loss: 0.0154 - acc: 0.9958 - val_loss: 0.1357 - val_acc: 0.9833\n",
            "Epoch 139/300\n",
            "41580/41580 [==============================] - 4s 107us/sample - loss: 0.0158 - acc: 0.9960 - val_loss: 0.1496 - val_acc: 0.9738\n",
            "Epoch 140/300\n",
            "41580/41580 [==============================] - 4s 106us/sample - loss: 0.0141 - acc: 0.9965 - val_loss: 0.1599 - val_acc: 0.9738\n",
            "Epoch 141/300\n",
            "41580/41580 [==============================] - 4s 107us/sample - loss: 0.0145 - acc: 0.9962 - val_loss: 0.1595 - val_acc: 0.9786\n",
            "Epoch 142/300\n",
            "41580/41580 [==============================] - 4s 106us/sample - loss: 0.0163 - acc: 0.9958 - val_loss: 0.1629 - val_acc: 0.9786\n",
            "Epoch 143/300\n",
            "41580/41580 [==============================] - 4s 106us/sample - loss: 0.0147 - acc: 0.9962 - val_loss: 0.1747 - val_acc: 0.9738\n",
            "Epoch 144/300\n",
            "41580/41580 [==============================] - 4s 106us/sample - loss: 0.0129 - acc: 0.9966 - val_loss: 0.1659 - val_acc: 0.9738\n",
            "Epoch 145/300\n",
            "41580/41580 [==============================] - 4s 106us/sample - loss: 0.0148 - acc: 0.9958 - val_loss: 0.1511 - val_acc: 0.9738\n",
            "Epoch 146/300\n",
            "41580/41580 [==============================] - 4s 106us/sample - loss: 0.0136 - acc: 0.9961 - val_loss: 0.1696 - val_acc: 0.9738\n",
            "Epoch 147/300\n",
            "41580/41580 [==============================] - 4s 106us/sample - loss: 0.0138 - acc: 0.9963 - val_loss: 0.1423 - val_acc: 0.9810\n",
            "Epoch 148/300\n",
            "41580/41580 [==============================] - 4s 106us/sample - loss: 0.0130 - acc: 0.9967 - val_loss: 0.1515 - val_acc: 0.9738\n",
            "Epoch 149/300\n",
            "41580/41580 [==============================] - 4s 102us/sample - loss: 0.0144 - acc: 0.9962 - val_loss: 0.1411 - val_acc: 0.9810\n",
            "Epoch 150/300\n",
            "41580/41580 [==============================] - 4s 106us/sample - loss: 0.0136 - acc: 0.9963 - val_loss: 0.1545 - val_acc: 0.9810\n",
            "Epoch 151/300\n",
            "41580/41580 [==============================] - 4s 107us/sample - loss: 0.0152 - acc: 0.9959 - val_loss: 0.1567 - val_acc: 0.9762\n",
            "Epoch 152/300\n",
            "41580/41580 [==============================] - 4s 106us/sample - loss: 0.0140 - acc: 0.9963 - val_loss: 0.1683 - val_acc: 0.9786\n",
            "Epoch 153/300\n",
            "41580/41580 [==============================] - 4s 106us/sample - loss: 0.0141 - acc: 0.9967 - val_loss: 0.1660 - val_acc: 0.9738\n",
            "Epoch 154/300\n",
            "41580/41580 [==============================] - 4s 108us/sample - loss: 0.0138 - acc: 0.9965 - val_loss: 0.1656 - val_acc: 0.9786\n",
            "Epoch 155/300\n",
            "41580/41580 [==============================] - 4s 107us/sample - loss: 0.0127 - acc: 0.9968 - val_loss: 0.1928 - val_acc: 0.9786\n",
            "Epoch 156/300\n",
            "41580/41580 [==============================] - 4s 106us/sample - loss: 0.0126 - acc: 0.9966 - val_loss: 0.1471 - val_acc: 0.9762\n",
            "Epoch 157/300\n",
            "41580/41580 [==============================] - 4s 106us/sample - loss: 0.0137 - acc: 0.9965 - val_loss: 0.1447 - val_acc: 0.9762\n",
            "Epoch 158/300\n",
            "41580/41580 [==============================] - 4s 106us/sample - loss: 0.0124 - acc: 0.9967 - val_loss: 0.1895 - val_acc: 0.9762\n",
            "Epoch 159/300\n",
            "41580/41580 [==============================] - 4s 107us/sample - loss: 0.0118 - acc: 0.9968 - val_loss: 0.1888 - val_acc: 0.9738\n",
            "Epoch 160/300\n",
            "41580/41580 [==============================] - 4s 107us/sample - loss: 0.0119 - acc: 0.9968 - val_loss: 0.1911 - val_acc: 0.9738\n",
            "Epoch 161/300\n",
            "41580/41580 [==============================] - 4s 106us/sample - loss: 0.0133 - acc: 0.9966 - val_loss: 0.1540 - val_acc: 0.9762\n",
            "Epoch 162/300\n",
            "41580/41580 [==============================] - 4s 106us/sample - loss: 0.0129 - acc: 0.9969 - val_loss: 0.1252 - val_acc: 0.9786\n",
            "Epoch 163/300\n",
            "41580/41580 [==============================] - 4s 106us/sample - loss: 0.0144 - acc: 0.9962 - val_loss: 0.1547 - val_acc: 0.9762\n",
            "Epoch 164/300\n",
            "41580/41580 [==============================] - 4s 107us/sample - loss: 0.0117 - acc: 0.9972 - val_loss: 0.1449 - val_acc: 0.9786\n",
            "Epoch 165/300\n",
            "41580/41580 [==============================] - 4s 106us/sample - loss: 0.0141 - acc: 0.9967 - val_loss: 0.1454 - val_acc: 0.9786\n",
            "Epoch 166/300\n",
            "41580/41580 [==============================] - 4s 106us/sample - loss: 0.0118 - acc: 0.9968 - val_loss: 0.1341 - val_acc: 0.9810\n",
            "Epoch 167/300\n",
            "41580/41580 [==============================] - 4s 105us/sample - loss: 0.0139 - acc: 0.9964 - val_loss: 0.1228 - val_acc: 0.9833\n",
            "Epoch 168/300\n",
            "41580/41580 [==============================] - 4s 107us/sample - loss: 0.0110 - acc: 0.9974 - val_loss: 0.1155 - val_acc: 0.9810\n",
            "Epoch 169/300\n",
            "41580/41580 [==============================] - 4s 107us/sample - loss: 0.0107 - acc: 0.9971 - val_loss: 0.1415 - val_acc: 0.9762\n",
            "Epoch 170/300\n",
            "41580/41580 [==============================] - 4s 106us/sample - loss: 0.0125 - acc: 0.9970 - val_loss: 0.1384 - val_acc: 0.9762\n",
            "Epoch 171/300\n",
            "41580/41580 [==============================] - 4s 107us/sample - loss: 0.0117 - acc: 0.9966 - val_loss: 0.1353 - val_acc: 0.9810\n",
            "Epoch 172/300\n",
            "41580/41580 [==============================] - 4s 107us/sample - loss: 0.0127 - acc: 0.9965 - val_loss: 0.1385 - val_acc: 0.9786\n",
            "Epoch 173/300\n",
            "41580/41580 [==============================] - 4s 106us/sample - loss: 0.0128 - acc: 0.9965 - val_loss: 0.1391 - val_acc: 0.9810\n",
            "Epoch 174/300\n",
            "41580/41580 [==============================] - 4s 107us/sample - loss: 0.0126 - acc: 0.9968 - val_loss: 0.1138 - val_acc: 0.9786\n",
            "Epoch 175/300\n",
            "41580/41580 [==============================] - 4s 106us/sample - loss: 0.0109 - acc: 0.9973 - val_loss: 0.1261 - val_acc: 0.9786\n",
            "Epoch 176/300\n",
            "41580/41580 [==============================] - 4s 108us/sample - loss: 0.0114 - acc: 0.9971 - val_loss: 0.1683 - val_acc: 0.9786\n",
            "Epoch 177/300\n",
            "41580/41580 [==============================] - 4s 107us/sample - loss: 0.0121 - acc: 0.9969 - val_loss: 0.1309 - val_acc: 0.9762\n",
            "Epoch 178/300\n",
            "41580/41580 [==============================] - 4s 107us/sample - loss: 0.0117 - acc: 0.9972 - val_loss: 0.1645 - val_acc: 0.9762\n",
            "Epoch 179/300\n",
            "41580/41580 [==============================] - 4s 106us/sample - loss: 0.0123 - acc: 0.9969 - val_loss: 0.1168 - val_acc: 0.9810\n",
            "Epoch 180/300\n",
            "41580/41580 [==============================] - 4s 106us/sample - loss: 0.0127 - acc: 0.9967 - val_loss: 0.1530 - val_acc: 0.9738\n",
            "Epoch 181/300\n",
            "41580/41580 [==============================] - 4s 106us/sample - loss: 0.0113 - acc: 0.9974 - val_loss: 0.1514 - val_acc: 0.9786\n",
            "Epoch 182/300\n",
            "41580/41580 [==============================] - 4s 106us/sample - loss: 0.0123 - acc: 0.9969 - val_loss: 0.1757 - val_acc: 0.9762\n",
            "Epoch 183/300\n",
            "41580/41580 [==============================] - 4s 106us/sample - loss: 0.0124 - acc: 0.9969 - val_loss: 0.1588 - val_acc: 0.9762\n",
            "Epoch 184/300\n",
            "41580/41580 [==============================] - 4s 106us/sample - loss: 0.0113 - acc: 0.9972 - val_loss: 0.1663 - val_acc: 0.9786\n",
            "Epoch 185/300\n",
            "41580/41580 [==============================] - 4s 107us/sample - loss: 0.0140 - acc: 0.9962 - val_loss: 0.1528 - val_acc: 0.9786\n",
            "Epoch 186/300\n",
            "41580/41580 [==============================] - 4s 105us/sample - loss: 0.0127 - acc: 0.9968 - val_loss: 0.1368 - val_acc: 0.9810\n",
            "Epoch 187/300\n",
            "41580/41580 [==============================] - 4s 104us/sample - loss: 0.0089 - acc: 0.9978 - val_loss: 0.1546 - val_acc: 0.9762\n",
            "Epoch 188/300\n",
            "41580/41580 [==============================] - 4s 107us/sample - loss: 0.0115 - acc: 0.9970 - val_loss: 0.1839 - val_acc: 0.9786\n",
            "Epoch 189/300\n",
            "41580/41580 [==============================] - 4s 107us/sample - loss: 0.0133 - acc: 0.9968 - val_loss: 0.1875 - val_acc: 0.9786\n",
            "Epoch 190/300\n",
            "41580/41580 [==============================] - 4s 106us/sample - loss: 0.0105 - acc: 0.9971 - val_loss: 0.1728 - val_acc: 0.9786\n",
            "Epoch 191/300\n",
            "41580/41580 [==============================] - 4s 106us/sample - loss: 0.0101 - acc: 0.9975 - val_loss: 0.1600 - val_acc: 0.9786\n",
            "Epoch 192/300\n",
            "41580/41580 [==============================] - 4s 106us/sample - loss: 0.0124 - acc: 0.9972 - val_loss: 0.1548 - val_acc: 0.9762\n",
            "Epoch 193/300\n",
            "41580/41580 [==============================] - 4s 106us/sample - loss: 0.0115 - acc: 0.9975 - val_loss: 0.1849 - val_acc: 0.9762\n",
            "Epoch 194/300\n",
            "41580/41580 [==============================] - 4s 106us/sample - loss: 0.0113 - acc: 0.9971 - val_loss: 0.1824 - val_acc: 0.9762\n",
            "Epoch 195/300\n",
            "41580/41580 [==============================] - 4s 107us/sample - loss: 0.0096 - acc: 0.9975 - val_loss: 0.1741 - val_acc: 0.9738\n",
            "Epoch 196/300\n",
            "41580/41580 [==============================] - 4s 106us/sample - loss: 0.0103 - acc: 0.9974 - val_loss: 0.1645 - val_acc: 0.9738\n",
            "Epoch 197/300\n",
            "41580/41580 [==============================] - 4s 106us/sample - loss: 0.0122 - acc: 0.9969 - val_loss: 0.1400 - val_acc: 0.9810\n",
            "Epoch 198/300\n",
            "41580/41580 [==============================] - 4s 106us/sample - loss: 0.0104 - acc: 0.9975 - val_loss: 0.1778 - val_acc: 0.9786\n",
            "Epoch 199/300\n",
            "41580/41580 [==============================] - 4s 107us/sample - loss: 0.0108 - acc: 0.9972 - val_loss: 0.1495 - val_acc: 0.9762\n",
            "Epoch 200/300\n",
            "41580/41580 [==============================] - 4s 107us/sample - loss: 0.0108 - acc: 0.9972 - val_loss: 0.1625 - val_acc: 0.9786\n",
            "Epoch 201/300\n",
            "41580/41580 [==============================] - 4s 107us/sample - loss: 0.0107 - acc: 0.9971 - val_loss: 0.1481 - val_acc: 0.9786\n",
            "Epoch 202/300\n",
            "41580/41580 [==============================] - 4s 106us/sample - loss: 0.0111 - acc: 0.9975 - val_loss: 0.1862 - val_acc: 0.9762\n",
            "Epoch 203/300\n",
            "41580/41580 [==============================] - 4s 105us/sample - loss: 0.0111 - acc: 0.9974 - val_loss: 0.1538 - val_acc: 0.9786\n",
            "Epoch 204/300\n",
            "41580/41580 [==============================] - 4s 105us/sample - loss: 0.0095 - acc: 0.9975 - val_loss: 0.1503 - val_acc: 0.9786\n",
            "Epoch 205/300\n",
            "41580/41580 [==============================] - 4s 104us/sample - loss: 0.0111 - acc: 0.9969 - val_loss: 0.1424 - val_acc: 0.9810\n",
            "Epoch 206/300\n",
            "41580/41580 [==============================] - 4s 106us/sample - loss: 0.0087 - acc: 0.9975 - val_loss: 0.1564 - val_acc: 0.9714\n",
            "Epoch 207/300\n",
            "41580/41580 [==============================] - 4s 107us/sample - loss: 0.0108 - acc: 0.9974 - val_loss: 0.1717 - val_acc: 0.9762\n",
            "Epoch 208/300\n",
            "41580/41580 [==============================] - 4s 106us/sample - loss: 0.0117 - acc: 0.9970 - val_loss: 0.1503 - val_acc: 0.9786\n",
            "Epoch 209/300\n",
            "41580/41580 [==============================] - 4s 107us/sample - loss: 0.0116 - acc: 0.9969 - val_loss: 0.1500 - val_acc: 0.9762\n",
            "Epoch 210/300\n",
            "41580/41580 [==============================] - 4s 106us/sample - loss: 0.0103 - acc: 0.9974 - val_loss: 0.1250 - val_acc: 0.9833\n",
            "Epoch 211/300\n",
            "41580/41580 [==============================] - 4s 106us/sample - loss: 0.0105 - acc: 0.9970 - val_loss: 0.1336 - val_acc: 0.9810\n",
            "Epoch 212/300\n",
            "41580/41580 [==============================] - 4s 106us/sample - loss: 0.0100 - acc: 0.9975 - val_loss: 0.1373 - val_acc: 0.9810\n",
            "Epoch 213/300\n",
            "41580/41580 [==============================] - 4s 106us/sample - loss: 0.0098 - acc: 0.9978 - val_loss: 0.1073 - val_acc: 0.9857\n",
            "Epoch 214/300\n",
            "41580/41580 [==============================] - 4s 106us/sample - loss: 0.0120 - acc: 0.9970 - val_loss: 0.1300 - val_acc: 0.9810\n",
            "Epoch 215/300\n",
            "41580/41580 [==============================] - 4s 106us/sample - loss: 0.0104 - acc: 0.9977 - val_loss: 0.1117 - val_acc: 0.9833\n",
            "Epoch 216/300\n",
            "41580/41580 [==============================] - 4s 106us/sample - loss: 0.0098 - acc: 0.9973 - val_loss: 0.1392 - val_acc: 0.9786\n",
            "Epoch 217/300\n",
            "41580/41580 [==============================] - 4s 106us/sample - loss: 0.0085 - acc: 0.9978 - val_loss: 0.1216 - val_acc: 0.9810\n",
            "Epoch 218/300\n",
            "41580/41580 [==============================] - 4s 106us/sample - loss: 0.0103 - acc: 0.9977 - val_loss: 0.1422 - val_acc: 0.9786\n",
            "Epoch 219/300\n",
            "41580/41580 [==============================] - 4s 106us/sample - loss: 0.0098 - acc: 0.9972 - val_loss: 0.1468 - val_acc: 0.9762\n",
            "Epoch 220/300\n",
            "41580/41580 [==============================] - 4s 107us/sample - loss: 0.0114 - acc: 0.9972 - val_loss: 0.1699 - val_acc: 0.9762\n",
            "Epoch 221/300\n",
            "41580/41580 [==============================] - 4s 107us/sample - loss: 0.0095 - acc: 0.9978 - val_loss: 0.1716 - val_acc: 0.9786\n",
            "Epoch 222/300\n",
            "41580/41580 [==============================] - 4s 107us/sample - loss: 0.0102 - acc: 0.9974 - val_loss: 0.1769 - val_acc: 0.9714\n",
            "Epoch 223/300\n",
            "41580/41580 [==============================] - 4s 106us/sample - loss: 0.0084 - acc: 0.9977 - val_loss: 0.1792 - val_acc: 0.9786\n",
            "Epoch 224/300\n",
            "41580/41580 [==============================] - 4s 107us/sample - loss: 0.0090 - acc: 0.9974 - val_loss: 0.1681 - val_acc: 0.9738\n",
            "Epoch 225/300\n",
            "41580/41580 [==============================] - 4s 106us/sample - loss: 0.0093 - acc: 0.9974 - val_loss: 0.1599 - val_acc: 0.9762\n",
            "Epoch 226/300\n",
            "41580/41580 [==============================] - 4s 107us/sample - loss: 0.0091 - acc: 0.9978 - val_loss: 0.1445 - val_acc: 0.9786\n",
            "Epoch 227/300\n",
            "41580/41580 [==============================] - 4s 107us/sample - loss: 0.0106 - acc: 0.9975 - val_loss: 0.1631 - val_acc: 0.9762\n",
            "Epoch 228/300\n",
            "41580/41580 [==============================] - 4s 106us/sample - loss: 0.0091 - acc: 0.9978 - val_loss: 0.1608 - val_acc: 0.9762\n",
            "Epoch 229/300\n",
            "41580/41580 [==============================] - 4s 106us/sample - loss: 0.0094 - acc: 0.9975 - val_loss: 0.1822 - val_acc: 0.9762\n",
            "Epoch 230/300\n",
            "41580/41580 [==============================] - 4s 106us/sample - loss: 0.0087 - acc: 0.9977 - val_loss: 0.1600 - val_acc: 0.9810\n",
            "Epoch 231/300\n",
            "41580/41580 [==============================] - 4s 107us/sample - loss: 0.0092 - acc: 0.9973 - val_loss: 0.1695 - val_acc: 0.9786\n",
            "Epoch 232/300\n",
            "41580/41580 [==============================] - 4s 106us/sample - loss: 0.0075 - acc: 0.9978 - val_loss: 0.1813 - val_acc: 0.9786\n",
            "Epoch 233/300\n",
            "41580/41580 [==============================] - 4s 106us/sample - loss: 0.0102 - acc: 0.9974 - val_loss: 0.1704 - val_acc: 0.9786\n",
            "Epoch 234/300\n",
            "41580/41580 [==============================] - 4s 108us/sample - loss: 0.0101 - acc: 0.9976 - val_loss: 0.1641 - val_acc: 0.9810\n",
            "Epoch 235/300\n",
            "41580/41580 [==============================] - 4s 106us/sample - loss: 0.0094 - acc: 0.9975 - val_loss: 0.1648 - val_acc: 0.9786\n",
            "Epoch 236/300\n",
            "41580/41580 [==============================] - 4s 107us/sample - loss: 0.0084 - acc: 0.9980 - val_loss: 0.1723 - val_acc: 0.9738\n",
            "Epoch 237/300\n",
            "41580/41580 [==============================] - 4s 107us/sample - loss: 0.0119 - acc: 0.9974 - val_loss: 0.1722 - val_acc: 0.9786\n",
            "Epoch 238/300\n",
            "41580/41580 [==============================] - 4s 107us/sample - loss: 0.0100 - acc: 0.9976 - val_loss: 0.1556 - val_acc: 0.9762\n",
            "Epoch 239/300\n",
            "41580/41580 [==============================] - 4s 106us/sample - loss: 0.0081 - acc: 0.9977 - val_loss: 0.1594 - val_acc: 0.9810\n",
            "Epoch 240/300\n",
            "41580/41580 [==============================] - 4s 106us/sample - loss: 0.0084 - acc: 0.9978 - val_loss: 0.1584 - val_acc: 0.9762\n",
            "Epoch 241/300\n",
            "41580/41580 [==============================] - 4s 106us/sample - loss: 0.0079 - acc: 0.9981 - val_loss: 0.1954 - val_acc: 0.9786\n",
            "Epoch 242/300\n",
            "41580/41580 [==============================] - 4s 106us/sample - loss: 0.0087 - acc: 0.9981 - val_loss: 0.1880 - val_acc: 0.9738\n",
            "Epoch 243/300\n",
            "41580/41580 [==============================] - 4s 106us/sample - loss: 0.0070 - acc: 0.9982 - val_loss: 0.1857 - val_acc: 0.9738\n",
            "Epoch 244/300\n",
            "41580/41580 [==============================] - 4s 106us/sample - loss: 0.0094 - acc: 0.9977 - val_loss: 0.1867 - val_acc: 0.9762\n",
            "Epoch 245/300\n",
            "41580/41580 [==============================] - 4s 107us/sample - loss: 0.0098 - acc: 0.9974 - val_loss: 0.1580 - val_acc: 0.9762\n",
            "Epoch 246/300\n",
            "41580/41580 [==============================] - 4s 107us/sample - loss: 0.0095 - acc: 0.9978 - val_loss: 0.2101 - val_acc: 0.9714\n",
            "Epoch 247/300\n",
            "41580/41580 [==============================] - 4s 105us/sample - loss: 0.0085 - acc: 0.9980 - val_loss: 0.1808 - val_acc: 0.9738\n",
            "Epoch 248/300\n",
            "41580/41580 [==============================] - 4s 107us/sample - loss: 0.0088 - acc: 0.9979 - val_loss: 0.2015 - val_acc: 0.9738\n",
            "Epoch 249/300\n",
            "41580/41580 [==============================] - 4s 106us/sample - loss: 0.0087 - acc: 0.9978 - val_loss: 0.1601 - val_acc: 0.9738\n",
            "Epoch 250/300\n",
            "41580/41580 [==============================] - 4s 106us/sample - loss: 0.0085 - acc: 0.9979 - val_loss: 0.1823 - val_acc: 0.9738\n",
            "Epoch 251/300\n",
            "41580/41580 [==============================] - 4s 107us/sample - loss: 0.0075 - acc: 0.9981 - val_loss: 0.1789 - val_acc: 0.9762\n",
            "Epoch 252/300\n",
            "41580/41580 [==============================] - 4s 107us/sample - loss: 0.0076 - acc: 0.9982 - val_loss: 0.1820 - val_acc: 0.9762\n",
            "Epoch 253/300\n",
            "41580/41580 [==============================] - 4s 106us/sample - loss: 0.0102 - acc: 0.9976 - val_loss: 0.1504 - val_acc: 0.9738\n",
            "Epoch 254/300\n",
            "41580/41580 [==============================] - 4s 105us/sample - loss: 0.0092 - acc: 0.9977 - val_loss: 0.1830 - val_acc: 0.9738\n",
            "Epoch 255/300\n",
            "41580/41580 [==============================] - 4s 106us/sample - loss: 0.0099 - acc: 0.9975 - val_loss: 0.1768 - val_acc: 0.9738\n",
            "Epoch 256/300\n",
            "41580/41580 [==============================] - 4s 106us/sample - loss: 0.0093 - acc: 0.9976 - val_loss: 0.1779 - val_acc: 0.9810\n",
            "Epoch 257/300\n",
            "41580/41580 [==============================] - 4s 106us/sample - loss: 0.0096 - acc: 0.9977 - val_loss: 0.1504 - val_acc: 0.9810\n",
            "Epoch 258/300\n",
            "41580/41580 [==============================] - 4s 105us/sample - loss: 0.0072 - acc: 0.9982 - val_loss: 0.1766 - val_acc: 0.9762\n",
            "Epoch 259/300\n",
            "41580/41580 [==============================] - 4s 105us/sample - loss: 0.0093 - acc: 0.9980 - val_loss: 0.1898 - val_acc: 0.9690\n",
            "Epoch 260/300\n",
            "41580/41580 [==============================] - 4s 105us/sample - loss: 0.0074 - acc: 0.9982 - val_loss: 0.1731 - val_acc: 0.9690\n",
            "Epoch 261/300\n",
            "41580/41580 [==============================] - 4s 106us/sample - loss: 0.0112 - acc: 0.9974 - val_loss: 0.1660 - val_acc: 0.9762\n",
            "Epoch 262/300\n",
            "41580/41580 [==============================] - 4s 106us/sample - loss: 0.0094 - acc: 0.9975 - val_loss: 0.1945 - val_acc: 0.9667\n",
            "Epoch 263/300\n",
            "41580/41580 [==============================] - 4s 106us/sample - loss: 0.0087 - acc: 0.9977 - val_loss: 0.1582 - val_acc: 0.9714\n",
            "Epoch 264/300\n",
            "41580/41580 [==============================] - 4s 107us/sample - loss: 0.0064 - acc: 0.9984 - val_loss: 0.1677 - val_acc: 0.9762\n",
            "Epoch 265/300\n",
            "41580/41580 [==============================] - 4s 106us/sample - loss: 0.0083 - acc: 0.9977 - val_loss: 0.1689 - val_acc: 0.9762\n",
            "Epoch 266/300\n",
            "41580/41580 [==============================] - 4s 107us/sample - loss: 0.0087 - acc: 0.9979 - val_loss: 0.1662 - val_acc: 0.9762\n",
            "Epoch 267/300\n",
            "41580/41580 [==============================] - 4s 106us/sample - loss: 0.0080 - acc: 0.9980 - val_loss: 0.1630 - val_acc: 0.9762\n",
            "Epoch 268/300\n",
            "41580/41580 [==============================] - 4s 107us/sample - loss: 0.0084 - acc: 0.9982 - val_loss: 0.1723 - val_acc: 0.9762\n",
            "Epoch 269/300\n",
            "41580/41580 [==============================] - 4s 106us/sample - loss: 0.0080 - acc: 0.9980 - val_loss: 0.1850 - val_acc: 0.9762\n",
            "Epoch 270/300\n",
            "41580/41580 [==============================] - 4s 106us/sample - loss: 0.0086 - acc: 0.9979 - val_loss: 0.1770 - val_acc: 0.9786\n",
            "Epoch 271/300\n",
            "41580/41580 [==============================] - 4s 107us/sample - loss: 0.0078 - acc: 0.9982 - val_loss: 0.1561 - val_acc: 0.9786\n",
            "Epoch 272/300\n",
            "41580/41580 [==============================] - 4s 106us/sample - loss: 0.0074 - acc: 0.9981 - val_loss: 0.1467 - val_acc: 0.9810\n",
            "Epoch 273/300\n",
            "41580/41580 [==============================] - 4s 105us/sample - loss: 0.0116 - acc: 0.9975 - val_loss: 0.1446 - val_acc: 0.9833\n",
            "Epoch 274/300\n",
            "41580/41580 [==============================] - 4s 105us/sample - loss: 0.0081 - acc: 0.9977 - val_loss: 0.1573 - val_acc: 0.9833\n",
            "Epoch 275/300\n",
            "41580/41580 [==============================] - 4s 104us/sample - loss: 0.0085 - acc: 0.9977 - val_loss: 0.1554 - val_acc: 0.9738\n",
            "Epoch 276/300\n",
            "41580/41580 [==============================] - 4s 106us/sample - loss: 0.0089 - acc: 0.9979 - val_loss: 0.1565 - val_acc: 0.9810\n",
            "Epoch 277/300\n",
            "41580/41580 [==============================] - 4s 106us/sample - loss: 0.0075 - acc: 0.9979 - val_loss: 0.1596 - val_acc: 0.9786\n",
            "Epoch 278/300\n",
            "41580/41580 [==============================] - 4s 107us/sample - loss: 0.0082 - acc: 0.9981 - val_loss: 0.1748 - val_acc: 0.9714\n",
            "Epoch 279/300\n",
            "41580/41580 [==============================] - 4s 107us/sample - loss: 0.0090 - acc: 0.9983 - val_loss: 0.1471 - val_acc: 0.9786\n",
            "Epoch 280/300\n",
            "41580/41580 [==============================] - 4s 106us/sample - loss: 0.0069 - acc: 0.9983 - val_loss: 0.1740 - val_acc: 0.9738\n",
            "Epoch 281/300\n",
            "41580/41580 [==============================] - 4s 107us/sample - loss: 0.0079 - acc: 0.9979 - val_loss: 0.1985 - val_acc: 0.9714\n",
            "Epoch 282/300\n",
            "41580/41580 [==============================] - 4s 105us/sample - loss: 0.0077 - acc: 0.9981 - val_loss: 0.1672 - val_acc: 0.9738\n",
            "Epoch 283/300\n",
            "41580/41580 [==============================] - 4s 106us/sample - loss: 0.0076 - acc: 0.9981 - val_loss: 0.1846 - val_acc: 0.9714\n",
            "Epoch 284/300\n",
            "41580/41580 [==============================] - 4s 107us/sample - loss: 0.0087 - acc: 0.9979 - val_loss: 0.1781 - val_acc: 0.9690\n",
            "Epoch 285/300\n",
            "41580/41580 [==============================] - 4s 107us/sample - loss: 0.0079 - acc: 0.9978 - val_loss: 0.1454 - val_acc: 0.9786\n",
            "Epoch 286/300\n",
            "41580/41580 [==============================] - 4s 106us/sample - loss: 0.0085 - acc: 0.9981 - val_loss: 0.1718 - val_acc: 0.9738\n",
            "Epoch 287/300\n",
            "41580/41580 [==============================] - 4s 106us/sample - loss: 0.0081 - acc: 0.9981 - val_loss: 0.1398 - val_acc: 0.9786\n",
            "Epoch 288/300\n",
            "41580/41580 [==============================] - 4s 107us/sample - loss: 0.0069 - acc: 0.9983 - val_loss: 0.1221 - val_acc: 0.9833\n",
            "Epoch 289/300\n",
            "41580/41580 [==============================] - 4s 107us/sample - loss: 0.0089 - acc: 0.9974 - val_loss: 0.1347 - val_acc: 0.9810\n",
            "Epoch 290/300\n",
            "41580/41580 [==============================] - 4s 107us/sample - loss: 0.0082 - acc: 0.9979 - val_loss: 0.1332 - val_acc: 0.9786\n",
            "Epoch 291/300\n",
            "41580/41580 [==============================] - 5s 108us/sample - loss: 0.0086 - acc: 0.9978 - val_loss: 0.1364 - val_acc: 0.9833\n",
            "Epoch 292/300\n",
            "41580/41580 [==============================] - 4s 107us/sample - loss: 0.0071 - acc: 0.9982 - val_loss: 0.1439 - val_acc: 0.9810\n",
            "Epoch 293/300\n",
            "41580/41580 [==============================] - 4s 106us/sample - loss: 0.0079 - acc: 0.9981 - val_loss: 0.1446 - val_acc: 0.9810\n",
            "Epoch 294/300\n",
            "41580/41580 [==============================] - 4s 107us/sample - loss: 0.0086 - acc: 0.9980 - val_loss: 0.1717 - val_acc: 0.9786\n",
            "Epoch 295/300\n",
            "41580/41580 [==============================] - 4s 106us/sample - loss: 0.0060 - acc: 0.9986 - val_loss: 0.1398 - val_acc: 0.9786\n",
            "Epoch 296/300\n",
            "41580/41580 [==============================] - 4s 106us/sample - loss: 0.0074 - acc: 0.9984 - val_loss: 0.1604 - val_acc: 0.9786\n",
            "Epoch 297/300\n",
            "41580/41580 [==============================] - 4s 107us/sample - loss: 0.0061 - acc: 0.9987 - val_loss: 0.1556 - val_acc: 0.9714\n",
            "Epoch 298/300\n",
            "41580/41580 [==============================] - 4s 106us/sample - loss: 0.0076 - acc: 0.9985 - val_loss: 0.1738 - val_acc: 0.9762\n",
            "Epoch 299/300\n",
            "41580/41580 [==============================] - 4s 106us/sample - loss: 0.0083 - acc: 0.9980 - val_loss: 0.1667 - val_acc: 0.9738\n",
            "Epoch 300/300\n",
            "41580/41580 [==============================] - 4s 106us/sample - loss: 0.0090 - acc: 0.9979 - val_loss: 0.1512 - val_acc: 0.9762\n"
          ],
          "name": "stdout"
        }
      ]
    },
    {
      "metadata": {
        "id": "CHDGYz_Mki4G",
        "colab_type": "code",
        "outputId": "1b6c61da-3632-4606-e1e0-3c829e1c58a9",
        "colab": {
          "base_uri": "https://localhost:8080/",
          "height": 34
        }
      },
      "cell_type": "code",
      "source": [
        "H.history.keys()"
      ],
      "execution_count": 0,
      "outputs": [
        {
          "output_type": "execute_result",
          "data": {
            "text/plain": [
              "dict_keys(['loss', 'acc', 'val_loss', 'val_acc'])"
            ]
          },
          "metadata": {
            "tags": []
          },
          "execution_count": 14
        }
      ]
    },
    {
      "metadata": {
        "id": "G1s_nCBWk-91",
        "colab_type": "code",
        "outputId": "b4917a58-50f3-4500-8851-9ba90db6cf34",
        "colab": {
          "base_uri": "https://localhost:8080/",
          "height": 282
        }
      },
      "cell_type": "code",
      "source": [
        "plt.plot(H.history['acc'])\n",
        "plt.plot(H.history['val_acc'],'r')"
      ],
      "execution_count": 0,
      "outputs": [
        {
          "output_type": "execute_result",
          "data": {
            "text/plain": [
              "[<matplotlib.lines.Line2D at 0x7fd9762b8ba8>]"
            ]
          },
          "metadata": {
            "tags": []
          },
          "execution_count": 112
        },
        {
          "output_type": "display_data",
          "data": {
            "image/png": "[encoded data removed]",
            "text/plain": [
              "<Figure size 432x288 with 1 Axes>"
            ]
          },
          "metadata": {
            "tags": []
          }
        }
      ]
    },
    {
      "metadata": {
        "id": "-AGE67k2lGxL",
        "colab_type": "code",
        "outputId": "e1ce36c6-50c0-4b3a-81ea-4fa7861d5e8b",
        "colab": {
          "base_uri": "https://localhost:8080/",
          "height": 282
        }
      },
      "cell_type": "code",
      "source": [
        "plt.plot(H.history['loss'])\n",
        "plt.plot(H.history['val_loss'],'r')"
      ],
      "execution_count": 0,
      "outputs": [
        {
          "output_type": "execute_result",
          "data": {
            "text/plain": [
              "[<matplotlib.lines.Line2D at 0x7fd975d12cc0>]"
            ]
          },
          "metadata": {
            "tags": []
          },
          "execution_count": 113
        },
        {
          "output_type": "display_data",
          "data": {
            "image/png": "[encoded data removed]",
            "text/plain": [
              "<Figure size 432x288 with 1 Axes>"
            ]
          },
          "metadata": {
            "tags": []
          }
        }
      ]
    },
    {
      "metadata": {
        "id": "4RIGVSojmy-R",
        "colab_type": "text"
      },
      "cell_type": "markdown",
      "source": [
        "### Predict"
      ]
    },
    {
      "metadata": {
        "id": "tnigE74rm39a",
        "colab_type": "code",
        "colab": {}
      },
      "cell_type": "code",
      "source": [
        "unlabeled_images_test = pd.read_csv('gdrive/My Drive/dataML/test.csv')\n",
        "#unlabeled_images_test = pd.read_csv('test.csv')"
      ],
      "execution_count": 0,
      "outputs": []
    },
    {
      "metadata": {
        "id": "3Fotf1KrpXVE",
        "colab_type": "code",
        "colab": {}
      },
      "cell_type": "code",
      "source": [
        "X_unlabeled = unlabeled_images_test.values.reshape(unlabeled_images_test.shape[0],28,28,1)/255"
      ],
      "execution_count": 0,
      "outputs": []
    },
    {
      "metadata": {
        "id": "jeRnCHzdutQ0",
        "colab_type": "code",
        "colab": {}
      },
      "cell_type": "code",
      "source": [
        "y_pred = model.predict(X_unlabeled)"
      ],
      "execution_count": 0,
      "outputs": []
    },
    {
      "metadata": {
        "id": "3M_fePteu-3X",
        "colab_type": "code",
        "colab": {}
      },
      "cell_type": "code",
      "source": [
        "y_label = np.argmax(y_pred, axis=1)"
      ],
      "execution_count": 0,
      "outputs": []
    },
    {
      "metadata": {
        "id": "RX5PuSUmvRri",
        "colab_type": "text"
      },
      "cell_type": "markdown",
      "source": [
        "### Save csv"
      ]
    },
    {
      "metadata": {
        "id": "zU5Q1fSRvVbn",
        "colab_type": "code",
        "colab": {}
      },
      "cell_type": "code",
      "source": [
        "imageId = np.arange(1,y_label.shape[0]+1).tolist()\n",
        "prediction_pd = pd.DataFrame({'ImageId':imageId, 'Label':y_label})\n",
        "prediction_pd.to_csv('gdrive/My Drive/dataML/out_cnn05.csv',sep = ',', index = False)"
      ],
      "execution_count": 0,
      "outputs": []
    },
    {
      "metadata": {
        "id": "_qetEX7AgBQY",
        "colab_type": "text"
      },
      "cell_type": "markdown",
      "source": [
        "# Tensorflow"
      ]
    },
    {
      "metadata": {
        "id": "4keUL7d0gBQZ",
        "colab_type": "text"
      },
      "cell_type": "markdown",
      "source": [
        "### Helper functions for batch learning"
      ]
    },
    {
      "metadata": {
        "id": "czdbjPfcgBQd",
        "colab_type": "code",
        "colab": {}
      },
      "cell_type": "code",
      "source": [
        "def one_hot_encode(vec, vals=10):\n",
        "    '''\n",
        "    For use to one-hot encode the 10- possible labels\n",
        "    '''\n",
        "    n = len(vec)\n",
        "    out = np.zeros((n, vals))\n",
        "    out[range(n), vec] = 1\n",
        "    return out"
      ],
      "execution_count": 0,
      "outputs": []
    },
    {
      "metadata": {
        "id": "Afc2XmK2gBQh",
        "colab_type": "code",
        "colab": {}
      },
      "cell_type": "code",
      "source": [
        "class CifarHelper():\n",
        "    \n",
        "    def __init__(self):\n",
        "        self.i = 0\n",
        "        \n",
        "        # Intialize some empty variables for later on\n",
        "        self.training_images = None\n",
        "        self.training_labels = None\n",
        "        \n",
        "        self.test_images = None\n",
        "        self.test_labels = None\n",
        "    \n",
        "    def set_up_images(self):\n",
        "        \n",
        "        print(\"Setting Up Training Images and Labels\")\n",
        "        \n",
        "        # Vertically stacks the training images\n",
        "        self.training_images = train_images.as_matrix()\n",
        "        train_len = self.training_images.shape[0]\n",
        "        \n",
        "        # Reshapes and normalizes training images\n",
        "        self.training_images = self.training_images.reshape(train_len,28,28,1)/255\n",
        "        # One hot Encodes the training labels (e.g. [0,0,0,1,0,0,0,0,0,0])\n",
        "        self.training_labels = one_hot_encode(train_labels.as_matrix().reshape(-1), 10)\n",
        "        \n",
        "        print(\"Setting Up Test Images and Labels\")\n",
        "        \n",
        "        # Vertically stacks the test images\n",
        "        self.test_images = test_images.as_matrix()\n",
        "        test_len = self.test_images.shape[0]\n",
        "        \n",
        "        # Reshapes and normalizes test images\n",
        "        self.test_images = self.test_images.reshape(test_len,28,28,1)/255\n",
        "        # One hot Encodes the test labels (e.g. [0,0,0,1,0,0,0,0,0,0])\n",
        "        self.test_labels = one_hot_encode(test_labels.as_matrix().reshape(-1), 10)\n",
        "\n",
        "        \n",
        "    def next_batch(self, batch_size):\n",
        "        # Note that the 100 dimension in the reshape call is set by an assumed batch size of 100\n",
        "        x = self.training_images[self.i:self.i+batch_size]\n",
        "        y = self.training_labels[self.i:self.i+batch_size]\n",
        "        self.i = (self.i + batch_size) % len(self.training_images)\n",
        "        return x, y"
      ],
      "execution_count": 0,
      "outputs": []
    },
    {
      "metadata": {
        "id": "1qAiPT1-gBQp",
        "colab_type": "code",
        "outputId": "77cb7989-501e-41d6-84a5-e65cef94fd1f",
        "colab": {
          "base_uri": "https://localhost:8080/",
          "height": 51
        }
      },
      "cell_type": "code",
      "source": [
        "# Before Your tf.Session run these two lines\n",
        "ch = CifarHelper()\n",
        "ch.set_up_images()\n",
        "\n",
        "# During your session to grab the next batch use this line\n",
        "# (Just like we did for mnist.train.next_batch)\n",
        "# batch = ch.next_batch(100)"
      ],
      "execution_count": 61,
      "outputs": [
        {
          "output_type": "stream",
          "text": [
            "Setting Up Training Images and Labels\n",
            "Setting Up Test Images and Labels\n"
          ],
          "name": "stdout"
        }
      ]
    },
    {
      "metadata": {
        "id": "QUkUv8sKgBQw",
        "colab_type": "text"
      },
      "cell_type": "markdown",
      "source": [
        "## Creating the Model\n",
        "\n"
      ]
    },
    {
      "metadata": {
        "id": "l1XSMzIpgBQx",
        "colab_type": "text"
      },
      "cell_type": "markdown",
      "source": [
        "** Create 2 placeholders, x and y_true. Their shapes should be: **\n",
        "\n",
        "* X shape = [None,28,28,1]\n",
        "* Y_true shape = [None,10]\n",
        "\n",
        "** Create three more placeholders \n",
        "* lr: learning rate\n",
        "* step：for learning rate decay\n",
        "* drop_rate"
      ]
    },
    {
      "metadata": {
        "id": "8Y_4DDQvgBQz",
        "colab_type": "code",
        "colab": {}
      },
      "cell_type": "code",
      "source": [
        "X = tf.placeholder(tf.float32, shape=[None,28,28,1])\n",
        "Y_true = tf.placeholder(tf.float32, shape=[None,10])\n",
        "\n",
        "lr = tf.placeholder(tf.float32)\n",
        "step = tf.placeholder(tf.int32)\n",
        "drop_rate = tf.placeholder(tf.float32)"
      ],
      "execution_count": 0,
      "outputs": []
    },
    {
      "metadata": {
        "id": "5egQVsS4NhxW",
        "colab_type": "text"
      },
      "cell_type": "markdown",
      "source": [
        "### Initialize Weights and bias\n",
        "Five layers with 200, 100, 60, 30 and 10 neurons"
      ]
    },
    {
      "metadata": {
        "id": "RQ_UDA08dBcN",
        "colab_type": "code",
        "colab": {}
      },
      "cell_type": "code",
      "source": [
        "L = 200\n",
        "M = 100\n",
        "N = 60\n",
        "O = 30"
      ],
      "execution_count": 0,
      "outputs": []
    },
    {
      "metadata": {
        "id": "xiVQdlDsN1W-",
        "colab_type": "code",
        "colab": {}
      },
      "cell_type": "code",
      "source": [
        "W1 = tf.Variable(tf.truncated_normal([784, L], stddev=0.1))  # 784 = 28 * 28\n",
        "B1 = tf.Variable(tf.ones([L])/10)\n",
        "\n",
        "W2 = tf.Variable(tf.truncated_normal([L, M], stddev=0.1))\n",
        "B2 = tf.Variable(tf.ones([M])/10)\n",
        "\n",
        "W3 = tf.Variable(tf.truncated_normal([M, N], stddev=0.1))\n",
        "B3 = tf.Variable(tf.ones([N])/10)\n",
        "\n",
        "W4 = tf.Variable(tf.truncated_normal([N, O], stddev=0.1))\n",
        "B4 = tf.Variable(tf.ones([O])/10)\n",
        "\n",
        "W5 = tf.Variable(tf.truncated_normal([O, 10], stddev=0.1))\n",
        "\n",
        "B5 = tf.Variable(tf.zeros([10]))"
      ],
      "execution_count": 0,
      "outputs": []
    },
    {
      "metadata": {
        "id": "u4RDJq8pO_Og",
        "colab_type": "text"
      },
      "cell_type": "markdown",
      "source": [
        "### layers"
      ]
    },
    {
      "metadata": {
        "id": "x52yDbi6bCMb",
        "colab_type": "code",
        "colab": {}
      },
      "cell_type": "code",
      "source": [
        "XX = tf.reshape(X,[-1,784])"
      ],
      "execution_count": 0,
      "outputs": []
    },
    {
      "metadata": {
        "id": "DM5_O098O4Di",
        "colab_type": "code",
        "colab": {}
      },
      "cell_type": "code",
      "source": [
        "Y1 = tf.nn.relu(tf.matmul(XX, W1) + B1)\n",
        "Y1d = tf.nn.dropout(Y1,rate = drop_rate)\n",
        "\n",
        "Y2 = tf.nn.relu(tf.matmul(Y1, W2) + B2)\n",
        "Y2d = tf.nn.dropout(Y2,rate = drop_rate)\n",
        "\n",
        "Y3 = tf.nn.relu(tf.matmul(Y2, W3) + B3)\n",
        "Y3d = tf.nn.dropout(Y3,rate = drop_rate)\n",
        "\n",
        "Y4 = tf.nn.relu(tf.matmul(Y3, W4) + B4)\n",
        "Y4d = tf.nn.dropout(Y4,rate = drop_rate)\n",
        "\n",
        "Ylogits = tf.matmul(Y4d, W5) + B5\n",
        "Y = tf.nn.softmax(Ylogits)"
      ],
      "execution_count": 0,
      "outputs": []
    },
    {
      "metadata": {
        "id": "tT4TvNz-gBRI",
        "colab_type": "text"
      },
      "cell_type": "markdown",
      "source": [
        "### Loss Function"
      ]
    },
    {
      "metadata": {
        "id": "wkqQ5GurgBRJ",
        "colab_type": "code",
        "colab": {}
      },
      "cell_type": "code",
      "source": [
        "#cross_entropy = tf.reduce_mean(tf.nn.softmax_cross_entropy_with_logits_v2(labels=Y_true,logits=Ylogits))\n",
        "cross_entropy = tf.losses.softmax_cross_entropy(onehot_labels = Y_true, logits = Ylogits)\n",
        "#cross_entropy = -tf.reduce_mean(y_true * tf.log(Ylogits)) * 1000.0 "
      ],
      "execution_count": 0,
      "outputs": []
    },
    {
      "metadata": {
        "id": "jmnEUVWxgBRM",
        "colab_type": "text"
      },
      "cell_type": "markdown",
      "source": [
        "### Optimizer"
      ]
    },
    {
      "metadata": {
        "id": "MoyIlzCagBRN",
        "colab_type": "code",
        "colab": {}
      },
      "cell_type": "code",
      "source": [
        "lr = 0.0001 + tf.train.exponential_decay(learning_rate = 0.003, \n",
        "                                         global_step = step,\n",
        "                                         decay_steps = 2000,\n",
        "                                         decay_rate = 1/math.e\n",
        "                                        )\n",
        "\n",
        "#optimizer = tf.train.GradientDescentOptimizer(learning_rate = 0.005)\n",
        "optimizer = tf.train.AdamOptimizer(learning_rate=lr)\n",
        "train = optimizer.minimize(cross_entropy)"
      ],
      "execution_count": 0,
      "outputs": []
    },
    {
      "metadata": {
        "id": "47rAzeVNgBRP",
        "colab_type": "text"
      },
      "cell_type": "markdown",
      "source": [
        "### Intialize Variables"
      ]
    },
    {
      "metadata": {
        "id": "7WG1AszIgBRQ",
        "colab_type": "code",
        "colab": {}
      },
      "cell_type": "code",
      "source": [
        "init = tf.global_variables_initializer()"
      ],
      "execution_count": 0,
      "outputs": []
    },
    {
      "metadata": {
        "id": "rseSYLjggBRb",
        "colab_type": "text"
      },
      "cell_type": "markdown",
      "source": [
        "### Saving the Model"
      ]
    },
    {
      "metadata": {
        "id": "OwdUgOG4gBRc",
        "colab_type": "code",
        "colab": {}
      },
      "cell_type": "code",
      "source": [
        "saver = tf.train.Saver()"
      ],
      "execution_count": 0,
      "outputs": []
    },
    {
      "metadata": {
        "id": "xGdHTpE0gBRe",
        "colab_type": "text"
      },
      "cell_type": "markdown",
      "source": [
        "## Graph Session\n",
        "\n",
        "** Perform the training and test print outs in a Tf session and run your model! **"
      ]
    },
    {
      "metadata": {
        "id": "pQHEYbyZgBRf",
        "colab_type": "code",
        "outputId": "12d77dbd-681f-47c3-cceb-db6c403aeca9",
        "colab": {
          "base_uri": "https://localhost:8080/",
          "height": 10237
        }
      },
      "cell_type": "code",
      "source": [
        "history = {'acc_train':list(),'acc_val':list(),\n",
        "           'loss_train':list(),'loss_val':list(),\n",
        "          'learning_rate':list()}\n",
        "with tf.Session() as sess:\n",
        "    sess.run(tf.global_variables_initializer())\n",
        "    \n",
        "    for i in range(20000):\n",
        "        batch = ch.next_batch(100)\n",
        "        sess.run(train, feed_dict={X: batch[0], Y_true: batch[1], step: i, drop_rate: 0.25})\n",
        "        \n",
        "        # PRINT OUT A MESSAGE EVERY 100 STEPS\n",
        "        if i%100 == 0:\n",
        "            \n",
        "            # Test the Train Model\n",
        "            feed_dict_train = {X: batch[0], Y_true: batch[1], drop_rate: 0.25}\n",
        "            feed_dict_val = {X:ch.test_images, Y_true:ch.test_labels, drop_rate: 0}\n",
        "\n",
        "            matches = tf.equal(tf.argmax(Y,1),tf.argmax(Y_true,1))\n",
        "            acc = tf.reduce_mean(tf.cast(matches,tf.float32))\n",
        "            history['acc_train'].append(sess.run(acc, feed_dict = feed_dict_train))\n",
        "            history['acc_val'].append(sess.run(acc, feed_dict = feed_dict_val))\n",
        "\n",
        "            history['loss_train'].append(sess.run(cross_entropy, feed_dict = feed_dict_train))\n",
        "            history['loss_val'].append(sess.run(cross_entropy, feed_dict = feed_dict_val))\n",
        "            \n",
        "            history['learning_rate'].append(sess.run(lr, feed_dict = {step: i}))\n",
        "            print(\"Iteration {}:\\tlearning_rate={:.6f},\\tloss_train={:.6f},\\tloss_val={:.6f},\\tacc_train={:.6f},\\tacc_val={:.6f}\"\n",
        "                  .format(i,history['learning_rate'][-1],\n",
        "                          history['loss_train'][-1],\n",
        "                          history['loss_val'][-1],\n",
        "                          history['acc_train'][-1],\n",
        "                          history['acc_val'][-1]))\n",
        "            \n",
        "            print('\\n')\n",
        "        \n",
        "    saver.save(sess,'models_saving/my_model.ckpt')"
      ],
      "execution_count": 71,
      "outputs": [
        {
          "output_type": "stream",
          "text": [
            "Iteration 0:\tlearning_rate=0.003100,\tloss_train=2.213235,\tloss_val=2.256213,\tacc_train=0.270000,\tacc_val=0.202381\n",
            "\n",
            "\n",
            "Iteration 100:\tlearning_rate=0.002954,\tloss_train=0.390136,\tloss_val=0.342713,\tacc_train=0.910000,\tacc_val=0.923810\n",
            "\n",
            "\n",
            "Iteration 200:\tlearning_rate=0.002815,\tloss_train=0.257970,\tloss_val=0.229378,\tacc_train=0.930000,\tacc_val=0.938095\n",
            "\n",
            "\n",
            "Iteration 300:\tlearning_rate=0.002682,\tloss_train=0.292719,\tloss_val=0.179952,\tacc_train=0.920000,\tacc_val=0.957143\n",
            "\n",
            "\n",
            "Iteration 400:\tlearning_rate=0.002556,\tloss_train=0.140316,\tloss_val=0.173160,\tacc_train=0.950000,\tacc_val=0.957143\n",
            "\n",
            "\n",
            "Iteration 500:\tlearning_rate=0.002436,\tloss_train=0.174110,\tloss_val=0.205662,\tacc_train=0.960000,\tacc_val=0.959524\n",
            "\n",
            "\n",
            "Iteration 600:\tlearning_rate=0.002322,\tloss_train=0.097515,\tloss_val=0.151778,\tacc_train=0.960000,\tacc_val=0.961905\n",
            "\n",
            "\n",
            "Iteration 700:\tlearning_rate=0.002214,\tloss_train=0.064677,\tloss_val=0.149972,\tacc_train=0.980000,\tacc_val=0.961905\n",
            "\n",
            "\n",
            "Iteration 800:\tlearning_rate=0.002111,\tloss_train=0.111690,\tloss_val=0.178004,\tacc_train=0.960000,\tacc_val=0.957143\n",
            "\n",
            "\n",
            "Iteration 900:\tlearning_rate=0.002013,\tloss_train=0.021550,\tloss_val=0.174571,\tacc_train=1.000000,\tacc_val=0.959524\n",
            "\n",
            "\n",
            "Iteration 1000:\tlearning_rate=0.001920,\tloss_train=0.205623,\tloss_val=0.152802,\tacc_train=0.960000,\tacc_val=0.971429\n",
            "\n",
            "\n",
            "Iteration 1100:\tlearning_rate=0.001831,\tloss_train=0.094505,\tloss_val=0.165903,\tacc_train=0.960000,\tacc_val=0.964286\n",
            "\n",
            "\n",
            "Iteration 1200:\tlearning_rate=0.001746,\tloss_train=0.078548,\tloss_val=0.144696,\tacc_train=0.960000,\tacc_val=0.966667\n",
            "\n",
            "\n",
            "Iteration 1300:\tlearning_rate=0.001666,\tloss_train=0.087408,\tloss_val=0.187368,\tacc_train=0.970000,\tacc_val=0.954762\n",
            "\n",
            "\n",
            "Iteration 1400:\tlearning_rate=0.001590,\tloss_train=0.110445,\tloss_val=0.134932,\tacc_train=0.950000,\tacc_val=0.971429\n",
            "\n",
            "\n",
            "Iteration 1500:\tlearning_rate=0.001517,\tloss_train=0.097374,\tloss_val=0.154824,\tacc_train=0.990000,\tacc_val=0.964286\n",
            "\n",
            "\n",
            "Iteration 1600:\tlearning_rate=0.001448,\tloss_train=0.015218,\tloss_val=0.135954,\tacc_train=1.000000,\tacc_val=0.971429\n",
            "\n",
            "\n",
            "Iteration 1700:\tlearning_rate=0.001382,\tloss_train=0.052718,\tloss_val=0.144328,\tacc_train=0.970000,\tacc_val=0.971429\n",
            "\n",
            "\n",
            "Iteration 1800:\tlearning_rate=0.001320,\tloss_train=0.007530,\tloss_val=0.150683,\tacc_train=0.990000,\tacc_val=0.969048\n",
            "\n",
            "\n",
            "Iteration 1900:\tlearning_rate=0.001260,\tloss_train=0.042407,\tloss_val=0.132203,\tacc_train=0.980000,\tacc_val=0.973810\n",
            "\n",
            "\n",
            "Iteration 2000:\tlearning_rate=0.001204,\tloss_train=0.016666,\tloss_val=0.156475,\tacc_train=0.990000,\tacc_val=0.964286\n",
            "\n",
            "\n",
            "Iteration 2100:\tlearning_rate=0.001150,\tloss_train=0.016974,\tloss_val=0.142225,\tacc_train=0.990000,\tacc_val=0.966667\n",
            "\n",
            "\n",
            "Iteration 2200:\tlearning_rate=0.001099,\tloss_train=0.006253,\tloss_val=0.161666,\tacc_train=0.980000,\tacc_val=0.966667\n",
            "\n",
            "\n",
            "Iteration 2300:\tlearning_rate=0.001050,\tloss_train=0.033346,\tloss_val=0.148638,\tacc_train=0.980000,\tacc_val=0.971429\n",
            "\n",
            "\n",
            "Iteration 2400:\tlearning_rate=0.001004,\tloss_train=0.012736,\tloss_val=0.141769,\tacc_train=1.000000,\tacc_val=0.971429\n",
            "\n",
            "\n",
            "Iteration 2500:\tlearning_rate=0.000960,\tloss_train=0.008008,\tloss_val=0.149648,\tacc_train=1.000000,\tacc_val=0.969048\n",
            "\n",
            "\n",
            "Iteration 2600:\tlearning_rate=0.000918,\tloss_train=0.005308,\tloss_val=0.146539,\tacc_train=1.000000,\tacc_val=0.969048\n",
            "\n",
            "\n",
            "Iteration 2700:\tlearning_rate=0.000878,\tloss_train=0.012516,\tloss_val=0.136559,\tacc_train=1.000000,\tacc_val=0.973810\n",
            "\n",
            "\n",
            "Iteration 2800:\tlearning_rate=0.000840,\tloss_train=0.005838,\tloss_val=0.151297,\tacc_train=1.000000,\tacc_val=0.973810\n",
            "\n",
            "\n",
            "Iteration 2900:\tlearning_rate=0.000804,\tloss_train=0.033810,\tloss_val=0.155132,\tacc_train=1.000000,\tacc_val=0.973810\n",
            "\n",
            "\n",
            "Iteration 3000:\tlearning_rate=0.000769,\tloss_train=0.013711,\tloss_val=0.139323,\tacc_train=1.000000,\tacc_val=0.971429\n",
            "\n",
            "\n",
            "Iteration 3100:\tlearning_rate=0.000737,\tloss_train=0.014888,\tloss_val=0.167029,\tacc_train=1.000000,\tacc_val=0.971429\n",
            "\n",
            "\n",
            "Iteration 3200:\tlearning_rate=0.000706,\tloss_train=0.002667,\tloss_val=0.169782,\tacc_train=1.000000,\tacc_val=0.969048\n",
            "\n",
            "\n",
            "Iteration 3300:\tlearning_rate=0.000676,\tloss_train=0.003653,\tloss_val=0.160170,\tacc_train=1.000000,\tacc_val=0.973810\n",
            "\n",
            "\n",
            "Iteration 3400:\tlearning_rate=0.000648,\tloss_train=0.041257,\tloss_val=0.192027,\tacc_train=0.990000,\tacc_val=0.969048\n",
            "\n",
            "\n",
            "Iteration 3500:\tlearning_rate=0.000621,\tloss_train=0.001845,\tloss_val=0.163374,\tacc_train=1.000000,\tacc_val=0.973810\n",
            "\n",
            "\n",
            "Iteration 3600:\tlearning_rate=0.000596,\tloss_train=0.007610,\tloss_val=0.167219,\tacc_train=1.000000,\tacc_val=0.973810\n",
            "\n",
            "\n",
            "Iteration 3700:\tlearning_rate=0.000572,\tloss_train=0.009149,\tloss_val=0.170326,\tacc_train=1.000000,\tacc_val=0.971429\n",
            "\n",
            "\n",
            "Iteration 3800:\tlearning_rate=0.000549,\tloss_train=0.006270,\tloss_val=0.180801,\tacc_train=1.000000,\tacc_val=0.971429\n",
            "\n",
            "\n",
            "Iteration 3900:\tlearning_rate=0.000527,\tloss_train=0.001165,\tloss_val=0.168772,\tacc_train=1.000000,\tacc_val=0.971429\n",
            "\n",
            "\n",
            "Iteration 4000:\tlearning_rate=0.000506,\tloss_train=0.007112,\tloss_val=0.166344,\tacc_train=1.000000,\tacc_val=0.973810\n",
            "\n",
            "\n",
            "Iteration 4100:\tlearning_rate=0.000486,\tloss_train=0.003821,\tloss_val=0.173032,\tacc_train=1.000000,\tacc_val=0.973810\n",
            "\n",
            "\n",
            "Iteration 4200:\tlearning_rate=0.000467,\tloss_train=0.001796,\tloss_val=0.154208,\tacc_train=0.990000,\tacc_val=0.973810\n",
            "\n",
            "\n",
            "Iteration 4300:\tlearning_rate=0.000449,\tloss_train=0.001267,\tloss_val=0.188042,\tacc_train=1.000000,\tacc_val=0.966667\n",
            "\n",
            "\n",
            "Iteration 4400:\tlearning_rate=0.000432,\tloss_train=0.000136,\tloss_val=0.188587,\tacc_train=1.000000,\tacc_val=0.969048\n",
            "\n",
            "\n",
            "Iteration 4500:\tlearning_rate=0.000416,\tloss_train=0.027041,\tloss_val=0.192260,\tacc_train=0.990000,\tacc_val=0.971429\n",
            "\n",
            "\n",
            "Iteration 4600:\tlearning_rate=0.000401,\tloss_train=0.010266,\tloss_val=0.187360,\tacc_train=1.000000,\tacc_val=0.976190\n",
            "\n",
            "\n",
            "Iteration 4700:\tlearning_rate=0.000386,\tloss_train=0.019841,\tloss_val=0.191396,\tacc_train=0.990000,\tacc_val=0.973810\n",
            "\n",
            "\n",
            "Iteration 4800:\tlearning_rate=0.000372,\tloss_train=0.008633,\tloss_val=0.184235,\tacc_train=1.000000,\tacc_val=0.973810\n",
            "\n",
            "\n",
            "Iteration 4900:\tlearning_rate=0.000359,\tloss_train=0.014715,\tloss_val=0.178505,\tacc_train=1.000000,\tacc_val=0.973810\n",
            "\n",
            "\n",
            "Iteration 5000:\tlearning_rate=0.000346,\tloss_train=0.000880,\tloss_val=0.193680,\tacc_train=1.000000,\tacc_val=0.973810\n",
            "\n",
            "\n",
            "Iteration 5100:\tlearning_rate=0.000334,\tloss_train=0.000306,\tloss_val=0.196898,\tacc_train=1.000000,\tacc_val=0.971429\n",
            "\n",
            "\n",
            "Iteration 5200:\tlearning_rate=0.000323,\tloss_train=0.003086,\tloss_val=0.169877,\tacc_train=1.000000,\tacc_val=0.978571\n",
            "\n",
            "\n",
            "Iteration 5300:\tlearning_rate=0.000312,\tloss_train=0.001432,\tloss_val=0.179778,\tacc_train=1.000000,\tacc_val=0.978571\n",
            "\n",
            "\n",
            "Iteration 5400:\tlearning_rate=0.000302,\tloss_train=0.000128,\tloss_val=0.211507,\tacc_train=1.000000,\tacc_val=0.969048\n",
            "\n",
            "\n",
            "Iteration 5500:\tlearning_rate=0.000292,\tloss_train=0.000819,\tloss_val=0.204917,\tacc_train=1.000000,\tacc_val=0.976190\n",
            "\n",
            "\n",
            "Iteration 5600:\tlearning_rate=0.000282,\tloss_train=0.000926,\tloss_val=0.198197,\tacc_train=1.000000,\tacc_val=0.973810\n",
            "\n",
            "\n",
            "Iteration 5700:\tlearning_rate=0.000274,\tloss_train=0.002285,\tloss_val=0.184203,\tacc_train=1.000000,\tacc_val=0.976190\n",
            "\n",
            "\n",
            "Iteration 5800:\tlearning_rate=0.000265,\tloss_train=0.003996,\tloss_val=0.200789,\tacc_train=1.000000,\tacc_val=0.978571\n",
            "\n",
            "\n",
            "Iteration 5900:\tlearning_rate=0.000257,\tloss_train=0.000190,\tloss_val=0.197559,\tacc_train=1.000000,\tacc_val=0.973810\n",
            "\n",
            "\n",
            "Iteration 6000:\tlearning_rate=0.000249,\tloss_train=0.004597,\tloss_val=0.201104,\tacc_train=1.000000,\tacc_val=0.976190\n",
            "\n",
            "\n",
            "Iteration 6100:\tlearning_rate=0.000242,\tloss_train=0.000215,\tloss_val=0.202130,\tacc_train=1.000000,\tacc_val=0.976190\n",
            "\n",
            "\n",
            "Iteration 6200:\tlearning_rate=0.000235,\tloss_train=0.000377,\tloss_val=0.193507,\tacc_train=1.000000,\tacc_val=0.976190\n",
            "\n",
            "\n",
            "Iteration 6300:\tlearning_rate=0.000229,\tloss_train=0.001215,\tloss_val=0.200370,\tacc_train=1.000000,\tacc_val=0.976190\n",
            "\n",
            "\n",
            "Iteration 6400:\tlearning_rate=0.000222,\tloss_train=0.000771,\tloss_val=0.201266,\tacc_train=1.000000,\tacc_val=0.976190\n",
            "\n",
            "\n",
            "Iteration 6500:\tlearning_rate=0.000216,\tloss_train=0.000272,\tloss_val=0.205093,\tacc_train=1.000000,\tacc_val=0.976190\n",
            "\n",
            "\n",
            "Iteration 6600:\tlearning_rate=0.000211,\tloss_train=0.002038,\tloss_val=0.211768,\tacc_train=1.000000,\tacc_val=0.976190\n",
            "\n",
            "\n",
            "Iteration 6700:\tlearning_rate=0.000205,\tloss_train=0.000121,\tloss_val=0.206673,\tacc_train=1.000000,\tacc_val=0.978571\n",
            "\n",
            "\n",
            "Iteration 6800:\tlearning_rate=0.000200,\tloss_train=0.000104,\tloss_val=0.209474,\tacc_train=1.000000,\tacc_val=0.978571\n",
            "\n",
            "\n",
            "Iteration 6900:\tlearning_rate=0.000195,\tloss_train=0.000312,\tloss_val=0.213413,\tacc_train=1.000000,\tacc_val=0.976190\n",
            "\n",
            "\n",
            "Iteration 7000:\tlearning_rate=0.000191,\tloss_train=0.001025,\tloss_val=0.212398,\tacc_train=1.000000,\tacc_val=0.978571\n",
            "\n",
            "\n",
            "Iteration 7100:\tlearning_rate=0.000186,\tloss_train=0.000644,\tloss_val=0.222158,\tacc_train=1.000000,\tacc_val=0.976190\n",
            "\n",
            "\n",
            "Iteration 7200:\tlearning_rate=0.000182,\tloss_train=0.000678,\tloss_val=0.222249,\tacc_train=1.000000,\tacc_val=0.976190\n",
            "\n",
            "\n",
            "Iteration 7300:\tlearning_rate=0.000178,\tloss_train=0.000055,\tloss_val=0.227992,\tacc_train=1.000000,\tacc_val=0.976190\n",
            "\n",
            "\n",
            "Iteration 7400:\tlearning_rate=0.000174,\tloss_train=0.001005,\tloss_val=0.213649,\tacc_train=1.000000,\tacc_val=0.976190\n",
            "\n",
            "\n",
            "Iteration 7500:\tlearning_rate=0.000171,\tloss_train=0.000277,\tloss_val=0.223501,\tacc_train=1.000000,\tacc_val=0.976190\n",
            "\n",
            "\n",
            "Iteration 7600:\tlearning_rate=0.000167,\tloss_train=0.000132,\tloss_val=0.219531,\tacc_train=1.000000,\tacc_val=0.976190\n",
            "\n",
            "\n",
            "Iteration 7700:\tlearning_rate=0.000164,\tloss_train=0.002109,\tloss_val=0.217459,\tacc_train=1.000000,\tacc_val=0.978571\n",
            "\n",
            "\n",
            "Iteration 7800:\tlearning_rate=0.000161,\tloss_train=0.000165,\tloss_val=0.217044,\tacc_train=1.000000,\tacc_val=0.976190\n",
            "\n",
            "\n",
            "Iteration 7900:\tlearning_rate=0.000158,\tloss_train=0.000023,\tloss_val=0.229679,\tacc_train=1.000000,\tacc_val=0.973810\n",
            "\n",
            "\n",
            "Iteration 8000:\tlearning_rate=0.000155,\tloss_train=0.024321,\tloss_val=0.224189,\tacc_train=1.000000,\tacc_val=0.973810\n",
            "\n",
            "\n",
            "Iteration 8100:\tlearning_rate=0.000152,\tloss_train=0.000761,\tloss_val=0.235591,\tacc_train=1.000000,\tacc_val=0.973810\n",
            "\n",
            "\n",
            "Iteration 8200:\tlearning_rate=0.000150,\tloss_train=0.000607,\tloss_val=0.225933,\tacc_train=1.000000,\tacc_val=0.973810\n",
            "\n",
            "\n",
            "Iteration 8300:\tlearning_rate=0.000147,\tloss_train=0.000154,\tloss_val=0.237070,\tacc_train=1.000000,\tacc_val=0.971429\n",
            "\n",
            "\n",
            "Iteration 8400:\tlearning_rate=0.000145,\tloss_train=0.000206,\tloss_val=0.244491,\tacc_train=0.990000,\tacc_val=0.971429\n",
            "\n",
            "\n",
            "Iteration 8500:\tlearning_rate=0.000143,\tloss_train=0.000283,\tloss_val=0.242510,\tacc_train=1.000000,\tacc_val=0.973810\n",
            "\n",
            "\n",
            "Iteration 8600:\tlearning_rate=0.000141,\tloss_train=0.000283,\tloss_val=0.242604,\tacc_train=1.000000,\tacc_val=0.976190\n",
            "\n",
            "\n",
            "Iteration 8700:\tlearning_rate=0.000139,\tloss_train=0.000079,\tloss_val=0.245553,\tacc_train=1.000000,\tacc_val=0.978571\n",
            "\n",
            "\n",
            "Iteration 8800:\tlearning_rate=0.000137,\tloss_train=0.003777,\tloss_val=0.250749,\tacc_train=1.000000,\tacc_val=0.973810\n",
            "\n",
            "\n",
            "Iteration 8900:\tlearning_rate=0.000135,\tloss_train=0.000855,\tloss_val=0.262589,\tacc_train=1.000000,\tacc_val=0.971429\n",
            "\n",
            "\n",
            "Iteration 9000:\tlearning_rate=0.000133,\tloss_train=0.002863,\tloss_val=0.235896,\tacc_train=1.000000,\tacc_val=0.976190\n",
            "\n",
            "\n",
            "Iteration 9100:\tlearning_rate=0.000132,\tloss_train=0.000093,\tloss_val=0.235709,\tacc_train=1.000000,\tacc_val=0.978571\n",
            "\n",
            "\n",
            "Iteration 9200:\tlearning_rate=0.000130,\tloss_train=0.000384,\tloss_val=0.246252,\tacc_train=1.000000,\tacc_val=0.976190\n",
            "\n",
            "\n",
            "Iteration 9300:\tlearning_rate=0.000129,\tloss_train=0.000413,\tloss_val=0.257204,\tacc_train=1.000000,\tacc_val=0.976190\n",
            "\n",
            "\n",
            "Iteration 9400:\tlearning_rate=0.000127,\tloss_train=0.001143,\tloss_val=0.239449,\tacc_train=1.000000,\tacc_val=0.978571\n",
            "\n",
            "\n",
            "Iteration 9500:\tlearning_rate=0.000126,\tloss_train=0.001286,\tloss_val=0.247709,\tacc_train=1.000000,\tacc_val=0.976190\n",
            "\n",
            "\n",
            "Iteration 9600:\tlearning_rate=0.000125,\tloss_train=0.000069,\tloss_val=0.258161,\tacc_train=1.000000,\tacc_val=0.973810\n",
            "\n",
            "\n",
            "Iteration 9700:\tlearning_rate=0.000123,\tloss_train=0.000114,\tloss_val=0.240440,\tacc_train=1.000000,\tacc_val=0.973810\n",
            "\n",
            "\n",
            "Iteration 9800:\tlearning_rate=0.000122,\tloss_train=0.000167,\tloss_val=0.248497,\tacc_train=1.000000,\tacc_val=0.976190\n",
            "\n",
            "\n",
            "Iteration 9900:\tlearning_rate=0.000121,\tloss_train=0.000088,\tloss_val=0.245352,\tacc_train=1.000000,\tacc_val=0.976190\n",
            "\n",
            "\n",
            "Iteration 10000:\tlearning_rate=0.000120,\tloss_train=0.001925,\tloss_val=0.251792,\tacc_train=1.000000,\tacc_val=0.973810\n",
            "\n",
            "\n",
            "Iteration 10100:\tlearning_rate=0.000119,\tloss_train=0.000010,\tloss_val=0.244316,\tacc_train=1.000000,\tacc_val=0.976190\n",
            "\n",
            "\n",
            "Iteration 10200:\tlearning_rate=0.000118,\tloss_train=0.000363,\tloss_val=0.234244,\tacc_train=1.000000,\tacc_val=0.976190\n",
            "\n",
            "\n",
            "Iteration 10300:\tlearning_rate=0.000117,\tloss_train=0.004417,\tloss_val=0.235212,\tacc_train=1.000000,\tacc_val=0.976190\n",
            "\n",
            "\n",
            "Iteration 10400:\tlearning_rate=0.000117,\tloss_train=0.000004,\tloss_val=0.233202,\tacc_train=1.000000,\tacc_val=0.976190\n",
            "\n",
            "\n",
            "Iteration 10500:\tlearning_rate=0.000116,\tloss_train=0.000044,\tloss_val=0.242240,\tacc_train=1.000000,\tacc_val=0.976190\n",
            "\n",
            "\n",
            "Iteration 10600:\tlearning_rate=0.000115,\tloss_train=0.018054,\tloss_val=0.242421,\tacc_train=1.000000,\tacc_val=0.976190\n",
            "\n",
            "\n",
            "Iteration 10700:\tlearning_rate=0.000114,\tloss_train=0.000098,\tloss_val=0.246199,\tacc_train=1.000000,\tacc_val=0.978571\n",
            "\n",
            "\n",
            "Iteration 10800:\tlearning_rate=0.000114,\tloss_train=0.000015,\tloss_val=0.252720,\tacc_train=1.000000,\tacc_val=0.976190\n",
            "\n",
            "\n",
            "Iteration 10900:\tlearning_rate=0.000113,\tloss_train=0.000167,\tloss_val=0.248268,\tacc_train=1.000000,\tacc_val=0.976190\n",
            "\n",
            "\n",
            "Iteration 11000:\tlearning_rate=0.000112,\tloss_train=0.000853,\tloss_val=0.258680,\tacc_train=1.000000,\tacc_val=0.976190\n",
            "\n",
            "\n",
            "Iteration 11100:\tlearning_rate=0.000112,\tloss_train=0.001663,\tloss_val=0.260736,\tacc_train=1.000000,\tacc_val=0.978571\n",
            "\n",
            "\n",
            "Iteration 11200:\tlearning_rate=0.000111,\tloss_train=0.000010,\tloss_val=0.269438,\tacc_train=1.000000,\tacc_val=0.976190\n",
            "\n",
            "\n",
            "Iteration 11300:\tlearning_rate=0.000111,\tloss_train=0.000010,\tloss_val=0.271105,\tacc_train=1.000000,\tacc_val=0.969048\n",
            "\n",
            "\n",
            "Iteration 11400:\tlearning_rate=0.000110,\tloss_train=0.000041,\tloss_val=0.279866,\tacc_train=0.990000,\tacc_val=0.969048\n",
            "\n",
            "\n",
            "Iteration 11500:\tlearning_rate=0.000110,\tloss_train=0.000061,\tloss_val=0.275283,\tacc_train=1.000000,\tacc_val=0.971429\n",
            "\n",
            "\n",
            "Iteration 11600:\tlearning_rate=0.000109,\tloss_train=0.000049,\tloss_val=0.265061,\tacc_train=1.000000,\tacc_val=0.969048\n",
            "\n",
            "\n",
            "Iteration 11700:\tlearning_rate=0.000109,\tloss_train=0.000055,\tloss_val=0.271662,\tacc_train=1.000000,\tacc_val=0.971429\n",
            "\n",
            "\n",
            "Iteration 11800:\tlearning_rate=0.000108,\tloss_train=0.000045,\tloss_val=0.269833,\tacc_train=1.000000,\tacc_val=0.971429\n",
            "\n",
            "\n",
            "Iteration 11900:\tlearning_rate=0.000108,\tloss_train=0.000176,\tloss_val=0.274895,\tacc_train=1.000000,\tacc_val=0.976190\n",
            "\n",
            "\n",
            "Iteration 12000:\tlearning_rate=0.000107,\tloss_train=0.000036,\tloss_val=0.267733,\tacc_train=1.000000,\tacc_val=0.976190\n",
            "\n",
            "\n",
            "Iteration 12100:\tlearning_rate=0.000107,\tloss_train=0.000205,\tloss_val=0.282164,\tacc_train=1.000000,\tacc_val=0.976190\n",
            "\n",
            "\n",
            "Iteration 12200:\tlearning_rate=0.000107,\tloss_train=0.003514,\tloss_val=0.273464,\tacc_train=1.000000,\tacc_val=0.976190\n",
            "\n",
            "\n",
            "Iteration 12300:\tlearning_rate=0.000106,\tloss_train=0.000627,\tloss_val=0.282306,\tacc_train=1.000000,\tacc_val=0.976190\n",
            "\n",
            "\n",
            "Iteration 12400:\tlearning_rate=0.000106,\tloss_train=0.000305,\tloss_val=0.261437,\tacc_train=1.000000,\tacc_val=0.976190\n",
            "\n",
            "\n",
            "Iteration 12500:\tlearning_rate=0.000106,\tloss_train=0.000208,\tloss_val=0.283386,\tacc_train=1.000000,\tacc_val=0.976190\n",
            "\n",
            "\n",
            "Iteration 12600:\tlearning_rate=0.000106,\tloss_train=0.000146,\tloss_val=0.276381,\tacc_train=1.000000,\tacc_val=0.973810\n",
            "\n",
            "\n",
            "Iteration 12700:\tlearning_rate=0.000105,\tloss_train=0.000332,\tloss_val=0.275132,\tacc_train=1.000000,\tacc_val=0.978571\n",
            "\n",
            "\n",
            "Iteration 12800:\tlearning_rate=0.000105,\tloss_train=0.000091,\tloss_val=0.276774,\tacc_train=1.000000,\tacc_val=0.978571\n",
            "\n",
            "\n",
            "Iteration 12900:\tlearning_rate=0.000105,\tloss_train=0.000014,\tloss_val=0.273545,\tacc_train=1.000000,\tacc_val=0.976190\n",
            "\n",
            "\n",
            "Iteration 13000:\tlearning_rate=0.000105,\tloss_train=0.000001,\tloss_val=0.281091,\tacc_train=1.000000,\tacc_val=0.976190\n",
            "\n",
            "\n",
            "Iteration 13100:\tlearning_rate=0.000104,\tloss_train=0.000047,\tloss_val=0.307178,\tacc_train=1.000000,\tacc_val=0.973810\n",
            "\n",
            "\n",
            "Iteration 13200:\tlearning_rate=0.000104,\tloss_train=0.000950,\tloss_val=0.278284,\tacc_train=1.000000,\tacc_val=0.971429\n",
            "\n",
            "\n",
            "Iteration 13300:\tlearning_rate=0.000104,\tloss_train=0.001268,\tloss_val=0.270979,\tacc_train=1.000000,\tacc_val=0.973810\n",
            "\n",
            "\n",
            "Iteration 13400:\tlearning_rate=0.000104,\tloss_train=0.002112,\tloss_val=0.275955,\tacc_train=1.000000,\tacc_val=0.973810\n",
            "\n",
            "\n",
            "Iteration 13500:\tlearning_rate=0.000104,\tloss_train=0.005143,\tloss_val=0.267192,\tacc_train=1.000000,\tacc_val=0.973810\n",
            "\n",
            "\n",
            "Iteration 13600:\tlearning_rate=0.000103,\tloss_train=0.000056,\tloss_val=0.271092,\tacc_train=1.000000,\tacc_val=0.973810\n",
            "\n",
            "\n",
            "Iteration 13700:\tlearning_rate=0.000103,\tloss_train=0.000020,\tloss_val=0.283081,\tacc_train=1.000000,\tacc_val=0.973810\n",
            "\n",
            "\n",
            "Iteration 13800:\tlearning_rate=0.000103,\tloss_train=0.000229,\tloss_val=0.280981,\tacc_train=1.000000,\tacc_val=0.973810\n",
            "\n",
            "\n",
            "Iteration 13900:\tlearning_rate=0.000103,\tloss_train=0.000050,\tloss_val=0.278143,\tacc_train=1.000000,\tacc_val=0.973810\n",
            "\n",
            "\n",
            "Iteration 14000:\tlearning_rate=0.000103,\tloss_train=0.000001,\tloss_val=0.270836,\tacc_train=1.000000,\tacc_val=0.973810\n",
            "\n",
            "\n",
            "Iteration 14100:\tlearning_rate=0.000103,\tloss_train=0.010002,\tloss_val=0.269828,\tacc_train=1.000000,\tacc_val=0.973810\n",
            "\n",
            "\n",
            "Iteration 14200:\tlearning_rate=0.000102,\tloss_train=0.000095,\tloss_val=0.272578,\tacc_train=1.000000,\tacc_val=0.976190\n",
            "\n",
            "\n",
            "Iteration 14300:\tlearning_rate=0.000102,\tloss_train=0.000472,\tloss_val=0.294209,\tacc_train=1.000000,\tacc_val=0.976190\n",
            "\n",
            "\n",
            "Iteration 14400:\tlearning_rate=0.000102,\tloss_train=0.000030,\tloss_val=0.295307,\tacc_train=1.000000,\tacc_val=0.976190\n",
            "\n",
            "\n",
            "Iteration 14500:\tlearning_rate=0.000102,\tloss_train=0.000101,\tloss_val=0.297480,\tacc_train=1.000000,\tacc_val=0.973810\n",
            "\n",
            "\n",
            "Iteration 14600:\tlearning_rate=0.000102,\tloss_train=0.000110,\tloss_val=0.293045,\tacc_train=1.000000,\tacc_val=0.976190\n",
            "\n",
            "\n",
            "Iteration 14700:\tlearning_rate=0.000102,\tloss_train=0.000073,\tloss_val=0.307468,\tacc_train=1.000000,\tacc_val=0.976190\n",
            "\n",
            "\n",
            "Iteration 14800:\tlearning_rate=0.000102,\tloss_train=0.000063,\tloss_val=0.299858,\tacc_train=1.000000,\tacc_val=0.973810\n",
            "\n",
            "\n",
            "Iteration 14900:\tlearning_rate=0.000102,\tloss_train=0.000895,\tloss_val=0.299773,\tacc_train=1.000000,\tacc_val=0.976190\n",
            "\n",
            "\n",
            "Iteration 15000:\tlearning_rate=0.000102,\tloss_train=0.000041,\tloss_val=0.285019,\tacc_train=1.000000,\tacc_val=0.976190\n",
            "\n",
            "\n",
            "Iteration 15100:\tlearning_rate=0.000102,\tloss_train=0.000144,\tloss_val=0.280034,\tacc_train=1.000000,\tacc_val=0.976190\n",
            "\n",
            "\n",
            "Iteration 15200:\tlearning_rate=0.000102,\tloss_train=0.000375,\tloss_val=0.283464,\tacc_train=1.000000,\tacc_val=0.978571\n",
            "\n",
            "\n",
            "Iteration 15300:\tlearning_rate=0.000101,\tloss_train=0.000986,\tloss_val=0.267942,\tacc_train=1.000000,\tacc_val=0.978571\n",
            "\n",
            "\n",
            "Iteration 15400:\tlearning_rate=0.000101,\tloss_train=0.000005,\tloss_val=0.294002,\tacc_train=1.000000,\tacc_val=0.976190\n",
            "\n",
            "\n",
            "Iteration 15500:\tlearning_rate=0.000101,\tloss_train=0.000696,\tloss_val=0.285767,\tacc_train=1.000000,\tacc_val=0.978571\n",
            "\n",
            "\n",
            "Iteration 15600:\tlearning_rate=0.000101,\tloss_train=0.000081,\tloss_val=0.296837,\tacc_train=1.000000,\tacc_val=0.978571\n",
            "\n",
            "\n",
            "Iteration 15700:\tlearning_rate=0.000101,\tloss_train=0.000021,\tloss_val=0.293206,\tacc_train=1.000000,\tacc_val=0.978571\n",
            "\n",
            "\n",
            "Iteration 15800:\tlearning_rate=0.000101,\tloss_train=0.000022,\tloss_val=0.302308,\tacc_train=1.000000,\tacc_val=0.976190\n",
            "\n",
            "\n",
            "Iteration 15900:\tlearning_rate=0.000101,\tloss_train=0.003176,\tloss_val=0.301050,\tacc_train=1.000000,\tacc_val=0.971429\n",
            "\n",
            "\n",
            "Iteration 16000:\tlearning_rate=0.000101,\tloss_train=0.000607,\tloss_val=0.301576,\tacc_train=1.000000,\tacc_val=0.973810\n",
            "\n",
            "\n",
            "Iteration 16100:\tlearning_rate=0.000101,\tloss_train=0.000084,\tloss_val=0.302434,\tacc_train=1.000000,\tacc_val=0.973810\n",
            "\n",
            "\n",
            "Iteration 16200:\tlearning_rate=0.000101,\tloss_train=0.000108,\tloss_val=0.305228,\tacc_train=1.000000,\tacc_val=0.973810\n",
            "\n",
            "\n",
            "Iteration 16300:\tlearning_rate=0.000101,\tloss_train=0.000088,\tloss_val=0.304499,\tacc_train=1.000000,\tacc_val=0.973810\n",
            "\n",
            "\n",
            "Iteration 16400:\tlearning_rate=0.000101,\tloss_train=0.000067,\tloss_val=0.293064,\tacc_train=1.000000,\tacc_val=0.978571\n",
            "\n",
            "\n",
            "Iteration 16500:\tlearning_rate=0.000101,\tloss_train=0.000210,\tloss_val=0.294575,\tacc_train=0.990000,\tacc_val=0.978571\n",
            "\n",
            "\n",
            "Iteration 16600:\tlearning_rate=0.000101,\tloss_train=0.000028,\tloss_val=0.296519,\tacc_train=1.000000,\tacc_val=0.978571\n",
            "\n",
            "\n",
            "Iteration 16700:\tlearning_rate=0.000101,\tloss_train=0.000018,\tloss_val=0.297182,\tacc_train=1.000000,\tacc_val=0.976190\n",
            "\n",
            "\n",
            "Iteration 16800:\tlearning_rate=0.000101,\tloss_train=0.000097,\tloss_val=0.298227,\tacc_train=1.000000,\tacc_val=0.976190\n",
            "\n",
            "\n",
            "Iteration 16900:\tlearning_rate=0.000101,\tloss_train=0.000021,\tloss_val=0.297380,\tacc_train=1.000000,\tacc_val=0.976190\n",
            "\n",
            "\n",
            "Iteration 17000:\tlearning_rate=0.000101,\tloss_train=0.000016,\tloss_val=0.299017,\tacc_train=1.000000,\tacc_val=0.976190\n",
            "\n",
            "\n",
            "Iteration 17100:\tlearning_rate=0.000101,\tloss_train=0.008901,\tloss_val=0.304503,\tacc_train=1.000000,\tacc_val=0.976190\n",
            "\n",
            "\n",
            "Iteration 17200:\tlearning_rate=0.000101,\tloss_train=0.000045,\tloss_val=0.316930,\tacc_train=1.000000,\tacc_val=0.978571\n",
            "\n",
            "\n",
            "Iteration 17300:\tlearning_rate=0.000101,\tloss_train=0.000095,\tloss_val=0.311891,\tacc_train=1.000000,\tacc_val=0.978571\n",
            "\n",
            "\n",
            "Iteration 17400:\tlearning_rate=0.000100,\tloss_train=0.003854,\tloss_val=0.293427,\tacc_train=1.000000,\tacc_val=0.978571\n",
            "\n",
            "\n",
            "Iteration 17500:\tlearning_rate=0.000100,\tloss_train=0.000000,\tloss_val=0.307243,\tacc_train=1.000000,\tacc_val=0.976190\n",
            "\n",
            "\n",
            "Iteration 17600:\tlearning_rate=0.000100,\tloss_train=0.000018,\tloss_val=0.310439,\tacc_train=1.000000,\tacc_val=0.976190\n",
            "\n",
            "\n",
            "Iteration 17700:\tlearning_rate=0.000100,\tloss_train=0.000041,\tloss_val=0.316115,\tacc_train=1.000000,\tacc_val=0.976190\n",
            "\n",
            "\n",
            "Iteration 17800:\tlearning_rate=0.000100,\tloss_train=0.000066,\tloss_val=0.314930,\tacc_train=1.000000,\tacc_val=0.973810\n",
            "\n",
            "\n",
            "Iteration 17900:\tlearning_rate=0.000100,\tloss_train=0.000118,\tloss_val=0.332842,\tacc_train=1.000000,\tacc_val=0.973810\n",
            "\n",
            "\n",
            "Iteration 18000:\tlearning_rate=0.000100,\tloss_train=0.000021,\tloss_val=0.332029,\tacc_train=1.000000,\tacc_val=0.976190\n",
            "\n",
            "\n",
            "Iteration 18100:\tlearning_rate=0.000100,\tloss_train=0.003820,\tloss_val=0.321133,\tacc_train=1.000000,\tacc_val=0.976190\n",
            "\n",
            "\n",
            "Iteration 18200:\tlearning_rate=0.000100,\tloss_train=0.000195,\tloss_val=0.312012,\tacc_train=1.000000,\tacc_val=0.978571\n",
            "\n",
            "\n",
            "Iteration 18300:\tlearning_rate=0.000100,\tloss_train=0.000081,\tloss_val=0.331099,\tacc_train=1.000000,\tacc_val=0.976190\n",
            "\n",
            "\n",
            "Iteration 18400:\tlearning_rate=0.000100,\tloss_train=0.000006,\tloss_val=0.330951,\tacc_train=1.000000,\tacc_val=0.973810\n",
            "\n",
            "\n",
            "Iteration 18500:\tlearning_rate=0.000100,\tloss_train=0.000004,\tloss_val=0.333262,\tacc_train=1.000000,\tacc_val=0.976190\n",
            "\n",
            "\n",
            "Iteration 18600:\tlearning_rate=0.000100,\tloss_train=0.000274,\tloss_val=0.330258,\tacc_train=1.000000,\tacc_val=0.973810\n",
            "\n",
            "\n",
            "Iteration 18700:\tlearning_rate=0.000100,\tloss_train=0.000006,\tloss_val=0.331740,\tacc_train=1.000000,\tacc_val=0.973810\n",
            "\n",
            "\n",
            "Iteration 18800:\tlearning_rate=0.000100,\tloss_train=0.000005,\tloss_val=0.332040,\tacc_train=1.000000,\tacc_val=0.973810\n",
            "\n",
            "\n",
            "Iteration 18900:\tlearning_rate=0.000100,\tloss_train=0.000033,\tloss_val=0.329755,\tacc_train=1.000000,\tacc_val=0.973810\n",
            "\n",
            "\n",
            "Iteration 19000:\tlearning_rate=0.000100,\tloss_train=0.000215,\tloss_val=0.315635,\tacc_train=0.990000,\tacc_val=0.973810\n",
            "\n",
            "\n",
            "Iteration 19100:\tlearning_rate=0.000100,\tloss_train=0.000014,\tloss_val=0.313183,\tacc_train=1.000000,\tacc_val=0.973810\n",
            "\n",
            "\n",
            "Iteration 19200:\tlearning_rate=0.000100,\tloss_train=0.000023,\tloss_val=0.336975,\tacc_train=1.000000,\tacc_val=0.973810\n",
            "\n",
            "\n",
            "Iteration 19300:\tlearning_rate=0.000100,\tloss_train=0.000003,\tloss_val=0.334727,\tacc_train=1.000000,\tacc_val=0.978571\n",
            "\n",
            "\n",
            "Iteration 19400:\tlearning_rate=0.000100,\tloss_train=0.000004,\tloss_val=0.338605,\tacc_train=1.000000,\tacc_val=0.973810\n",
            "\n",
            "\n",
            "Iteration 19500:\tlearning_rate=0.000100,\tloss_train=0.011826,\tloss_val=0.342804,\tacc_train=1.000000,\tacc_val=0.973810\n",
            "\n",
            "\n",
            "Iteration 19600:\tlearning_rate=0.000100,\tloss_train=0.000003,\tloss_val=0.346977,\tacc_train=1.000000,\tacc_val=0.973810\n",
            "\n",
            "\n",
            "Iteration 19700:\tlearning_rate=0.000100,\tloss_train=0.000043,\tloss_val=0.339944,\tacc_train=1.000000,\tacc_val=0.973810\n",
            "\n",
            "\n",
            "Iteration 19800:\tlearning_rate=0.000100,\tloss_train=0.000009,\tloss_val=0.328747,\tacc_train=1.000000,\tacc_val=0.973810\n",
            "\n",
            "\n",
            "Iteration 19900:\tlearning_rate=0.000100,\tloss_train=0.000005,\tloss_val=0.329129,\tacc_train=1.000000,\tacc_val=0.973810\n",
            "\n",
            "\n"
          ],
          "name": "stdout"
        }
      ]
    },
    {
      "metadata": {
        "id": "s5rC6lSIAR-P",
        "colab_type": "code",
        "outputId": "7e18fb26-18d7-4035-c327-c534664d0ecc",
        "colab": {
          "base_uri": "https://localhost:8080/",
          "height": 282
        }
      },
      "cell_type": "code",
      "source": [
        "plt.plot(history['acc_train'],'b')\n",
        "plt.plot(history['acc_val'],'r')"
      ],
      "execution_count": 72,
      "outputs": [
        {
          "output_type": "execute_result",
          "data": {
            "text/plain": [
              "[<matplotlib.lines.Line2D at 0x7f651e90ecc0>]"
            ]
          },
          "metadata": {
            "tags": []
          },
          "execution_count": 72
        },
        {
          "output_type": "display_data",
          "data": {
            "image/png": "[encoded data removed]",
            "text/plain": [
              "<Figure size 432x288 with 1 Axes>"
            ]
          },
          "metadata": {
            "tags": []
          }
        }
      ]
    },
    {
      "metadata": {
        "id": "tkToA3CjBxJe",
        "colab_type": "code",
        "outputId": "e75209fc-0db4-4637-d133-ce044a4e5efe",
        "colab": {
          "base_uri": "https://localhost:8080/",
          "height": 282
        }
      },
      "cell_type": "code",
      "source": [
        "plt.plot(history['loss_train'],'b')\n",
        "plt.plot(history['loss_val'],'r')"
      ],
      "execution_count": 73,
      "outputs": [
        {
          "output_type": "execute_result",
          "data": {
            "text/plain": [
              "[<matplotlib.lines.Line2D at 0x7f651a9e6780>]"
            ]
          },
          "metadata": {
            "tags": []
          },
          "execution_count": 73
        },
        {
          "output_type": "display_data",
          "data": {
            "image/png": "[encoded data removed]",
            "text/plain": [
              "<Figure size 432x288 with 1 Axes>"
            ]
          },
          "metadata": {
            "tags": []
          }
        }
      ]
    },
    {
      "metadata": {
        "id": "NJPdR4IFb-uc",
        "colab_type": "code",
        "colab": {
          "base_uri": "https://localhost:8080/",
          "height": 282
        },
        "outputId": "efeac19f-1b6b-4429-8884-4e9502a018ee"
      },
      "cell_type": "code",
      "source": [
        "plt.plot(history['learning_rate'])"
      ],
      "execution_count": 74,
      "outputs": [
        {
          "output_type": "execute_result",
          "data": {
            "text/plain": [
              "[<matplotlib.lines.Line2D at 0x7f651ab05710>]"
            ]
          },
          "metadata": {
            "tags": []
          },
          "execution_count": 74
        },
        {
          "output_type": "display_data",
          "data": {
            "image/png": "[encoded data removed]",
            "text/plain": [
              "<Figure size 432x288 with 1 Axes>"
            ]
          },
          "metadata": {
            "tags": []
          }
        }
      ]
    },
    {
      "metadata": {
        "id": "X9uiFJ-ogBRi",
        "colab_type": "text"
      },
      "cell_type": "markdown",
      "source": [
        "### Loading a Model"
      ]
    },
    {
      "metadata": {
        "id": "Doot7_0fY5tF",
        "colab_type": "code",
        "colab": {}
      },
      "cell_type": "code",
      "source": [
        "unlabeled_images_test = pd.read_csv('gdrive/My Drive/dataML/test.csv')\n",
        "#unlabeled_images_test = pd.read_csv('test.csv')\n",
        "\n",
        "X_unlabeled = unlabeled_images_test.values.reshape(unlabeled_images_test.shape[0],28,28,1)/255"
      ],
      "execution_count": 0,
      "outputs": []
    },
    {
      "metadata": {
        "id": "dbtjpi8JgBRj",
        "colab_type": "code",
        "outputId": "ee65fc89-ef7e-4b99-b2bb-4d24d4e518c3",
        "colab": {
          "base_uri": "https://localhost:8080/",
          "height": 34
        }
      },
      "cell_type": "code",
      "source": [
        "with tf.Session() as sess:\n",
        "    \n",
        "    # Restore the model\n",
        "    saver.restore(sess, 'models_saving/my_model.ckpt')\n",
        "    \n",
        "\n",
        "    # Fetch Back Results\n",
        "    label = sess.run(Y, feed_dict={X:X_unlabeled,drop_rate:0})"
      ],
      "execution_count": 0,
      "outputs": [
        {
          "output_type": "stream",
          "text": [
            "INFO:tensorflow:Restoring parameters from models_saving/my_model.ckpt\n"
          ],
          "name": "stdout"
        }
      ]
    },
    {
      "metadata": {
        "id": "MZ1xS7oJZYkV",
        "colab_type": "code",
        "outputId": "6d483b80-a575-49e8-ce54-db9c91392100",
        "colab": {
          "base_uri": "https://localhost:8080/",
          "height": 34
        }
      },
      "cell_type": "code",
      "source": [
        "label"
      ],
      "execution_count": 0,
      "outputs": [
        {
          "output_type": "execute_result",
          "data": {
            "text/plain": [
              "array([2, 0, 9, ..., 3, 9, 2])"
            ]
          },
          "metadata": {
            "tags": []
          },
          "execution_count": 74
        }
      ]
    },
    {
      "metadata": {
        "id": "ojRKNc76gBRx",
        "colab_type": "text"
      },
      "cell_type": "markdown",
      "source": [
        "## Predict the unlabeled test sets using the model"
      ]
    },
    {
      "metadata": {
        "id": "yQrGiou8gBRy",
        "colab_type": "code",
        "colab": {}
      },
      "cell_type": "code",
      "source": [
        "imageId = np.arange(1,label.shape[0]+1).tolist()"
      ],
      "execution_count": 0,
      "outputs": []
    },
    {
      "metadata": {
        "id": "9Oj02pY3gBR1",
        "colab_type": "code",
        "colab": {}
      },
      "cell_type": "code",
      "source": [
        "prediction_pd = pd.DataFrame({'ImageId':imageId, 'Label':label})"
      ],
      "execution_count": 0,
      "outputs": []
    },
    {
      "metadata": {
        "id": "VLjMgeXEgBR4",
        "colab_type": "code",
        "colab": {}
      },
      "cell_type": "code",
      "source": [
        "prediction_pd.to_csv('gdrive/My Drive/dataML/out_cnn4.csv',sep = ',', index = False)"
      ],
      "execution_count": 0,
      "outputs": []
    },
    {
      "metadata": {
        "id": "ivz_HMLnZ684",
        "colab_type": "code",
        "colab": {}
      },
      "cell_type": "code",
      "source": [
        ""
      ],
      "execution_count": 0,
      "outputs": []
    }
  ],
  "metadata": {
    "colab": {
      "name": "2 DL Multi-Layer NN for DigitRecognizer.ipynb",
      "version": "0.3.2",
      "provenance": [],
      "collapsed_sections": [
        "b6I1adl5gBQD",
        "xeMZR7ntgBQI",
        "LT78eGccgBQN",
        "4RIGVSojmy-R",
        "RX5PuSUmvRri",
        "X9uiFJ-ogBRi",
        "u13ffZdjrqQf"
      ]
    },
    "kernelspec": {
      "name": "python3",
      "display_name": "Python 3"
    },
    "accelerator": "GPU"
  },
  "nbformat": 4,
  "nbformat_minor": 0
}