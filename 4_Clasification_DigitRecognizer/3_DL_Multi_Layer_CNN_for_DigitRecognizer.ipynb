{
 "cells": [
  {
   "cell_type": "markdown",
   "metadata": {
    "colab_type": "text",
    "id": "JS6jP7tpCrLr"
   },
   "source": [
    "## Digit Recognizer\n",
    "Learn computer vision fundamentals with the famous MNIST dat\n",
    "\n",
    "https://www.kaggle.com/c/digit-recognizer\n",
    "\n",
    "### Competition Description\n",
    "MNIST (\"Modified National Institute of Standards and Technology\") is the de facto “hello world” dataset of computer vision. Since its release in 1999, this classic dataset of handwritten images has served as the basis for benchmarking classification algorithms. As new machine learning techniques emerge, MNIST remains a reliable resource for researchers and learners alike.\n",
    "\n",
    "In this competition, your goal is to correctly identify digits from a dataset of tens of thousands of handwritten images. We’ve curated a set of tutorial-style kernels which cover everything from regression to neural networks. We encourage you to experiment with different algorithms to learn first-hand what works well and how techniques compare.\n",
    "\n",
    "### Practice Skills\n",
    "Computer vision fundamentals including simple neural networks\n",
    "\n",
    "Classification methods such as SVM and K-nearest neighbors\n",
    "\n",
    "#### Acknowledgements \n",
    "More details about the dataset, including algorithms that have been tried on it and their levels of success, can be found at http://yann.lecun.com/exdb/mnist/index.html. The dataset is made available under a Creative Commons Attribution-Share Alike 3.0 license."
   ]
  },
  {
   "cell_type": "code",
   "execution_count": null,
   "metadata": {},
   "outputs": [],
   "source": [
    "\n"
   ]
  },
  {
   "cell_type": "code",
   "execution_count": 0,
   "metadata": {
    "colab": {},
    "colab_type": "code",
    "id": "LgcAAVmXgBPm"
   },
   "outputs": [],
   "source": [
    "import pandas as pd\n",
    "import math\n",
    "import numpy as np\n",
    "import matplotlib.pyplot as plt, matplotlib.image as mpimg\n",
    "from sklearn.model_selection import train_test_split\n",
    "import tensorflow as tf\n",
    "%matplotlib inline"
   ]
  },
  {
   "cell_type": "code",
   "execution_count": 0,
   "metadata": {
    "colab": {},
    "colab_type": "code",
    "id": "EITzxKZRgBPy"
   },
   "outputs": [],
   "source": [
    "from tensorflow import keras\n",
    "from tensorflow.keras import models\n",
    "from tensorflow.keras import losses,optimizers,metrics\n",
    "from tensorflow.keras import layers"
   ]
  },
  {
   "cell_type": "markdown",
   "metadata": {
    "colab_type": "text",
    "id": "4PihLjAggBP1"
   },
   "source": [
    "## Data Preparation"
   ]
  },
  {
   "cell_type": "code",
   "execution_count": 33,
   "metadata": {
    "colab": {
     "base_uri": "https://localhost:8080/",
     "height": 34
    },
    "colab_type": "code",
    "id": "cra90fdEsmsI",
    "outputId": "1b5e320d-9f3f-4571-a3b3-88564bcd7270"
   },
   "outputs": [
    {
     "name": "stdout",
     "output_type": "stream",
     "text": [
      "Drive already mounted at /content/gdrive; to attempt to forcibly remount, call drive.mount(\"/content/gdrive\", force_remount=True).\n"
     ]
    }
   ],
   "source": [
    "from google.colab import drive \n",
    "drive.mount('/content/gdrive')"
   ]
  },
  {
   "cell_type": "code",
   "execution_count": 0,
   "metadata": {
    "colab": {},
    "colab_type": "code",
    "id": "K58DeQH2gBP2"
   },
   "outputs": [],
   "source": [
    "labeled_images = pd.read_csv('gdrive/My Drive/dataML/train.csv')\n",
    "#labeled_images = pd.read_csv('train.csv')\n",
    "images = labeled_images.iloc[:,1:]\n",
    "labels = labeled_images.iloc[:,:1]\n",
    "train_images, test_images,train_labels, test_labels = train_test_split(images, labels, test_size=0.01)"
   ]
  },
  {
   "cell_type": "code",
   "execution_count": 35,
   "metadata": {
    "colab": {
     "base_uri": "https://localhost:8080/",
     "height": 85
    },
    "colab_type": "code",
    "id": "At9soAW0qOs4",
    "outputId": "949d98c0-2251-4adc-e1a1-c7aa980cca2e"
   },
   "outputs": [
    {
     "name": "stdout",
     "output_type": "stream",
     "text": [
      "(41580, 784)\n",
      "(41580, 1)\n",
      "(420, 784)\n",
      "(420, 1)\n"
     ]
    }
   ],
   "source": [
    "print(train_images.shape)\n",
    "print(train_labels.shape)\n",
    "print(test_images.shape)\n",
    "print(test_labels.shape)"
   ]
  },
  {
   "cell_type": "markdown",
   "metadata": {
    "colab_type": "text",
    "id": "f87cEn1_xfqI"
   },
   "source": [
    "## Keras"
   ]
  },
  {
   "cell_type": "markdown",
   "metadata": {
    "colab_type": "text",
    "id": "UfkBgDM1gBP5"
   },
   "source": [
    "#### convert the data to the right type"
   ]
  },
  {
   "cell_type": "code",
   "execution_count": 0,
   "metadata": {
    "colab": {},
    "colab_type": "code",
    "id": "-X3Uu-o_gBP6"
   },
   "outputs": [],
   "source": [
    "x_train = train_images.values.reshape(train_images.shape[0],28,28,1)/255\n",
    "x_test = test_images.values.reshape(test_images.shape[0],28,28,1)/255\n",
    "y_train = train_labels.values\n",
    "y_test = test_labels.values"
   ]
  },
  {
   "cell_type": "code",
   "execution_count": 59,
   "metadata": {
    "colab": {
     "base_uri": "https://localhost:8080/",
     "height": 282
    },
    "colab_type": "code",
    "id": "7vboLIlsgBP9",
    "outputId": "a2428797-704d-4688-ffe1-74f9f691c258"
   },
   "outputs": [
    {
     "data": {
      "text/plain": [
       "<matplotlib.image.AxesImage at 0x7f1842b17c50>"
      ]
     },
     "execution_count": 59,
     "metadata": {
      "tags": []
     },
     "output_type": "execute_result"
    },
    {
     "data": {
      "image/png": "[encoded data removed]",
      "text/plain": [
       "<Figure size 432x288 with 1 Axes>"
      ]
     },
     "metadata": {
      "tags": []
     },
     "output_type": "display_data"
    }
   ],
   "source": [
    "\n",
    "plt.imshow(x_train[12].squeeze())"
   ]
  },
  {
   "cell_type": "code",
   "execution_count": 60,
   "metadata": {
    "colab": {
     "base_uri": "https://localhost:8080/",
     "height": 34
    },
    "colab_type": "code",
    "id": "o5tcP2-KVHu-",
    "outputId": "4ea52c49-87c4-42f3-b7f4-0167b9e1eeb8"
   },
   "outputs": [
    {
     "data": {
      "text/plain": [
       "(41580, 28, 28, 1)"
      ]
     },
     "execution_count": 60,
     "metadata": {
      "tags": []
     },
     "output_type": "execute_result"
    }
   ],
   "source": [
    "x_train.shape"
   ]
  },
  {
   "cell_type": "markdown",
   "metadata": {
    "colab_type": "text",
    "id": "b6I1adl5gBQD"
   },
   "source": [
    "#### convert the data to the right type"
   ]
  },
  {
   "cell_type": "markdown",
   "metadata": {
    "colab_type": "text",
    "collapsed": true,
    "id": "xeMZR7ntgBQI"
   },
   "source": [
    "### convert class vectors to binary class matrices - this is for use in the\n",
    "### categorical_crossentropy loss below"
   ]
  },
  {
   "cell_type": "code",
   "execution_count": 0,
   "metadata": {
    "colab": {},
    "colab_type": "code",
    "id": "8e2qjHPLgBQJ"
   },
   "outputs": [],
   "source": [
    "y_train = keras.utils.to_categorical(y_train)\n",
    "y_test = keras.utils.to_categorical(y_test)"
   ]
  },
  {
   "cell_type": "markdown",
   "metadata": {
    "colab_type": "text",
    "id": "LT78eGccgBQN"
   },
   "source": [
    "### Creating the Model\n"
   ]
  },
  {
   "cell_type": "code",
   "execution_count": 62,
   "metadata": {
    "colab": {
     "base_uri": "https://localhost:8080/",
     "height": 374
    },
    "colab_type": "code",
    "id": "AMOStnPCFWSI",
    "outputId": "d2235c6f-f03c-4603-ce84-aaa7f06bc680"
   },
   "outputs": [
    {
     "name": "stdout",
     "output_type": "stream",
     "text": [
      "_________________________________________________________________\n",
      "Layer (type)                 Output Shape              Param #   \n",
      "=================================================================\n",
      "conv2d_9 (Conv2D)            (None, 28, 28, 12)        444       \n",
      "_________________________________________________________________\n",
      "conv2d_10 (Conv2D)           (None, 14, 14, 24)        7224      \n",
      "_________________________________________________________________\n",
      "conv2d_11 (Conv2D)           (None, 7, 7, 48)          18480     \n",
      "_________________________________________________________________\n",
      "flatten_3 (Flatten)          (None, 2352)              0         \n",
      "_________________________________________________________________\n",
      "dense_6 (Dense)              (None, 200)               470600    \n",
      "_________________________________________________________________\n",
      "dropout_3 (Dropout)          (None, 200)               0         \n",
      "_________________________________________________________________\n",
      "dense_7 (Dense)              (None, 10)                2010      \n",
      "=================================================================\n",
      "Total params: 498,758\n",
      "Trainable params: 498,758\n",
      "Non-trainable params: 0\n",
      "_________________________________________________________________\n"
     ]
    }
   ],
   "source": [
    "model = models.Sequential()\n",
    "\n",
    "model.add(layers.Conv2D(filters = 12, kernel_size=(6,6), strides=(1,1),\n",
    "                       padding = 'same', activation = 'relu',\n",
    "                       input_shape = (28,28,1)))\n",
    "          \n",
    "model.add(layers.Conv2D(filters = 24,kernel_size=(5,5),strides=(2,2),\n",
    "                       padding = 'same', activation = 'relu'))\n",
    "\n",
    "model.add(layers.Conv2D(filters = 48,kernel_size=(4,4),strides=(2,2),\n",
    "                       padding = 'same', activation = 'relu'))\n",
    "          \n",
    "model.add(layers.Flatten())          \n",
    "          \n",
    "model.add(layers.Dense(units=200, activation='relu'))\n",
    "model.add(layers.Dropout(0.25))\n",
    "\n",
    "model.add(layers.Dense(units=10, activation='softmax'))\n",
    "\n",
    "model.summary()          "
   ]
  },
  {
   "cell_type": "code",
   "execution_count": 0,
   "metadata": {
    "colab": {},
    "colab_type": "code",
    "id": "BLdOV8vYgBQS"
   },
   "outputs": [],
   "source": [
    "adam = keras.optimizers.Adam(lr = 0.0001)\n",
    "\n",
    "model.compile(loss=keras.losses.categorical_crossentropy, \n",
    "              optimizer=adam, \n",
    "              metrics=['accuracy'])"
   ]
  },
  {
   "cell_type": "code",
   "execution_count": 64,
   "metadata": {
    "colab": {
     "base_uri": "https://localhost:8080/",
     "height": 3434
    },
    "colab_type": "code",
    "id": "pxI5Gi4xgBQV",
    "outputId": "9c9b10c7-19bd-4e74-eef1-e1cb482e3256"
   },
   "outputs": [
    {
     "name": "stdout",
     "output_type": "stream",
     "text": [
      "Train on 41580 samples, validate on 420 samples\n",
      "Epoch 1/100\n",
      "41580/41580 [==============================] - 7s 162us/sample - loss: 0.7363 - acc: 0.7790 - val_loss: 0.2267 - val_acc: 0.9429\n",
      "Epoch 2/100\n",
      "41580/41580 [==============================] - 6s 154us/sample - loss: 0.2373 - acc: 0.9282 - val_loss: 0.1327 - val_acc: 0.9571\n",
      "Epoch 3/100\n",
      "41580/41580 [==============================] - 6s 154us/sample - loss: 0.1663 - acc: 0.9491 - val_loss: 0.0920 - val_acc: 0.9643\n",
      "Epoch 4/100\n",
      "41580/41580 [==============================] - 6s 153us/sample - loss: 0.1315 - acc: 0.9602 - val_loss: 0.0642 - val_acc: 0.9762\n",
      "Epoch 5/100\n",
      "41580/41580 [==============================] - 6s 154us/sample - loss: 0.1080 - acc: 0.9663 - val_loss: 0.0469 - val_acc: 0.9857\n",
      "Epoch 6/100\n",
      "41580/41580 [==============================] - 6s 154us/sample - loss: 0.0927 - acc: 0.9715 - val_loss: 0.0412 - val_acc: 0.9857\n",
      "Epoch 7/100\n",
      "41580/41580 [==============================] - 6s 154us/sample - loss: 0.0797 - acc: 0.9759 - val_loss: 0.0294 - val_acc: 0.9905\n",
      "Epoch 8/100\n",
      "41580/41580 [==============================] - 6s 154us/sample - loss: 0.0720 - acc: 0.9777 - val_loss: 0.0281 - val_acc: 0.9881\n",
      "Epoch 9/100\n",
      "41580/41580 [==============================] - 6s 154us/sample - loss: 0.0640 - acc: 0.9802 - val_loss: 0.0261 - val_acc: 0.9905\n",
      "Epoch 10/100\n",
      "41580/41580 [==============================] - 6s 154us/sample - loss: 0.0568 - acc: 0.9823 - val_loss: 0.0227 - val_acc: 0.9929\n",
      "Epoch 11/100\n",
      "41580/41580 [==============================] - 6s 154us/sample - loss: 0.0503 - acc: 0.9841 - val_loss: 0.0180 - val_acc: 0.9952\n",
      "Epoch 12/100\n",
      "41580/41580 [==============================] - 6s 154us/sample - loss: 0.0463 - acc: 0.9856 - val_loss: 0.0298 - val_acc: 0.9905\n",
      "Epoch 13/100\n",
      "41580/41580 [==============================] - 6s 155us/sample - loss: 0.0420 - acc: 0.9871 - val_loss: 0.0176 - val_acc: 0.9952\n",
      "Epoch 14/100\n",
      "41580/41580 [==============================] - 6s 154us/sample - loss: 0.0403 - acc: 0.9873 - val_loss: 0.0120 - val_acc: 0.9976\n",
      "Epoch 15/100\n",
      "41580/41580 [==============================] - 6s 154us/sample - loss: 0.0363 - acc: 0.9886 - val_loss: 0.0157 - val_acc: 0.9952\n",
      "Epoch 16/100\n",
      "41580/41580 [==============================] - 6s 153us/sample - loss: 0.0333 - acc: 0.9888 - val_loss: 0.0191 - val_acc: 0.9952\n",
      "Epoch 17/100\n",
      "41580/41580 [==============================] - 6s 152us/sample - loss: 0.0298 - acc: 0.9902 - val_loss: 0.0118 - val_acc: 0.9952\n",
      "Epoch 18/100\n",
      "41580/41580 [==============================] - 6s 154us/sample - loss: 0.0291 - acc: 0.9904 - val_loss: 0.0092 - val_acc: 0.9976\n",
      "Epoch 19/100\n",
      "41580/41580 [==============================] - 6s 153us/sample - loss: 0.0275 - acc: 0.9914 - val_loss: 0.0138 - val_acc: 0.9952\n",
      "Epoch 20/100\n",
      "41580/41580 [==============================] - 6s 154us/sample - loss: 0.0240 - acc: 0.9919 - val_loss: 0.0144 - val_acc: 0.9976\n",
      "Epoch 21/100\n",
      "41580/41580 [==============================] - 6s 153us/sample - loss: 0.0236 - acc: 0.9928 - val_loss: 0.0095 - val_acc: 0.9976\n",
      "Epoch 22/100\n",
      "41580/41580 [==============================] - 6s 154us/sample - loss: 0.0218 - acc: 0.9926 - val_loss: 0.0164 - val_acc: 0.9929\n",
      "Epoch 23/100\n",
      "41580/41580 [==============================] - 6s 154us/sample - loss: 0.0196 - acc: 0.9938 - val_loss: 0.0128 - val_acc: 0.9976\n",
      "Epoch 24/100\n",
      "41580/41580 [==============================] - 6s 153us/sample - loss: 0.0182 - acc: 0.9940 - val_loss: 0.0084 - val_acc: 1.0000\n",
      "Epoch 25/100\n",
      "41580/41580 [==============================] - 6s 153us/sample - loss: 0.0175 - acc: 0.9944 - val_loss: 0.0090 - val_acc: 0.9976\n",
      "Epoch 26/100\n",
      "41580/41580 [==============================] - 6s 154us/sample - loss: 0.0167 - acc: 0.9951 - val_loss: 0.0146 - val_acc: 0.9905\n",
      "Epoch 27/100\n",
      "41580/41580 [==============================] - 6s 154us/sample - loss: 0.0148 - acc: 0.9951 - val_loss: 0.0099 - val_acc: 0.9952\n",
      "Epoch 28/100\n",
      "41580/41580 [==============================] - 6s 155us/sample - loss: 0.0145 - acc: 0.9953 - val_loss: 0.0111 - val_acc: 0.9976\n",
      "Epoch 29/100\n",
      "41580/41580 [==============================] - 6s 154us/sample - loss: 0.0156 - acc: 0.9945 - val_loss: 0.0087 - val_acc: 0.9976\n",
      "Epoch 30/100\n",
      "41580/41580 [==============================] - 6s 154us/sample - loss: 0.0129 - acc: 0.9961 - val_loss: 0.0099 - val_acc: 0.9976\n",
      "Epoch 31/100\n",
      "41580/41580 [==============================] - 6s 154us/sample - loss: 0.0128 - acc: 0.9959 - val_loss: 0.0062 - val_acc: 0.9976\n",
      "Epoch 32/100\n",
      "41580/41580 [==============================] - 6s 154us/sample - loss: 0.0120 - acc: 0.9963 - val_loss: 0.0066 - val_acc: 0.9976\n",
      "Epoch 33/100\n",
      "41580/41580 [==============================] - 6s 153us/sample - loss: 0.0107 - acc: 0.9966 - val_loss: 0.0106 - val_acc: 0.9976\n",
      "Epoch 34/100\n",
      "41580/41580 [==============================] - 6s 154us/sample - loss: 0.0107 - acc: 0.9965 - val_loss: 0.0208 - val_acc: 0.9929\n",
      "Epoch 35/100\n",
      "41580/41580 [==============================] - 6s 154us/sample - loss: 0.0111 - acc: 0.9964 - val_loss: 0.0049 - val_acc: 0.9976\n",
      "Epoch 36/100\n",
      "41580/41580 [==============================] - 6s 154us/sample - loss: 0.0101 - acc: 0.9967 - val_loss: 0.0049 - val_acc: 1.0000\n",
      "Epoch 37/100\n",
      "41580/41580 [==============================] - 6s 154us/sample - loss: 0.0083 - acc: 0.9974 - val_loss: 0.0129 - val_acc: 0.9976\n",
      "Epoch 38/100\n",
      "41580/41580 [==============================] - 6s 153us/sample - loss: 0.0089 - acc: 0.9972 - val_loss: 0.0052 - val_acc: 0.9976\n",
      "Epoch 39/100\n",
      "41580/41580 [==============================] - 6s 153us/sample - loss: 0.0079 - acc: 0.9974 - val_loss: 0.0047 - val_acc: 0.9976\n",
      "Epoch 40/100\n",
      "41580/41580 [==============================] - 6s 154us/sample - loss: 0.0076 - acc: 0.9976 - val_loss: 0.0057 - val_acc: 0.9976\n",
      "Epoch 41/100\n",
      "41580/41580 [==============================] - 6s 153us/sample - loss: 0.0083 - acc: 0.9974 - val_loss: 0.0073 - val_acc: 0.9976\n",
      "Epoch 42/100\n",
      "41580/41580 [==============================] - 6s 154us/sample - loss: 0.0078 - acc: 0.9972 - val_loss: 0.0029 - val_acc: 1.0000\n",
      "Epoch 43/100\n",
      "41580/41580 [==============================] - 6s 154us/sample - loss: 0.0070 - acc: 0.9978 - val_loss: 0.0133 - val_acc: 0.9976\n",
      "Epoch 44/100\n",
      "41580/41580 [==============================] - 6s 154us/sample - loss: 0.0085 - acc: 0.9973 - val_loss: 0.0167 - val_acc: 0.9976\n",
      "Epoch 45/100\n",
      "41580/41580 [==============================] - 6s 154us/sample - loss: 0.0065 - acc: 0.9981 - val_loss: 0.0046 - val_acc: 0.9976\n",
      "Epoch 46/100\n",
      "41580/41580 [==============================] - 6s 154us/sample - loss: 0.0058 - acc: 0.9981 - val_loss: 0.0081 - val_acc: 0.9976\n",
      "Epoch 47/100\n",
      "41580/41580 [==============================] - 6s 153us/sample - loss: 0.0063 - acc: 0.9979 - val_loss: 0.0144 - val_acc: 0.9976\n",
      "Epoch 48/100\n",
      "41580/41580 [==============================] - 6s 153us/sample - loss: 0.0061 - acc: 0.9983 - val_loss: 0.0037 - val_acc: 0.9976\n",
      "Epoch 49/100\n",
      "41580/41580 [==============================] - 6s 153us/sample - loss: 0.0055 - acc: 0.9982 - val_loss: 0.0122 - val_acc: 0.9929\n",
      "Epoch 50/100\n",
      "41580/41580 [==============================] - 6s 154us/sample - loss: 0.0065 - acc: 0.9978 - val_loss: 0.0081 - val_acc: 0.9976\n",
      "Epoch 51/100\n",
      "41580/41580 [==============================] - 6s 153us/sample - loss: 0.0071 - acc: 0.9975 - val_loss: 0.0022 - val_acc: 1.0000\n",
      "Epoch 52/100\n",
      "41580/41580 [==============================] - 6s 153us/sample - loss: 0.0054 - acc: 0.9982 - val_loss: 0.0030 - val_acc: 1.0000\n",
      "Epoch 53/100\n",
      "41580/41580 [==============================] - 6s 154us/sample - loss: 0.0046 - acc: 0.9987 - val_loss: 0.0092 - val_acc: 0.9929\n",
      "Epoch 54/100\n",
      "41580/41580 [==============================] - 6s 154us/sample - loss: 0.0053 - acc: 0.9982 - val_loss: 0.0039 - val_acc: 0.9976\n",
      "Epoch 55/100\n",
      "41580/41580 [==============================] - 6s 153us/sample - loss: 0.0047 - acc: 0.9985 - val_loss: 0.0027 - val_acc: 1.0000\n",
      "Epoch 56/100\n",
      "41580/41580 [==============================] - 6s 153us/sample - loss: 0.0051 - acc: 0.9985 - val_loss: 0.0034 - val_acc: 0.9976\n",
      "Epoch 57/100\n",
      "41580/41580 [==============================] - 6s 153us/sample - loss: 0.0049 - acc: 0.9984 - val_loss: 0.0080 - val_acc: 0.9976\n",
      "Epoch 58/100\n",
      "41580/41580 [==============================] - 6s 153us/sample - loss: 0.0044 - acc: 0.9987 - val_loss: 0.0088 - val_acc: 0.9952\n",
      "Epoch 59/100\n",
      "41580/41580 [==============================] - 6s 153us/sample - loss: 0.0048 - acc: 0.9984 - val_loss: 0.0030 - val_acc: 0.9976\n",
      "Epoch 60/100\n",
      "41580/41580 [==============================] - 6s 154us/sample - loss: 0.0041 - acc: 0.9988 - val_loss: 0.0010 - val_acc: 1.0000\n",
      "Epoch 61/100\n",
      "41580/41580 [==============================] - 6s 153us/sample - loss: 0.0041 - acc: 0.9988 - val_loss: 0.0029 - val_acc: 0.9976\n",
      "Epoch 62/100\n",
      "41580/41580 [==============================] - 6s 153us/sample - loss: 0.0040 - acc: 0.9987 - val_loss: 0.0028 - val_acc: 1.0000\n",
      "Epoch 63/100\n",
      "41580/41580 [==============================] - 6s 154us/sample - loss: 0.0040 - acc: 0.9986 - val_loss: 0.0192 - val_acc: 0.9976\n",
      "Epoch 64/100\n",
      "41580/41580 [==============================] - 6s 155us/sample - loss: 0.0037 - acc: 0.9990 - val_loss: 0.0073 - val_acc: 0.9976\n",
      "Epoch 65/100\n",
      "41580/41580 [==============================] - 6s 156us/sample - loss: 0.0040 - acc: 0.9988 - val_loss: 0.0132 - val_acc: 0.9976\n",
      "Epoch 66/100\n",
      "41580/41580 [==============================] - 6s 155us/sample - loss: 0.0050 - acc: 0.9983 - val_loss: 0.0110 - val_acc: 0.9976\n",
      "Epoch 67/100\n",
      "41580/41580 [==============================] - 6s 154us/sample - loss: 0.0035 - acc: 0.9987 - val_loss: 0.0084 - val_acc: 0.9976\n",
      "Epoch 68/100\n",
      "41580/41580 [==============================] - 6s 153us/sample - loss: 0.0031 - acc: 0.9991 - val_loss: 0.0098 - val_acc: 0.9976\n",
      "Epoch 69/100\n",
      "41580/41580 [==============================] - 6s 153us/sample - loss: 0.0037 - acc: 0.9989 - val_loss: 0.0160 - val_acc: 0.9976\n",
      "Epoch 70/100\n",
      "41580/41580 [==============================] - 6s 153us/sample - loss: 0.0030 - acc: 0.9991 - val_loss: 0.0022 - val_acc: 1.0000\n",
      "Epoch 71/100\n",
      "41580/41580 [==============================] - 6s 153us/sample - loss: 0.0030 - acc: 0.9991 - val_loss: 0.0033 - val_acc: 0.9976\n",
      "Epoch 72/100\n",
      "41580/41580 [==============================] - 6s 153us/sample - loss: 0.0035 - acc: 0.9990 - val_loss: 0.0062 - val_acc: 0.9976\n",
      "Epoch 73/100\n",
      "41580/41580 [==============================] - 6s 152us/sample - loss: 0.0032 - acc: 0.9993 - val_loss: 0.0050 - val_acc: 0.9976\n",
      "Epoch 74/100\n",
      "41580/41580 [==============================] - 6s 155us/sample - loss: 0.0037 - acc: 0.9990 - val_loss: 0.0017 - val_acc: 1.0000\n",
      "Epoch 75/100\n",
      "41580/41580 [==============================] - 6s 155us/sample - loss: 0.0031 - acc: 0.9989 - val_loss: 0.0023 - val_acc: 1.0000\n",
      "Epoch 76/100\n",
      "41580/41580 [==============================] - 6s 154us/sample - loss: 0.0036 - acc: 0.9988 - val_loss: 0.0088 - val_acc: 0.9976\n",
      "Epoch 77/100\n",
      "41580/41580 [==============================] - 6s 153us/sample - loss: 0.0036 - acc: 0.9989 - val_loss: 0.0146 - val_acc: 0.9976\n",
      "Epoch 78/100\n",
      "41580/41580 [==============================] - 6s 154us/sample - loss: 0.0023 - acc: 0.9993 - val_loss: 0.0056 - val_acc: 0.9952\n",
      "Epoch 79/100\n",
      "41580/41580 [==============================] - 6s 154us/sample - loss: 0.0027 - acc: 0.9991 - val_loss: 0.0159 - val_acc: 0.9976\n",
      "Epoch 80/100\n",
      "41580/41580 [==============================] - 6s 154us/sample - loss: 0.0019 - acc: 0.9995 - val_loss: 8.7428e-04 - val_acc: 1.0000\n",
      "Epoch 81/100\n",
      "41580/41580 [==============================] - 6s 154us/sample - loss: 0.0033 - acc: 0.9990 - val_loss: 0.0070 - val_acc: 0.9976\n",
      "Epoch 82/100\n",
      "41580/41580 [==============================] - 6s 154us/sample - loss: 0.0029 - acc: 0.9993 - val_loss: 7.8337e-04 - val_acc: 1.0000\n",
      "Epoch 83/100\n",
      "41580/41580 [==============================] - 6s 154us/sample - loss: 0.0023 - acc: 0.9995 - val_loss: 0.0089 - val_acc: 0.9952\n",
      "Epoch 84/100\n",
      "41580/41580 [==============================] - 6s 154us/sample - loss: 0.0032 - acc: 0.9990 - val_loss: 0.0025 - val_acc: 0.9976\n",
      "Epoch 85/100\n",
      "41580/41580 [==============================] - 6s 155us/sample - loss: 0.0030 - acc: 0.9991 - val_loss: 5.2638e-04 - val_acc: 1.0000\n",
      "Epoch 86/100\n",
      "41580/41580 [==============================] - 6s 154us/sample - loss: 0.0019 - acc: 0.9994 - val_loss: 0.0019 - val_acc: 0.9976\n",
      "Epoch 87/100\n",
      "41580/41580 [==============================] - 6s 154us/sample - loss: 0.0033 - acc: 0.9990 - val_loss: 0.0112 - val_acc: 0.9976\n",
      "Epoch 88/100\n",
      "41580/41580 [==============================] - 6s 154us/sample - loss: 0.0032 - acc: 0.9988 - val_loss: 0.0024 - val_acc: 0.9976\n",
      "Epoch 89/100\n",
      "41580/41580 [==============================] - 6s 154us/sample - loss: 0.0028 - acc: 0.9991 - val_loss: 1.5998e-04 - val_acc: 1.0000\n",
      "Epoch 90/100\n",
      "41580/41580 [==============================] - 6s 154us/sample - loss: 0.0020 - acc: 0.9993 - val_loss: 1.7976e-04 - val_acc: 1.0000\n",
      "Epoch 91/100\n",
      "41580/41580 [==============================] - 6s 153us/sample - loss: 0.0020 - acc: 0.9995 - val_loss: 7.8640e-04 - val_acc: 1.0000\n",
      "Epoch 92/100\n",
      "41580/41580 [==============================] - 6s 154us/sample - loss: 0.0025 - acc: 0.9993 - val_loss: 3.4278e-04 - val_acc: 1.0000\n",
      "Epoch 93/100\n",
      "41580/41580 [==============================] - 6s 153us/sample - loss: 0.0023 - acc: 0.9994 - val_loss: 2.5530e-04 - val_acc: 1.0000\n",
      "Epoch 94/100\n",
      "41580/41580 [==============================] - 6s 154us/sample - loss: 0.0025 - acc: 0.9993 - val_loss: 0.0057 - val_acc: 0.9976\n",
      "Epoch 95/100\n",
      "41580/41580 [==============================] - 6s 153us/sample - loss: 0.0016 - acc: 0.9996 - val_loss: 2.4696e-04 - val_acc: 1.0000\n",
      "Epoch 96/100\n",
      "41580/41580 [==============================] - 6s 154us/sample - loss: 0.0021 - acc: 0.9993 - val_loss: 0.0147 - val_acc: 0.9976\n",
      "Epoch 97/100\n",
      "41580/41580 [==============================] - 6s 153us/sample - loss: 0.0021 - acc: 0.9994 - val_loss: 0.0112 - val_acc: 0.9976\n",
      "Epoch 98/100\n",
      "41580/41580 [==============================] - 6s 155us/sample - loss: 0.0023 - acc: 0.9994 - val_loss: 0.0023 - val_acc: 0.9976\n",
      "Epoch 99/100\n",
      "41580/41580 [==============================] - 6s 154us/sample - loss: 0.0025 - acc: 0.9992 - val_loss: 0.0034 - val_acc: 0.9976\n",
      "Epoch 100/100\n",
      "41580/41580 [==============================] - 6s 155us/sample - loss: 0.0023 - acc: 0.9993 - val_loss: 0.0065 - val_acc: 0.9976\n"
     ]
    }
   ],
   "source": [
    "H = model.fit(x_train, y_train,\n",
    "          batch_size=100,\n",
    "          epochs=100,\n",
    "          verbose=1,\n",
    "          validation_data=(x_test, y_test))"
   ]
  },
  {
   "cell_type": "code",
   "execution_count": 0,
   "metadata": {
    "colab": {},
    "colab_type": "code",
    "id": "CHDGYz_Mki4G"
   },
   "outputs": [],
   "source": [
    "H.history.keys()"
   ]
  },
  {
   "cell_type": "code",
   "execution_count": 65,
   "metadata": {
    "colab": {
     "base_uri": "https://localhost:8080/",
     "height": 282
    },
    "colab_type": "code",
    "id": "G1s_nCBWk-91",
    "outputId": "bbb8e973-b569-4f0a-d9ae-def57593bf0a"
   },
   "outputs": [
    {
     "data": {
      "text/plain": [
       "[<matplotlib.lines.Line2D at 0x7f18421eeef0>]"
      ]
     },
     "execution_count": 65,
     "metadata": {
      "tags": []
     },
     "output_type": "execute_result"
    },
    {
     "data": {
      "image/png": "[encoded data removed]",
      "text/plain": [
       "<Figure size 432x288 with 1 Axes>"
      ]
     },
     "metadata": {
      "tags": []
     },
     "output_type": "display_data"
    }
   ],
   "source": [
    "plt.plot(H.history['acc'])\n",
    "plt.plot(H.history['val_acc'],'r')"
   ]
  },
  {
   "cell_type": "code",
   "execution_count": 66,
   "metadata": {
    "colab": {
     "base_uri": "https://localhost:8080/",
     "height": 282
    },
    "colab_type": "code",
    "id": "-AGE67k2lGxL",
    "outputId": "3919dfd2-25e5-4ff6-c9ed-6cd31a6b31e1"
   },
   "outputs": [
    {
     "data": {
      "text/plain": [
       "[<matplotlib.lines.Line2D at 0x7f184220f4a8>]"
      ]
     },
     "execution_count": 66,
     "metadata": {
      "tags": []
     },
     "output_type": "execute_result"
    },
    {
     "data": {
      "image/png": "[encoded data removed]",
      "text/plain": [
       "<Figure size 432x288 with 1 Axes>"
      ]
     },
     "metadata": {
      "tags": []
     },
     "output_type": "display_data"
    }
   ],
   "source": [
    "plt.plot(H.history['loss'])\n",
    "plt.plot(H.history['val_loss'],'r')"
   ]
  },
  {
   "cell_type": "markdown",
   "metadata": {
    "colab_type": "text",
    "id": "4RIGVSojmy-R"
   },
   "source": [
    "### Predict"
   ]
  },
  {
   "cell_type": "code",
   "execution_count": 0,
   "metadata": {
    "colab": {},
    "colab_type": "code",
    "id": "tnigE74rm39a"
   },
   "outputs": [],
   "source": [
    "unlabeled_images_test = pd.read_csv('gdrive/My Drive/dataML/test.csv')\n",
    "#unlabeled_images_test = pd.read_csv('test.csv')"
   ]
  },
  {
   "cell_type": "code",
   "execution_count": 0,
   "metadata": {
    "colab": {},
    "colab_type": "code",
    "id": "3Fotf1KrpXVE"
   },
   "outputs": [],
   "source": [
    "X_unlabeled = unlabeled_images_test.values.reshape(unlabeled_images_test.shape[0],28,28,1)/255"
   ]
  },
  {
   "cell_type": "code",
   "execution_count": 0,
   "metadata": {
    "colab": {},
    "colab_type": "code",
    "id": "jeRnCHzdutQ0"
   },
   "outputs": [],
   "source": [
    "y_pred = model.predict(X_unlabeled)"
   ]
  },
  {
   "cell_type": "code",
   "execution_count": 0,
   "metadata": {
    "colab": {},
    "colab_type": "code",
    "id": "3M_fePteu-3X"
   },
   "outputs": [],
   "source": [
    "y_label = np.argmax(y_pred, axis=1)"
   ]
  },
  {
   "cell_type": "markdown",
   "metadata": {
    "colab_type": "text",
    "id": "RX5PuSUmvRri"
   },
   "source": [
    "### Save csv"
   ]
  },
  {
   "cell_type": "code",
   "execution_count": 0,
   "metadata": {
    "colab": {},
    "colab_type": "code",
    "id": "zU5Q1fSRvVbn"
   },
   "outputs": [],
   "source": [
    "imageId = np.arange(1,y_label.shape[0]+1).tolist()\n",
    "prediction_pd = pd.DataFrame({'ImageId':imageId, 'Label':y_label})\n",
    "prediction_pd.to_csv('gdrive/My Drive/dataML/out_cnn08.csv',sep = ',', index = False)"
   ]
  },
  {
   "cell_type": "markdown",
   "metadata": {
    "colab_type": "text",
    "id": "_qetEX7AgBQY"
   },
   "source": [
    "# Tensorflow"
   ]
  },
  {
   "cell_type": "markdown",
   "metadata": {
    "colab_type": "text",
    "id": "4keUL7d0gBQZ"
   },
   "source": [
    "### Helper functions for batch learning"
   ]
  },
  {
   "cell_type": "code",
   "execution_count": 0,
   "metadata": {
    "colab": {},
    "colab_type": "code",
    "id": "czdbjPfcgBQd"
   },
   "outputs": [],
   "source": [
    "def one_hot_encode(vec, vals=10):\n",
    "    '''\n",
    "    For use to one-hot encode the 10- possible labels\n",
    "    '''\n",
    "    n = len(vec)\n",
    "    out = np.zeros((n, vals))\n",
    "    out[range(n), vec] = 1\n",
    "    return out"
   ]
  },
  {
   "cell_type": "code",
   "execution_count": 0,
   "metadata": {
    "colab": {},
    "colab_type": "code",
    "id": "Afc2XmK2gBQh"
   },
   "outputs": [],
   "source": [
    "class CifarHelper():\n",
    "    \n",
    "    def __init__(self):\n",
    "        self.i = 0\n",
    "        \n",
    "        # Intialize some empty variables for later on\n",
    "        self.training_images = None\n",
    "        self.training_labels = None\n",
    "        \n",
    "        self.test_images = None\n",
    "        self.test_labels = None\n",
    "    \n",
    "    def set_up_images(self):\n",
    "        \n",
    "        print(\"Setting Up Training Images and Labels\")\n",
    "        \n",
    "        # Vertically stacks the training images\n",
    "        self.training_images = train_images.as_matrix()\n",
    "        train_len = self.training_images.shape[0]\n",
    "        \n",
    "        # Reshapes and normalizes training images\n",
    "        self.training_images = self.training_images.reshape(train_len,28,28,1)/255\n",
    "        # One hot Encodes the training labels (e.g. [0,0,0,1,0,0,0,0,0,0])\n",
    "        self.training_labels = one_hot_encode(train_labels.as_matrix().reshape(-1), 10)\n",
    "        \n",
    "        print(\"Setting Up Test Images and Labels\")\n",
    "        \n",
    "        # Vertically stacks the test images\n",
    "        self.test_images = test_images.as_matrix()\n",
    "        test_len = self.test_images.shape[0]\n",
    "        \n",
    "        # Reshapes and normalizes test images\n",
    "        self.test_images = self.test_images.reshape(test_len,28,28,1)/255\n",
    "        # One hot Encodes the test labels (e.g. [0,0,0,1,0,0,0,0,0,0])\n",
    "        self.test_labels = one_hot_encode(test_labels.as_matrix().reshape(-1), 10)\n",
    "\n",
    "        \n",
    "    def next_batch(self, batch_size):\n",
    "        # Note that the 100 dimension in the reshape call is set by an assumed batch size of 100\n",
    "        x = self.training_images[self.i:self.i+batch_size]\n",
    "        y = self.training_labels[self.i:self.i+batch_size]\n",
    "        self.i = (self.i + batch_size) % len(self.training_images)\n",
    "        return x, y"
   ]
  },
  {
   "cell_type": "code",
   "execution_count": 21,
   "metadata": {
    "colab": {
     "base_uri": "https://localhost:8080/",
     "height": 51
    },
    "colab_type": "code",
    "id": "1qAiPT1-gBQp",
    "outputId": "579a01c2-db46-4e51-8279-eb66d5844e35"
   },
   "outputs": [
    {
     "name": "stdout",
     "output_type": "stream",
     "text": [
      "Setting Up Training Images and Labels\n",
      "Setting Up Test Images and Labels\n"
     ]
    }
   ],
   "source": [
    "# Before Your tf.Session run these two lines\n",
    "ch = CifarHelper()\n",
    "ch.set_up_images()\n",
    "\n",
    "# During your session to grab the next batch use this line\n",
    "# (Just like we did for mnist.train.next_batch)\n",
    "# batch = ch.next_batch(100)"
   ]
  },
  {
   "cell_type": "markdown",
   "metadata": {
    "colab_type": "text",
    "id": "QUkUv8sKgBQw"
   },
   "source": [
    "## Creating the Model\n",
    "\n"
   ]
  },
  {
   "cell_type": "markdown",
   "metadata": {
    "colab_type": "text",
    "id": "l1XSMzIpgBQx"
   },
   "source": [
    "** Create 2 placeholders, x and y_true. Their shapes should be: **\n",
    "\n",
    "* X shape = [None,28,28,1]\n",
    "* Y_true shape = [None,10]\n",
    "\n",
    "** Create three more placeholders \n",
    "* lr: learning rate\n",
    "* step：for learning rate decay\n",
    "* drop_rate"
   ]
  },
  {
   "cell_type": "code",
   "execution_count": 0,
   "metadata": {
    "colab": {},
    "colab_type": "code",
    "id": "8Y_4DDQvgBQz"
   },
   "outputs": [],
   "source": [
    "X = tf.placeholder(tf.float32, shape=[None,28,28,1])\n",
    "Y_true = tf.placeholder(tf.float32, shape=[None,10])\n",
    "\n",
    "lr = tf.placeholder(tf.float32)\n",
    "step = tf.placeholder(tf.int32)\n",
    "drop_rate = tf.placeholder(tf.float32)"
   ]
  },
  {
   "cell_type": "markdown",
   "metadata": {
    "colab_type": "text",
    "id": "5egQVsS4NhxW"
   },
   "source": [
    "### Initialize Weights and bias\n",
    " neural network structure for this sample:\n",
    "\n",
    "X [batch, 28, 28, 1]\n",
    " \n",
    "Layer 1:  conv. layer 6x6x1=>6, stride 1    W1 [6, 6, 1, 6] ,       B1 [6]\n",
    "\n",
    "Y1 [batch, 28, 28, 6]\n",
    "\n",
    "Layer 2: conv. layer 5x5x6=>12, stride 2       W2 [5, 5, 6, 12] ,       B2 [12]\n",
    "\n",
    "Y2 [batch, 14, 14, 12]\n",
    "\n",
    "Layer 3: conv. layer 4x4x12=>24, stride 2      W3 [4, 4, 12, 24]  ,     B3 [24]\n",
    "\n",
    "Y3 [batch, 7, 7, 24] => reshaped to YY [batch, 7*7*24]\n",
    "\n",
    "Layer 4: fully connected layer (relu+dropout), W4 [7*7*24, 200]       B4 [200]\n",
    "\n",
    "Y4 [batch, 200]\n",
    "\n",
    "Layer 5: fully connected layer (softmax)      W5 [200, 10]           B5 [10]\n",
    "\n",
    "Y [batch, 10]"
   ]
  },
  {
   "cell_type": "code",
   "execution_count": 0,
   "metadata": {
    "colab": {},
    "colab_type": "code",
    "id": "UD6cWs60OnGn"
   },
   "outputs": [],
   "source": [
    "# three convolutional layers with their channel counts, and a\n",
    "# fully connected layer (the last layer has 10 softmax neurons)\n",
    "K = 12  # first convolutional layer output depth\n",
    "L = 24  # second convolutional layer output depth\n",
    "M = 48  # third convolutional layer\n",
    "N = 200  # fully connected layer"
   ]
  },
  {
   "cell_type": "code",
   "execution_count": 0,
   "metadata": {
    "colab": {},
    "colab_type": "code",
    "id": "xiVQdlDsN1W-"
   },
   "outputs": [],
   "source": [
    "W1 = tf.Variable(tf.truncated_normal([6,6,1,K], stddev=0.1)) \n",
    "B1 = tf.Variable(tf.ones([K])/10)\n",
    "\n",
    "W2 = tf.Variable(tf.truncated_normal([5,5,K,L], stddev=0.1))\n",
    "B2 = tf.Variable(tf.ones([L])/10)\n",
    "\n",
    "W3 = tf.Variable(tf.truncated_normal([4,4,L,M], stddev=0.1))\n",
    "B3 = tf.Variable(tf.ones([M])/10)\n",
    "\n",
    "W4 = tf.Variable(tf.truncated_normal([7*7*M,N], stddev=0.1))\n",
    "B4 = tf.Variable(tf.ones([N])/10)\n",
    "\n",
    "W5 = tf.Variable(tf.truncated_normal([N, 10], stddev=0.1))\n",
    "B5 = tf.Variable(tf.zeros([10]))"
   ]
  },
  {
   "cell_type": "markdown",
   "metadata": {
    "colab_type": "text",
    "id": "u4RDJq8pO_Og"
   },
   "source": [
    "### layers"
   ]
  },
  {
   "cell_type": "code",
   "execution_count": 0,
   "metadata": {
    "colab": {},
    "colab_type": "code",
    "id": "DM5_O098O4Di"
   },
   "outputs": [],
   "source": [
    "Y1 = tf.nn.relu(tf.nn.conv2d(X, W1, strides = [1,1,1,1], padding='SAME') + B1)\n",
    "\n",
    "Y2 = tf.nn.relu(tf.nn.conv2d(Y1,W2, strides = [1,2,2,1], padding='SAME') + B2)\n",
    "\n",
    "Y3 = tf.nn.relu(tf.nn.conv2d(Y2,W3, strides = [1,2,2,1], padding='SAME') + B3)\n",
    "\n",
    "#flat the inputs for the fully connected nn\n",
    "YY3 = tf.reshape(Y3, shape = (-1,7*7*M))\n",
    "                \n",
    "\n",
    "Y4 = tf.nn.relu(tf.matmul(YY3, W4) + B4)\n",
    "Y4d = tf.nn.dropout(Y4,rate = drop_rate)\n",
    "\n",
    "Ylogits = tf.matmul(Y4d, W5) + B5\n",
    "Y = tf.nn.softmax(Ylogits)"
   ]
  },
  {
   "cell_type": "markdown",
   "metadata": {
    "colab_type": "text",
    "id": "tT4TvNz-gBRI"
   },
   "source": [
    "### Loss Function"
   ]
  },
  {
   "cell_type": "code",
   "execution_count": 12,
   "metadata": {
    "colab": {
     "base_uri": "https://localhost:8080/",
     "height": 88
    },
    "colab_type": "code",
    "id": "wkqQ5GurgBRJ",
    "outputId": "9145b309-a37b-4f3a-9b69-0b99eec766fc"
   },
   "outputs": [
    {
     "name": "stdout",
     "output_type": "stream",
     "text": [
      "WARNING:tensorflow:From /usr/local/lib/python3.6/dist-packages/tensorflow/python/ops/losses/losses_impl.py:209: to_float (from tensorflow.python.ops.math_ops) is deprecated and will be removed in a future version.\n",
      "Instructions for updating:\n",
      "Use tf.cast instead.\n"
     ]
    }
   ],
   "source": [
    "#cross_entropy = tf.reduce_mean(tf.nn.softmax_cross_entropy_with_logits_v2(labels=Y_true,logits=Ylogits))\n",
    "cross_entropy = tf.losses.softmax_cross_entropy(onehot_labels = Y_true, logits = Ylogits)\n",
    "#cross_entropy = -tf.reduce_mean(y_true * tf.log(Ylogits)) * 1000.0 "
   ]
  },
  {
   "cell_type": "markdown",
   "metadata": {
    "colab_type": "text",
    "id": "jmnEUVWxgBRM"
   },
   "source": [
    "### Optimizer"
   ]
  },
  {
   "cell_type": "code",
   "execution_count": 0,
   "metadata": {
    "colab": {},
    "colab_type": "code",
    "id": "MoyIlzCagBRN"
   },
   "outputs": [],
   "source": [
    "lr = 0.0001 + tf.train.exponential_decay(learning_rate = 0.003, \n",
    "                                         global_step = step,\n",
    "                                         decay_steps = 2000,\n",
    "                                         decay_rate = 1/math.e\n",
    "                                        )\n",
    "\n",
    "#optimizer = tf.train.GradientDescentOptimizer(learning_rate = 0.005)\n",
    "optimizer = tf.train.AdamOptimizer(learning_rate=lr)\n",
    "train = optimizer.minimize(cross_entropy)"
   ]
  },
  {
   "cell_type": "markdown",
   "metadata": {
    "colab_type": "text",
    "id": "47rAzeVNgBRP"
   },
   "source": [
    "### Intialize Variables"
   ]
  },
  {
   "cell_type": "code",
   "execution_count": 0,
   "metadata": {
    "colab": {},
    "colab_type": "code",
    "id": "7WG1AszIgBRQ"
   },
   "outputs": [],
   "source": [
    "init = tf.global_variables_initializer()"
   ]
  },
  {
   "cell_type": "markdown",
   "metadata": {
    "colab_type": "text",
    "id": "rseSYLjggBRb"
   },
   "source": [
    "### Saving the Model"
   ]
  },
  {
   "cell_type": "code",
   "execution_count": 0,
   "metadata": {
    "colab": {},
    "colab_type": "code",
    "id": "OwdUgOG4gBRc"
   },
   "outputs": [],
   "source": [
    "saver = tf.train.Saver()"
   ]
  },
  {
   "cell_type": "markdown",
   "metadata": {
    "colab_type": "text",
    "id": "xGdHTpE0gBRe"
   },
   "source": [
    "## Graph Session\n",
    "\n",
    "** Perform the training and test print outs in a Tf session and run your model! **"
   ]
  },
  {
   "cell_type": "code",
   "execution_count": 22,
   "metadata": {
    "colab": {
     "base_uri": "https://localhost:8080/",
     "height": 10237
    },
    "colab_type": "code",
    "id": "pQHEYbyZgBRf",
    "outputId": "cc718ec8-8ef0-42c4-b230-898ac94d6e09"
   },
   "outputs": [
    {
     "name": "stdout",
     "output_type": "stream",
     "text": [
      "Iteration 0:\tlearning_rate=0.003100,\tloss_train=3.291209,\tloss_val=3.566376,\tacc_train=0.150000,\tacc_val=0.080952\n",
      "\n",
      "\n",
      "Iteration 100:\tlearning_rate=0.002954,\tloss_train=0.273934,\tloss_val=0.113660,\tacc_train=0.950000,\tacc_val=0.973810\n",
      "\n",
      "\n",
      "Iteration 200:\tlearning_rate=0.002815,\tloss_train=0.131737,\tloss_val=0.094597,\tacc_train=0.980000,\tacc_val=0.969048\n",
      "\n",
      "\n",
      "Iteration 300:\tlearning_rate=0.002682,\tloss_train=0.058850,\tloss_val=0.089490,\tacc_train=0.980000,\tacc_val=0.971429\n",
      "\n",
      "\n",
      "Iteration 400:\tlearning_rate=0.002556,\tloss_train=0.052930,\tloss_val=0.051649,\tacc_train=0.990000,\tacc_val=0.983333\n",
      "\n",
      "\n",
      "Iteration 500:\tlearning_rate=0.002436,\tloss_train=0.108525,\tloss_val=0.043813,\tacc_train=0.970000,\tacc_val=0.980952\n",
      "\n",
      "\n",
      "Iteration 600:\tlearning_rate=0.002322,\tloss_train=0.077652,\tloss_val=0.043063,\tacc_train=0.980000,\tacc_val=0.983333\n",
      "\n",
      "\n",
      "Iteration 700:\tlearning_rate=0.002214,\tloss_train=0.062273,\tloss_val=0.050851,\tacc_train=0.990000,\tacc_val=0.983333\n",
      "\n",
      "\n",
      "Iteration 800:\tlearning_rate=0.002111,\tloss_train=0.055581,\tloss_val=0.016286,\tacc_train=1.000000,\tacc_val=0.995238\n",
      "\n",
      "\n",
      "Iteration 900:\tlearning_rate=0.002013,\tloss_train=0.063747,\tloss_val=0.026281,\tacc_train=0.990000,\tacc_val=0.985714\n",
      "\n",
      "\n",
      "Iteration 1000:\tlearning_rate=0.001920,\tloss_train=0.037742,\tloss_val=0.045727,\tacc_train=0.990000,\tacc_val=0.985714\n",
      "\n",
      "\n",
      "Iteration 1100:\tlearning_rate=0.001831,\tloss_train=0.020697,\tloss_val=0.022253,\tacc_train=1.000000,\tacc_val=0.992857\n",
      "\n",
      "\n",
      "Iteration 1200:\tlearning_rate=0.001746,\tloss_train=0.025594,\tloss_val=0.020167,\tacc_train=1.000000,\tacc_val=0.992857\n",
      "\n",
      "\n",
      "Iteration 1300:\tlearning_rate=0.001666,\tloss_train=0.005705,\tloss_val=0.022109,\tacc_train=1.000000,\tacc_val=0.990476\n",
      "\n",
      "\n",
      "Iteration 1400:\tlearning_rate=0.001590,\tloss_train=0.015113,\tloss_val=0.027408,\tacc_train=0.990000,\tacc_val=0.988095\n",
      "\n",
      "\n",
      "Iteration 1500:\tlearning_rate=0.001517,\tloss_train=0.072400,\tloss_val=0.028506,\tacc_train=0.980000,\tacc_val=0.988095\n",
      "\n",
      "\n",
      "Iteration 1600:\tlearning_rate=0.001448,\tloss_train=0.023121,\tloss_val=0.055556,\tacc_train=1.000000,\tacc_val=0.983333\n",
      "\n",
      "\n",
      "Iteration 1700:\tlearning_rate=0.001382,\tloss_train=0.014415,\tloss_val=0.019530,\tacc_train=1.000000,\tacc_val=0.995238\n",
      "\n",
      "\n",
      "Iteration 1800:\tlearning_rate=0.001320,\tloss_train=0.003565,\tloss_val=0.022693,\tacc_train=1.000000,\tacc_val=0.992857\n",
      "\n",
      "\n",
      "Iteration 1900:\tlearning_rate=0.001260,\tloss_train=0.015690,\tloss_val=0.055221,\tacc_train=1.000000,\tacc_val=0.983333\n",
      "\n",
      "\n",
      "Iteration 2000:\tlearning_rate=0.001204,\tloss_train=0.001746,\tloss_val=0.033166,\tacc_train=1.000000,\tacc_val=0.988095\n",
      "\n",
      "\n",
      "Iteration 2100:\tlearning_rate=0.001150,\tloss_train=0.005184,\tloss_val=0.042062,\tacc_train=0.980000,\tacc_val=0.985714\n",
      "\n",
      "\n",
      "Iteration 2200:\tlearning_rate=0.001099,\tloss_train=0.019183,\tloss_val=0.046565,\tacc_train=0.990000,\tacc_val=0.988095\n",
      "\n",
      "\n",
      "Iteration 2300:\tlearning_rate=0.001050,\tloss_train=0.000312,\tloss_val=0.018573,\tacc_train=1.000000,\tacc_val=0.992857\n",
      "\n",
      "\n",
      "Iteration 2400:\tlearning_rate=0.001004,\tloss_train=0.002007,\tloss_val=0.040470,\tacc_train=1.000000,\tacc_val=0.990476\n",
      "\n",
      "\n",
      "Iteration 2500:\tlearning_rate=0.000960,\tloss_train=0.003134,\tloss_val=0.020767,\tacc_train=1.000000,\tacc_val=0.988095\n",
      "\n",
      "\n",
      "Iteration 2600:\tlearning_rate=0.000918,\tloss_train=0.002078,\tloss_val=0.027919,\tacc_train=1.000000,\tacc_val=0.990476\n",
      "\n",
      "\n",
      "Iteration 2700:\tlearning_rate=0.000878,\tloss_train=0.007485,\tloss_val=0.020951,\tacc_train=1.000000,\tacc_val=0.988095\n",
      "\n",
      "\n",
      "Iteration 2800:\tlearning_rate=0.000840,\tloss_train=0.003849,\tloss_val=0.022948,\tacc_train=1.000000,\tacc_val=0.990476\n",
      "\n",
      "\n",
      "Iteration 2900:\tlearning_rate=0.000804,\tloss_train=0.005030,\tloss_val=0.014846,\tacc_train=1.000000,\tacc_val=0.988095\n",
      "\n",
      "\n",
      "Iteration 3000:\tlearning_rate=0.000769,\tloss_train=0.000572,\tloss_val=0.021942,\tacc_train=1.000000,\tacc_val=0.995238\n",
      "\n",
      "\n",
      "Iteration 3100:\tlearning_rate=0.000737,\tloss_train=0.000241,\tloss_val=0.014402,\tacc_train=1.000000,\tacc_val=0.992857\n",
      "\n",
      "\n",
      "Iteration 3200:\tlearning_rate=0.000706,\tloss_train=0.001775,\tloss_val=0.033364,\tacc_train=0.990000,\tacc_val=0.990476\n",
      "\n",
      "\n",
      "Iteration 3300:\tlearning_rate=0.000676,\tloss_train=0.000224,\tloss_val=0.018216,\tacc_train=1.000000,\tacc_val=0.992857\n",
      "\n",
      "\n",
      "Iteration 3400:\tlearning_rate=0.000648,\tloss_train=0.002972,\tloss_val=0.012856,\tacc_train=1.000000,\tacc_val=0.995238\n",
      "\n",
      "\n",
      "Iteration 3500:\tlearning_rate=0.000621,\tloss_train=0.000103,\tloss_val=0.039060,\tacc_train=1.000000,\tacc_val=0.992857\n",
      "\n",
      "\n",
      "Iteration 3600:\tlearning_rate=0.000596,\tloss_train=0.050762,\tloss_val=0.057317,\tacc_train=1.000000,\tacc_val=0.988095\n",
      "\n",
      "\n",
      "Iteration 3700:\tlearning_rate=0.000572,\tloss_train=0.000142,\tloss_val=0.038090,\tacc_train=1.000000,\tacc_val=0.988095\n",
      "\n",
      "\n",
      "Iteration 3800:\tlearning_rate=0.000549,\tloss_train=0.000966,\tloss_val=0.033859,\tacc_train=1.000000,\tacc_val=0.990476\n",
      "\n",
      "\n",
      "Iteration 3900:\tlearning_rate=0.000527,\tloss_train=0.002678,\tloss_val=0.037520,\tacc_train=1.000000,\tacc_val=0.990476\n",
      "\n",
      "\n",
      "Iteration 4000:\tlearning_rate=0.000506,\tloss_train=0.000048,\tloss_val=0.043038,\tacc_train=1.000000,\tacc_val=0.988095\n",
      "\n",
      "\n",
      "Iteration 4100:\tlearning_rate=0.000486,\tloss_train=0.000235,\tloss_val=0.035163,\tacc_train=1.000000,\tacc_val=0.983333\n",
      "\n",
      "\n",
      "Iteration 4200:\tlearning_rate=0.000467,\tloss_train=0.001476,\tloss_val=0.041278,\tacc_train=1.000000,\tacc_val=0.988095\n",
      "\n",
      "\n",
      "Iteration 4300:\tlearning_rate=0.000449,\tloss_train=0.001006,\tloss_val=0.046137,\tacc_train=1.000000,\tacc_val=0.983333\n",
      "\n",
      "\n",
      "Iteration 4400:\tlearning_rate=0.000432,\tloss_train=0.000506,\tloss_val=0.035295,\tacc_train=1.000000,\tacc_val=0.990476\n",
      "\n",
      "\n",
      "Iteration 4500:\tlearning_rate=0.000416,\tloss_train=0.000803,\tloss_val=0.031128,\tacc_train=1.000000,\tacc_val=0.988095\n",
      "\n",
      "\n",
      "Iteration 4600:\tlearning_rate=0.000401,\tloss_train=0.002269,\tloss_val=0.037874,\tacc_train=1.000000,\tacc_val=0.992857\n",
      "\n",
      "\n",
      "Iteration 4700:\tlearning_rate=0.000386,\tloss_train=0.000586,\tloss_val=0.035575,\tacc_train=1.000000,\tacc_val=0.988095\n",
      "\n",
      "\n",
      "Iteration 4800:\tlearning_rate=0.000372,\tloss_train=0.000072,\tloss_val=0.032569,\tacc_train=1.000000,\tacc_val=0.990476\n",
      "\n",
      "\n",
      "Iteration 4900:\tlearning_rate=0.000359,\tloss_train=0.004966,\tloss_val=0.041759,\tacc_train=1.000000,\tacc_val=0.988095\n",
      "\n",
      "\n",
      "Iteration 5000:\tlearning_rate=0.000346,\tloss_train=0.000024,\tloss_val=0.023334,\tacc_train=1.000000,\tacc_val=0.992857\n",
      "\n",
      "\n",
      "Iteration 5100:\tlearning_rate=0.000334,\tloss_train=0.000289,\tloss_val=0.027374,\tacc_train=1.000000,\tacc_val=0.990476\n",
      "\n",
      "\n",
      "Iteration 5200:\tlearning_rate=0.000323,\tloss_train=0.000012,\tloss_val=0.038204,\tacc_train=1.000000,\tacc_val=0.988095\n",
      "\n",
      "\n",
      "Iteration 5300:\tlearning_rate=0.000312,\tloss_train=0.003487,\tloss_val=0.037891,\tacc_train=1.000000,\tacc_val=0.985714\n",
      "\n",
      "\n",
      "Iteration 5400:\tlearning_rate=0.000302,\tloss_train=0.000134,\tloss_val=0.031178,\tacc_train=1.000000,\tacc_val=0.985714\n",
      "\n",
      "\n",
      "Iteration 5500:\tlearning_rate=0.000292,\tloss_train=0.026467,\tloss_val=0.026724,\tacc_train=0.990000,\tacc_val=0.995238\n",
      "\n",
      "\n",
      "Iteration 5600:\tlearning_rate=0.000282,\tloss_train=0.000355,\tloss_val=0.025337,\tacc_train=1.000000,\tacc_val=0.988095\n",
      "\n",
      "\n",
      "Iteration 5700:\tlearning_rate=0.000274,\tloss_train=0.001310,\tloss_val=0.032937,\tacc_train=1.000000,\tacc_val=0.990476\n",
      "\n",
      "\n",
      "Iteration 5800:\tlearning_rate=0.000265,\tloss_train=0.000005,\tloss_val=0.033200,\tacc_train=1.000000,\tacc_val=0.988095\n",
      "\n",
      "\n",
      "Iteration 5900:\tlearning_rate=0.000257,\tloss_train=0.000055,\tloss_val=0.043227,\tacc_train=1.000000,\tacc_val=0.990476\n",
      "\n",
      "\n",
      "Iteration 6000:\tlearning_rate=0.000249,\tloss_train=0.002238,\tloss_val=0.050428,\tacc_train=1.000000,\tacc_val=0.988095\n",
      "\n",
      "\n",
      "Iteration 6100:\tlearning_rate=0.000242,\tloss_train=0.000573,\tloss_val=0.031664,\tacc_train=1.000000,\tacc_val=0.992857\n",
      "\n",
      "\n",
      "Iteration 6200:\tlearning_rate=0.000235,\tloss_train=0.000065,\tloss_val=0.036321,\tacc_train=1.000000,\tacc_val=0.988095\n",
      "\n",
      "\n",
      "Iteration 6300:\tlearning_rate=0.000229,\tloss_train=0.000200,\tloss_val=0.028852,\tacc_train=1.000000,\tacc_val=0.992857\n",
      "\n",
      "\n",
      "Iteration 6400:\tlearning_rate=0.000222,\tloss_train=0.000258,\tloss_val=0.030592,\tacc_train=1.000000,\tacc_val=0.990476\n",
      "\n",
      "\n",
      "Iteration 6500:\tlearning_rate=0.000216,\tloss_train=0.000016,\tloss_val=0.022441,\tacc_train=1.000000,\tacc_val=0.988095\n",
      "\n",
      "\n",
      "Iteration 6600:\tlearning_rate=0.000211,\tloss_train=0.007413,\tloss_val=0.032315,\tacc_train=1.000000,\tacc_val=0.990476\n",
      "\n",
      "\n",
      "Iteration 6700:\tlearning_rate=0.000205,\tloss_train=0.001362,\tloss_val=0.034481,\tacc_train=1.000000,\tacc_val=0.990476\n",
      "\n",
      "\n",
      "Iteration 6800:\tlearning_rate=0.000200,\tloss_train=0.000106,\tloss_val=0.037938,\tacc_train=1.000000,\tacc_val=0.988095\n",
      "\n",
      "\n",
      "Iteration 6900:\tlearning_rate=0.000195,\tloss_train=0.001134,\tloss_val=0.046206,\tacc_train=1.000000,\tacc_val=0.988095\n",
      "\n",
      "\n",
      "Iteration 7000:\tlearning_rate=0.000191,\tloss_train=0.000098,\tloss_val=0.040202,\tacc_train=0.990000,\tacc_val=0.990476\n",
      "\n",
      "\n",
      "Iteration 7100:\tlearning_rate=0.000186,\tloss_train=0.000029,\tloss_val=0.037919,\tacc_train=1.000000,\tacc_val=0.992857\n",
      "\n",
      "\n",
      "Iteration 7200:\tlearning_rate=0.000182,\tloss_train=0.002708,\tloss_val=0.049570,\tacc_train=1.000000,\tacc_val=0.988095\n",
      "\n",
      "\n",
      "Iteration 7300:\tlearning_rate=0.000178,\tloss_train=0.000150,\tloss_val=0.065175,\tacc_train=1.000000,\tacc_val=0.988095\n",
      "\n",
      "\n",
      "Iteration 7400:\tlearning_rate=0.000174,\tloss_train=0.000034,\tloss_val=0.036139,\tacc_train=1.000000,\tacc_val=0.992857\n",
      "\n",
      "\n",
      "Iteration 7500:\tlearning_rate=0.000171,\tloss_train=0.000393,\tloss_val=0.045847,\tacc_train=1.000000,\tacc_val=0.992857\n",
      "\n",
      "\n",
      "Iteration 7600:\tlearning_rate=0.000167,\tloss_train=0.000328,\tloss_val=0.057202,\tacc_train=1.000000,\tacc_val=0.990476\n",
      "\n",
      "\n",
      "Iteration 7700:\tlearning_rate=0.000164,\tloss_train=0.000026,\tloss_val=0.045608,\tacc_train=1.000000,\tacc_val=0.988095\n",
      "\n",
      "\n",
      "Iteration 7800:\tlearning_rate=0.000161,\tloss_train=0.001196,\tloss_val=0.047827,\tacc_train=1.000000,\tacc_val=0.990476\n",
      "\n",
      "\n",
      "Iteration 7900:\tlearning_rate=0.000158,\tloss_train=0.000038,\tloss_val=0.043284,\tacc_train=1.000000,\tacc_val=0.990476\n",
      "\n",
      "\n",
      "Iteration 8000:\tlearning_rate=0.000155,\tloss_train=0.000109,\tloss_val=0.041985,\tacc_train=1.000000,\tacc_val=0.992857\n",
      "\n",
      "\n",
      "Iteration 8100:\tlearning_rate=0.000152,\tloss_train=0.000008,\tloss_val=0.057204,\tacc_train=1.000000,\tacc_val=0.992857\n",
      "\n",
      "\n",
      "Iteration 8200:\tlearning_rate=0.000150,\tloss_train=0.000007,\tloss_val=0.061682,\tacc_train=1.000000,\tacc_val=0.985714\n",
      "\n",
      "\n",
      "Iteration 8300:\tlearning_rate=0.000147,\tloss_train=0.000008,\tloss_val=0.056300,\tacc_train=1.000000,\tacc_val=0.988095\n",
      "\n",
      "\n",
      "Iteration 8400:\tlearning_rate=0.000145,\tloss_train=0.000237,\tloss_val=0.053918,\tacc_train=1.000000,\tacc_val=0.990476\n",
      "\n",
      "\n",
      "Iteration 8500:\tlearning_rate=0.000143,\tloss_train=0.000021,\tloss_val=0.060757,\tacc_train=1.000000,\tacc_val=0.988095\n",
      "\n",
      "\n",
      "Iteration 8600:\tlearning_rate=0.000141,\tloss_train=0.000096,\tloss_val=0.056191,\tacc_train=1.000000,\tacc_val=0.988095\n",
      "\n",
      "\n",
      "Iteration 8700:\tlearning_rate=0.000139,\tloss_train=0.000090,\tloss_val=0.043130,\tacc_train=1.000000,\tacc_val=0.990476\n",
      "\n",
      "\n",
      "Iteration 8800:\tlearning_rate=0.000137,\tloss_train=0.000013,\tloss_val=0.044164,\tacc_train=1.000000,\tacc_val=0.990476\n",
      "\n",
      "\n",
      "Iteration 8900:\tlearning_rate=0.000135,\tloss_train=0.001191,\tloss_val=0.056158,\tacc_train=1.000000,\tacc_val=0.990476\n",
      "\n",
      "\n",
      "Iteration 9000:\tlearning_rate=0.000133,\tloss_train=0.002281,\tloss_val=0.063807,\tacc_train=1.000000,\tacc_val=0.988095\n",
      "\n",
      "\n",
      "Iteration 9100:\tlearning_rate=0.000132,\tloss_train=0.000023,\tloss_val=0.064389,\tacc_train=1.000000,\tacc_val=0.990476\n",
      "\n",
      "\n",
      "Iteration 9200:\tlearning_rate=0.000130,\tloss_train=0.000010,\tloss_val=0.062237,\tacc_train=1.000000,\tacc_val=0.990476\n",
      "\n",
      "\n",
      "Iteration 9300:\tlearning_rate=0.000129,\tloss_train=0.000011,\tloss_val=0.055023,\tacc_train=1.000000,\tacc_val=0.990476\n",
      "\n",
      "\n",
      "Iteration 9400:\tlearning_rate=0.000127,\tloss_train=0.001363,\tloss_val=0.060808,\tacc_train=0.990000,\tacc_val=0.990476\n",
      "\n",
      "\n",
      "Iteration 9500:\tlearning_rate=0.000126,\tloss_train=0.000015,\tloss_val=0.069666,\tacc_train=1.000000,\tacc_val=0.990476\n",
      "\n",
      "\n",
      "Iteration 9600:\tlearning_rate=0.000125,\tloss_train=0.000559,\tloss_val=0.066412,\tacc_train=1.000000,\tacc_val=0.990476\n",
      "\n",
      "\n",
      "Iteration 9700:\tlearning_rate=0.000123,\tloss_train=0.000048,\tloss_val=0.049534,\tacc_train=1.000000,\tacc_val=0.990476\n",
      "\n",
      "\n",
      "Iteration 9800:\tlearning_rate=0.000122,\tloss_train=0.000039,\tloss_val=0.056987,\tacc_train=1.000000,\tacc_val=0.990476\n",
      "\n",
      "\n",
      "Iteration 9900:\tlearning_rate=0.000121,\tloss_train=0.000081,\tloss_val=0.049058,\tacc_train=1.000000,\tacc_val=0.992857\n",
      "\n",
      "\n",
      "Iteration 10000:\tlearning_rate=0.000120,\tloss_train=0.000057,\tloss_val=0.044235,\tacc_train=1.000000,\tacc_val=0.992857\n",
      "\n",
      "\n",
      "Iteration 10100:\tlearning_rate=0.000119,\tloss_train=0.000252,\tloss_val=0.047751,\tacc_train=1.000000,\tacc_val=0.992857\n",
      "\n",
      "\n",
      "Iteration 10200:\tlearning_rate=0.000118,\tloss_train=0.000002,\tloss_val=0.047568,\tacc_train=1.000000,\tacc_val=0.992857\n",
      "\n",
      "\n",
      "Iteration 10300:\tlearning_rate=0.000117,\tloss_train=0.000223,\tloss_val=0.048713,\tacc_train=1.000000,\tacc_val=0.990476\n",
      "\n",
      "\n",
      "Iteration 10400:\tlearning_rate=0.000117,\tloss_train=0.000000,\tloss_val=0.042749,\tacc_train=1.000000,\tacc_val=0.990476\n",
      "\n",
      "\n",
      "Iteration 10500:\tlearning_rate=0.000116,\tloss_train=0.000005,\tloss_val=0.038871,\tacc_train=1.000000,\tacc_val=0.992857\n",
      "\n",
      "\n",
      "Iteration 10600:\tlearning_rate=0.000115,\tloss_train=0.000074,\tloss_val=0.030597,\tacc_train=1.000000,\tacc_val=0.992857\n",
      "\n",
      "\n",
      "Iteration 10700:\tlearning_rate=0.000114,\tloss_train=0.000003,\tloss_val=0.041348,\tacc_train=1.000000,\tacc_val=0.992857\n",
      "\n",
      "\n",
      "Iteration 10800:\tlearning_rate=0.000114,\tloss_train=0.000746,\tloss_val=0.034549,\tacc_train=1.000000,\tacc_val=0.992857\n",
      "\n",
      "\n",
      "Iteration 10900:\tlearning_rate=0.000113,\tloss_train=0.000008,\tloss_val=0.032043,\tacc_train=1.000000,\tacc_val=0.992857\n",
      "\n",
      "\n",
      "Iteration 11000:\tlearning_rate=0.000112,\tloss_train=0.000000,\tloss_val=0.033110,\tacc_train=1.000000,\tacc_val=0.992857\n",
      "\n",
      "\n",
      "Iteration 11100:\tlearning_rate=0.000112,\tloss_train=0.000002,\tloss_val=0.053547,\tacc_train=1.000000,\tacc_val=0.990476\n",
      "\n",
      "\n",
      "Iteration 11200:\tlearning_rate=0.000111,\tloss_train=0.000012,\tloss_val=0.056942,\tacc_train=1.000000,\tacc_val=0.990476\n",
      "\n",
      "\n",
      "Iteration 11300:\tlearning_rate=0.000111,\tloss_train=0.000033,\tloss_val=0.058680,\tacc_train=1.000000,\tacc_val=0.990476\n",
      "\n",
      "\n",
      "Iteration 11400:\tlearning_rate=0.000110,\tloss_train=0.000013,\tloss_val=0.059468,\tacc_train=1.000000,\tacc_val=0.990476\n",
      "\n",
      "\n",
      "Iteration 11500:\tlearning_rate=0.000110,\tloss_train=0.000600,\tloss_val=0.052409,\tacc_train=1.000000,\tacc_val=0.990476\n",
      "\n",
      "\n",
      "Iteration 11600:\tlearning_rate=0.000109,\tloss_train=0.000304,\tloss_val=0.050763,\tacc_train=1.000000,\tacc_val=0.990476\n",
      "\n",
      "\n",
      "Iteration 11700:\tlearning_rate=0.000109,\tloss_train=0.000391,\tloss_val=0.043252,\tacc_train=1.000000,\tacc_val=0.992857\n",
      "\n",
      "\n",
      "Iteration 11800:\tlearning_rate=0.000108,\tloss_train=0.000051,\tloss_val=0.043646,\tacc_train=1.000000,\tacc_val=0.990476\n",
      "\n",
      "\n",
      "Iteration 11900:\tlearning_rate=0.000108,\tloss_train=0.000001,\tloss_val=0.045690,\tacc_train=1.000000,\tacc_val=0.990476\n",
      "\n",
      "\n",
      "Iteration 12000:\tlearning_rate=0.000107,\tloss_train=0.000022,\tloss_val=0.036975,\tacc_train=1.000000,\tacc_val=0.992857\n",
      "\n",
      "\n",
      "Iteration 12100:\tlearning_rate=0.000107,\tloss_train=0.001141,\tloss_val=0.028697,\tacc_train=1.000000,\tacc_val=0.995238\n",
      "\n",
      "\n",
      "Iteration 12200:\tlearning_rate=0.000107,\tloss_train=0.002605,\tloss_val=0.037994,\tacc_train=1.000000,\tacc_val=0.990476\n",
      "\n",
      "\n",
      "Iteration 12300:\tlearning_rate=0.000106,\tloss_train=0.000231,\tloss_val=0.038053,\tacc_train=1.000000,\tacc_val=0.990476\n",
      "\n",
      "\n",
      "Iteration 12400:\tlearning_rate=0.000106,\tloss_train=0.000008,\tloss_val=0.041612,\tacc_train=1.000000,\tacc_val=0.988095\n",
      "\n",
      "\n",
      "Iteration 12500:\tlearning_rate=0.000106,\tloss_train=0.000435,\tloss_val=0.046244,\tacc_train=1.000000,\tacc_val=0.990476\n",
      "\n",
      "\n",
      "Iteration 12600:\tlearning_rate=0.000106,\tloss_train=0.000046,\tloss_val=0.046227,\tacc_train=1.000000,\tacc_val=0.988095\n",
      "\n",
      "\n",
      "Iteration 12700:\tlearning_rate=0.000105,\tloss_train=0.000006,\tloss_val=0.042901,\tacc_train=1.000000,\tacc_val=0.990476\n",
      "\n",
      "\n",
      "Iteration 12800:\tlearning_rate=0.000105,\tloss_train=0.000022,\tloss_val=0.041342,\tacc_train=1.000000,\tacc_val=0.992857\n",
      "\n",
      "\n",
      "Iteration 12900:\tlearning_rate=0.000105,\tloss_train=0.000032,\tloss_val=0.041868,\tacc_train=1.000000,\tacc_val=0.992857\n",
      "\n",
      "\n",
      "Iteration 13000:\tlearning_rate=0.000105,\tloss_train=0.000060,\tloss_val=0.041549,\tacc_train=1.000000,\tacc_val=0.990476\n",
      "\n",
      "\n",
      "Iteration 13100:\tlearning_rate=0.000104,\tloss_train=0.000057,\tloss_val=0.031410,\tacc_train=1.000000,\tacc_val=0.992857\n",
      "\n",
      "\n",
      "Iteration 13200:\tlearning_rate=0.000104,\tloss_train=0.000524,\tloss_val=0.035047,\tacc_train=1.000000,\tacc_val=0.992857\n",
      "\n",
      "\n",
      "Iteration 13300:\tlearning_rate=0.000104,\tloss_train=0.000002,\tloss_val=0.036295,\tacc_train=1.000000,\tacc_val=0.992857\n",
      "\n",
      "\n",
      "Iteration 13400:\tlearning_rate=0.000104,\tloss_train=0.000502,\tloss_val=0.042062,\tacc_train=1.000000,\tacc_val=0.992857\n",
      "\n",
      "\n",
      "Iteration 13500:\tlearning_rate=0.000104,\tloss_train=0.000056,\tloss_val=0.041174,\tacc_train=1.000000,\tacc_val=0.990476\n",
      "\n",
      "\n",
      "Iteration 13600:\tlearning_rate=0.000103,\tloss_train=0.000025,\tloss_val=0.038606,\tacc_train=1.000000,\tacc_val=0.992857\n",
      "\n",
      "\n",
      "Iteration 13700:\tlearning_rate=0.000103,\tloss_train=0.000005,\tloss_val=0.042296,\tacc_train=1.000000,\tacc_val=0.992857\n",
      "\n",
      "\n",
      "Iteration 13800:\tlearning_rate=0.000103,\tloss_train=0.000003,\tloss_val=0.045483,\tacc_train=1.000000,\tacc_val=0.992857\n",
      "\n",
      "\n",
      "Iteration 13900:\tlearning_rate=0.000103,\tloss_train=0.000003,\tloss_val=0.047729,\tacc_train=1.000000,\tacc_val=0.992857\n",
      "\n",
      "\n",
      "Iteration 14000:\tlearning_rate=0.000103,\tloss_train=0.000010,\tloss_val=0.047209,\tacc_train=1.000000,\tacc_val=0.992857\n",
      "\n",
      "\n",
      "Iteration 14100:\tlearning_rate=0.000103,\tloss_train=0.000014,\tloss_val=0.045859,\tacc_train=1.000000,\tacc_val=0.992857\n",
      "\n",
      "\n",
      "Iteration 14200:\tlearning_rate=0.000102,\tloss_train=0.000199,\tloss_val=0.050122,\tacc_train=1.000000,\tacc_val=0.992857\n",
      "\n",
      "\n",
      "Iteration 14300:\tlearning_rate=0.000102,\tloss_train=0.000343,\tloss_val=0.041970,\tacc_train=1.000000,\tacc_val=0.992857\n",
      "\n",
      "\n",
      "Iteration 14400:\tlearning_rate=0.000102,\tloss_train=0.000013,\tloss_val=0.042751,\tacc_train=1.000000,\tacc_val=0.992857\n",
      "\n",
      "\n",
      "Iteration 14500:\tlearning_rate=0.000102,\tloss_train=0.000017,\tloss_val=0.047536,\tacc_train=1.000000,\tacc_val=0.992857\n",
      "\n",
      "\n",
      "Iteration 14600:\tlearning_rate=0.000102,\tloss_train=0.001420,\tloss_val=0.038829,\tacc_train=1.000000,\tacc_val=0.992857\n",
      "\n",
      "\n",
      "Iteration 14700:\tlearning_rate=0.000102,\tloss_train=0.000053,\tloss_val=0.042733,\tacc_train=1.000000,\tacc_val=0.992857\n",
      "\n",
      "\n",
      "Iteration 14800:\tlearning_rate=0.000102,\tloss_train=0.000122,\tloss_val=0.036415,\tacc_train=1.000000,\tacc_val=0.992857\n",
      "\n",
      "\n",
      "Iteration 14900:\tlearning_rate=0.000102,\tloss_train=0.000097,\tloss_val=0.034187,\tacc_train=1.000000,\tacc_val=0.992857\n",
      "\n",
      "\n",
      "Iteration 15000:\tlearning_rate=0.000102,\tloss_train=0.000019,\tloss_val=0.036098,\tacc_train=1.000000,\tacc_val=0.992857\n",
      "\n",
      "\n",
      "Iteration 15100:\tlearning_rate=0.000102,\tloss_train=0.000010,\tloss_val=0.053080,\tacc_train=1.000000,\tacc_val=0.995238\n",
      "\n",
      "\n",
      "Iteration 15200:\tlearning_rate=0.000102,\tloss_train=0.000594,\tloss_val=0.047981,\tacc_train=1.000000,\tacc_val=0.995238\n",
      "\n",
      "\n",
      "Iteration 15300:\tlearning_rate=0.000101,\tloss_train=0.000234,\tloss_val=0.046626,\tacc_train=1.000000,\tacc_val=0.990476\n",
      "\n",
      "\n",
      "Iteration 15400:\tlearning_rate=0.000101,\tloss_train=0.000383,\tloss_val=0.048023,\tacc_train=1.000000,\tacc_val=0.990476\n",
      "\n",
      "\n",
      "Iteration 15500:\tlearning_rate=0.000101,\tloss_train=0.000006,\tloss_val=0.052817,\tacc_train=1.000000,\tacc_val=0.990476\n",
      "\n",
      "\n",
      "Iteration 15600:\tlearning_rate=0.000101,\tloss_train=0.006560,\tloss_val=0.060489,\tacc_train=0.990000,\tacc_val=0.990476\n",
      "\n",
      "\n",
      "Iteration 15700:\tlearning_rate=0.000101,\tloss_train=0.000015,\tloss_val=0.044697,\tacc_train=1.000000,\tacc_val=0.992857\n",
      "\n",
      "\n",
      "Iteration 15800:\tlearning_rate=0.000101,\tloss_train=0.000000,\tloss_val=0.040762,\tacc_train=1.000000,\tacc_val=0.992857\n",
      "\n",
      "\n",
      "Iteration 15900:\tlearning_rate=0.000101,\tloss_train=0.000000,\tloss_val=0.040853,\tacc_train=1.000000,\tacc_val=0.992857\n",
      "\n",
      "\n",
      "Iteration 16000:\tlearning_rate=0.000101,\tloss_train=0.000048,\tloss_val=0.040024,\tacc_train=1.000000,\tacc_val=0.995238\n",
      "\n",
      "\n",
      "Iteration 16100:\tlearning_rate=0.000101,\tloss_train=0.000001,\tloss_val=0.041087,\tacc_train=1.000000,\tacc_val=0.995238\n",
      "\n",
      "\n",
      "Iteration 16200:\tlearning_rate=0.000101,\tloss_train=0.000482,\tloss_val=0.047162,\tacc_train=1.000000,\tacc_val=0.990476\n",
      "\n",
      "\n",
      "Iteration 16300:\tlearning_rate=0.000101,\tloss_train=0.000048,\tloss_val=0.038735,\tacc_train=1.000000,\tacc_val=0.992857\n",
      "\n",
      "\n",
      "Iteration 16400:\tlearning_rate=0.000101,\tloss_train=0.000004,\tloss_val=0.040919,\tacc_train=1.000000,\tacc_val=0.992857\n",
      "\n",
      "\n",
      "Iteration 16500:\tlearning_rate=0.000101,\tloss_train=0.000111,\tloss_val=0.028003,\tacc_train=1.000000,\tacc_val=0.990476\n",
      "\n",
      "\n",
      "Iteration 16600:\tlearning_rate=0.000101,\tloss_train=0.000004,\tloss_val=0.026905,\tacc_train=1.000000,\tacc_val=0.990476\n",
      "\n",
      "\n",
      "Iteration 16700:\tlearning_rate=0.000101,\tloss_train=0.000041,\tloss_val=0.018132,\tacc_train=1.000000,\tacc_val=0.992857\n",
      "\n",
      "\n",
      "Iteration 16800:\tlearning_rate=0.000101,\tloss_train=0.000007,\tloss_val=0.019089,\tacc_train=1.000000,\tacc_val=0.995238\n",
      "\n",
      "\n",
      "Iteration 16900:\tlearning_rate=0.000101,\tloss_train=0.000041,\tloss_val=0.024353,\tacc_train=1.000000,\tacc_val=0.992857\n",
      "\n",
      "\n",
      "Iteration 17000:\tlearning_rate=0.000101,\tloss_train=0.000008,\tloss_val=0.021087,\tacc_train=1.000000,\tacc_val=0.992857\n",
      "\n",
      "\n",
      "Iteration 17100:\tlearning_rate=0.000101,\tloss_train=0.000031,\tloss_val=0.019918,\tacc_train=1.000000,\tacc_val=0.992857\n",
      "\n",
      "\n",
      "Iteration 17200:\tlearning_rate=0.000101,\tloss_train=0.000012,\tloss_val=0.021076,\tacc_train=1.000000,\tacc_val=0.992857\n",
      "\n",
      "\n",
      "Iteration 17300:\tlearning_rate=0.000101,\tloss_train=0.004532,\tloss_val=0.034122,\tacc_train=0.990000,\tacc_val=0.992857\n",
      "\n",
      "\n",
      "Iteration 17400:\tlearning_rate=0.000100,\tloss_train=0.000005,\tloss_val=0.033327,\tacc_train=1.000000,\tacc_val=0.992857\n",
      "\n",
      "\n",
      "Iteration 17500:\tlearning_rate=0.000100,\tloss_train=0.000002,\tloss_val=0.035994,\tacc_train=1.000000,\tacc_val=0.992857\n",
      "\n",
      "\n",
      "Iteration 17600:\tlearning_rate=0.000100,\tloss_train=0.000011,\tloss_val=0.035315,\tacc_train=1.000000,\tacc_val=0.992857\n",
      "\n",
      "\n",
      "Iteration 17700:\tlearning_rate=0.000100,\tloss_train=0.000013,\tloss_val=0.049643,\tacc_train=1.000000,\tacc_val=0.992857\n",
      "\n",
      "\n",
      "Iteration 17800:\tlearning_rate=0.000100,\tloss_train=0.000011,\tloss_val=0.055924,\tacc_train=1.000000,\tacc_val=0.992857\n",
      "\n",
      "\n",
      "Iteration 17900:\tlearning_rate=0.000100,\tloss_train=0.000070,\tloss_val=0.053377,\tacc_train=1.000000,\tacc_val=0.992857\n",
      "\n",
      "\n",
      "Iteration 18000:\tlearning_rate=0.000100,\tloss_train=0.000005,\tloss_val=0.054083,\tacc_train=1.000000,\tacc_val=0.992857\n",
      "\n",
      "\n",
      "Iteration 18100:\tlearning_rate=0.000100,\tloss_train=0.000000,\tloss_val=0.049477,\tacc_train=1.000000,\tacc_val=0.992857\n",
      "\n",
      "\n",
      "Iteration 18200:\tlearning_rate=0.000100,\tloss_train=0.000001,\tloss_val=0.048280,\tacc_train=1.000000,\tacc_val=0.992857\n",
      "\n",
      "\n",
      "Iteration 18300:\tlearning_rate=0.000100,\tloss_train=0.000000,\tloss_val=0.050973,\tacc_train=1.000000,\tacc_val=0.992857\n",
      "\n",
      "\n",
      "Iteration 18400:\tlearning_rate=0.000100,\tloss_train=0.002151,\tloss_val=0.050878,\tacc_train=1.000000,\tacc_val=0.992857\n",
      "\n",
      "\n",
      "Iteration 18500:\tlearning_rate=0.000100,\tloss_train=0.004797,\tloss_val=0.060612,\tacc_train=1.000000,\tacc_val=0.992857\n",
      "\n",
      "\n",
      "Iteration 18600:\tlearning_rate=0.000100,\tloss_train=0.001980,\tloss_val=0.051940,\tacc_train=1.000000,\tacc_val=0.992857\n",
      "\n",
      "\n",
      "Iteration 18700:\tlearning_rate=0.000100,\tloss_train=0.000092,\tloss_val=0.037035,\tacc_train=1.000000,\tacc_val=0.992857\n",
      "\n",
      "\n",
      "Iteration 18800:\tlearning_rate=0.000100,\tloss_train=0.000000,\tloss_val=0.036092,\tacc_train=1.000000,\tacc_val=0.992857\n",
      "\n",
      "\n",
      "Iteration 18900:\tlearning_rate=0.000100,\tloss_train=0.000002,\tloss_val=0.036987,\tacc_train=1.000000,\tacc_val=0.992857\n",
      "\n",
      "\n",
      "Iteration 19000:\tlearning_rate=0.000100,\tloss_train=0.000039,\tloss_val=0.035656,\tacc_train=1.000000,\tacc_val=0.992857\n",
      "\n",
      "\n",
      "Iteration 19100:\tlearning_rate=0.000100,\tloss_train=0.022560,\tloss_val=0.030500,\tacc_train=1.000000,\tacc_val=0.992857\n",
      "\n",
      "\n",
      "Iteration 19200:\tlearning_rate=0.000100,\tloss_train=0.000002,\tloss_val=0.046482,\tacc_train=1.000000,\tacc_val=0.988095\n",
      "\n",
      "\n",
      "Iteration 19300:\tlearning_rate=0.000100,\tloss_train=0.000039,\tloss_val=0.055406,\tacc_train=1.000000,\tacc_val=0.988095\n",
      "\n",
      "\n",
      "Iteration 19400:\tlearning_rate=0.000100,\tloss_train=0.000081,\tloss_val=0.041961,\tacc_train=1.000000,\tacc_val=0.990476\n",
      "\n",
      "\n",
      "Iteration 19500:\tlearning_rate=0.000100,\tloss_train=0.000001,\tloss_val=0.042968,\tacc_train=1.000000,\tacc_val=0.988095\n",
      "\n",
      "\n",
      "Iteration 19600:\tlearning_rate=0.000100,\tloss_train=0.000026,\tloss_val=0.034487,\tacc_train=1.000000,\tacc_val=0.990476\n",
      "\n",
      "\n",
      "Iteration 19700:\tlearning_rate=0.000100,\tloss_train=0.000002,\tloss_val=0.035798,\tacc_train=1.000000,\tacc_val=0.990476\n",
      "\n",
      "\n",
      "Iteration 19800:\tlearning_rate=0.000100,\tloss_train=0.000000,\tloss_val=0.039822,\tacc_train=1.000000,\tacc_val=0.992857\n",
      "\n",
      "\n",
      "Iteration 19900:\tlearning_rate=0.000100,\tloss_train=0.000042,\tloss_val=0.041927,\tacc_train=1.000000,\tacc_val=0.990476\n",
      "\n",
      "\n"
     ]
    }
   ],
   "source": [
    "history = {'acc_train':list(),'acc_val':list(),\n",
    "           'loss_train':list(),'loss_val':list(),\n",
    "          'learning_rate':list()}\n",
    "with tf.Session() as sess:\n",
    "    sess.run(tf.global_variables_initializer())\n",
    "    \n",
    "    for i in range(20000):\n",
    "        batch = ch.next_batch(100)\n",
    "        sess.run(train, feed_dict={X: batch[0], Y_true: batch[1], step: i, drop_rate: 0.25})\n",
    "        \n",
    "        # PRINT OUT A MESSAGE EVERY 100 STEPS\n",
    "        if i%100 == 0:\n",
    "            \n",
    "            # Test the Train Model\n",
    "            feed_dict_train = {X: batch[0], Y_true: batch[1], drop_rate: 0.25}\n",
    "            feed_dict_val = {X:ch.test_images, Y_true:ch.test_labels, drop_rate: 0}\n",
    "\n",
    "            matches = tf.equal(tf.argmax(Y,1),tf.argmax(Y_true,1))\n",
    "            acc = tf.reduce_mean(tf.cast(matches,tf.float32))\n",
    "            history['acc_train'].append(sess.run(acc, feed_dict = feed_dict_train))\n",
    "            history['acc_val'].append(sess.run(acc, feed_dict = feed_dict_val))\n",
    "\n",
    "            history['loss_train'].append(sess.run(cross_entropy, feed_dict = feed_dict_train))\n",
    "            history['loss_val'].append(sess.run(cross_entropy, feed_dict = feed_dict_val))\n",
    "            \n",
    "            history['learning_rate'].append(sess.run(lr, feed_dict = {step: i}))\n",
    "            print(\"Iteration {}:\\tlearning_rate={:.6f},\\tloss_train={:.6f},\\tloss_val={:.6f},\\tacc_train={:.6f},\\tacc_val={:.6f}\"\n",
    "                  .format(i,history['learning_rate'][-1],\n",
    "                          history['loss_train'][-1],\n",
    "                          history['loss_val'][-1],\n",
    "                          history['acc_train'][-1],\n",
    "                          history['acc_val'][-1]))\n",
    "            \n",
    "            print('\\n')\n",
    "        \n",
    "    saver.save(sess,'models_saving/my_model.ckpt')"
   ]
  },
  {
   "cell_type": "code",
   "execution_count": 23,
   "metadata": {
    "colab": {
     "base_uri": "https://localhost:8080/",
     "height": 282
    },
    "colab_type": "code",
    "id": "s5rC6lSIAR-P",
    "outputId": "1c59d87f-9158-4a6d-8f25-151c9890c407"
   },
   "outputs": [
    {
     "data": {
      "text/plain": [
       "[<matplotlib.lines.Line2D at 0x7f18508a9748>]"
      ]
     },
     "execution_count": 23,
     "metadata": {
      "tags": []
     },
     "output_type": "execute_result"
    },
    {
     "data": {
      "image/png": "[encoded data removed]",
      "text/plain": [
       "<Figure size 432x288 with 1 Axes>"
      ]
     },
     "metadata": {
      "tags": []
     },
     "output_type": "display_data"
    }
   ],
   "source": [
    "plt.plot(history['acc_train'],'b')\n",
    "plt.plot(history['acc_val'],'r')"
   ]
  },
  {
   "cell_type": "code",
   "execution_count": 24,
   "metadata": {
    "colab": {
     "base_uri": "https://localhost:8080/",
     "height": 282
    },
    "colab_type": "code",
    "id": "tkToA3CjBxJe",
    "outputId": "b0930a09-31e6-4eeb-b099-035d807097dc"
   },
   "outputs": [
    {
     "data": {
      "text/plain": [
       "[<matplotlib.lines.Line2D at 0x7f1844035358>]"
      ]
     },
     "execution_count": 24,
     "metadata": {
      "tags": []
     },
     "output_type": "execute_result"
    },
    {
     "data": {
      "image/png": "[encoded data removed]",
      "text/plain": [
       "<Figure size 432x288 with 1 Axes>"
      ]
     },
     "metadata": {
      "tags": []
     },
     "output_type": "display_data"
    }
   ],
   "source": [
    "plt.plot(history['loss_train'],'b')\n",
    "plt.plot(history['loss_val'],'r')"
   ]
  },
  {
   "cell_type": "code",
   "execution_count": 25,
   "metadata": {
    "colab": {
     "base_uri": "https://localhost:8080/",
     "height": 282
    },
    "colab_type": "code",
    "id": "NJPdR4IFb-uc",
    "outputId": "4409d520-8b2b-42fa-a9ac-61875d25abdf"
   },
   "outputs": [
    {
     "data": {
      "text/plain": [
       "[<matplotlib.lines.Line2D at 0x7f1843f6c550>]"
      ]
     },
     "execution_count": 25,
     "metadata": {
      "tags": []
     },
     "output_type": "execute_result"
    },
    {
     "data": {
      "image/png": "[encoded data removed]",
      "text/plain": [
       "<Figure size 432x288 with 1 Axes>"
      ]
     },
     "metadata": {
      "tags": []
     },
     "output_type": "display_data"
    }
   ],
   "source": [
    "plt.plot(history['learning_rate'])"
   ]
  },
  {
   "cell_type": "markdown",
   "metadata": {
    "colab_type": "text",
    "id": "X9uiFJ-ogBRi"
   },
   "source": [
    "### Loading a Model"
   ]
  },
  {
   "cell_type": "code",
   "execution_count": 0,
   "metadata": {
    "colab": {},
    "colab_type": "code",
    "id": "Doot7_0fY5tF"
   },
   "outputs": [],
   "source": [
    "unlabeled_images_test = pd.read_csv('gdrive/My Drive/dataML/test.csv')\n",
    "#unlabeled_images_test = pd.read_csv('test.csv')\n",
    "\n",
    "X_unlabeled = unlabeled_images_test.values.reshape(unlabeled_images_test.shape[0],28,28,1)/255"
   ]
  },
  {
   "cell_type": "code",
   "execution_count": 0,
   "metadata": {
    "colab": {
     "base_uri": "https://localhost:8080/",
     "height": 34
    },
    "colab_type": "code",
    "id": "dbtjpi8JgBRj",
    "outputId": "ee65fc89-ef7e-4b99-b2bb-4d24d4e518c3"
   },
   "outputs": [
    {
     "name": "stdout",
     "output_type": "stream",
     "text": [
      "INFO:tensorflow:Restoring parameters from models_saving/my_model.ckpt\n"
     ]
    }
   ],
   "source": [
    "with tf.Session() as sess:\n",
    "    \n",
    "    # Restore the model\n",
    "    saver.restore(sess, 'models_saving/my_model.ckpt')\n",
    "    \n",
    "\n",
    "    # Fetch Back Results\n",
    "    label = sess.run(Y, feed_dict={X:X_unlabeled,drop_rate:0})"
   ]
  },
  {
   "cell_type": "code",
   "execution_count": 0,
   "metadata": {
    "colab": {
     "base_uri": "https://localhost:8080/",
     "height": 34
    },
    "colab_type": "code",
    "id": "MZ1xS7oJZYkV",
    "outputId": "6d483b80-a575-49e8-ce54-db9c91392100"
   },
   "outputs": [
    {
     "data": {
      "text/plain": [
       "array([2, 0, 9, ..., 3, 9, 2])"
      ]
     },
     "execution_count": 74,
     "metadata": {
      "tags": []
     },
     "output_type": "execute_result"
    }
   ],
   "source": [
    "label"
   ]
  },
  {
   "cell_type": "markdown",
   "metadata": {
    "colab_type": "text",
    "id": "ojRKNc76gBRx"
   },
   "source": [
    "## Predict the unlabeled test sets using the model"
   ]
  },
  {
   "cell_type": "code",
   "execution_count": 0,
   "metadata": {
    "colab": {},
    "colab_type": "code",
    "id": "yQrGiou8gBRy"
   },
   "outputs": [],
   "source": [
    "imageId = np.arange(1,label.shape[0]+1).tolist()"
   ]
  },
  {
   "cell_type": "code",
   "execution_count": 0,
   "metadata": {
    "colab": {},
    "colab_type": "code",
    "id": "9Oj02pY3gBR1"
   },
   "outputs": [],
   "source": [
    "prediction_pd = pd.DataFrame({'ImageId':imageId, 'Label':label})"
   ]
  },
  {
   "cell_type": "code",
   "execution_count": 0,
   "metadata": {
    "colab": {},
    "colab_type": "code",
    "id": "VLjMgeXEgBR4"
   },
   "outputs": [],
   "source": [
    "prediction_pd.to_csv('gdrive/My Drive/dataML/out_cnn4.csv',sep = ',', index = False)"
   ]
  },
  {
   "cell_type": "code",
   "execution_count": 0,
   "metadata": {
    "colab": {},
    "colab_type": "code",
    "id": "ivz_HMLnZ684"
   },
   "outputs": [],
   "source": []
  }
 ],
 "metadata": {
  "accelerator": "GPU",
  "colab": {
   "collapsed_sections": [
    "b6I1adl5gBQD",
    "xeMZR7ntgBQI",
    "LT78eGccgBQN",
    "4RIGVSojmy-R",
    "RX5PuSUmvRri",
    "X9uiFJ-ogBRi",
    "u13ffZdjrqQf"
   ],
   "name": "3 DL Multi-Layer CNN for DigitRecognizer.ipynb",
   "provenance": [],
   "version": "0.3.2"
  },
  "kernelspec": {
   "display_name": "Python 3",
   "language": "python",
   "name": "python3"
  },
  "language_info": {
   "codemirror_mode": {
    "name": "ipython",
    "version": 3
   },
   "file_extension": ".py",
   "mimetype": "text/x-python",
   "name": "python",
   "nbconvert_exporter": "python",
   "pygments_lexer": "ipython3",
   "version": "3.7.1"
  }
 },
 "nbformat": 4,
 "nbformat_minor": 1
}