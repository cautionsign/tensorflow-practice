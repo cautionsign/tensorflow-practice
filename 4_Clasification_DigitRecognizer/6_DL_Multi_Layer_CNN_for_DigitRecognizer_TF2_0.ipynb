{
  "nbformat": 4,
  "nbformat_minor": 0,
  "metadata": {
    "colab": {
      "name": "4 DL Multi-Layer CNN for DigitRecognizer TF2.0.ipynb",
      "provenance": [],
      "collapsed_sections": [
        "b6I1adl5gBQD",
        "xeMZR7ntgBQI",
        "LT78eGccgBQN",
        "4RIGVSojmy-R",
        "RX5PuSUmvRri",
        "X9uiFJ-ogBRi",
        "u13ffZdjrqQf"
      ]
    },
    "kernelspec": {
      "name": "python3",
      "display_name": "Python 3"
    },
    "accelerator": "GPU"
  },
  "cells": [
    {
      "cell_type": "markdown",
      "metadata": {
        "id": "JS6jP7tpCrLr",
        "colab_type": "text"
      },
      "source": [
        "## Digit Recognizer\n",
        "Learn computer vision fundamentals with the famous MNIST dat\n",
        "\n",
        "https://www.kaggle.com/c/digit-recognizer\n",
        "\n",
        "### Competition Description\n",
        "MNIST (\"Modified National Institute of Standards and Technology\") is the de facto “hello world” dataset of computer vision. Since its release in 1999, this classic dataset of handwritten images has served as the basis for benchmarking classification algorithms. As new machine learning techniques emerge, MNIST remains a reliable resource for researchers and learners alike.\n",
        "\n",
        "In this competition, your goal is to correctly identify digits from a dataset of tens of thousands of handwritten images. We’ve curated a set of tutorial-style kernels which cover everything from regression to neural networks. We encourage you to experiment with different algorithms to learn first-hand what works well and how techniques compare.\n",
        "\n",
        "### Practice Skills\n",
        "Computer vision fundamentals including simple neural networks\n",
        "\n",
        "Classification methods such as SVM and K-nearest neighbors\n",
        "\n",
        "#### Acknowledgements \n",
        "More details about the dataset, including algorithms that have been tried on it and their levels of success, can be found at http://yann.lecun.com/exdb/mnist/index.html. The dataset is made available under a Creative Commons Attribution-Share Alike 3.0 license."
      ]
    },
    {
      "cell_type": "code",
      "metadata": {
        "id": "LgcAAVmXgBPm",
        "colab_type": "code",
        "colab": {}
      },
      "source": [
        "import pandas as pd\n",
        "import math\n",
        "import numpy as np\n",
        "import matplotlib.pyplot as plt, matplotlib.image as mpimg\n",
        "from sklearn.model_selection import train_test_split\n",
        "%matplotlib inline"
      ],
      "execution_count": 0,
      "outputs": []
    },
    {
      "cell_type": "markdown",
      "metadata": {
        "id": "OsqSbpe2XSxP",
        "colab_type": "text"
      },
      "source": [
        "# Tensorflow 2.0"
      ]
    },
    {
      "cell_type": "markdown",
      "metadata": {
        "id": "uTZ1PDmaRVzr",
        "colab_type": "text"
      },
      "source": [
        "### initiate TF 2.0"
      ]
    },
    {
      "cell_type": "code",
      "metadata": {
        "id": "9MQQlu0BRbAD",
        "colab_type": "code",
        "outputId": "a0d9e8c5-869f-4e08-ea8f-3b34c056a7b6",
        "colab": {
          "base_uri": "https://localhost:8080/",
          "height": 34
        }
      },
      "source": [
        "try:\n",
        "  # %tensorflow_version only exists in Colab.\n",
        "  %tensorflow_version 2.x\n",
        "except Exception:\n",
        "  pass"
      ],
      "execution_count": 2,
      "outputs": [
        {
          "output_type": "stream",
          "text": [
            "TensorFlow 2.x selected.\n"
          ],
          "name": "stdout"
        }
      ]
    },
    {
      "cell_type": "code",
      "metadata": {
        "id": "EITzxKZRgBPy",
        "colab_type": "code",
        "colab": {}
      },
      "source": [
        "import tensorflow as tf\n",
        "from tensorflow import keras\n",
        "from tensorflow.keras import models\n",
        "from tensorflow.keras import losses,optimizers,metrics\n",
        "from tensorflow.keras import layers"
      ],
      "execution_count": 0,
      "outputs": []
    },
    {
      "cell_type": "code",
      "metadata": {
        "id": "afH41ghfRhVe",
        "colab_type": "code",
        "colab": {}
      },
      "source": [
        "from tensorflow.keras.callbacks import TensorBoard"
      ],
      "execution_count": 0,
      "outputs": []
    },
    {
      "cell_type": "code",
      "metadata": {
        "id": "qlSeJoslRyHS",
        "colab_type": "code",
        "colab": {}
      },
      "source": [
        "import time\n",
        "\n",
        "\n",
        "NAME = 'DigiRecognizer-CNN-{}'.format(int(time.time()))\n",
        "tensorboard = TensorBoard(log_dir='logs/{}'.format(NAME))"
      ],
      "execution_count": 0,
      "outputs": []
    },
    {
      "cell_type": "markdown",
      "metadata": {
        "id": "pizg4suqWF6Q",
        "colab_type": "text"
      },
      "source": [
        "### Data preparation"
      ]
    },
    {
      "cell_type": "code",
      "metadata": {
        "colab_type": "code",
        "outputId": "90bcfefe-92cc-48c4-a928-c13d6739d11f",
        "id": "5BUM4Jl6WEvI",
        "colab": {
          "base_uri": "https://localhost:8080/",
          "height": 34
        }
      },
      "source": [
        "from google.colab import drive \n",
        "drive.mount('/content/gdrive')"
      ],
      "execution_count": 16,
      "outputs": [
        {
          "output_type": "stream",
          "text": [
            "Drive already mounted at /content/gdrive; to attempt to forcibly remount, call drive.mount(\"/content/gdrive\", force_remount=True).\n"
          ],
          "name": "stdout"
        }
      ]
    },
    {
      "cell_type": "code",
      "metadata": {
        "colab_type": "code",
        "id": "yReRXqpvWEvU",
        "colab": {}
      },
      "source": [
        "labeled_images = pd.read_csv('gdrive/My Drive/dataML/train.csv')\n",
        "#labeled_images = pd.read_csv('train.csv')\n",
        "images = labeled_images.iloc[:,1:]\n",
        "labels = labeled_images.iloc[:,:1]\n",
        "train_images, test_images,train_labels, test_labels = train_test_split(images, labels, test_size=0.01)"
      ],
      "execution_count": 0,
      "outputs": []
    },
    {
      "cell_type": "code",
      "metadata": {
        "colab_type": "code",
        "outputId": "307b465a-b6fa-4886-8a83-d1f2506c5548",
        "id": "RsiF49FiWEvW",
        "colab": {
          "base_uri": "https://localhost:8080/",
          "height": 85
        }
      },
      "source": [
        "print(train_images.shape)\n",
        "print(train_labels.shape)\n",
        "print(test_images.shape)\n",
        "print(test_labels.shape)"
      ],
      "execution_count": 18,
      "outputs": [
        {
          "output_type": "stream",
          "text": [
            "(41580, 784)\n",
            "(41580, 1)\n",
            "(420, 784)\n",
            "(420, 1)\n"
          ],
          "name": "stdout"
        }
      ]
    },
    {
      "cell_type": "markdown",
      "metadata": {
        "colab_type": "text",
        "id": "uzWF5yPyVmWD"
      },
      "source": [
        "### Helper functions for batch learning"
      ]
    },
    {
      "cell_type": "code",
      "metadata": {
        "colab_type": "code",
        "id": "kBSohPfOVmWG",
        "colab": {}
      },
      "source": [
        "def one_hot_encode(vec, vals=10):\n",
        "    '''\n",
        "    For use to one-hot encode the 10- possible labels\n",
        "    '''\n",
        "    n = len(vec)\n",
        "    out = np.zeros((n, vals))\n",
        "    out[range(n), vec] = 1\n",
        "    return out"
      ],
      "execution_count": 0,
      "outputs": []
    },
    {
      "cell_type": "code",
      "metadata": {
        "colab_type": "code",
        "id": "uEIs7etSVmWI",
        "colab": {}
      },
      "source": [
        "class CifarHelper():\n",
        "    \n",
        "    def __init__(self):\n",
        "        self.i = 0\n",
        "        \n",
        "        # Intialize some empty variables for later on\n",
        "        self.training_images = None\n",
        "        self.training_labels = None\n",
        "        \n",
        "        self.test_images = None\n",
        "        self.test_labels = None\n",
        "    \n",
        "    def set_up_images(self):\n",
        "        \n",
        "        print(\"Setting Up Training Images and Labels\")\n",
        "        \n",
        "        # Vertically stacks the training images\n",
        "        self.training_images = train_images.values\n",
        "        train_len = self.training_images.shape[0]\n",
        "        \n",
        "        # Reshapes and normalizes training images\n",
        "        self.training_images = self.training_images.reshape(train_len,28,28,1)/255\n",
        "        # One hot Encodes the training labels (e.g. [0,0,0,1,0,0,0,0,0,0])\n",
        "        self.training_labels = one_hot_encode(train_labels.values.reshape(-1), 10)\n",
        "        \n",
        "        print(\"Setting Up Test Images and Labels\")\n",
        "        \n",
        "        # Vertically stacks the test images\n",
        "        self.test_images = test_images.values\n",
        "        test_len = self.test_images.shape[0]\n",
        "        \n",
        "        # Reshapes and normalizes test images\n",
        "        self.test_images = self.test_images.reshape(test_len,28,28,1)/255\n",
        "        # One hot Encodes the test labels (e.g. [0,0,0,1,0,0,0,0,0,0])\n",
        "        self.test_labels = one_hot_encode(test_labels.values.reshape(-1), 10)\n",
        "\n",
        "        \n",
        "    def next_batch(self, batch_size):\n",
        "        # Note that the 100 dimension in the reshape call is set by an assumed batch size of 100\n",
        "        x = self.training_images[self.i:self.i+batch_size]\n",
        "        y = self.training_labels[self.i:self.i+batch_size]\n",
        "        self.i = (self.i + batch_size) % len(self.training_images)\n",
        "        return x, y"
      ],
      "execution_count": 0,
      "outputs": []
    },
    {
      "cell_type": "code",
      "metadata": {
        "colab_type": "code",
        "outputId": "6e09bc86-342a-4eae-e2bb-bb40ceac4496",
        "id": "MVjwS77gVmWL",
        "colab": {
          "base_uri": "https://localhost:8080/",
          "height": 51
        }
      },
      "source": [
        "# Before Your tf.Session run these two lines\n",
        "ch = CifarHelper()\n",
        "ch.set_up_images()\n",
        "\n",
        "# During your session to grab the next batch use this line\n",
        "# (Just like we did for mnist.train.next_batch)\n",
        "# batch = ch.next_batch(100"
      ],
      "execution_count": 21,
      "outputs": [
        {
          "output_type": "stream",
          "text": [
            "Setting Up Training Images and Labels\n",
            "Setting Up Test Images and Labels\n"
          ],
          "name": "stdout"
        }
      ]
    },
    {
      "cell_type": "markdown",
      "metadata": {
        "id": "LT78eGccgBQN",
        "colab_type": "text"
      },
      "source": [
        "### Creating the Model Class\n"
      ]
    },
    {
      "cell_type": "code",
      "metadata": {
        "id": "5SfP2N8eNkWk",
        "colab_type": "code",
        "colab": {}
      },
      "source": [
        "class CNNModel(tf.keras.Model):\n",
        "  def __init__(self):\n",
        "    super().__init__()\n",
        "    # self.Dense1 = layers.Dense(units=10, activation='relu')\n",
        "    self.conv1 = layers.Conv2D(filters=12, kernel_size=(6,6), strides=(1,1), padding='same', activation='relu')\n",
        "    self.conv2 = layers.Conv2D(filters=24, kernel_size=(5,5), strides=(2,2), padding='same', activation='relu')\n",
        "    self.conv3 = layers.Conv2D(filters=48, kernel_size=(4,4), strides=(2,2), padding='same', activation='relu')\n",
        "    self.flatten = layers.Flatten()\n",
        "    self.dense = layers.Dense(units=10,activation='softmax')\n",
        "\n",
        "  def call(self, inputs):\n",
        "    x = self.conv1(inputs)\n",
        "    x = self.conv2(x)\n",
        "    x = self.conv3(x)\n",
        "    x = self.flatten(x)\n",
        "    output = self.dense(x)\n",
        "    return output"
      ],
      "execution_count": 0,
      "outputs": []
    },
    {
      "cell_type": "code",
      "metadata": {
        "id": "YgZkz_jhH7MC",
        "colab_type": "code",
        "colab": {}
      },
      "source": [
        "num_epochs = 1000\n",
        "batch_size = 50\n",
        "learning_rate = 0.001"
      ],
      "execution_count": 0,
      "outputs": []
    },
    {
      "cell_type": "markdown",
      "metadata": {
        "id": "ol_AxqEvPZWK",
        "colab_type": "text"
      },
      "source": [
        "### Initialize the model and optimizer"
      ]
    },
    {
      "cell_type": "code",
      "metadata": {
        "id": "nViiXVGTIQaJ",
        "colab_type": "code",
        "colab": {}
      },
      "source": [
        "model = CNNModel()\n",
        "optimizer = tf.keras.optimizers.Adam(learning_rate=learning_rate)\n"
      ],
      "execution_count": 0,
      "outputs": []
    },
    {
      "cell_type": "markdown",
      "metadata": {
        "id": "VorbeK0aPf36",
        "colab_type": "text"
      },
      "source": [
        "### Train the model"
      ]
    },
    {
      "cell_type": "code",
      "metadata": {
        "id": "ZEmd0VYKIzB6",
        "colab_type": "code",
        "colab": {}
      },
      "source": [
        "for epoch in range(num_epochs):\n",
        "  X, y_true = ch.next_batch(batch_size)\n",
        "  with tf.GradientTape() as tape:\n",
        "    y_pred = model(X)\n",
        "    loss = tf.keras.losses.categorical_crossentropy(y_true=y_true, y_pred=y_pred)\n",
        "    loss = tf.reduce_mean(loss)\n",
        "\n",
        "  grad = tape.gradient(loss, model.variables)\n",
        "  optimizer.apply_gradients(grads_and_vars=zip(grad, model.variables))\n",
        "  \n",
        "  if epoch%100 == 0:\n",
        "    print(\"epch: {}, loss: {}\".format(epoch, loss.numpy()))"
      ],
      "execution_count": 0,
      "outputs": []
    },
    {
      "cell_type": "markdown",
      "metadata": {
        "id": "itEZ-m4APjqu",
        "colab_type": "text"
      },
      "source": [
        "### Evaluate the model"
      ]
    },
    {
      "cell_type": "code",
      "metadata": {
        "id": "9826Ub3jPp0T",
        "colab_type": "code",
        "colab": {
          "base_uri": "https://localhost:8080/",
          "height": 34
        },
        "outputId": "50f87aba-8afd-426f-a5d1-2c27e4b299ec"
      },
      "source": [
        "categorical_accuracy = tf.keras.metrics.CategoricalAccuracy()\n",
        "\n",
        "y_pred = model.predict(x = ch.test_images)\n",
        "categorical_accuracy.update_state(y_true = ch.test_labels, y_pred=y_pred)\n",
        "accuracy = categorical_accuracy.result().numpy()\n",
        "print(\"The accuracy is:{}\".format(accuracy))"
      ],
      "execution_count": 31,
      "outputs": [
        {
          "output_type": "stream",
          "text": [
            "The accuracy is:0.9785714149475098\n"
          ],
          "name": "stdout"
        }
      ]
    },
    {
      "cell_type": "markdown",
      "metadata": {
        "id": "BSTvYfkJSVuc",
        "colab_type": "text"
      },
      "source": [
        "### Train and Evaluate the model"
      ]
    },
    {
      "cell_type": "code",
      "metadata": {
        "id": "kzoE7_vvSeDM",
        "colab_type": "code",
        "colab": {}
      },
      "source": [
        "categorical_accuracy = tf.keras.metrics.CategoricalAccuracy()"
      ],
      "execution_count": 0,
      "outputs": []
    },
    {
      "cell_type": "code",
      "metadata": {
        "id": "hgut8gggSZNk",
        "colab_type": "code",
        "colab": {
          "base_uri": "https://localhost:8080/",
          "height": 241
        },
        "outputId": "8c5ae24a-4750-40dd-a7be-310388acc9f1"
      },
      "source": [
        "for epoch in range(num_epochs):\n",
        "  X, y_true = ch.next_batch(batch_size)\n",
        "  with tf.GradientTape() as tape:\n",
        "    y_pred = model(X)\n",
        "    loss = tf.keras.losses.categorical_crossentropy(y_true=y_true, y_pred=y_pred)\n",
        "    loss = tf.reduce_mean(loss)\n",
        "\n",
        "  grad = tape.gradient(loss, model.variables)\n",
        "  optimizer.apply_gradients(grads_and_vars=zip(grad, model.variables))\n",
        "  \n",
        "  y_test_pred = model.predict(x = ch.test_images)\n",
        "  categorical_accuracy.update_state(y_true = ch.test_labels, y_pred=y_test_pred)\n",
        "  accuracy = categorical_accuracy.result().numpy()\n",
        "\n",
        "  if epoch%100 == 0:\n",
        "    print(\"epch: {}, loss: {}, accuracy: {}\".format(epoch, loss.numpy(),accuracy))"
      ],
      "execution_count": 27,
      "outputs": [
        {
          "output_type": "stream",
          "text": [
            "WARNING:tensorflow:Entity <bound method CNNModel.call of <__main__.CNNModel object at 0x7fbf5019dfd0>> could not be transformed and will be executed as-is. Please report this to the AutoGraph team. When filing the bug, set the verbosity to 10 (on Linux, `export AUTOGRAPH_VERBOSITY=10`) and attach the full output. Cause: Bad argument number for Name: 3, expecting 4\n",
            "WARNING: Entity <bound method CNNModel.call of <__main__.CNNModel object at 0x7fbf5019dfd0>> could not be transformed and will be executed as-is. Please report this to the AutoGraph team. When filing the bug, set the verbosity to 10 (on Linux, `export AUTOGRAPH_VERBOSITY=10`) and attach the full output. Cause: Bad argument number for Name: 3, expecting 4\n",
            "epch: 0, loss: 0.24360981583595276, accuracy: 0.9119047522544861\n",
            "epch: 100, loss: 0.17657403647899628, accuracy: 0.9417491555213928\n",
            "epch: 200, loss: 0.22644303739070892, accuracy: 0.9487680792808533\n",
            "epch: 300, loss: 0.0930221825838089, accuracy: 0.9535674452781677\n",
            "epch: 400, loss: 0.03676765784621239, accuracy: 0.9576594233512878\n",
            "epch: 500, loss: 0.03941649571061134, accuracy: 0.9618382453918457\n",
            "epch: 600, loss: 0.005630108527839184, accuracy: 0.9642064571380615\n",
            "epch: 700, loss: 0.05734631419181824, accuracy: 0.9666293263435364\n",
            "epch: 800, loss: 0.07206948101520538, accuracy: 0.9687057733535767\n",
            "epch: 900, loss: 0.029876455664634705, accuracy: 0.9701046347618103\n"
          ],
          "name": "stdout"
        }
      ]
    },
    {
      "cell_type": "code",
      "metadata": {
        "id": "rf0cqr6kRXiu",
        "colab_type": "code",
        "colab": {
          "base_uri": "https://localhost:8080/",
          "height": 34
        },
        "outputId": "1eaf9309-8cda-44e1-b50d-5c212b14b053"
      },
      "source": [
        "printcategorical_accuracy.result().numpy()"
      ],
      "execution_count": 26,
      "outputs": [
        {
          "output_type": "execute_result",
          "data": {
            "text/plain": [
              "0.9785714"
            ]
          },
          "metadata": {
            "tags": []
          },
          "execution_count": 26
        }
      ]
    },
    {
      "cell_type": "markdown",
      "metadata": {
        "id": "_qetEX7AgBQY",
        "colab_type": "text"
      },
      "source": [
        "# Tensorflow 1.0"
      ]
    },
    {
      "cell_type": "markdown",
      "metadata": {
        "id": "4keUL7d0gBQZ",
        "colab_type": "text"
      },
      "source": [
        "### Helper functions for batch learning"
      ]
    },
    {
      "cell_type": "code",
      "metadata": {
        "id": "czdbjPfcgBQd",
        "colab_type": "code",
        "colab": {}
      },
      "source": [
        "def one_hot_encode(vec, vals=10):\n",
        "    '''\n",
        "    For use to one-hot encode the 10- possible labels\n",
        "    '''\n",
        "    n = len(vec)\n",
        "    out = np.zeros((n, vals))\n",
        "    out[range(n), vec] = 1\n",
        "    return out"
      ],
      "execution_count": 0,
      "outputs": []
    },
    {
      "cell_type": "code",
      "metadata": {
        "id": "Afc2XmK2gBQh",
        "colab_type": "code",
        "colab": {}
      },
      "source": [
        "class CifarHelper():\n",
        "    \n",
        "    def __init__(self):\n",
        "        self.i = 0\n",
        "        \n",
        "        # Intialize some empty variables for later on\n",
        "        self.training_images = None\n",
        "        self.training_labels = None\n",
        "        \n",
        "        self.test_images = None\n",
        "        self.test_labels = None\n",
        "    \n",
        "    def set_up_images(self):\n",
        "        \n",
        "        print(\"Setting Up Training Images and Labels\")\n",
        "        \n",
        "        # Vertically stacks the training images\n",
        "        self.training_images = train_images.as_matrix()\n",
        "        train_len = self.training_images.shape[0]\n",
        "        \n",
        "        # Reshapes and normalizes training images\n",
        "        self.training_images = self.training_images.reshape(train_len,28,28,1)/255\n",
        "        # One hot Encodes the training labels (e.g. [0,0,0,1,0,0,0,0,0,0])\n",
        "        self.training_labels = one_hot_encode(train_labels.as_matrix().reshape(-1), 10)\n",
        "        \n",
        "        print(\"Setting Up Test Images and Labels\")\n",
        "        \n",
        "        # Vertically stacks the test images\n",
        "        self.test_images = test_images.as_matrix()\n",
        "        test_len = self.test_images.shape[0]\n",
        "        \n",
        "        # Reshapes and normalizes test images\n",
        "        self.test_images = self.test_images.reshape(test_len,28,28,1)/255\n",
        "        # One hot Encodes the test labels (e.g. [0,0,0,1,0,0,0,0,0,0])\n",
        "        self.test_labels = one_hot_encode(test_labels.as_matrix().reshape(-1), 10)\n",
        "\n",
        "        \n",
        "    def next_batch(self, batch_size):\n",
        "        # Note that the 100 dimension in the reshape call is set by an assumed batch size of 100\n",
        "        x = self.training_images[self.i:self.i+batch_size]\n",
        "        y = self.training_labels[self.i:self.i+batch_size]\n",
        "        self.i = (self.i + batch_size) % len(self.training_images)\n",
        "        return x, y"
      ],
      "execution_count": 0,
      "outputs": []
    },
    {
      "cell_type": "code",
      "metadata": {
        "id": "1qAiPT1-gBQp",
        "colab_type": "code",
        "outputId": "579a01c2-db46-4e51-8279-eb66d5844e35",
        "colab": {
          "base_uri": "https://localhost:8080/",
          "height": 51
        }
      },
      "source": [
        "# Before Your tf.Session run these two lines\n",
        "ch = CifarHelper()\n",
        "ch.set_up_images()\n",
        "\n",
        "# During your session to grab the next batch use this line\n",
        "# (Just like we did for mnist.train.next_batch)\n",
        "# batch = ch.next_batch(100)"
      ],
      "execution_count": 0,
      "outputs": [
        {
          "output_type": "stream",
          "text": [
            "Setting Up Training Images and Labels\n",
            "Setting Up Test Images and Labels\n"
          ],
          "name": "stdout"
        }
      ]
    },
    {
      "cell_type": "markdown",
      "metadata": {
        "id": "QUkUv8sKgBQw",
        "colab_type": "text"
      },
      "source": [
        "## Creating the Model\n",
        "\n"
      ]
    },
    {
      "cell_type": "markdown",
      "metadata": {
        "id": "l1XSMzIpgBQx",
        "colab_type": "text"
      },
      "source": [
        "** Create 2 placeholders, x and y_true. Their shapes should be: **\n",
        "\n",
        "* X shape = [None,28,28,1]\n",
        "* Y_true shape = [None,10]\n",
        "\n",
        "** Create three more placeholders \n",
        "* lr: learning rate\n",
        "* step：for learning rate decay\n",
        "* drop_rate"
      ]
    },
    {
      "cell_type": "code",
      "metadata": {
        "id": "8Y_4DDQvgBQz",
        "colab_type": "code",
        "colab": {}
      },
      "source": [
        "X = tf.placeholder(tf.float32, shape=[None,28,28,1])\n",
        "Y_true = tf.placeholder(tf.float32, shape=[None,10])\n",
        "\n",
        "lr = tf.placeholder(tf.float32)\n",
        "step = tf.placeholder(tf.int32)\n",
        "drop_rate = tf.placeholder(tf.float32)"
      ],
      "execution_count": 0,
      "outputs": []
    },
    {
      "cell_type": "markdown",
      "metadata": {
        "id": "5egQVsS4NhxW",
        "colab_type": "text"
      },
      "source": [
        "### Initialize Weights and bias\n",
        " neural network structure for this sample:\n",
        "\n",
        "X [batch, 28, 28, 1]\n",
        " \n",
        "Layer 1:  conv. layer 6x6x1=>6, stride 1    W1 [6, 6, 1, 6] ,       B1 [6]\n",
        "\n",
        "Y1 [batch, 28, 28, 6]\n",
        "\n",
        "Layer 2: conv. layer 5x5x6=>12, stride 2       W2 [5, 5, 6, 12] ,       B2 [12]\n",
        "\n",
        "Y2 [batch, 14, 14, 12]\n",
        "\n",
        "Layer 3: conv. layer 4x4x12=>24, stride 2      W3 [4, 4, 12, 24]  ,     B3 [24]\n",
        "\n",
        "Y3 [batch, 7, 7, 24] => reshaped to YY [batch, 7*7*24]\n",
        "\n",
        "Layer 4: fully connected layer (relu+dropout), W4 [7*7*24, 200]       B4 [200]\n",
        "\n",
        "Y4 [batch, 200]\n",
        "\n",
        "Layer 5: fully connected layer (softmax)      W5 [200, 10]           B5 [10]\n",
        "\n",
        "Y [batch, 10]"
      ]
    },
    {
      "cell_type": "code",
      "metadata": {
        "id": "UD6cWs60OnGn",
        "colab_type": "code",
        "colab": {}
      },
      "source": [
        "# three convolutional layers with their channel counts, and a\n",
        "# fully connected layer (the last layer has 10 softmax neurons)\n",
        "K = 12  # first convolutional layer output depth\n",
        "L = 24  # second convolutional layer output depth\n",
        "M = 48  # third convolutional layer\n",
        "N = 200  # fully connected layer"
      ],
      "execution_count": 0,
      "outputs": []
    },
    {
      "cell_type": "code",
      "metadata": {
        "id": "xiVQdlDsN1W-",
        "colab_type": "code",
        "colab": {}
      },
      "source": [
        "W1 = tf.Variable(tf.truncated_normal([6,6,1,K], stddev=0.1)) \n",
        "B1 = tf.Variable(tf.ones([K])/10)\n",
        "\n",
        "W2 = tf.Variable(tf.truncated_normal([5,5,K,L], stddev=0.1))\n",
        "B2 = tf.Variable(tf.ones([L])/10)\n",
        "\n",
        "W3 = tf.Variable(tf.truncated_normal([4,4,L,M], stddev=0.1))\n",
        "B3 = tf.Variable(tf.ones([M])/10)\n",
        "\n",
        "W4 = tf.Variable(tf.truncated_normal([7*7*M,N], stddev=0.1))\n",
        "B4 = tf.Variable(tf.ones([N])/10)\n",
        "\n",
        "W5 = tf.Variable(tf.truncated_normal([N, 10], stddev=0.1))\n",
        "B5 = tf.Variable(tf.zeros([10]))"
      ],
      "execution_count": 0,
      "outputs": []
    },
    {
      "cell_type": "markdown",
      "metadata": {
        "id": "u4RDJq8pO_Og",
        "colab_type": "text"
      },
      "source": [
        "### layers"
      ]
    },
    {
      "cell_type": "code",
      "metadata": {
        "id": "DM5_O098O4Di",
        "colab_type": "code",
        "colab": {}
      },
      "source": [
        "Y1 = tf.nn.relu(tf.nn.conv2d(X, W1, strides = [1,1,1,1], padding='SAME') + B1)\n",
        "\n",
        "Y2 = tf.nn.relu(tf.nn.conv2d(Y1,W2, strides = [1,2,2,1], padding='SAME') + B2)\n",
        "\n",
        "Y3 = tf.nn.relu(tf.nn.conv2d(Y2,W3, strides = [1,2,2,1], padding='SAME') + B3)\n",
        "\n",
        "#flat the inputs for the fully connected nn\n",
        "YY3 = tf.reshape(Y3, shape = (-1,7*7*M))\n",
        "                \n",
        "\n",
        "Y4 = tf.nn.relu(tf.matmul(YY3, W4) + B4)\n",
        "Y4d = tf.nn.dropout(Y4,rate = drop_rate)\n",
        "\n",
        "Ylogits = tf.matmul(Y4d, W5) + B5\n",
        "Y = tf.nn.softmax(Ylogits)"
      ],
      "execution_count": 0,
      "outputs": []
    },
    {
      "cell_type": "markdown",
      "metadata": {
        "id": "tT4TvNz-gBRI",
        "colab_type": "text"
      },
      "source": [
        "### Loss Function"
      ]
    },
    {
      "cell_type": "code",
      "metadata": {
        "id": "wkqQ5GurgBRJ",
        "colab_type": "code",
        "outputId": "9145b309-a37b-4f3a-9b69-0b99eec766fc",
        "colab": {
          "base_uri": "https://localhost:8080/",
          "height": 88
        }
      },
      "source": [
        "#cross_entropy = tf.reduce_mean(tf.nn.softmax_cross_entropy_with_logits_v2(labels=Y_true,logits=Ylogits))\n",
        "cross_entropy = tf.losses.softmax_cross_entropy(onehot_labels = Y_true, logits = Ylogits)\n",
        "#cross_entropy = -tf.reduce_mean(y_true * tf.log(Ylogits)) * 1000.0 "
      ],
      "execution_count": 0,
      "outputs": [
        {
          "output_type": "stream",
          "text": [
            "WARNING:tensorflow:From /usr/local/lib/python3.6/dist-packages/tensorflow/python/ops/losses/losses_impl.py:209: to_float (from tensorflow.python.ops.math_ops) is deprecated and will be removed in a future version.\n",
            "Instructions for updating:\n",
            "Use tf.cast instead.\n"
          ],
          "name": "stdout"
        }
      ]
    },
    {
      "cell_type": "markdown",
      "metadata": {
        "id": "jmnEUVWxgBRM",
        "colab_type": "text"
      },
      "source": [
        "### Optimizer"
      ]
    },
    {
      "cell_type": "code",
      "metadata": {
        "id": "MoyIlzCagBRN",
        "colab_type": "code",
        "colab": {}
      },
      "source": [
        "lr = 0.0001 + tf.train.exponential_decay(learning_rate = 0.003, \n",
        "                                         global_step = step,\n",
        "                                         decay_steps = 2000,\n",
        "                                         decay_rate = 1/math.e\n",
        "                                        )\n",
        "\n",
        "#optimizer = tf.train.GradientDescentOptimizer(learning_rate = 0.005)\n",
        "optimizer = tf.train.AdamOptimizer(learning_rate=lr)\n",
        "train = optimizer.minimize(cross_entropy)"
      ],
      "execution_count": 0,
      "outputs": []
    },
    {
      "cell_type": "markdown",
      "metadata": {
        "id": "47rAzeVNgBRP",
        "colab_type": "text"
      },
      "source": [
        "### Intialize Variables"
      ]
    },
    {
      "cell_type": "code",
      "metadata": {
        "id": "7WG1AszIgBRQ",
        "colab_type": "code",
        "colab": {}
      },
      "source": [
        "init = tf.global_variables_initializer()"
      ],
      "execution_count": 0,
      "outputs": []
    },
    {
      "cell_type": "markdown",
      "metadata": {
        "id": "rseSYLjggBRb",
        "colab_type": "text"
      },
      "source": [
        "### Saving the Model"
      ]
    },
    {
      "cell_type": "code",
      "metadata": {
        "id": "OwdUgOG4gBRc",
        "colab_type": "code",
        "colab": {}
      },
      "source": [
        "saver = tf.train.Saver()"
      ],
      "execution_count": 0,
      "outputs": []
    },
    {
      "cell_type": "markdown",
      "metadata": {
        "id": "xGdHTpE0gBRe",
        "colab_type": "text"
      },
      "source": [
        "## Graph Session\n",
        "\n",
        "** Perform the training and test print outs in a Tf session and run your model! **"
      ]
    },
    {
      "cell_type": "code",
      "metadata": {
        "id": "pQHEYbyZgBRf",
        "colab_type": "code",
        "outputId": "cc718ec8-8ef0-42c4-b230-898ac94d6e09",
        "colab": {
          "base_uri": "https://localhost:8080/",
          "height": 10237
        }
      },
      "source": [
        "history = {'acc_train':list(),'acc_val':list(),\n",
        "           'loss_train':list(),'loss_val':list(),\n",
        "          'learning_rate':list()}\n",
        "with tf.Session() as sess:\n",
        "    sess.run(tf.global_variables_initializer())\n",
        "    \n",
        "    for i in range(20000):\n",
        "        batch = ch.next_batch(100)\n",
        "        sess.run(train, feed_dict={X: batch[0], Y_true: batch[1], step: i, drop_rate: 0.25})\n",
        "        \n",
        "        # PRINT OUT A MESSAGE EVERY 100 STEPS\n",
        "        if i%100 == 0:\n",
        "            \n",
        "            # Test the Train Model\n",
        "            feed_dict_train = {X: batch[0], Y_true: batch[1], drop_rate: 0.25}\n",
        "            feed_dict_val = {X:ch.test_images, Y_true:ch.test_labels, drop_rate: 0}\n",
        "\n",
        "            matches = tf.equal(tf.argmax(Y,1),tf.argmax(Y_true,1))\n",
        "            acc = tf.reduce_mean(tf.cast(matches,tf.float32))\n",
        "            history['acc_train'].append(sess.run(acc, feed_dict = feed_dict_train))\n",
        "            history['acc_val'].append(sess.run(acc, feed_dict = feed_dict_val))\n",
        "\n",
        "            history['loss_train'].append(sess.run(cross_entropy, feed_dict = feed_dict_train))\n",
        "            history['loss_val'].append(sess.run(cross_entropy, feed_dict = feed_dict_val))\n",
        "            \n",
        "            history['learning_rate'].append(sess.run(lr, feed_dict = {step: i}))\n",
        "            print(\"Iteration {}:\\tlearning_rate={:.6f},\\tloss_train={:.6f},\\tloss_val={:.6f},\\tacc_train={:.6f},\\tacc_val={:.6f}\"\n",
        "                  .format(i,history['learning_rate'][-1],\n",
        "                          history['loss_train'][-1],\n",
        "                          history['loss_val'][-1],\n",
        "                          history['acc_train'][-1],\n",
        "                          history['acc_val'][-1]))\n",
        "            \n",
        "            print('\\n')\n",
        "        \n",
        "    saver.save(sess,'models_saving/my_model.ckpt')"
      ],
      "execution_count": 0,
      "outputs": [
        {
          "output_type": "stream",
          "text": [
            "Iteration 0:\tlearning_rate=0.003100,\tloss_train=3.291209,\tloss_val=3.566376,\tacc_train=0.150000,\tacc_val=0.080952\n",
            "\n",
            "\n",
            "Iteration 100:\tlearning_rate=0.002954,\tloss_train=0.273934,\tloss_val=0.113660,\tacc_train=0.950000,\tacc_val=0.973810\n",
            "\n",
            "\n",
            "Iteration 200:\tlearning_rate=0.002815,\tloss_train=0.131737,\tloss_val=0.094597,\tacc_train=0.980000,\tacc_val=0.969048\n",
            "\n",
            "\n",
            "Iteration 300:\tlearning_rate=0.002682,\tloss_train=0.058850,\tloss_val=0.089490,\tacc_train=0.980000,\tacc_val=0.971429\n",
            "\n",
            "\n",
            "Iteration 400:\tlearning_rate=0.002556,\tloss_train=0.052930,\tloss_val=0.051649,\tacc_train=0.990000,\tacc_val=0.983333\n",
            "\n",
            "\n",
            "Iteration 500:\tlearning_rate=0.002436,\tloss_train=0.108525,\tloss_val=0.043813,\tacc_train=0.970000,\tacc_val=0.980952\n",
            "\n",
            "\n",
            "Iteration 600:\tlearning_rate=0.002322,\tloss_train=0.077652,\tloss_val=0.043063,\tacc_train=0.980000,\tacc_val=0.983333\n",
            "\n",
            "\n",
            "Iteration 700:\tlearning_rate=0.002214,\tloss_train=0.062273,\tloss_val=0.050851,\tacc_train=0.990000,\tacc_val=0.983333\n",
            "\n",
            "\n",
            "Iteration 800:\tlearning_rate=0.002111,\tloss_train=0.055581,\tloss_val=0.016286,\tacc_train=1.000000,\tacc_val=0.995238\n",
            "\n",
            "\n",
            "Iteration 900:\tlearning_rate=0.002013,\tloss_train=0.063747,\tloss_val=0.026281,\tacc_train=0.990000,\tacc_val=0.985714\n",
            "\n",
            "\n",
            "Iteration 1000:\tlearning_rate=0.001920,\tloss_train=0.037742,\tloss_val=0.045727,\tacc_train=0.990000,\tacc_val=0.985714\n",
            "\n",
            "\n",
            "Iteration 1100:\tlearning_rate=0.001831,\tloss_train=0.020697,\tloss_val=0.022253,\tacc_train=1.000000,\tacc_val=0.992857\n",
            "\n",
            "\n",
            "Iteration 1200:\tlearning_rate=0.001746,\tloss_train=0.025594,\tloss_val=0.020167,\tacc_train=1.000000,\tacc_val=0.992857\n",
            "\n",
            "\n",
            "Iteration 1300:\tlearning_rate=0.001666,\tloss_train=0.005705,\tloss_val=0.022109,\tacc_train=1.000000,\tacc_val=0.990476\n",
            "\n",
            "\n",
            "Iteration 1400:\tlearning_rate=0.001590,\tloss_train=0.015113,\tloss_val=0.027408,\tacc_train=0.990000,\tacc_val=0.988095\n",
            "\n",
            "\n",
            "Iteration 1500:\tlearning_rate=0.001517,\tloss_train=0.072400,\tloss_val=0.028506,\tacc_train=0.980000,\tacc_val=0.988095\n",
            "\n",
            "\n",
            "Iteration 1600:\tlearning_rate=0.001448,\tloss_train=0.023121,\tloss_val=0.055556,\tacc_train=1.000000,\tacc_val=0.983333\n",
            "\n",
            "\n",
            "Iteration 1700:\tlearning_rate=0.001382,\tloss_train=0.014415,\tloss_val=0.019530,\tacc_train=1.000000,\tacc_val=0.995238\n",
            "\n",
            "\n",
            "Iteration 1800:\tlearning_rate=0.001320,\tloss_train=0.003565,\tloss_val=0.022693,\tacc_train=1.000000,\tacc_val=0.992857\n",
            "\n",
            "\n",
            "Iteration 1900:\tlearning_rate=0.001260,\tloss_train=0.015690,\tloss_val=0.055221,\tacc_train=1.000000,\tacc_val=0.983333\n",
            "\n",
            "\n",
            "Iteration 2000:\tlearning_rate=0.001204,\tloss_train=0.001746,\tloss_val=0.033166,\tacc_train=1.000000,\tacc_val=0.988095\n",
            "\n",
            "\n",
            "Iteration 2100:\tlearning_rate=0.001150,\tloss_train=0.005184,\tloss_val=0.042062,\tacc_train=0.980000,\tacc_val=0.985714\n",
            "\n",
            "\n",
            "Iteration 2200:\tlearning_rate=0.001099,\tloss_train=0.019183,\tloss_val=0.046565,\tacc_train=0.990000,\tacc_val=0.988095\n",
            "\n",
            "\n",
            "Iteration 2300:\tlearning_rate=0.001050,\tloss_train=0.000312,\tloss_val=0.018573,\tacc_train=1.000000,\tacc_val=0.992857\n",
            "\n",
            "\n",
            "Iteration 2400:\tlearning_rate=0.001004,\tloss_train=0.002007,\tloss_val=0.040470,\tacc_train=1.000000,\tacc_val=0.990476\n",
            "\n",
            "\n",
            "Iteration 2500:\tlearning_rate=0.000960,\tloss_train=0.003134,\tloss_val=0.020767,\tacc_train=1.000000,\tacc_val=0.988095\n",
            "\n",
            "\n",
            "Iteration 2600:\tlearning_rate=0.000918,\tloss_train=0.002078,\tloss_val=0.027919,\tacc_train=1.000000,\tacc_val=0.990476\n",
            "\n",
            "\n",
            "Iteration 2700:\tlearning_rate=0.000878,\tloss_train=0.007485,\tloss_val=0.020951,\tacc_train=1.000000,\tacc_val=0.988095\n",
            "\n",
            "\n",
            "Iteration 2800:\tlearning_rate=0.000840,\tloss_train=0.003849,\tloss_val=0.022948,\tacc_train=1.000000,\tacc_val=0.990476\n",
            "\n",
            "\n",
            "Iteration 2900:\tlearning_rate=0.000804,\tloss_train=0.005030,\tloss_val=0.014846,\tacc_train=1.000000,\tacc_val=0.988095\n",
            "\n",
            "\n",
            "Iteration 3000:\tlearning_rate=0.000769,\tloss_train=0.000572,\tloss_val=0.021942,\tacc_train=1.000000,\tacc_val=0.995238\n",
            "\n",
            "\n",
            "Iteration 3100:\tlearning_rate=0.000737,\tloss_train=0.000241,\tloss_val=0.014402,\tacc_train=1.000000,\tacc_val=0.992857\n",
            "\n",
            "\n",
            "Iteration 3200:\tlearning_rate=0.000706,\tloss_train=0.001775,\tloss_val=0.033364,\tacc_train=0.990000,\tacc_val=0.990476\n",
            "\n",
            "\n",
            "Iteration 3300:\tlearning_rate=0.000676,\tloss_train=0.000224,\tloss_val=0.018216,\tacc_train=1.000000,\tacc_val=0.992857\n",
            "\n",
            "\n",
            "Iteration 3400:\tlearning_rate=0.000648,\tloss_train=0.002972,\tloss_val=0.012856,\tacc_train=1.000000,\tacc_val=0.995238\n",
            "\n",
            "\n",
            "Iteration 3500:\tlearning_rate=0.000621,\tloss_train=0.000103,\tloss_val=0.039060,\tacc_train=1.000000,\tacc_val=0.992857\n",
            "\n",
            "\n",
            "Iteration 3600:\tlearning_rate=0.000596,\tloss_train=0.050762,\tloss_val=0.057317,\tacc_train=1.000000,\tacc_val=0.988095\n",
            "\n",
            "\n",
            "Iteration 3700:\tlearning_rate=0.000572,\tloss_train=0.000142,\tloss_val=0.038090,\tacc_train=1.000000,\tacc_val=0.988095\n",
            "\n",
            "\n",
            "Iteration 3800:\tlearning_rate=0.000549,\tloss_train=0.000966,\tloss_val=0.033859,\tacc_train=1.000000,\tacc_val=0.990476\n",
            "\n",
            "\n",
            "Iteration 3900:\tlearning_rate=0.000527,\tloss_train=0.002678,\tloss_val=0.037520,\tacc_train=1.000000,\tacc_val=0.990476\n",
            "\n",
            "\n",
            "Iteration 4000:\tlearning_rate=0.000506,\tloss_train=0.000048,\tloss_val=0.043038,\tacc_train=1.000000,\tacc_val=0.988095\n",
            "\n",
            "\n",
            "Iteration 4100:\tlearning_rate=0.000486,\tloss_train=0.000235,\tloss_val=0.035163,\tacc_train=1.000000,\tacc_val=0.983333\n",
            "\n",
            "\n",
            "Iteration 4200:\tlearning_rate=0.000467,\tloss_train=0.001476,\tloss_val=0.041278,\tacc_train=1.000000,\tacc_val=0.988095\n",
            "\n",
            "\n",
            "Iteration 4300:\tlearning_rate=0.000449,\tloss_train=0.001006,\tloss_val=0.046137,\tacc_train=1.000000,\tacc_val=0.983333\n",
            "\n",
            "\n",
            "Iteration 4400:\tlearning_rate=0.000432,\tloss_train=0.000506,\tloss_val=0.035295,\tacc_train=1.000000,\tacc_val=0.990476\n",
            "\n",
            "\n",
            "Iteration 4500:\tlearning_rate=0.000416,\tloss_train=0.000803,\tloss_val=0.031128,\tacc_train=1.000000,\tacc_val=0.988095\n",
            "\n",
            "\n",
            "Iteration 4600:\tlearning_rate=0.000401,\tloss_train=0.002269,\tloss_val=0.037874,\tacc_train=1.000000,\tacc_val=0.992857\n",
            "\n",
            "\n",
            "Iteration 4700:\tlearning_rate=0.000386,\tloss_train=0.000586,\tloss_val=0.035575,\tacc_train=1.000000,\tacc_val=0.988095\n",
            "\n",
            "\n",
            "Iteration 4800:\tlearning_rate=0.000372,\tloss_train=0.000072,\tloss_val=0.032569,\tacc_train=1.000000,\tacc_val=0.990476\n",
            "\n",
            "\n",
            "Iteration 4900:\tlearning_rate=0.000359,\tloss_train=0.004966,\tloss_val=0.041759,\tacc_train=1.000000,\tacc_val=0.988095\n",
            "\n",
            "\n",
            "Iteration 5000:\tlearning_rate=0.000346,\tloss_train=0.000024,\tloss_val=0.023334,\tacc_train=1.000000,\tacc_val=0.992857\n",
            "\n",
            "\n",
            "Iteration 5100:\tlearning_rate=0.000334,\tloss_train=0.000289,\tloss_val=0.027374,\tacc_train=1.000000,\tacc_val=0.990476\n",
            "\n",
            "\n",
            "Iteration 5200:\tlearning_rate=0.000323,\tloss_train=0.000012,\tloss_val=0.038204,\tacc_train=1.000000,\tacc_val=0.988095\n",
            "\n",
            "\n",
            "Iteration 5300:\tlearning_rate=0.000312,\tloss_train=0.003487,\tloss_val=0.037891,\tacc_train=1.000000,\tacc_val=0.985714\n",
            "\n",
            "\n",
            "Iteration 5400:\tlearning_rate=0.000302,\tloss_train=0.000134,\tloss_val=0.031178,\tacc_train=1.000000,\tacc_val=0.985714\n",
            "\n",
            "\n",
            "Iteration 5500:\tlearning_rate=0.000292,\tloss_train=0.026467,\tloss_val=0.026724,\tacc_train=0.990000,\tacc_val=0.995238\n",
            "\n",
            "\n",
            "Iteration 5600:\tlearning_rate=0.000282,\tloss_train=0.000355,\tloss_val=0.025337,\tacc_train=1.000000,\tacc_val=0.988095\n",
            "\n",
            "\n",
            "Iteration 5700:\tlearning_rate=0.000274,\tloss_train=0.001310,\tloss_val=0.032937,\tacc_train=1.000000,\tacc_val=0.990476\n",
            "\n",
            "\n",
            "Iteration 5800:\tlearning_rate=0.000265,\tloss_train=0.000005,\tloss_val=0.033200,\tacc_train=1.000000,\tacc_val=0.988095\n",
            "\n",
            "\n",
            "Iteration 5900:\tlearning_rate=0.000257,\tloss_train=0.000055,\tloss_val=0.043227,\tacc_train=1.000000,\tacc_val=0.990476\n",
            "\n",
            "\n",
            "Iteration 6000:\tlearning_rate=0.000249,\tloss_train=0.002238,\tloss_val=0.050428,\tacc_train=1.000000,\tacc_val=0.988095\n",
            "\n",
            "\n",
            "Iteration 6100:\tlearning_rate=0.000242,\tloss_train=0.000573,\tloss_val=0.031664,\tacc_train=1.000000,\tacc_val=0.992857\n",
            "\n",
            "\n",
            "Iteration 6200:\tlearning_rate=0.000235,\tloss_train=0.000065,\tloss_val=0.036321,\tacc_train=1.000000,\tacc_val=0.988095\n",
            "\n",
            "\n",
            "Iteration 6300:\tlearning_rate=0.000229,\tloss_train=0.000200,\tloss_val=0.028852,\tacc_train=1.000000,\tacc_val=0.992857\n",
            "\n",
            "\n",
            "Iteration 6400:\tlearning_rate=0.000222,\tloss_train=0.000258,\tloss_val=0.030592,\tacc_train=1.000000,\tacc_val=0.990476\n",
            "\n",
            "\n",
            "Iteration 6500:\tlearning_rate=0.000216,\tloss_train=0.000016,\tloss_val=0.022441,\tacc_train=1.000000,\tacc_val=0.988095\n",
            "\n",
            "\n",
            "Iteration 6600:\tlearning_rate=0.000211,\tloss_train=0.007413,\tloss_val=0.032315,\tacc_train=1.000000,\tacc_val=0.990476\n",
            "\n",
            "\n",
            "Iteration 6700:\tlearning_rate=0.000205,\tloss_train=0.001362,\tloss_val=0.034481,\tacc_train=1.000000,\tacc_val=0.990476\n",
            "\n",
            "\n",
            "Iteration 6800:\tlearning_rate=0.000200,\tloss_train=0.000106,\tloss_val=0.037938,\tacc_train=1.000000,\tacc_val=0.988095\n",
            "\n",
            "\n",
            "Iteration 6900:\tlearning_rate=0.000195,\tloss_train=0.001134,\tloss_val=0.046206,\tacc_train=1.000000,\tacc_val=0.988095\n",
            "\n",
            "\n",
            "Iteration 7000:\tlearning_rate=0.000191,\tloss_train=0.000098,\tloss_val=0.040202,\tacc_train=0.990000,\tacc_val=0.990476\n",
            "\n",
            "\n",
            "Iteration 7100:\tlearning_rate=0.000186,\tloss_train=0.000029,\tloss_val=0.037919,\tacc_train=1.000000,\tacc_val=0.992857\n",
            "\n",
            "\n",
            "Iteration 7200:\tlearning_rate=0.000182,\tloss_train=0.002708,\tloss_val=0.049570,\tacc_train=1.000000,\tacc_val=0.988095\n",
            "\n",
            "\n",
            "Iteration 7300:\tlearning_rate=0.000178,\tloss_train=0.000150,\tloss_val=0.065175,\tacc_train=1.000000,\tacc_val=0.988095\n",
            "\n",
            "\n",
            "Iteration 7400:\tlearning_rate=0.000174,\tloss_train=0.000034,\tloss_val=0.036139,\tacc_train=1.000000,\tacc_val=0.992857\n",
            "\n",
            "\n",
            "Iteration 7500:\tlearning_rate=0.000171,\tloss_train=0.000393,\tloss_val=0.045847,\tacc_train=1.000000,\tacc_val=0.992857\n",
            "\n",
            "\n",
            "Iteration 7600:\tlearning_rate=0.000167,\tloss_train=0.000328,\tloss_val=0.057202,\tacc_train=1.000000,\tacc_val=0.990476\n",
            "\n",
            "\n",
            "Iteration 7700:\tlearning_rate=0.000164,\tloss_train=0.000026,\tloss_val=0.045608,\tacc_train=1.000000,\tacc_val=0.988095\n",
            "\n",
            "\n",
            "Iteration 7800:\tlearning_rate=0.000161,\tloss_train=0.001196,\tloss_val=0.047827,\tacc_train=1.000000,\tacc_val=0.990476\n",
            "\n",
            "\n",
            "Iteration 7900:\tlearning_rate=0.000158,\tloss_train=0.000038,\tloss_val=0.043284,\tacc_train=1.000000,\tacc_val=0.990476\n",
            "\n",
            "\n",
            "Iteration 8000:\tlearning_rate=0.000155,\tloss_train=0.000109,\tloss_val=0.041985,\tacc_train=1.000000,\tacc_val=0.992857\n",
            "\n",
            "\n",
            "Iteration 8100:\tlearning_rate=0.000152,\tloss_train=0.000008,\tloss_val=0.057204,\tacc_train=1.000000,\tacc_val=0.992857\n",
            "\n",
            "\n",
            "Iteration 8200:\tlearning_rate=0.000150,\tloss_train=0.000007,\tloss_val=0.061682,\tacc_train=1.000000,\tacc_val=0.985714\n",
            "\n",
            "\n",
            "Iteration 8300:\tlearning_rate=0.000147,\tloss_train=0.000008,\tloss_val=0.056300,\tacc_train=1.000000,\tacc_val=0.988095\n",
            "\n",
            "\n",
            "Iteration 8400:\tlearning_rate=0.000145,\tloss_train=0.000237,\tloss_val=0.053918,\tacc_train=1.000000,\tacc_val=0.990476\n",
            "\n",
            "\n",
            "Iteration 8500:\tlearning_rate=0.000143,\tloss_train=0.000021,\tloss_val=0.060757,\tacc_train=1.000000,\tacc_val=0.988095\n",
            "\n",
            "\n",
            "Iteration 8600:\tlearning_rate=0.000141,\tloss_train=0.000096,\tloss_val=0.056191,\tacc_train=1.000000,\tacc_val=0.988095\n",
            "\n",
            "\n",
            "Iteration 8700:\tlearning_rate=0.000139,\tloss_train=0.000090,\tloss_val=0.043130,\tacc_train=1.000000,\tacc_val=0.990476\n",
            "\n",
            "\n",
            "Iteration 8800:\tlearning_rate=0.000137,\tloss_train=0.000013,\tloss_val=0.044164,\tacc_train=1.000000,\tacc_val=0.990476\n",
            "\n",
            "\n",
            "Iteration 8900:\tlearning_rate=0.000135,\tloss_train=0.001191,\tloss_val=0.056158,\tacc_train=1.000000,\tacc_val=0.990476\n",
            "\n",
            "\n",
            "Iteration 9000:\tlearning_rate=0.000133,\tloss_train=0.002281,\tloss_val=0.063807,\tacc_train=1.000000,\tacc_val=0.988095\n",
            "\n",
            "\n",
            "Iteration 9100:\tlearning_rate=0.000132,\tloss_train=0.000023,\tloss_val=0.064389,\tacc_train=1.000000,\tacc_val=0.990476\n",
            "\n",
            "\n",
            "Iteration 9200:\tlearning_rate=0.000130,\tloss_train=0.000010,\tloss_val=0.062237,\tacc_train=1.000000,\tacc_val=0.990476\n",
            "\n",
            "\n",
            "Iteration 9300:\tlearning_rate=0.000129,\tloss_train=0.000011,\tloss_val=0.055023,\tacc_train=1.000000,\tacc_val=0.990476\n",
            "\n",
            "\n",
            "Iteration 9400:\tlearning_rate=0.000127,\tloss_train=0.001363,\tloss_val=0.060808,\tacc_train=0.990000,\tacc_val=0.990476\n",
            "\n",
            "\n",
            "Iteration 9500:\tlearning_rate=0.000126,\tloss_train=0.000015,\tloss_val=0.069666,\tacc_train=1.000000,\tacc_val=0.990476\n",
            "\n",
            "\n",
            "Iteration 9600:\tlearning_rate=0.000125,\tloss_train=0.000559,\tloss_val=0.066412,\tacc_train=1.000000,\tacc_val=0.990476\n",
            "\n",
            "\n",
            "Iteration 9700:\tlearning_rate=0.000123,\tloss_train=0.000048,\tloss_val=0.049534,\tacc_train=1.000000,\tacc_val=0.990476\n",
            "\n",
            "\n",
            "Iteration 9800:\tlearning_rate=0.000122,\tloss_train=0.000039,\tloss_val=0.056987,\tacc_train=1.000000,\tacc_val=0.990476\n",
            "\n",
            "\n",
            "Iteration 9900:\tlearning_rate=0.000121,\tloss_train=0.000081,\tloss_val=0.049058,\tacc_train=1.000000,\tacc_val=0.992857\n",
            "\n",
            "\n",
            "Iteration 10000:\tlearning_rate=0.000120,\tloss_train=0.000057,\tloss_val=0.044235,\tacc_train=1.000000,\tacc_val=0.992857\n",
            "\n",
            "\n",
            "Iteration 10100:\tlearning_rate=0.000119,\tloss_train=0.000252,\tloss_val=0.047751,\tacc_train=1.000000,\tacc_val=0.992857\n",
            "\n",
            "\n",
            "Iteration 10200:\tlearning_rate=0.000118,\tloss_train=0.000002,\tloss_val=0.047568,\tacc_train=1.000000,\tacc_val=0.992857\n",
            "\n",
            "\n",
            "Iteration 10300:\tlearning_rate=0.000117,\tloss_train=0.000223,\tloss_val=0.048713,\tacc_train=1.000000,\tacc_val=0.990476\n",
            "\n",
            "\n",
            "Iteration 10400:\tlearning_rate=0.000117,\tloss_train=0.000000,\tloss_val=0.042749,\tacc_train=1.000000,\tacc_val=0.990476\n",
            "\n",
            "\n",
            "Iteration 10500:\tlearning_rate=0.000116,\tloss_train=0.000005,\tloss_val=0.038871,\tacc_train=1.000000,\tacc_val=0.992857\n",
            "\n",
            "\n",
            "Iteration 10600:\tlearning_rate=0.000115,\tloss_train=0.000074,\tloss_val=0.030597,\tacc_train=1.000000,\tacc_val=0.992857\n",
            "\n",
            "\n",
            "Iteration 10700:\tlearning_rate=0.000114,\tloss_train=0.000003,\tloss_val=0.041348,\tacc_train=1.000000,\tacc_val=0.992857\n",
            "\n",
            "\n",
            "Iteration 10800:\tlearning_rate=0.000114,\tloss_train=0.000746,\tloss_val=0.034549,\tacc_train=1.000000,\tacc_val=0.992857\n",
            "\n",
            "\n",
            "Iteration 10900:\tlearning_rate=0.000113,\tloss_train=0.000008,\tloss_val=0.032043,\tacc_train=1.000000,\tacc_val=0.992857\n",
            "\n",
            "\n",
            "Iteration 11000:\tlearning_rate=0.000112,\tloss_train=0.000000,\tloss_val=0.033110,\tacc_train=1.000000,\tacc_val=0.992857\n",
            "\n",
            "\n",
            "Iteration 11100:\tlearning_rate=0.000112,\tloss_train=0.000002,\tloss_val=0.053547,\tacc_train=1.000000,\tacc_val=0.990476\n",
            "\n",
            "\n",
            "Iteration 11200:\tlearning_rate=0.000111,\tloss_train=0.000012,\tloss_val=0.056942,\tacc_train=1.000000,\tacc_val=0.990476\n",
            "\n",
            "\n",
            "Iteration 11300:\tlearning_rate=0.000111,\tloss_train=0.000033,\tloss_val=0.058680,\tacc_train=1.000000,\tacc_val=0.990476\n",
            "\n",
            "\n",
            "Iteration 11400:\tlearning_rate=0.000110,\tloss_train=0.000013,\tloss_val=0.059468,\tacc_train=1.000000,\tacc_val=0.990476\n",
            "\n",
            "\n",
            "Iteration 11500:\tlearning_rate=0.000110,\tloss_train=0.000600,\tloss_val=0.052409,\tacc_train=1.000000,\tacc_val=0.990476\n",
            "\n",
            "\n",
            "Iteration 11600:\tlearning_rate=0.000109,\tloss_train=0.000304,\tloss_val=0.050763,\tacc_train=1.000000,\tacc_val=0.990476\n",
            "\n",
            "\n",
            "Iteration 11700:\tlearning_rate=0.000109,\tloss_train=0.000391,\tloss_val=0.043252,\tacc_train=1.000000,\tacc_val=0.992857\n",
            "\n",
            "\n",
            "Iteration 11800:\tlearning_rate=0.000108,\tloss_train=0.000051,\tloss_val=0.043646,\tacc_train=1.000000,\tacc_val=0.990476\n",
            "\n",
            "\n",
            "Iteration 11900:\tlearning_rate=0.000108,\tloss_train=0.000001,\tloss_val=0.045690,\tacc_train=1.000000,\tacc_val=0.990476\n",
            "\n",
            "\n",
            "Iteration 12000:\tlearning_rate=0.000107,\tloss_train=0.000022,\tloss_val=0.036975,\tacc_train=1.000000,\tacc_val=0.992857\n",
            "\n",
            "\n",
            "Iteration 12100:\tlearning_rate=0.000107,\tloss_train=0.001141,\tloss_val=0.028697,\tacc_train=1.000000,\tacc_val=0.995238\n",
            "\n",
            "\n",
            "Iteration 12200:\tlearning_rate=0.000107,\tloss_train=0.002605,\tloss_val=0.037994,\tacc_train=1.000000,\tacc_val=0.990476\n",
            "\n",
            "\n",
            "Iteration 12300:\tlearning_rate=0.000106,\tloss_train=0.000231,\tloss_val=0.038053,\tacc_train=1.000000,\tacc_val=0.990476\n",
            "\n",
            "\n",
            "Iteration 12400:\tlearning_rate=0.000106,\tloss_train=0.000008,\tloss_val=0.041612,\tacc_train=1.000000,\tacc_val=0.988095\n",
            "\n",
            "\n",
            "Iteration 12500:\tlearning_rate=0.000106,\tloss_train=0.000435,\tloss_val=0.046244,\tacc_train=1.000000,\tacc_val=0.990476\n",
            "\n",
            "\n",
            "Iteration 12600:\tlearning_rate=0.000106,\tloss_train=0.000046,\tloss_val=0.046227,\tacc_train=1.000000,\tacc_val=0.988095\n",
            "\n",
            "\n",
            "Iteration 12700:\tlearning_rate=0.000105,\tloss_train=0.000006,\tloss_val=0.042901,\tacc_train=1.000000,\tacc_val=0.990476\n",
            "\n",
            "\n",
            "Iteration 12800:\tlearning_rate=0.000105,\tloss_train=0.000022,\tloss_val=0.041342,\tacc_train=1.000000,\tacc_val=0.992857\n",
            "\n",
            "\n",
            "Iteration 12900:\tlearning_rate=0.000105,\tloss_train=0.000032,\tloss_val=0.041868,\tacc_train=1.000000,\tacc_val=0.992857\n",
            "\n",
            "\n",
            "Iteration 13000:\tlearning_rate=0.000105,\tloss_train=0.000060,\tloss_val=0.041549,\tacc_train=1.000000,\tacc_val=0.990476\n",
            "\n",
            "\n",
            "Iteration 13100:\tlearning_rate=0.000104,\tloss_train=0.000057,\tloss_val=0.031410,\tacc_train=1.000000,\tacc_val=0.992857\n",
            "\n",
            "\n",
            "Iteration 13200:\tlearning_rate=0.000104,\tloss_train=0.000524,\tloss_val=0.035047,\tacc_train=1.000000,\tacc_val=0.992857\n",
            "\n",
            "\n",
            "Iteration 13300:\tlearning_rate=0.000104,\tloss_train=0.000002,\tloss_val=0.036295,\tacc_train=1.000000,\tacc_val=0.992857\n",
            "\n",
            "\n",
            "Iteration 13400:\tlearning_rate=0.000104,\tloss_train=0.000502,\tloss_val=0.042062,\tacc_train=1.000000,\tacc_val=0.992857\n",
            "\n",
            "\n",
            "Iteration 13500:\tlearning_rate=0.000104,\tloss_train=0.000056,\tloss_val=0.041174,\tacc_train=1.000000,\tacc_val=0.990476\n",
            "\n",
            "\n",
            "Iteration 13600:\tlearning_rate=0.000103,\tloss_train=0.000025,\tloss_val=0.038606,\tacc_train=1.000000,\tacc_val=0.992857\n",
            "\n",
            "\n",
            "Iteration 13700:\tlearning_rate=0.000103,\tloss_train=0.000005,\tloss_val=0.042296,\tacc_train=1.000000,\tacc_val=0.992857\n",
            "\n",
            "\n",
            "Iteration 13800:\tlearning_rate=0.000103,\tloss_train=0.000003,\tloss_val=0.045483,\tacc_train=1.000000,\tacc_val=0.992857\n",
            "\n",
            "\n",
            "Iteration 13900:\tlearning_rate=0.000103,\tloss_train=0.000003,\tloss_val=0.047729,\tacc_train=1.000000,\tacc_val=0.992857\n",
            "\n",
            "\n",
            "Iteration 14000:\tlearning_rate=0.000103,\tloss_train=0.000010,\tloss_val=0.047209,\tacc_train=1.000000,\tacc_val=0.992857\n",
            "\n",
            "\n",
            "Iteration 14100:\tlearning_rate=0.000103,\tloss_train=0.000014,\tloss_val=0.045859,\tacc_train=1.000000,\tacc_val=0.992857\n",
            "\n",
            "\n",
            "Iteration 14200:\tlearning_rate=0.000102,\tloss_train=0.000199,\tloss_val=0.050122,\tacc_train=1.000000,\tacc_val=0.992857\n",
            "\n",
            "\n",
            "Iteration 14300:\tlearning_rate=0.000102,\tloss_train=0.000343,\tloss_val=0.041970,\tacc_train=1.000000,\tacc_val=0.992857\n",
            "\n",
            "\n",
            "Iteration 14400:\tlearning_rate=0.000102,\tloss_train=0.000013,\tloss_val=0.042751,\tacc_train=1.000000,\tacc_val=0.992857\n",
            "\n",
            "\n",
            "Iteration 14500:\tlearning_rate=0.000102,\tloss_train=0.000017,\tloss_val=0.047536,\tacc_train=1.000000,\tacc_val=0.992857\n",
            "\n",
            "\n",
            "Iteration 14600:\tlearning_rate=0.000102,\tloss_train=0.001420,\tloss_val=0.038829,\tacc_train=1.000000,\tacc_val=0.992857\n",
            "\n",
            "\n",
            "Iteration 14700:\tlearning_rate=0.000102,\tloss_train=0.000053,\tloss_val=0.042733,\tacc_train=1.000000,\tacc_val=0.992857\n",
            "\n",
            "\n",
            "Iteration 14800:\tlearning_rate=0.000102,\tloss_train=0.000122,\tloss_val=0.036415,\tacc_train=1.000000,\tacc_val=0.992857\n",
            "\n",
            "\n",
            "Iteration 14900:\tlearning_rate=0.000102,\tloss_train=0.000097,\tloss_val=0.034187,\tacc_train=1.000000,\tacc_val=0.992857\n",
            "\n",
            "\n",
            "Iteration 15000:\tlearning_rate=0.000102,\tloss_train=0.000019,\tloss_val=0.036098,\tacc_train=1.000000,\tacc_val=0.992857\n",
            "\n",
            "\n",
            "Iteration 15100:\tlearning_rate=0.000102,\tloss_train=0.000010,\tloss_val=0.053080,\tacc_train=1.000000,\tacc_val=0.995238\n",
            "\n",
            "\n",
            "Iteration 15200:\tlearning_rate=0.000102,\tloss_train=0.000594,\tloss_val=0.047981,\tacc_train=1.000000,\tacc_val=0.995238\n",
            "\n",
            "\n",
            "Iteration 15300:\tlearning_rate=0.000101,\tloss_train=0.000234,\tloss_val=0.046626,\tacc_train=1.000000,\tacc_val=0.990476\n",
            "\n",
            "\n",
            "Iteration 15400:\tlearning_rate=0.000101,\tloss_train=0.000383,\tloss_val=0.048023,\tacc_train=1.000000,\tacc_val=0.990476\n",
            "\n",
            "\n",
            "Iteration 15500:\tlearning_rate=0.000101,\tloss_train=0.000006,\tloss_val=0.052817,\tacc_train=1.000000,\tacc_val=0.990476\n",
            "\n",
            "\n",
            "Iteration 15600:\tlearning_rate=0.000101,\tloss_train=0.006560,\tloss_val=0.060489,\tacc_train=0.990000,\tacc_val=0.990476\n",
            "\n",
            "\n",
            "Iteration 15700:\tlearning_rate=0.000101,\tloss_train=0.000015,\tloss_val=0.044697,\tacc_train=1.000000,\tacc_val=0.992857\n",
            "\n",
            "\n",
            "Iteration 15800:\tlearning_rate=0.000101,\tloss_train=0.000000,\tloss_val=0.040762,\tacc_train=1.000000,\tacc_val=0.992857\n",
            "\n",
            "\n",
            "Iteration 15900:\tlearning_rate=0.000101,\tloss_train=0.000000,\tloss_val=0.040853,\tacc_train=1.000000,\tacc_val=0.992857\n",
            "\n",
            "\n",
            "Iteration 16000:\tlearning_rate=0.000101,\tloss_train=0.000048,\tloss_val=0.040024,\tacc_train=1.000000,\tacc_val=0.995238\n",
            "\n",
            "\n",
            "Iteration 16100:\tlearning_rate=0.000101,\tloss_train=0.000001,\tloss_val=0.041087,\tacc_train=1.000000,\tacc_val=0.995238\n",
            "\n",
            "\n",
            "Iteration 16200:\tlearning_rate=0.000101,\tloss_train=0.000482,\tloss_val=0.047162,\tacc_train=1.000000,\tacc_val=0.990476\n",
            "\n",
            "\n",
            "Iteration 16300:\tlearning_rate=0.000101,\tloss_train=0.000048,\tloss_val=0.038735,\tacc_train=1.000000,\tacc_val=0.992857\n",
            "\n",
            "\n",
            "Iteration 16400:\tlearning_rate=0.000101,\tloss_train=0.000004,\tloss_val=0.040919,\tacc_train=1.000000,\tacc_val=0.992857\n",
            "\n",
            "\n",
            "Iteration 16500:\tlearning_rate=0.000101,\tloss_train=0.000111,\tloss_val=0.028003,\tacc_train=1.000000,\tacc_val=0.990476\n",
            "\n",
            "\n",
            "Iteration 16600:\tlearning_rate=0.000101,\tloss_train=0.000004,\tloss_val=0.026905,\tacc_train=1.000000,\tacc_val=0.990476\n",
            "\n",
            "\n",
            "Iteration 16700:\tlearning_rate=0.000101,\tloss_train=0.000041,\tloss_val=0.018132,\tacc_train=1.000000,\tacc_val=0.992857\n",
            "\n",
            "\n",
            "Iteration 16800:\tlearning_rate=0.000101,\tloss_train=0.000007,\tloss_val=0.019089,\tacc_train=1.000000,\tacc_val=0.995238\n",
            "\n",
            "\n",
            "Iteration 16900:\tlearning_rate=0.000101,\tloss_train=0.000041,\tloss_val=0.024353,\tacc_train=1.000000,\tacc_val=0.992857\n",
            "\n",
            "\n",
            "Iteration 17000:\tlearning_rate=0.000101,\tloss_train=0.000008,\tloss_val=0.021087,\tacc_train=1.000000,\tacc_val=0.992857\n",
            "\n",
            "\n",
            "Iteration 17100:\tlearning_rate=0.000101,\tloss_train=0.000031,\tloss_val=0.019918,\tacc_train=1.000000,\tacc_val=0.992857\n",
            "\n",
            "\n",
            "Iteration 17200:\tlearning_rate=0.000101,\tloss_train=0.000012,\tloss_val=0.021076,\tacc_train=1.000000,\tacc_val=0.992857\n",
            "\n",
            "\n",
            "Iteration 17300:\tlearning_rate=0.000101,\tloss_train=0.004532,\tloss_val=0.034122,\tacc_train=0.990000,\tacc_val=0.992857\n",
            "\n",
            "\n",
            "Iteration 17400:\tlearning_rate=0.000100,\tloss_train=0.000005,\tloss_val=0.033327,\tacc_train=1.000000,\tacc_val=0.992857\n",
            "\n",
            "\n",
            "Iteration 17500:\tlearning_rate=0.000100,\tloss_train=0.000002,\tloss_val=0.035994,\tacc_train=1.000000,\tacc_val=0.992857\n",
            "\n",
            "\n",
            "Iteration 17600:\tlearning_rate=0.000100,\tloss_train=0.000011,\tloss_val=0.035315,\tacc_train=1.000000,\tacc_val=0.992857\n",
            "\n",
            "\n",
            "Iteration 17700:\tlearning_rate=0.000100,\tloss_train=0.000013,\tloss_val=0.049643,\tacc_train=1.000000,\tacc_val=0.992857\n",
            "\n",
            "\n",
            "Iteration 17800:\tlearning_rate=0.000100,\tloss_train=0.000011,\tloss_val=0.055924,\tacc_train=1.000000,\tacc_val=0.992857\n",
            "\n",
            "\n",
            "Iteration 17900:\tlearning_rate=0.000100,\tloss_train=0.000070,\tloss_val=0.053377,\tacc_train=1.000000,\tacc_val=0.992857\n",
            "\n",
            "\n",
            "Iteration 18000:\tlearning_rate=0.000100,\tloss_train=0.000005,\tloss_val=0.054083,\tacc_train=1.000000,\tacc_val=0.992857\n",
            "\n",
            "\n",
            "Iteration 18100:\tlearning_rate=0.000100,\tloss_train=0.000000,\tloss_val=0.049477,\tacc_train=1.000000,\tacc_val=0.992857\n",
            "\n",
            "\n",
            "Iteration 18200:\tlearning_rate=0.000100,\tloss_train=0.000001,\tloss_val=0.048280,\tacc_train=1.000000,\tacc_val=0.992857\n",
            "\n",
            "\n",
            "Iteration 18300:\tlearning_rate=0.000100,\tloss_train=0.000000,\tloss_val=0.050973,\tacc_train=1.000000,\tacc_val=0.992857\n",
            "\n",
            "\n",
            "Iteration 18400:\tlearning_rate=0.000100,\tloss_train=0.002151,\tloss_val=0.050878,\tacc_train=1.000000,\tacc_val=0.992857\n",
            "\n",
            "\n",
            "Iteration 18500:\tlearning_rate=0.000100,\tloss_train=0.004797,\tloss_val=0.060612,\tacc_train=1.000000,\tacc_val=0.992857\n",
            "\n",
            "\n",
            "Iteration 18600:\tlearning_rate=0.000100,\tloss_train=0.001980,\tloss_val=0.051940,\tacc_train=1.000000,\tacc_val=0.992857\n",
            "\n",
            "\n",
            "Iteration 18700:\tlearning_rate=0.000100,\tloss_train=0.000092,\tloss_val=0.037035,\tacc_train=1.000000,\tacc_val=0.992857\n",
            "\n",
            "\n",
            "Iteration 18800:\tlearning_rate=0.000100,\tloss_train=0.000000,\tloss_val=0.036092,\tacc_train=1.000000,\tacc_val=0.992857\n",
            "\n",
            "\n",
            "Iteration 18900:\tlearning_rate=0.000100,\tloss_train=0.000002,\tloss_val=0.036987,\tacc_train=1.000000,\tacc_val=0.992857\n",
            "\n",
            "\n",
            "Iteration 19000:\tlearning_rate=0.000100,\tloss_train=0.000039,\tloss_val=0.035656,\tacc_train=1.000000,\tacc_val=0.992857\n",
            "\n",
            "\n",
            "Iteration 19100:\tlearning_rate=0.000100,\tloss_train=0.022560,\tloss_val=0.030500,\tacc_train=1.000000,\tacc_val=0.992857\n",
            "\n",
            "\n",
            "Iteration 19200:\tlearning_rate=0.000100,\tloss_train=0.000002,\tloss_val=0.046482,\tacc_train=1.000000,\tacc_val=0.988095\n",
            "\n",
            "\n",
            "Iteration 19300:\tlearning_rate=0.000100,\tloss_train=0.000039,\tloss_val=0.055406,\tacc_train=1.000000,\tacc_val=0.988095\n",
            "\n",
            "\n",
            "Iteration 19400:\tlearning_rate=0.000100,\tloss_train=0.000081,\tloss_val=0.041961,\tacc_train=1.000000,\tacc_val=0.990476\n",
            "\n",
            "\n",
            "Iteration 19500:\tlearning_rate=0.000100,\tloss_train=0.000001,\tloss_val=0.042968,\tacc_train=1.000000,\tacc_val=0.988095\n",
            "\n",
            "\n",
            "Iteration 19600:\tlearning_rate=0.000100,\tloss_train=0.000026,\tloss_val=0.034487,\tacc_train=1.000000,\tacc_val=0.990476\n",
            "\n",
            "\n",
            "Iteration 19700:\tlearning_rate=0.000100,\tloss_train=0.000002,\tloss_val=0.035798,\tacc_train=1.000000,\tacc_val=0.990476\n",
            "\n",
            "\n",
            "Iteration 19800:\tlearning_rate=0.000100,\tloss_train=0.000000,\tloss_val=0.039822,\tacc_train=1.000000,\tacc_val=0.992857\n",
            "\n",
            "\n",
            "Iteration 19900:\tlearning_rate=0.000100,\tloss_train=0.000042,\tloss_val=0.041927,\tacc_train=1.000000,\tacc_val=0.990476\n",
            "\n",
            "\n"
          ],
          "name": "stdout"
        }
      ]
    },
    {
      "cell_type": "code",
      "metadata": {
        "id": "s5rC6lSIAR-P",
        "colab_type": "code",
        "outputId": "1c59d87f-9158-4a6d-8f25-151c9890c407",
        "colab": {
          "base_uri": "https://localhost:8080/",
          "height": 282
        }
      },
      "source": [
        "plt.plot(history['acc_train'],'b')\n",
        "plt.plot(history['acc_val'],'r')"
      ],
      "execution_count": 0,
      "outputs": [
        {
          "output_type": "execute_result",
          "data": {
            "text/plain": [
              "[<matplotlib.lines.Line2D at 0x7f18508a9748>]"
            ]
          },
          "metadata": {
            "tags": []
          },
          "execution_count": 23
        },
        {
          "output_type": "display_data",
          "data": {
            "image/png": "[encoded data removed]",
            "text/plain": [
              "<Figure size 432x288 with 1 Axes>"
            ]
          },
          "metadata": {
            "tags": []
          }
        }
      ]
    },
    {
      "cell_type": "code",
      "metadata": {
        "id": "tkToA3CjBxJe",
        "colab_type": "code",
        "outputId": "b0930a09-31e6-4eeb-b099-035d807097dc",
        "colab": {
          "base_uri": "https://localhost:8080/",
          "height": 282
        }
      },
      "source": [
        "plt.plot(history['loss_train'],'b')\n",
        "plt.plot(history['loss_val'],'r')"
      ],
      "execution_count": 0,
      "outputs": [
        {
          "output_type": "execute_result",
          "data": {
            "text/plain": [
              "[<matplotlib.lines.Line2D at 0x7f1844035358>]"
            ]
          },
          "metadata": {
            "tags": []
          },
          "execution_count": 24
        },
        {
          "output_type": "display_data",
          "data": {
            "image/png": "[encoded data removed]",
            "text/plain": [
              "<Figure size 432x288 with 1 Axes>"
            ]
          },
          "metadata": {
            "tags": []
          }
        }
      ]
    },
    {
      "cell_type": "code",
      "metadata": {
        "id": "NJPdR4IFb-uc",
        "colab_type": "code",
        "outputId": "4409d520-8b2b-42fa-a9ac-61875d25abdf",
        "colab": {
          "base_uri": "https://localhost:8080/",
          "height": 282
        }
      },
      "source": [
        "plt.plot(history['learning_rate'])"
      ],
      "execution_count": 0,
      "outputs": [
        {
          "output_type": "execute_result",
          "data": {
            "text/plain": [
              "[<matplotlib.lines.Line2D at 0x7f1843f6c550>]"
            ]
          },
          "metadata": {
            "tags": []
          },
          "execution_count": 25
        },
        {
          "output_type": "display_data",
          "data": {
            "image/png": "[encoded data removed]",
            "text/plain": [
              "<Figure size 432x288 with 1 Axes>"
            ]
          },
          "metadata": {
            "tags": []
          }
        }
      ]
    },
    {
      "cell_type": "markdown",
      "metadata": {
        "id": "X9uiFJ-ogBRi",
        "colab_type": "text"
      },
      "source": [
        "### Loading a Model"
      ]
    },
    {
      "cell_type": "code",
      "metadata": {
        "id": "Doot7_0fY5tF",
        "colab_type": "code",
        "colab": {}
      },
      "source": [
        "unlabeled_images_test = pd.read_csv('gdrive/My Drive/dataML/test.csv')\n",
        "#unlabeled_images_test = pd.read_csv('test.csv')\n",
        "\n",
        "X_unlabeled = unlabeled_images_test.values.reshape(unlabeled_images_test.shape[0],28,28,1)/255"
      ],
      "execution_count": 0,
      "outputs": []
    },
    {
      "cell_type": "code",
      "metadata": {
        "id": "dbtjpi8JgBRj",
        "colab_type": "code",
        "outputId": "ee65fc89-ef7e-4b99-b2bb-4d24d4e518c3",
        "colab": {
          "base_uri": "https://localhost:8080/",
          "height": 34
        }
      },
      "source": [
        "with tf.Session() as sess:\n",
        "    \n",
        "    # Restore the model\n",
        "    saver.restore(sess, 'models_saving/my_model.ckpt')\n",
        "    \n",
        "\n",
        "    # Fetch Back Results\n",
        "    label = sess.run(Y, feed_dict={X:X_unlabeled,drop_rate:0})"
      ],
      "execution_count": 0,
      "outputs": [
        {
          "output_type": "stream",
          "text": [
            "INFO:tensorflow:Restoring parameters from models_saving/my_model.ckpt\n"
          ],
          "name": "stdout"
        }
      ]
    },
    {
      "cell_type": "code",
      "metadata": {
        "id": "MZ1xS7oJZYkV",
        "colab_type": "code",
        "outputId": "6d483b80-a575-49e8-ce54-db9c91392100",
        "colab": {
          "base_uri": "https://localhost:8080/",
          "height": 34
        }
      },
      "source": [
        "label"
      ],
      "execution_count": 0,
      "outputs": [
        {
          "output_type": "execute_result",
          "data": {
            "text/plain": [
              "array([2, 0, 9, ..., 3, 9, 2])"
            ]
          },
          "metadata": {
            "tags": []
          },
          "execution_count": 74
        }
      ]
    },
    {
      "cell_type": "markdown",
      "metadata": {
        "id": "ojRKNc76gBRx",
        "colab_type": "text"
      },
      "source": [
        "## Predict the unlabeled test sets using the model"
      ]
    },
    {
      "cell_type": "code",
      "metadata": {
        "id": "yQrGiou8gBRy",
        "colab_type": "code",
        "colab": {}
      },
      "source": [
        "imageId = np.arange(1,label.shape[0]+1).tolist()"
      ],
      "execution_count": 0,
      "outputs": []
    },
    {
      "cell_type": "code",
      "metadata": {
        "id": "9Oj02pY3gBR1",
        "colab_type": "code",
        "colab": {}
      },
      "source": [
        "prediction_pd = pd.DataFrame({'ImageId':imageId, 'Label':label})"
      ],
      "execution_count": 0,
      "outputs": []
    },
    {
      "cell_type": "code",
      "metadata": {
        "id": "VLjMgeXEgBR4",
        "colab_type": "code",
        "colab": {}
      },
      "source": [
        "prediction_pd.to_csv('gdrive/My Drive/dataML/out_cnn4.csv',sep = ',', index = False)"
      ],
      "execution_count": 0,
      "outputs": []
    },
    {
      "cell_type": "code",
      "metadata": {
        "id": "ivz_HMLnZ684",
        "colab_type": "code",
        "colab": {}
      },
      "source": [
        ""
      ],
      "execution_count": 0,
      "outputs": []
    }
  ]
}