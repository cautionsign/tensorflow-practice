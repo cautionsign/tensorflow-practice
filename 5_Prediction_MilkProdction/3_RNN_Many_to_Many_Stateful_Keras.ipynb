{
 "cells": [
  {
   "cell_type": "markdown",
   "metadata": {
    "colab_type": "text",
    "id": "qlseAUvJJDXM"
   },
   "source": [
    "## The Data\n",
    "\n",
    "** Source: https://datamarket.com/data/set/22ox/monthly-milk-production-pounds-per-cow-jan-62-dec-75#!ds=22ox&display=line **\n",
    "\n",
    "**Monthly milk production: pounds per cow. Jan 62 - Dec 75**"
   ]
  },
  {
   "cell_type": "markdown",
   "metadata": {
    "colab_type": "text",
    "id": "5WTUlbh4JDXN"
   },
   "source": [
    "** Import numpy pandas and matplotlib **"
   ]
  },
  {
   "cell_type": "code",
   "execution_count": 0,
   "metadata": {
    "colab": {},
    "colab_type": "code",
    "id": "Xg2peEzGJDXO"
   },
   "outputs": [],
   "source": [
    "import numpy as np\n",
    "import pandas as pd\n",
    "import matplotlib.pyplot as plt\n",
    "%matplotlib inline"
   ]
  },
  {
   "cell_type": "markdown",
   "metadata": {
    "colab_type": "text",
    "id": "hBtEtgN6JDXS"
   },
   "source": [
    "** Use pandas to read the csv of the monthly-milk-production.csv file and set index_col='Month' **"
   ]
  },
  {
   "cell_type": "code",
   "execution_count": 0,
   "metadata": {
    "colab": {
     "base_uri": "https://localhost:8080/",
     "height": 54
    },
    "colab_type": "code",
    "id": "FPJdTW0TJcMA",
    "outputId": "787910c9-8137-4f65-bc4a-1295e793ce81"
   },
   "outputs": [
    {
     "name": "stdout",
     "output_type": "stream",
     "text": [
      "Drive already mounted at /content/gdrive; to attempt to forcibly remount, call drive.mount(\"/content/gdrive\", force_remount=True).\n"
     ]
    }
   ],
   "source": [
    "from google.colab import drive \n",
    "drive.mount('/content/gdrive')"
   ]
  },
  {
   "cell_type": "code",
   "execution_count": 0,
   "metadata": {
    "colab": {},
    "colab_type": "code",
    "id": "nArYXHMPJDXT"
   },
   "outputs": [],
   "source": [
    "milk = pd.read_csv(\"gdrive/My Drive/dataML/monthly-milk-production.csv\",index_col='Month')\n",
    "\n",
    "#milk = pd.read_csv(\"monthly-milk-production.csv\",index_col='Month')"
   ]
  },
  {
   "cell_type": "code",
   "execution_count": 0,
   "metadata": {
    "colab": {
     "base_uri": "https://localhost:8080/",
     "height": 235
    },
    "colab_type": "code",
    "id": "RYvb00fEJDXW",
    "outputId": "d108e603-eb49-47de-da17-95bef20f46dd"
   },
   "outputs": [
    {
     "data": {
      "text/html": [
       "<div>\n",
       "<style scoped>\n",
       "    .dataframe tbody tr th:only-of-type {\n",
       "        vertical-align: middle;\n",
       "    }\n",
       "\n",
       "    .dataframe tbody tr th {\n",
       "        vertical-align: top;\n",
       "    }\n",
       "\n",
       "    .dataframe thead th {\n",
       "        text-align: right;\n",
       "    }\n",
       "</style>\n",
       "<table border=\"1\" class=\"dataframe\">\n",
       "  <thead>\n",
       "    <tr style=\"text-align: right;\">\n",
       "      <th></th>\n",
       "      <th>Milk Production</th>\n",
       "    </tr>\n",
       "    <tr>\n",
       "      <th>Month</th>\n",
       "      <th></th>\n",
       "    </tr>\n",
       "  </thead>\n",
       "  <tbody>\n",
       "    <tr>\n",
       "      <th>1962-01-01 01:00:00</th>\n",
       "      <td>589.0</td>\n",
       "    </tr>\n",
       "    <tr>\n",
       "      <th>1962-02-01 01:00:00</th>\n",
       "      <td>561.0</td>\n",
       "    </tr>\n",
       "    <tr>\n",
       "      <th>1962-03-01 01:00:00</th>\n",
       "      <td>640.0</td>\n",
       "    </tr>\n",
       "    <tr>\n",
       "      <th>1962-04-01 01:00:00</th>\n",
       "      <td>656.0</td>\n",
       "    </tr>\n",
       "    <tr>\n",
       "      <th>1962-05-01 01:00:00</th>\n",
       "      <td>727.0</td>\n",
       "    </tr>\n",
       "  </tbody>\n",
       "</table>\n",
       "</div>"
      ],
      "text/plain": [
       "                     Milk Production\n",
       "Month                               \n",
       "1962-01-01 01:00:00            589.0\n",
       "1962-02-01 01:00:00            561.0\n",
       "1962-03-01 01:00:00            640.0\n",
       "1962-04-01 01:00:00            656.0\n",
       "1962-05-01 01:00:00            727.0"
      ]
     },
     "execution_count": 4,
     "metadata": {
      "tags": []
     },
     "output_type": "execute_result"
    }
   ],
   "source": [
    "milk.head()"
   ]
  },
  {
   "cell_type": "markdown",
   "metadata": {
    "colab_type": "text",
    "id": "qd6qU_zOJDXb"
   },
   "source": [
    "** Check out the head of the dataframe**"
   ]
  },
  {
   "cell_type": "markdown",
   "metadata": {
    "colab_type": "text",
    "id": "Z0aPxAkWJDXg"
   },
   "source": [
    "** Make the index a time series by using: **\n",
    "\n",
    "    milk.index = pd.to_datetime(milk.index)"
   ]
  },
  {
   "cell_type": "code",
   "execution_count": 0,
   "metadata": {
    "colab": {},
    "colab_type": "code",
    "id": "ej2PnSz7JDXh"
   },
   "outputs": [],
   "source": [
    "milk.index = pd.to_datetime(milk.index)"
   ]
  },
  {
   "cell_type": "code",
   "execution_count": 0,
   "metadata": {
    "colab": {
     "base_uri": "https://localhost:8080/",
     "height": 235
    },
    "colab_type": "code",
    "id": "TuNcJhMoJDXj",
    "outputId": "3ebdeb74-d924-45c5-dec4-807a7adec1da"
   },
   "outputs": [
    {
     "data": {
      "text/html": [
       "<div>\n",
       "<style scoped>\n",
       "    .dataframe tbody tr th:only-of-type {\n",
       "        vertical-align: middle;\n",
       "    }\n",
       "\n",
       "    .dataframe tbody tr th {\n",
       "        vertical-align: top;\n",
       "    }\n",
       "\n",
       "    .dataframe thead th {\n",
       "        text-align: right;\n",
       "    }\n",
       "</style>\n",
       "<table border=\"1\" class=\"dataframe\">\n",
       "  <thead>\n",
       "    <tr style=\"text-align: right;\">\n",
       "      <th></th>\n",
       "      <th>Milk Production</th>\n",
       "    </tr>\n",
       "    <tr>\n",
       "      <th>Month</th>\n",
       "      <th></th>\n",
       "    </tr>\n",
       "  </thead>\n",
       "  <tbody>\n",
       "    <tr>\n",
       "      <th>1962-01-01 01:00:00</th>\n",
       "      <td>589.0</td>\n",
       "    </tr>\n",
       "    <tr>\n",
       "      <th>1962-02-01 01:00:00</th>\n",
       "      <td>561.0</td>\n",
       "    </tr>\n",
       "    <tr>\n",
       "      <th>1962-03-01 01:00:00</th>\n",
       "      <td>640.0</td>\n",
       "    </tr>\n",
       "    <tr>\n",
       "      <th>1962-04-01 01:00:00</th>\n",
       "      <td>656.0</td>\n",
       "    </tr>\n",
       "    <tr>\n",
       "      <th>1962-05-01 01:00:00</th>\n",
       "      <td>727.0</td>\n",
       "    </tr>\n",
       "  </tbody>\n",
       "</table>\n",
       "</div>"
      ],
      "text/plain": [
       "                     Milk Production\n",
       "Month                               \n",
       "1962-01-01 01:00:00            589.0\n",
       "1962-02-01 01:00:00            561.0\n",
       "1962-03-01 01:00:00            640.0\n",
       "1962-04-01 01:00:00            656.0\n",
       "1962-05-01 01:00:00            727.0"
      ]
     },
     "execution_count": 6,
     "metadata": {
      "tags": []
     },
     "output_type": "execute_result"
    }
   ],
   "source": [
    "milk.head()"
   ]
  },
  {
   "cell_type": "code",
   "execution_count": 0,
   "metadata": {
    "colab": {
     "base_uri": "https://localhost:8080/",
     "height": 34
    },
    "colab_type": "code",
    "id": "-rgkKTs6JDXn",
    "outputId": "bf0fca39-729a-43e0-cc9e-b198fb9c4d1f"
   },
   "outputs": [
    {
     "data": {
      "text/plain": [
       "Index(['Milk Production'], dtype='object')"
      ]
     },
     "execution_count": 7,
     "metadata": {
      "tags": []
     },
     "output_type": "execute_result"
    }
   ],
   "source": [
    "milk.keys()"
   ]
  },
  {
   "cell_type": "markdown",
   "metadata": {
    "colab_type": "text",
    "id": "z8Hk38WeJDXq"
   },
   "source": [
    "** Plot out the time series data. **"
   ]
  },
  {
   "cell_type": "code",
   "execution_count": 0,
   "metadata": {
    "colab": {
     "base_uri": "https://localhost:8080/",
     "height": 290
    },
    "colab_type": "code",
    "id": "qXNiSsZUJDXq",
    "outputId": "7197a065-660d-457c-aae7-442372e35cf1"
   },
   "outputs": [
    {
     "data": {
      "text/plain": [
       "<matplotlib.axes._subplots.AxesSubplot at 0x7f64b32bb1d0>"
      ]
     },
     "execution_count": 8,
     "metadata": {
      "tags": []
     },
     "output_type": "execute_result"
    },
    {
     "data": {
      "image/png": "[encoded data removed]",
      "text/plain": [
       "<Figure size 432x288 with 1 Axes>"
      ]
     },
     "metadata": {
      "tags": []
     },
     "output_type": "display_data"
    }
   ],
   "source": [
    "milk.plot()"
   ]
  },
  {
   "cell_type": "markdown",
   "metadata": {
    "colab_type": "text",
    "id": "Fxbb9fhP1rsU"
   },
   "source": [
    "### Train Test Split\n",
    "\n",
    "** Let's attempt to predict a year's worth of data. (12 months or 12 steps into the future) **\n"
   ]
  },
  {
   "cell_type": "code",
   "execution_count": 0,
   "metadata": {
    "colab": {
     "base_uri": "https://localhost:8080/",
     "height": 119
    },
    "colab_type": "code",
    "id": "TSYpC-nu1rsW",
    "outputId": "aca7fe1e-412f-4753-9488-2e3c20ad4c87"
   },
   "outputs": [
    {
     "name": "stdout",
     "output_type": "stream",
     "text": [
      "<class 'pandas.core.frame.DataFrame'>\n",
      "DatetimeIndex: 168 entries, 1962-01-01 01:00:00 to 1975-12-01 01:00:00\n",
      "Data columns (total 1 columns):\n",
      "Milk Production    168 non-null float64\n",
      "dtypes: float64(1)\n",
      "memory usage: 2.6 KB\n"
     ]
    }
   ],
   "source": [
    "milk.info()"
   ]
  },
  {
   "cell_type": "code",
   "execution_count": 0,
   "metadata": {
    "colab": {
     "base_uri": "https://localhost:8080/",
     "height": 34
    },
    "colab_type": "code",
    "id": "00vc2Jms1rsc",
    "outputId": "d7561011-3b10-4de6-f3ca-b69de5991200"
   },
   "outputs": [
    {
     "data": {
      "text/plain": [
       "168"
      ]
     },
     "execution_count": 10,
     "metadata": {
      "tags": []
     },
     "output_type": "execute_result"
    }
   ],
   "source": [
    "len(milk)"
   ]
  },
  {
   "cell_type": "code",
   "execution_count": 0,
   "metadata": {
    "colab": {},
    "colab_type": "code",
    "id": "F_PjB7rq1rsf"
   },
   "outputs": [],
   "source": [
    "train_set= milk.head((1976-1962-1)*12)"
   ]
  },
  {
   "cell_type": "code",
   "execution_count": 0,
   "metadata": {
    "colab": {},
    "colab_type": "code",
    "id": "C6632CCp1rsi"
   },
   "outputs": [],
   "source": [
    "test_set = milk.tail(12)"
   ]
  },
  {
   "cell_type": "markdown",
   "metadata": {
    "colab_type": "text",
    "id": "_9PtX6Um1rsl"
   },
   "source": [
    "### Scale the Data\n",
    "\n",
    "** Use sklearn.preprocessing to scale the data using the MinMaxScaler. Remember to only fit_transform on the training data, then transform the test data. You shouldn't fit on the test data as well, otherwise you are assuming you would know about future behavior!**"
   ]
  },
  {
   "cell_type": "code",
   "execution_count": 0,
   "metadata": {
    "colab": {},
    "colab_type": "code",
    "id": "czuAVyRj1rsl"
   },
   "outputs": [],
   "source": [
    "from sklearn.preprocessing import MinMaxScaler"
   ]
  },
  {
   "cell_type": "code",
   "execution_count": 0,
   "metadata": {
    "colab": {},
    "colab_type": "code",
    "id": "UFn7xXzj1rsp"
   },
   "outputs": [],
   "source": [
    "scaler = MinMaxScaler()"
   ]
  },
  {
   "cell_type": "code",
   "execution_count": 0,
   "metadata": {
    "colab": {},
    "colab_type": "code",
    "id": "hu0-OYDX1rsq"
   },
   "outputs": [],
   "source": [
    "train_scaled = scaler.fit_transform(train_set)"
   ]
  },
  {
   "cell_type": "code",
   "execution_count": 0,
   "metadata": {
    "colab": {},
    "colab_type": "code",
    "id": "O2uDgWsI1rsu"
   },
   "outputs": [],
   "source": [
    "test_scaled = scaler.transform(test_set)"
   ]
  },
  {
   "cell_type": "markdown",
   "metadata": {
    "colab_type": "text",
    "id": "EiI-RuSPKC7v"
   },
   "source": [
    "## Build Training Data(many to many)\n",
    "\n",
    "* X_train: Past 12 monthes productions, shape: (-1,12)\n",
    "* Y_train: Future 12 month productions, shape:(-1, 12) \n",
    "* Shift the window to get more trainning data"
   ]
  },
  {
   "cell_type": "code",
   "execution_count": 0,
   "metadata": {
    "colab": {},
    "colab_type": "code",
    "id": "6YaF3wjKKB4Y"
   },
   "outputs": [],
   "source": [
    "def build_train_data(data, past_monthes = 12, future_monthes = 12):\n",
    "  X_train, Y_train = [],[]\n",
    "  \n",
    "  for i in range(data.shape[0] + 1 - past_monthes - future_monthes):\n",
    "    X_train.append(np.array(data[i:i + past_monthes]))\n",
    "    Y_train.append(np.array(data[i + past_monthes:i + past_monthes + future_monthes]))\n",
    "    \n",
    "  return np.array(X_train).reshape([-1,12]), np.array(Y_train).reshape([-1,12])\n",
    "   "
   ]
  },
  {
   "cell_type": "code",
   "execution_count": 0,
   "metadata": {
    "colab": {},
    "colab_type": "code",
    "id": "t_z8xNdaQjvH"
   },
   "outputs": [],
   "source": [
    "x, y = build_train_data(train_scaled)"
   ]
  },
  {
   "cell_type": "code",
   "execution_count": 0,
   "metadata": {
    "colab": {
     "base_uri": "https://localhost:8080/",
     "height": 34
    },
    "colab_type": "code",
    "id": "DiLmBOy4Qq3j",
    "outputId": "4dcf70c3-8d63-4e4c-b4fa-b861e86afc61"
   },
   "outputs": [
    {
     "name": "stdout",
     "output_type": "stream",
     "text": [
      "x shape; (132, 12) y shape:  (132, 12)\n"
     ]
    }
   ],
   "source": [
    "print('x shape;', x.shape, 'y shape: ', y.shape)"
   ]
  },
  {
   "cell_type": "markdown",
   "metadata": {
    "colab_type": "text",
    "id": "JxbPdOLds9JD"
   },
   "source": [
    "Take a look at the data"
   ]
  },
  {
   "cell_type": "code",
   "execution_count": 0,
   "metadata": {
    "colab": {
     "base_uri": "https://localhost:8080/",
     "height": 286
    },
    "colab_type": "code",
    "id": "3_tRprRSjkYY",
    "outputId": "42d53ef8-7601-490f-bdc1-00a525579c3d"
   },
   "outputs": [
    {
     "data": {
      "text/plain": [
       "[<matplotlib.lines.Line2D at 0x7f64a50b6ba8>]"
      ]
     },
     "execution_count": 20,
     "metadata": {
      "tags": []
     },
     "output_type": "execute_result"
    },
    {
     "data": {
      "image/png": "[encoded data removed]",
      "text/plain": [
       "<Figure size 432x288 with 1 Axes>"
      ]
     },
     "metadata": {
      "tags": []
     },
     "output_type": "display_data"
    }
   ],
   "source": [
    "plt.plot(x[12])\n",
    "plt.plot(y[12])"
   ]
  },
  {
   "cell_type": "markdown",
   "metadata": {
    "colab_type": "text",
    "id": "P_rsY5NQQ3op"
   },
   "source": [
    "## Keras"
   ]
  },
  {
   "cell_type": "code",
   "execution_count": 0,
   "metadata": {
    "colab": {},
    "colab_type": "code",
    "id": "1GiFVMqlQ3or"
   },
   "outputs": [],
   "source": [
    "from tensorflow.keras import layers, Sequential,models"
   ]
  },
  {
   "cell_type": "code",
   "execution_count": 0,
   "metadata": {
    "colab": {},
    "colab_type": "code",
    "id": "AsBnLuapQ3ot"
   },
   "outputs": [],
   "source": [
    "RNN_CELLSIZE = 10\n",
    "SEQLEN = 12\n",
    "BATCHSIZE = 1"
   ]
  },
  {
   "cell_type": "markdown",
   "metadata": {
    "colab_type": "text",
    "id": "j96G7Ef0k5Z-"
   },
   "source": [
    "### Build and Train the Model\n",
    "Many to Many\n",
    "Stateful is True"
   ]
  },
  {
   "cell_type": "code",
   "execution_count": 0,
   "metadata": {
    "colab": {
     "base_uri": "https://localhost:8080/",
     "height": 306
    },
    "colab_type": "code",
    "id": "vwLHV-p5k5Z0",
    "outputId": "12201115-15fc-4936-ebf1-72216353d729"
   },
   "outputs": [
    {
     "name": "stdout",
     "output_type": "stream",
     "text": [
      "_________________________________________________________________\n",
      "Layer (type)                 Output Shape              Param #   \n",
      "=================================================================\n",
      "reshape_3 (Reshape)          (1, 12, 1)                0         \n",
      "_________________________________________________________________\n",
      "gru_6 (GRU)                  (1, 12, 10)               360       \n",
      "_________________________________________________________________\n",
      "gru_7 (GRU)                  (1, 12, 10)               630       \n",
      "_________________________________________________________________\n",
      "time_distributed_3 (TimeDist (1, 12, 1)                11        \n",
      "_________________________________________________________________\n",
      "flatten_3 (Flatten)          (1, 12)                   0         \n",
      "=================================================================\n",
      "Total params: 1,001\n",
      "Trainable params: 1,001\n",
      "Non-trainable params: 0\n",
      "_________________________________________________________________\n"
     ]
    }
   ],
   "source": [
    "model_layers = [\n",
    "    layers.Reshape((SEQLEN,1),input_shape=(SEQLEN,),batch_size = BATCHSIZE),\n",
    "    layers.GRU(RNN_CELLSIZE, return_sequences=True, stateful=True),\n",
    "    layers.GRU(RNN_CELLSIZE, return_sequences=True, stateful=True),\n",
    "    layers.TimeDistributed(layers.Dense(1)),\n",
    "    layers.Flatten()\n",
    "    \n",
    "]\n",
    "model = Sequential(model_layers)\n",
    "model.summary()"
   ]
  },
  {
   "cell_type": "code",
   "execution_count": 0,
   "metadata": {
    "colab": {},
    "colab_type": "code",
    "id": "qU4zPwkzk5Zt"
   },
   "outputs": [],
   "source": [
    "model.compile(\n",
    "       loss = 'mean_squared_error',\n",
    "       optimizer = 'adam'\n",
    ")"
   ]
  },
  {
   "cell_type": "code",
   "execution_count": 0,
   "metadata": {
    "colab": {
     "base_uri": "https://localhost:8080/",
     "height": 3417
    },
    "colab_type": "code",
    "id": "6AW4Vl5-k5ZP",
    "outputId": "f73b73a3-828c-43f1-f18b-67eb82c96ad5"
   },
   "outputs": [
    {
     "name": "stdout",
     "output_type": "stream",
     "text": [
      "Epoch 1/100\n",
      "132/132 [==============================] - 7s 55ms/sample - loss: 0.0563\n",
      "Epoch 2/100\n",
      "132/132 [==============================] - 6s 47ms/sample - loss: 0.0218\n",
      "Epoch 3/100\n",
      "132/132 [==============================] - 6s 48ms/sample - loss: 0.0134\n",
      "Epoch 4/100\n",
      "132/132 [==============================] - 6s 48ms/sample - loss: 0.0068\n",
      "Epoch 5/100\n",
      "132/132 [==============================] - 6s 47ms/sample - loss: 0.0039\n",
      "Epoch 6/100\n",
      "132/132 [==============================] - 6s 48ms/sample - loss: 0.0028\n",
      "Epoch 7/100\n",
      "132/132 [==============================] - 6s 47ms/sample - loss: 0.0024\n",
      "Epoch 8/100\n",
      "132/132 [==============================] - 6s 47ms/sample - loss: 0.0021\n",
      "Epoch 9/100\n",
      "132/132 [==============================] - 6s 47ms/sample - loss: 0.0022\n",
      "Epoch 10/100\n",
      "132/132 [==============================] - 6s 48ms/sample - loss: 0.0020\n",
      "Epoch 11/100\n",
      "132/132 [==============================] - 6s 48ms/sample - loss: 0.0021\n",
      "Epoch 12/100\n",
      "132/132 [==============================] - 6s 48ms/sample - loss: 0.0019\n",
      "Epoch 13/100\n",
      "132/132 [==============================] - 6s 48ms/sample - loss: 0.0023\n",
      "Epoch 14/100\n",
      "132/132 [==============================] - 6s 48ms/sample - loss: 0.0020\n",
      "Epoch 15/100\n",
      "132/132 [==============================] - 6s 48ms/sample - loss: 0.0019\n",
      "Epoch 16/100\n",
      "132/132 [==============================] - 6s 48ms/sample - loss: 0.0021\n",
      "Epoch 17/100\n",
      "132/132 [==============================] - 6s 48ms/sample - loss: 0.0020\n",
      "Epoch 18/100\n",
      "132/132 [==============================] - 6s 48ms/sample - loss: 0.0020\n",
      "Epoch 19/100\n",
      "132/132 [==============================] - 6s 48ms/sample - loss: 0.0020\n",
      "Epoch 20/100\n",
      "132/132 [==============================] - 6s 48ms/sample - loss: 0.0019\n",
      "Epoch 21/100\n",
      "132/132 [==============================] - 6s 48ms/sample - loss: 0.0019\n",
      "Epoch 22/100\n",
      "132/132 [==============================] - 6s 48ms/sample - loss: 0.0019\n",
      "Epoch 23/100\n",
      "132/132 [==============================] - 6s 48ms/sample - loss: 0.0018\n",
      "Epoch 24/100\n",
      "132/132 [==============================] - 6s 47ms/sample - loss: 0.0018\n",
      "Epoch 25/100\n",
      "132/132 [==============================] - 6s 47ms/sample - loss: 0.0018\n",
      "Epoch 26/100\n",
      "132/132 [==============================] - 6s 47ms/sample - loss: 0.0023\n",
      "Epoch 27/100\n",
      "132/132 [==============================] - 6s 48ms/sample - loss: 0.0020\n",
      "Epoch 28/100\n",
      "132/132 [==============================] - 6s 48ms/sample - loss: 0.0020\n",
      "Epoch 29/100\n",
      "132/132 [==============================] - 6s 48ms/sample - loss: 0.0020\n",
      "Epoch 30/100\n",
      "132/132 [==============================] - 6s 47ms/sample - loss: 0.0019\n",
      "Epoch 31/100\n",
      "132/132 [==============================] - 6s 48ms/sample - loss: 0.0021\n",
      "Epoch 32/100\n",
      "132/132 [==============================] - 6s 48ms/sample - loss: 0.0017\n",
      "Epoch 33/100\n",
      "132/132 [==============================] - 6s 48ms/sample - loss: 0.0018\n",
      "Epoch 34/100\n",
      "132/132 [==============================] - 6s 47ms/sample - loss: 0.0021\n",
      "Epoch 35/100\n",
      "132/132 [==============================] - 6s 48ms/sample - loss: 0.0021\n",
      "Epoch 36/100\n",
      "132/132 [==============================] - 6s 48ms/sample - loss: 0.0018\n",
      "Epoch 37/100\n",
      "132/132 [==============================] - 6s 47ms/sample - loss: 0.0020\n",
      "Epoch 38/100\n",
      "132/132 [==============================] - 6s 47ms/sample - loss: 0.0016\n",
      "Epoch 39/100\n",
      "132/132 [==============================] - 6s 48ms/sample - loss: 0.0018\n",
      "Epoch 40/100\n",
      "132/132 [==============================] - 6s 47ms/sample - loss: 0.0017\n",
      "Epoch 41/100\n",
      "132/132 [==============================] - 6s 47ms/sample - loss: 0.0017\n",
      "Epoch 42/100\n",
      "132/132 [==============================] - 6s 47ms/sample - loss: 0.0020\n",
      "Epoch 43/100\n",
      "132/132 [==============================] - 6s 49ms/sample - loss: 0.0018\n",
      "Epoch 44/100\n",
      "132/132 [==============================] - 6s 47ms/sample - loss: 0.0017\n",
      "Epoch 45/100\n",
      "132/132 [==============================] - 6s 47ms/sample - loss: 0.0020\n",
      "Epoch 46/100\n",
      "132/132 [==============================] - 6s 48ms/sample - loss: 0.0018\n",
      "Epoch 47/100\n",
      "132/132 [==============================] - 6s 47ms/sample - loss: 0.0018\n",
      "Epoch 48/100\n",
      "132/132 [==============================] - 6s 47ms/sample - loss: 0.0017\n",
      "Epoch 49/100\n",
      "132/132 [==============================] - 6s 48ms/sample - loss: 0.0019\n",
      "Epoch 50/100\n",
      "132/132 [==============================] - 6s 48ms/sample - loss: 0.0016\n",
      "Epoch 51/100\n",
      "132/132 [==============================] - 6s 48ms/sample - loss: 0.0021\n",
      "Epoch 52/100\n",
      "132/132 [==============================] - 6s 48ms/sample - loss: 0.0019\n",
      "Epoch 53/100\n",
      "132/132 [==============================] - 6s 48ms/sample - loss: 0.0019\n",
      "Epoch 54/100\n",
      "132/132 [==============================] - 6s 48ms/sample - loss: 0.0018\n",
      "Epoch 55/100\n",
      "132/132 [==============================] - 6s 48ms/sample - loss: 0.0019\n",
      "Epoch 56/100\n",
      "132/132 [==============================] - 6s 47ms/sample - loss: 0.0018\n",
      "Epoch 57/100\n",
      "132/132 [==============================] - 6s 47ms/sample - loss: 0.0017\n",
      "Epoch 58/100\n",
      "132/132 [==============================] - 6s 49ms/sample - loss: 0.0017\n",
      "Epoch 59/100\n",
      "132/132 [==============================] - 6s 47ms/sample - loss: 0.0018\n",
      "Epoch 60/100\n",
      "132/132 [==============================] - 6s 47ms/sample - loss: 0.0017\n",
      "Epoch 61/100\n",
      "132/132 [==============================] - 6s 48ms/sample - loss: 0.0016\n",
      "Epoch 62/100\n",
      "132/132 [==============================] - 6s 48ms/sample - loss: 0.0018\n",
      "Epoch 63/100\n",
      "132/132 [==============================] - 6s 48ms/sample - loss: 0.0018\n",
      "Epoch 64/100\n",
      "132/132 [==============================] - 6s 48ms/sample - loss: 0.0018\n",
      "Epoch 65/100\n",
      "132/132 [==============================] - 6s 47ms/sample - loss: 0.0018\n",
      "Epoch 66/100\n",
      "132/132 [==============================] - 6s 47ms/sample - loss: 0.0018\n",
      "Epoch 67/100\n",
      "132/132 [==============================] - 6s 48ms/sample - loss: 0.0018\n",
      "Epoch 68/100\n",
      "132/132 [==============================] - 6s 48ms/sample - loss: 0.0017\n",
      "Epoch 69/100\n",
      "132/132 [==============================] - 6s 48ms/sample - loss: 0.0016\n",
      "Epoch 70/100\n",
      "132/132 [==============================] - 6s 47ms/sample - loss: 0.0017\n",
      "Epoch 71/100\n",
      "132/132 [==============================] - 6s 47ms/sample - loss: 0.0017\n",
      "Epoch 72/100\n",
      "132/132 [==============================] - 6s 47ms/sample - loss: 0.0019\n",
      "Epoch 73/100\n",
      "132/132 [==============================] - 6s 48ms/sample - loss: 0.0016\n",
      "Epoch 74/100\n",
      "132/132 [==============================] - 6s 48ms/sample - loss: 0.0016\n",
      "Epoch 75/100\n",
      "132/132 [==============================] - 6s 47ms/sample - loss: 0.0017\n",
      "Epoch 76/100\n",
      "132/132 [==============================] - 6s 47ms/sample - loss: 0.0018\n",
      "Epoch 77/100\n",
      "132/132 [==============================] - 6s 47ms/sample - loss: 0.0019\n",
      "Epoch 78/100\n",
      "132/132 [==============================] - 6s 48ms/sample - loss: 0.0017\n",
      "Epoch 79/100\n",
      "132/132 [==============================] - 6s 48ms/sample - loss: 0.0018\n",
      "Epoch 80/100\n",
      "132/132 [==============================] - 6s 47ms/sample - loss: 0.0017\n",
      "Epoch 81/100\n",
      "132/132 [==============================] - 6s 47ms/sample - loss: 0.0018\n",
      "Epoch 82/100\n",
      "132/132 [==============================] - 6s 47ms/sample - loss: 0.0018\n",
      "Epoch 83/100\n",
      "132/132 [==============================] - 6s 47ms/sample - loss: 0.0017\n",
      "Epoch 84/100\n",
      "132/132 [==============================] - 6s 47ms/sample - loss: 0.0018\n",
      "Epoch 85/100\n",
      "132/132 [==============================] - 6s 47ms/sample - loss: 0.0018\n",
      "Epoch 86/100\n",
      "132/132 [==============================] - 6s 47ms/sample - loss: 0.0017\n",
      "Epoch 87/100\n",
      "132/132 [==============================] - 6s 47ms/sample - loss: 0.0016\n",
      "Epoch 88/100\n",
      "132/132 [==============================] - 6s 47ms/sample - loss: 0.0017\n",
      "Epoch 89/100\n",
      "132/132 [==============================] - 6s 48ms/sample - loss: 0.0017\n",
      "Epoch 90/100\n",
      "132/132 [==============================] - 6s 47ms/sample - loss: 0.0017\n",
      "Epoch 91/100\n",
      "132/132 [==============================] - 6s 47ms/sample - loss: 0.0017\n",
      "Epoch 92/100\n",
      "132/132 [==============================] - 6s 47ms/sample - loss: 0.0017\n",
      "Epoch 93/100\n",
      "132/132 [==============================] - 6s 47ms/sample - loss: 0.0017\n",
      "Epoch 94/100\n",
      "132/132 [==============================] - 6s 47ms/sample - loss: 0.0018\n",
      "Epoch 95/100\n",
      "132/132 [==============================] - 6s 47ms/sample - loss: 0.0016\n",
      "Epoch 96/100\n",
      "132/132 [==============================] - 6s 48ms/sample - loss: 0.0016\n",
      "Epoch 97/100\n",
      "132/132 [==============================] - 6s 47ms/sample - loss: 0.0018\n",
      "Epoch 98/100\n",
      "132/132 [==============================] - 6s 48ms/sample - loss: 0.0017\n",
      "Epoch 99/100\n",
      "132/132 [==============================] - 6s 48ms/sample - loss: 0.0017\n",
      "Epoch 100/100\n",
      "132/132 [==============================] - 6s 48ms/sample - loss: 0.0017\n"
     ]
    }
   ],
   "source": [
    "h = model.fit(x,y, \n",
    "              epochs = 100)\n",
    "\n",
    "#model.save('gdrive/My Drive/dataML/rnn_many_to_many_model.h5')"
   ]
  },
  {
   "cell_type": "code",
   "execution_count": 0,
   "metadata": {
    "colab": {
     "base_uri": "https://localhost:8080/",
     "height": 286
    },
    "colab_type": "code",
    "id": "bMwy2IIozaRt",
    "outputId": "154d67af-8d56-4ad8-faaa-bd99cc12f624"
   },
   "outputs": [
    {
     "data": {
      "text/plain": [
       "[<matplotlib.lines.Line2D at 0x7f6455a9e7f0>]"
      ]
     },
     "execution_count": 40,
     "metadata": {
      "tags": []
     },
     "output_type": "execute_result"
    },
    {
     "data": {
      "image/png": "[encoded data removed]",
      "text/plain": [
       "<Figure size 432x288 with 1 Axes>"
      ]
     },
     "metadata": {
      "tags": []
     },
     "output_type": "display_data"
    }
   ],
   "source": [
    "plt.plot(h.history['loss'])"
   ]
  },
  {
   "cell_type": "markdown",
   "metadata": {
    "colab_type": "text",
    "id": "r714-jBM1Yo-"
   },
   "source": [
    "### Predict Future \n",
    "* Use the last 12 monthes data of the train data set to predict the future 12 monthes production \n",
    "* Compare the predicted data with the real data in test data set"
   ]
  },
  {
   "cell_type": "code",
   "execution_count": 0,
   "metadata": {
    "colab": {},
    "colab_type": "code",
    "id": "BnGC-2ohfLwz"
   },
   "outputs": [],
   "source": [
    "#model = models.load_model('gdrive/My Drive/dataML/rnn_many_to_many_model.h5')"
   ]
  },
  {
   "cell_type": "markdown",
   "metadata": {
    "colab_type": "text",
    "id": "QkYcxMMgqGN0"
   },
   "source": [
    "Get the last 12 monthes data of the train data"
   ]
  },
  {
   "cell_type": "code",
   "execution_count": 0,
   "metadata": {
    "colab": {},
    "colab_type": "code",
    "id": "ncuo3aL1z3K_"
   },
   "outputs": [],
   "source": [
    "last_12_month_data = train_scaled[-12:].reshape([1,12])"
   ]
  },
  {
   "cell_type": "code",
   "execution_count": 0,
   "metadata": {
    "colab": {},
    "colab_type": "code",
    "id": "5_sSDDnY0P1t"
   },
   "outputs": [],
   "source": [
    "predicts = model.predict(last_12_month_data).reshape([12,1])"
   ]
  },
  {
   "cell_type": "code",
   "execution_count": 0,
   "metadata": {
    "colab": {},
    "colab_type": "code",
    "id": "Y4DPuuxq0YmI"
   },
   "outputs": [],
   "source": [
    "results = scaler.inverse_transform(np.array(predicts).reshape(12,1))"
   ]
  },
  {
   "cell_type": "code",
   "execution_count": 0,
   "metadata": {
    "colab": {
     "base_uri": "https://localhost:8080/",
     "height": 119
    },
    "colab_type": "code",
    "id": "h1-x_pW71iM_",
    "outputId": "6b20330a-3684-4fb5-f3a4-9ad7c3344d8e"
   },
   "outputs": [
    {
     "name": "stderr",
     "output_type": "stream",
     "text": [
      "/usr/local/lib/python3.6/dist-packages/ipykernel_launcher.py:1: SettingWithCopyWarning: \n",
      "A value is trying to be set on a copy of a slice from a DataFrame.\n",
      "Try using .loc[row_indexer,col_indexer] = value instead\n",
      "\n",
      "See the caveats in the documentation: http://pandas.pydata.org/pandas-docs/stable/indexing.html#indexing-view-versus-copy\n",
      "  \"\"\"Entry point for launching an IPython kernel.\n"
     ]
    }
   ],
   "source": [
    "test_set['Generated'] = results"
   ]
  },
  {
   "cell_type": "code",
   "execution_count": 0,
   "metadata": {
    "colab": {
     "base_uri": "https://localhost:8080/",
     "height": 452
    },
    "colab_type": "code",
    "id": "xR3TovJi1iNF",
    "outputId": "b66a582a-7330-4c25-9521-4c464fa26b53"
   },
   "outputs": [
    {
     "data": {
      "text/html": [
       "<div>\n",
       "<style scoped>\n",
       "    .dataframe tbody tr th:only-of-type {\n",
       "        vertical-align: middle;\n",
       "    }\n",
       "\n",
       "    .dataframe tbody tr th {\n",
       "        vertical-align: top;\n",
       "    }\n",
       "\n",
       "    .dataframe thead th {\n",
       "        text-align: right;\n",
       "    }\n",
       "</style>\n",
       "<table border=\"1\" class=\"dataframe\">\n",
       "  <thead>\n",
       "    <tr style=\"text-align: right;\">\n",
       "      <th></th>\n",
       "      <th>Milk Production</th>\n",
       "      <th>Generated</th>\n",
       "    </tr>\n",
       "    <tr>\n",
       "      <th>Month</th>\n",
       "      <th></th>\n",
       "      <th></th>\n",
       "    </tr>\n",
       "  </thead>\n",
       "  <tbody>\n",
       "    <tr>\n",
       "      <th>1975-01-01 01:00:00</th>\n",
       "      <td>834.0</td>\n",
       "      <td>849.470032</td>\n",
       "    </tr>\n",
       "    <tr>\n",
       "      <th>1975-02-01 01:00:00</th>\n",
       "      <td>782.0</td>\n",
       "      <td>799.586792</td>\n",
       "    </tr>\n",
       "    <tr>\n",
       "      <th>1975-03-01 01:00:00</th>\n",
       "      <td>892.0</td>\n",
       "      <td>901.940552</td>\n",
       "    </tr>\n",
       "    <tr>\n",
       "      <th>1975-04-01 01:00:00</th>\n",
       "      <td>903.0</td>\n",
       "      <td>911.778137</td>\n",
       "    </tr>\n",
       "    <tr>\n",
       "      <th>1975-05-01 01:00:00</th>\n",
       "      <td>966.0</td>\n",
       "      <td>966.672180</td>\n",
       "    </tr>\n",
       "    <tr>\n",
       "      <th>1975-06-01 01:00:00</th>\n",
       "      <td>937.0</td>\n",
       "      <td>944.206604</td>\n",
       "    </tr>\n",
       "    <tr>\n",
       "      <th>1975-07-01 01:00:00</th>\n",
       "      <td>896.0</td>\n",
       "      <td>908.457214</td>\n",
       "    </tr>\n",
       "    <tr>\n",
       "      <th>1975-08-01 01:00:00</th>\n",
       "      <td>858.0</td>\n",
       "      <td>868.784302</td>\n",
       "    </tr>\n",
       "    <tr>\n",
       "      <th>1975-09-01 01:00:00</th>\n",
       "      <td>817.0</td>\n",
       "      <td>820.643433</td>\n",
       "    </tr>\n",
       "    <tr>\n",
       "      <th>1975-10-01 01:00:00</th>\n",
       "      <td>827.0</td>\n",
       "      <td>815.145508</td>\n",
       "    </tr>\n",
       "    <tr>\n",
       "      <th>1975-11-01 01:00:00</th>\n",
       "      <td>797.0</td>\n",
       "      <td>780.117981</td>\n",
       "    </tr>\n",
       "    <tr>\n",
       "      <th>1975-12-01 01:00:00</th>\n",
       "      <td>843.0</td>\n",
       "      <td>817.687866</td>\n",
       "    </tr>\n",
       "  </tbody>\n",
       "</table>\n",
       "</div>"
      ],
      "text/plain": [
       "                     Milk Production   Generated\n",
       "Month                                           \n",
       "1975-01-01 01:00:00            834.0  849.470032\n",
       "1975-02-01 01:00:00            782.0  799.586792\n",
       "1975-03-01 01:00:00            892.0  901.940552\n",
       "1975-04-01 01:00:00            903.0  911.778137\n",
       "1975-05-01 01:00:00            966.0  966.672180\n",
       "1975-06-01 01:00:00            937.0  944.206604\n",
       "1975-07-01 01:00:00            896.0  908.457214\n",
       "1975-08-01 01:00:00            858.0  868.784302\n",
       "1975-09-01 01:00:00            817.0  820.643433\n",
       "1975-10-01 01:00:00            827.0  815.145508\n",
       "1975-11-01 01:00:00            797.0  780.117981\n",
       "1975-12-01 01:00:00            843.0  817.687866"
      ]
     },
     "execution_count": 45,
     "metadata": {
      "tags": []
     },
     "output_type": "execute_result"
    }
   ],
   "source": [
    "test_set"
   ]
  },
  {
   "cell_type": "code",
   "execution_count": 0,
   "metadata": {
    "colab": {
     "base_uri": "https://localhost:8080/",
     "height": 298
    },
    "colab_type": "code",
    "id": "6y5o6kV21iNN",
    "outputId": "8fe7f359-fb6e-4d2f-9994-bcbd2674bf15"
   },
   "outputs": [
    {
     "data": {
      "text/plain": [
       "<matplotlib.axes._subplots.AxesSubplot at 0x7f6455b67080>"
      ]
     },
     "execution_count": 46,
     "metadata": {
      "tags": []
     },
     "output_type": "execute_result"
    },
    {
     "data": {
      "image/png": "[encoded data removed]",
      "text/plain": [
       "<Figure size 432x288 with 1 Axes>"
      ]
     },
     "metadata": {
      "tags": []
     },
     "output_type": "display_data"
    }
   ],
   "source": [
    "test_set.plot()"
   ]
  },
  {
   "cell_type": "markdown",
   "metadata": {
    "colab_type": "text",
    "id": "WkrgRIqzkXgq"
   },
   "source": [
    "### Predict more \n",
    "Use the first months data to predict the future 13 years' milk productions and compare with the real data"
   ]
  },
  {
   "cell_type": "code",
   "execution_count": 0,
   "metadata": {
    "colab": {},
    "colab_type": "code",
    "id": "sbRNA4ERklYA"
   },
   "outputs": [],
   "source": [
    "train_seed = list(train_scaled[:12].flatten())"
   ]
  },
  {
   "cell_type": "code",
   "execution_count": 0,
   "metadata": {
    "colab": {},
    "colab_type": "code",
    "id": "F91e0IzvklYE"
   },
   "outputs": [],
   "source": [
    "def get_prediction(data_list):\n",
    "  train_seed = data_list\n",
    "  for i in range(13):\n",
    "    x_train = np.array(train_seed[-12:]).reshape(1,12)\n",
    "    one_predict = model.predict(x_train)\n",
    "    train_seed.extend(one_predict.flatten().tolist())\n",
    "   \n",
    "  return train_seed"
   ]
  },
  {
   "cell_type": "code",
   "execution_count": 0,
   "metadata": {
    "colab": {},
    "colab_type": "code",
    "id": "BNW_8HJ2klYG"
   },
   "outputs": [],
   "source": [
    "train_seed = get_prediction(train_seed)"
   ]
  },
  {
   "cell_type": "code",
   "execution_count": 0,
   "metadata": {
    "colab": {
     "base_uri": "https://localhost:8080/",
     "height": 286
    },
    "colab_type": "code",
    "id": "TvgurkwHklYI",
    "outputId": "3fd521ef-aee8-4ce2-ce3e-f60c4b931012"
   },
   "outputs": [
    {
     "data": {
      "text/plain": [
       "[<matplotlib.lines.Line2D at 0x7f64559d3550>]"
      ]
     },
     "execution_count": 50,
     "metadata": {
      "tags": []
     },
     "output_type": "execute_result"
    },
    {
     "data": {
      "image/png": "[encoded data removed]",
      "text/plain": [
       "<Figure size 432x288 with 1 Axes>"
      ]
     },
     "metadata": {
      "tags": []
     },
     "output_type": "display_data"
    }
   ],
   "source": [
    "plt.plot(train_seed)"
   ]
  },
  {
   "cell_type": "code",
   "execution_count": 0,
   "metadata": {
    "colab": {},
    "colab_type": "code",
    "id": "pcNqRCbiklYN"
   },
   "outputs": [],
   "source": [
    "results = scaler.inverse_transform(np.array(train_seed).reshape(-1,1))"
   ]
  },
  {
   "cell_type": "code",
   "execution_count": 0,
   "metadata": {
    "colab": {},
    "colab_type": "code",
    "id": "K-8x-sOFmBav"
   },
   "outputs": [],
   "source": [
    "milk_predict = milk"
   ]
  },
  {
   "cell_type": "code",
   "execution_count": 0,
   "metadata": {
    "colab": {},
    "colab_type": "code",
    "id": "387zn4SBmKsl"
   },
   "outputs": [],
   "source": [
    "milk_predict['Generated'] = results"
   ]
  },
  {
   "cell_type": "code",
   "execution_count": 0,
   "metadata": {
    "colab": {
     "base_uri": "https://localhost:8080/",
     "height": 290
    },
    "colab_type": "code",
    "id": "PDvQXKtjklYX",
    "outputId": "d2d47f15-dd9e-459e-f479-e0426a44a7d3"
   },
   "outputs": [
    {
     "data": {
      "text/plain": [
       "<matplotlib.axes._subplots.AxesSubplot at 0x7f6455a085c0>"
      ]
     },
     "execution_count": 54,
     "metadata": {
      "tags": []
     },
     "output_type": "execute_result"
    },
    {
     "data": {
      "image/png": "[encoded data removed]",
      "text/plain": [
       "<Figure size 432x288 with 1 Axes>"
      ]
     },
     "metadata": {
      "tags": []
     },
     "output_type": "display_data"
    }
   ],
   "source": [
    "milk_predict.plot()"
   ]
  },
  {
   "cell_type": "code",
   "execution_count": 0,
   "metadata": {
    "colab": {},
    "colab_type": "code",
    "id": "zIAwIfd6JDa8"
   },
   "outputs": [],
   "source": []
  }
 ],
 "metadata": {
  "accelerator": "GPU",
  "colab": {
   "name": "3_RNN_Many_to_Many_Stateful_Keras.ipynb",
   "provenance": [],
   "version": "0.3.2"
  },
  "kernelspec": {
   "display_name": "Python 3",
   "language": "python",
   "name": "python3"
  },
  "language_info": {
   "codemirror_mode": {
    "name": "ipython",
    "version": 3
   },
   "file_extension": ".py",
   "mimetype": "text/x-python",
   "name": "python",
   "nbconvert_exporter": "python",
   "pygments_lexer": "ipython3",
   "version": "3.7.1"
  }
 },
 "nbformat": 4,
 "nbformat_minor": 1
}
