{
  "nbformat": 4,
  "nbformat_minor": 0,
  "metadata": {
    "accelerator": "GPU",
    "colab": {
      "name": "_RNN_Many_to_One_TF2.0.ipynb",
      "provenance": []
    },
    "kernelspec": {
      "display_name": "Python 3",
      "language": "python",
      "name": "python3"
    },
    "language_info": {
      "codemirror_mode": {
        "name": "ipython",
        "version": 3
      },
      "file_extension": ".py",
      "mimetype": "text/x-python",
      "name": "python",
      "nbconvert_exporter": "python",
      "pygments_lexer": "ipython3",
      "version": "3.7.1"
    }
  },
  "cells": [
    {
      "cell_type": "markdown",
      "metadata": {
        "colab_type": "text",
        "id": "qlseAUvJJDXM"
      },
      "source": [
        "## The Data\n",
        "\n",
        "**Source: https://datamarket.com/data/set/22ox/monthly-milk-production-pounds-per-cow-jan-62-dec-75#!ds=22ox&display=line**\n",
        "\n",
        "**Monthly milk production: pounds per cow. Jan 62 - Dec 75**"
      ]
    },
    {
      "cell_type": "markdown",
      "metadata": {
        "colab_type": "text",
        "id": "5WTUlbh4JDXN"
      },
      "source": [
        "Import numpy pandas and matplotlib"
      ]
    },
    {
      "cell_type": "code",
      "metadata": {
        "colab_type": "code",
        "id": "Xg2peEzGJDXO",
        "colab": {}
      },
      "source": [
        "import numpy as np\n",
        "import pandas as pd\n",
        "import matplotlib.pyplot as plt\n",
        "%matplotlib inline"
      ],
      "execution_count": 0,
      "outputs": []
    },
    {
      "cell_type": "markdown",
      "metadata": {
        "colab_type": "text",
        "id": "hBtEtgN6JDXS"
      },
      "source": [
        "**Use pandas to read the csv of the monthly-milk-production.csv file and set index_col='Month'**\n",
        "\n",
        "Mounting google drive to read the csv file. \n",
        "\n",
        "Alternatively, you can download the csv file to your local disk drive "
      ]
    },
    {
      "cell_type": "code",
      "metadata": {
        "colab_type": "code",
        "id": "FPJdTW0TJcMA",
        "outputId": "4a30ac3d-418d-4b9e-f601-c302edfc882b",
        "colab": {
          "base_uri": "https://localhost:8080/",
          "height": 128
        }
      },
      "source": [
        "from google.colab import drive \n",
        "drive.mount('/content/gdrive')"
      ],
      "execution_count": 2,
      "outputs": [
        {
          "output_type": "stream",
          "text": [
            "Go to this URL in a browser: https://accounts.google.com/o/oauth2/auth?client_id=947318989803-6bn6qk8qdgf4n4g3pfee6491hc0brc4i.apps.googleusercontent.com&redirect_uri=urn%3Aietf%3Awg%3Aoauth%3A2.0%3Aoob&scope=email%20https%3A%2F%2Fwww.googleapis.com%2Fauth%2Fdocs.test%20https%3A%2F%2Fwww.googleapis.com%2Fauth%2Fdrive%20https%3A%2F%2Fwww.googleapis.com%2Fauth%2Fdrive.photos.readonly%20https%3A%2F%2Fwww.googleapis.com%2Fauth%2Fpeopleapi.readonly&response_type=code\n",
            "\n",
            "Enter your authorization code:\n",
            "··········\n",
            "Mounted at /content/gdrive\n"
          ],
          "name": "stdout"
        }
      ]
    },
    {
      "cell_type": "code",
      "metadata": {
        "colab_type": "code",
        "id": "nArYXHMPJDXT",
        "colab": {}
      },
      "source": [
        "milk = pd.read_csv(\"gdrive/My Drive/dataML/monthly-milk-production.csv\",index_col='Month')\n",
        "\n",
        "#milk = pd.read_csv(\"monthly-milk-production.csv\",index_col='Month')"
      ],
      "execution_count": 0,
      "outputs": []
    },
    {
      "cell_type": "code",
      "metadata": {
        "colab_type": "code",
        "id": "RYvb00fEJDXW",
        "outputId": "4dcf764a-f5e7-401e-b1b0-6306f09d6ecc",
        "colab": {
          "base_uri": "https://localhost:8080/",
          "height": 232
        }
      },
      "source": [
        "milk.tail()"
      ],
      "execution_count": 4,
      "outputs": [
        {
          "output_type": "execute_result",
          "data": {
            "text/html": [
              "<div>\n",
              "<style scoped>\n",
              "    .dataframe tbody tr th:only-of-type {\n",
              "        vertical-align: middle;\n",
              "    }\n",
              "\n",
              "    .dataframe tbody tr th {\n",
              "        vertical-align: top;\n",
              "    }\n",
              "\n",
              "    .dataframe thead th {\n",
              "        text-align: right;\n",
              "    }\n",
              "</style>\n",
              "<table border=\"1\" class=\"dataframe\">\n",
              "  <thead>\n",
              "    <tr style=\"text-align: right;\">\n",
              "      <th></th>\n",
              "      <th>Milk Production</th>\n",
              "    </tr>\n",
              "    <tr>\n",
              "      <th>Month</th>\n",
              "      <th></th>\n",
              "    </tr>\n",
              "  </thead>\n",
              "  <tbody>\n",
              "    <tr>\n",
              "      <th>1975-08-01 01:00:00</th>\n",
              "      <td>858.0</td>\n",
              "    </tr>\n",
              "    <tr>\n",
              "      <th>1975-09-01 01:00:00</th>\n",
              "      <td>817.0</td>\n",
              "    </tr>\n",
              "    <tr>\n",
              "      <th>1975-10-01 01:00:00</th>\n",
              "      <td>827.0</td>\n",
              "    </tr>\n",
              "    <tr>\n",
              "      <th>1975-11-01 01:00:00</th>\n",
              "      <td>797.0</td>\n",
              "    </tr>\n",
              "    <tr>\n",
              "      <th>1975-12-01 01:00:00</th>\n",
              "      <td>843.0</td>\n",
              "    </tr>\n",
              "  </tbody>\n",
              "</table>\n",
              "</div>"
            ],
            "text/plain": [
              "                     Milk Production\n",
              "Month                               \n",
              "1975-08-01 01:00:00            858.0\n",
              "1975-09-01 01:00:00            817.0\n",
              "1975-10-01 01:00:00            827.0\n",
              "1975-11-01 01:00:00            797.0\n",
              "1975-12-01 01:00:00            843.0"
            ]
          },
          "metadata": {
            "tags": []
          },
          "execution_count": 4
        }
      ]
    },
    {
      "cell_type": "code",
      "metadata": {
        "id": "q7lczwPW3JoP",
        "colab_type": "code",
        "outputId": "9ba35684-73ee-472a-9302-7b2f68c75f15",
        "colab": {
          "base_uri": "https://localhost:8080/",
          "height": 35
        }
      },
      "source": [
        "type(milk.index[0])"
      ],
      "execution_count": 5,
      "outputs": [
        {
          "output_type": "execute_result",
          "data": {
            "text/plain": [
              "str"
            ]
          },
          "metadata": {
            "tags": []
          },
          "execution_count": 5
        }
      ]
    },
    {
      "cell_type": "markdown",
      "metadata": {
        "colab_type": "text",
        "id": "Z0aPxAkWJDXg"
      },
      "source": [
        "**Make the index a time series by using:**\n",
        "\n",
        "    milk.index = pd.to_datetime(milk.index)"
      ]
    },
    {
      "cell_type": "code",
      "metadata": {
        "colab_type": "code",
        "id": "ej2PnSz7JDXh",
        "colab": {}
      },
      "source": [
        "milk.index = pd.to_datetime(milk.index)"
      ],
      "execution_count": 0,
      "outputs": []
    },
    {
      "cell_type": "code",
      "metadata": {
        "colab_type": "code",
        "outputId": "5c122230-10bd-48e3-e088-864d767bcfc5",
        "id": "ueYCkL_O9GFc",
        "colab": {
          "base_uri": "https://localhost:8080/",
          "height": 35
        }
      },
      "source": [
        "type(milk.index[12])"
      ],
      "execution_count": 7,
      "outputs": [
        {
          "output_type": "execute_result",
          "data": {
            "text/plain": [
              "pandas._libs.tslibs.timestamps.Timestamp"
            ]
          },
          "metadata": {
            "tags": []
          },
          "execution_count": 7
        }
      ]
    },
    {
      "cell_type": "code",
      "metadata": {
        "colab_type": "code",
        "id": "TuNcJhMoJDXj",
        "outputId": "37111070-d2de-43c7-9ec6-3d2b5ad9d1c1",
        "colab": {
          "base_uri": "https://localhost:8080/",
          "height": 232
        }
      },
      "source": [
        "milk.head()"
      ],
      "execution_count": 8,
      "outputs": [
        {
          "output_type": "execute_result",
          "data": {
            "text/html": [
              "<div>\n",
              "<style scoped>\n",
              "    .dataframe tbody tr th:only-of-type {\n",
              "        vertical-align: middle;\n",
              "    }\n",
              "\n",
              "    .dataframe tbody tr th {\n",
              "        vertical-align: top;\n",
              "    }\n",
              "\n",
              "    .dataframe thead th {\n",
              "        text-align: right;\n",
              "    }\n",
              "</style>\n",
              "<table border=\"1\" class=\"dataframe\">\n",
              "  <thead>\n",
              "    <tr style=\"text-align: right;\">\n",
              "      <th></th>\n",
              "      <th>Milk Production</th>\n",
              "    </tr>\n",
              "    <tr>\n",
              "      <th>Month</th>\n",
              "      <th></th>\n",
              "    </tr>\n",
              "  </thead>\n",
              "  <tbody>\n",
              "    <tr>\n",
              "      <th>1962-01-01 01:00:00</th>\n",
              "      <td>589.0</td>\n",
              "    </tr>\n",
              "    <tr>\n",
              "      <th>1962-02-01 01:00:00</th>\n",
              "      <td>561.0</td>\n",
              "    </tr>\n",
              "    <tr>\n",
              "      <th>1962-03-01 01:00:00</th>\n",
              "      <td>640.0</td>\n",
              "    </tr>\n",
              "    <tr>\n",
              "      <th>1962-04-01 01:00:00</th>\n",
              "      <td>656.0</td>\n",
              "    </tr>\n",
              "    <tr>\n",
              "      <th>1962-05-01 01:00:00</th>\n",
              "      <td>727.0</td>\n",
              "    </tr>\n",
              "  </tbody>\n",
              "</table>\n",
              "</div>"
            ],
            "text/plain": [
              "                     Milk Production\n",
              "Month                               \n",
              "1962-01-01 01:00:00            589.0\n",
              "1962-02-01 01:00:00            561.0\n",
              "1962-03-01 01:00:00            640.0\n",
              "1962-04-01 01:00:00            656.0\n",
              "1962-05-01 01:00:00            727.0"
            ]
          },
          "metadata": {
            "tags": []
          },
          "execution_count": 8
        }
      ]
    },
    {
      "cell_type": "code",
      "metadata": {
        "colab_type": "code",
        "id": "-rgkKTs6JDXn",
        "outputId": "025127e2-0484-4b12-cab4-429a0096e673",
        "colab": {
          "base_uri": "https://localhost:8080/",
          "height": 35
        }
      },
      "source": [
        "milk.keys()"
      ],
      "execution_count": 9,
      "outputs": [
        {
          "output_type": "execute_result",
          "data": {
            "text/plain": [
              "Index(['Milk Production'], dtype='object')"
            ]
          },
          "metadata": {
            "tags": []
          },
          "execution_count": 9
        }
      ]
    },
    {
      "cell_type": "markdown",
      "metadata": {
        "colab_type": "text",
        "id": "z8Hk38WeJDXq"
      },
      "source": [
        "** Plot out the time series data. **"
      ]
    },
    {
      "cell_type": "code",
      "metadata": {
        "colab_type": "code",
        "id": "qXNiSsZUJDXq",
        "outputId": "6ea5d29a-8bba-478e-fca8-adbda16538d3",
        "colab": {
          "base_uri": "https://localhost:8080/",
          "height": 287
        }
      },
      "source": [
        "milk.plot()"
      ],
      "execution_count": 10,
      "outputs": [
        {
          "output_type": "execute_result",
          "data": {
            "text/plain": [
              "<matplotlib.axes._subplots.AxesSubplot at 0x7fde2089bdd8>"
            ]
          },
          "metadata": {
            "tags": []
          },
          "execution_count": 10
        },
        {
          "output_type": "display_data",
          "data": {
            "image/png": "[encoded data removed]",
            "text/plain": [
              "<Figure size 432x288 with 1 Axes>"
            ]
          },
          "metadata": {
            "tags": []
          }
        }
      ]
    },
    {
      "cell_type": "markdown",
      "metadata": {
        "colab_type": "text",
        "id": "Fxbb9fhP1rsU"
      },
      "source": [
        "### Train Test Split\n",
        "\n",
        "** Let's attempt to predict a year's worth of data. (12 months or 12 steps into the future) **\n"
      ]
    },
    {
      "cell_type": "code",
      "metadata": {
        "colab_type": "code",
        "id": "TSYpC-nu1rsW",
        "outputId": "8311aaee-bf79-49d6-b67e-3b00b983d588",
        "colab": {
          "base_uri": "https://localhost:8080/",
          "height": 126
        }
      },
      "source": [
        "milk.info()"
      ],
      "execution_count": 11,
      "outputs": [
        {
          "output_type": "stream",
          "text": [
            "<class 'pandas.core.frame.DataFrame'>\n",
            "DatetimeIndex: 168 entries, 1962-01-01 01:00:00 to 1975-12-01 01:00:00\n",
            "Data columns (total 1 columns):\n",
            "Milk Production    168 non-null float64\n",
            "dtypes: float64(1)\n",
            "memory usage: 2.6 KB\n"
          ],
          "name": "stdout"
        }
      ]
    },
    {
      "cell_type": "code",
      "metadata": {
        "colab_type": "code",
        "id": "00vc2Jms1rsc",
        "outputId": "e572bdff-e8a9-4d70-ed04-5373dd1ab55a",
        "colab": {
          "base_uri": "https://localhost:8080/",
          "height": 35
        }
      },
      "source": [
        "len(milk)"
      ],
      "execution_count": 12,
      "outputs": [
        {
          "output_type": "execute_result",
          "data": {
            "text/plain": [
              "168"
            ]
          },
          "metadata": {
            "tags": []
          },
          "execution_count": 12
        }
      ]
    },
    {
      "cell_type": "code",
      "metadata": {
        "colab_type": "code",
        "id": "F_PjB7rq1rsf",
        "colab": {}
      },
      "source": [
        "train_set= milk.head((1976-1962-1)*12)"
      ],
      "execution_count": 0,
      "outputs": []
    },
    {
      "cell_type": "code",
      "metadata": {
        "colab_type": "code",
        "id": "C6632CCp1rsi",
        "colab": {}
      },
      "source": [
        "test_set = milk.tail(12)"
      ],
      "execution_count": 0,
      "outputs": []
    },
    {
      "cell_type": "markdown",
      "metadata": {
        "colab_type": "text",
        "id": "_9PtX6Um1rsl"
      },
      "source": [
        "### Scale the Data\n",
        "\n",
        "** Use sklearn.preprocessing to scale the data using the MinMaxScaler. Remember to only fit_transform on the training data, then transform the test data. You shouldn't fit on the test data as well, otherwise you are assuming you would know about future behavior!**"
      ]
    },
    {
      "cell_type": "code",
      "metadata": {
        "colab_type": "code",
        "id": "czuAVyRj1rsl",
        "colab": {}
      },
      "source": [
        "from sklearn.preprocessing import MinMaxScaler"
      ],
      "execution_count": 0,
      "outputs": []
    },
    {
      "cell_type": "code",
      "metadata": {
        "colab_type": "code",
        "id": "UFn7xXzj1rsp",
        "colab": {}
      },
      "source": [
        "scaler = MinMaxScaler()"
      ],
      "execution_count": 0,
      "outputs": []
    },
    {
      "cell_type": "code",
      "metadata": {
        "colab_type": "code",
        "id": "hu0-OYDX1rsq",
        "colab": {}
      },
      "source": [
        "train_scaled = scaler.fit_transform(train_set)"
      ],
      "execution_count": 0,
      "outputs": []
    },
    {
      "cell_type": "code",
      "metadata": {
        "colab_type": "code",
        "id": "O2uDgWsI1rsu",
        "colab": {}
      },
      "source": [
        "test_scaled = scaler.transform(test_set)"
      ],
      "execution_count": 0,
      "outputs": []
    },
    {
      "cell_type": "markdown",
      "metadata": {
        "colab_type": "text",
        "id": "EiI-RuSPKC7v"
      },
      "source": [
        "## Build Training Data\n",
        "\n",
        "* X_train: Past 12 monthes productions, shape: (-1,12)\n",
        "* Y_train: Future 1 month productions, shape:(-1, 1) \n",
        "* Shift the window to get more trainning data"
      ]
    },
    {
      "cell_type": "code",
      "metadata": {
        "colab_type": "code",
        "id": "6YaF3wjKKB4Y",
        "colab": {}
      },
      "source": [
        "def build_train_data(data, past_monthes = 12, future_monthes = 1):\n",
        "  X_train, Y_train = [],[]\n",
        "  \n",
        "  for i in range(data.shape[0] + 1 - past_monthes - future_monthes):\n",
        "    X_train.append(np.array(data[i:i + past_monthes]))\n",
        "    Y_train.append(np.array(data[i + past_monthes:i + past_monthes + future_monthes]))\n",
        "    \n",
        "  return np.array(X_train).reshape([-1,12]), np.array(Y_train).reshape([-1,1])\n",
        "   "
      ],
      "execution_count": 0,
      "outputs": []
    },
    {
      "cell_type": "code",
      "metadata": {
        "colab_type": "code",
        "id": "t_z8xNdaQjvH",
        "colab": {}
      },
      "source": [
        "x, y = build_train_data(train_scaled)"
      ],
      "execution_count": 0,
      "outputs": []
    },
    {
      "cell_type": "code",
      "metadata": {
        "colab_type": "code",
        "id": "DiLmBOy4Qq3j",
        "outputId": "4d842e55-44e5-4c26-8ed6-835df2b1dd82",
        "colab": {
          "base_uri": "https://localhost:8080/",
          "height": 35
        }
      },
      "source": [
        "print('x shape;', x.shape, 'y shape: ', y.shape)"
      ],
      "execution_count": 21,
      "outputs": [
        {
          "output_type": "stream",
          "text": [
            "x shape; (144, 12) y shape:  (144, 1)\n"
          ],
          "name": "stdout"
        }
      ]
    },
    {
      "cell_type": "markdown",
      "metadata": {
        "colab_type": "text",
        "id": "JxbPdOLds9JD"
      },
      "source": [
        "Take a look at the data"
      ]
    },
    {
      "cell_type": "code",
      "metadata": {
        "colab_type": "code",
        "id": "3_tRprRSjkYY",
        "outputId": "5938a9b1-4f9a-4b8f-988b-1b2955df4a28",
        "colab": {
          "base_uri": "https://localhost:8080/",
          "height": 283
        }
      },
      "source": [
        "plt.plot(x[12])"
      ],
      "execution_count": 22,
      "outputs": [
        {
          "output_type": "execute_result",
          "data": {
            "text/plain": [
              "[<matplotlib.lines.Line2D at 0x7fde11a46940>]"
            ]
          },
          "metadata": {
            "tags": []
          },
          "execution_count": 22
        },
        {
          "output_type": "display_data",
          "data": {
            "image/png": "[encoded data removed]",
            "text/plain": [
              "<Figure size 432x288 with 1 Axes>"
            ]
          },
          "metadata": {
            "tags": []
          }
        }
      ]
    },
    {
      "cell_type": "markdown",
      "metadata": {
        "id": "PWw-Y-h72UGT",
        "colab_type": "text"
      },
      "source": [
        "## Tensorflow 2.0"
      ]
    },
    {
      "cell_type": "code",
      "metadata": {
        "id": "l_OPQ7tg2YkD",
        "colab_type": "code",
        "outputId": "3e860458-67b8-4a25-dd31-9ef72a6753f5",
        "colab": {
          "base_uri": "https://localhost:8080/",
          "height": 35
        }
      },
      "source": [
        "try:\n",
        "  # %tensorflow_version only exists in Colab.\n",
        "  %tensorflow_version 2.x\n",
        "except Exception:\n",
        "  pass"
      ],
      "execution_count": 23,
      "outputs": [
        {
          "output_type": "stream",
          "text": [
            "TensorFlow 2.x selected.\n"
          ],
          "name": "stdout"
        }
      ]
    },
    {
      "cell_type": "code",
      "metadata": {
        "id": "RVJ9OEiX2k5n",
        "colab_type": "code",
        "colab": {}
      },
      "source": [
        "import tensorflow as tf\n"
      ],
      "execution_count": 0,
      "outputs": []
    },
    {
      "cell_type": "code",
      "metadata": {
        "id": "1c6Ugs3e-Mjd",
        "colab_type": "code",
        "colab": {}
      },
      "source": [
        "RNN_CELLSIZE = 10\n",
        "SEQLEN = 12\n",
        "BATCHSIZE = 1\n",
        "LR = 0.001"
      ],
      "execution_count": 0,
      "outputs": []
    },
    {
      "cell_type": "code",
      "metadata": {
        "id": "Hn7eqj712yyg",
        "colab_type": "code",
        "colab": {}
      },
      "source": [
        "class GRUModel(tf.keras.Model):\n",
        "  def __init__(self, batch_size, seq_length, cell_size):\n",
        "    super().__init__()\n",
        "    self.batch_size = batch_size\n",
        "    self.seq_length = seq_length\n",
        "    self.cell_size = cell_size\n",
        "    \n",
        "    self.layer1 = tf.keras.layers.Reshape((self.seq_length,1), batch_size = self.batch_size)\n",
        "    self.layer_GRU = tf.keras.layers.GRU(self.cell_size, return_sequences=True)\n",
        "    self.layer_last_GRU = tf.keras.layers.GRU(self.cell_size)\n",
        "    self.layer_dense = tf.keras.layers.Dense(1)\n",
        "  \n",
        "  def call(self, inputs):\n",
        "    x = self.layer1(inputs)\n",
        "    x = self.layer_GRU(x)\n",
        "    x = self.layer_last_GRU(x)\n",
        "    output = self.layer_dense(x)\n",
        "    return output"
      ],
      "execution_count": 0,
      "outputs": []
    },
    {
      "cell_type": "code",
      "metadata": {
        "id": "pZYeFiWM-ON9",
        "colab_type": "code",
        "colab": {}
      },
      "source": [
        "model = GRUModel(BATCHSIZE, SEQLEN,RNN_CELLSIZE)\n",
        "optimizer = tf.keras.optimizers.Adam(learning_rate = LR)"
      ],
      "execution_count": 0,
      "outputs": []
    },
    {
      "cell_type": "code",
      "metadata": {
        "id": "mUXBn9aN_DOb",
        "colab_type": "code",
        "outputId": "f18490a4-51e0-43d3-8a0c-e5f031feee35",
        "colab": {
          "base_uri": "https://localhost:8080/",
          "height": 199
        }
      },
      "source": [
        "for epoch in range(1000):\n",
        "  with tf.GradientTape() as tape:\n",
        "    y_pred = model(x)\n",
        "    loss = tf.reduce_mean((y_pred - y)**2)\n",
        "    if epoch%100 == 0:\n",
        "      print(\"epoch: {}, loss: {}\".format(epoch, loss.numpy()))\n",
        "  \n",
        "  grads = tape.gradient(loss, model.variables)\n",
        "  optimizer.apply_gradients(zip(grads,model.variables))"
      ],
      "execution_count": 46,
      "outputs": [
        {
          "output_type": "stream",
          "text": [
            "epoch: 0, loss: 0.0028520694468170404\n",
            "epoch: 100, loss: 0.002558263950049877\n",
            "epoch: 200, loss: 0.002333666430786252\n",
            "epoch: 300, loss: 0.0022316505201160908\n",
            "epoch: 400, loss: 0.0020229490473866463\n",
            "epoch: 500, loss: 0.001882405485957861\n",
            "epoch: 600, loss: 0.0017968474421650171\n",
            "epoch: 700, loss: 0.0018584158970043063\n",
            "epoch: 800, loss: 0.0016114676836878061\n",
            "epoch: 900, loss: 0.0015710649313405156\n"
          ],
          "name": "stdout"
        }
      ]
    },
    {
      "cell_type": "markdown",
      "metadata": {
        "colab_type": "text",
        "id": "r714-jBM1Yo-"
      },
      "source": [
        "### Predict Future \n",
        "* Use the last 12 monthes data of the train data set to predict the future 12 monthes production \n",
        "* Compare the predicted data with the real data in test data set"
      ]
    },
    {
      "cell_type": "markdown",
      "metadata": {
        "colab_type": "text",
        "id": "QkYcxMMgqGN0"
      },
      "source": [
        "Get the last 12 monthes data of the train data"
      ]
    },
    {
      "cell_type": "code",
      "metadata": {
        "colab_type": "code",
        "id": "wN_zImU5_T-7",
        "colab": {}
      },
      "source": [
        "train_seed = list(train_scaled[-12:].flatten())"
      ],
      "execution_count": 0,
      "outputs": []
    },
    {
      "cell_type": "markdown",
      "metadata": {
        "colab_type": "text",
        "id": "lJXmc5C_qPi4"
      },
      "source": [
        "One prediction only generate one predict, we need predict 12 times to get 12 monthes data."
      ]
    },
    {
      "cell_type": "code",
      "metadata": {
        "colab_type": "code",
        "id": "gPLrd2196eHx",
        "colab": {}
      },
      "source": [
        "def get_prediction(data_list):\n",
        "  predict = []\n",
        "  train_seed = data_list\n",
        "  for i in range(12):\n",
        "    x_train = np.array(train_seed[-12:]).reshape(1,12)\n",
        "    one_predict = model.predict(x_train)[0][0]\n",
        "    predict.append(one_predict) \n",
        "    train_seed.append(one_predict)\n",
        "   \n",
        "  return predict, train_seed"
      ],
      "execution_count": 0,
      "outputs": []
    },
    {
      "cell_type": "code",
      "metadata": {
        "colab_type": "code",
        "id": "BT-RPo6k9XrQ",
        "colab": {}
      },
      "source": [
        "predict, train_seed = get_prediction(train_seed)"
      ],
      "execution_count": 0,
      "outputs": []
    },
    {
      "cell_type": "code",
      "metadata": {
        "colab_type": "code",
        "id": "f_p2HvS2Ce12",
        "outputId": "8717553c-fe60-4fd2-b3ad-276ade780832",
        "colab": {
          "base_uri": "https://localhost:8080/",
          "height": 283
        }
      },
      "source": [
        "plt.plot(train_seed)"
      ],
      "execution_count": 50,
      "outputs": [
        {
          "output_type": "execute_result",
          "data": {
            "text/plain": [
              "[<matplotlib.lines.Line2D at 0x7fdd7a851da0>]"
            ]
          },
          "metadata": {
            "tags": []
          },
          "execution_count": 50
        },
        {
          "output_type": "display_data",
          "data": {
            "image/png": "[encoded data removed]",
            "text/plain": [
              "<Figure size 432x288 with 1 Axes>"
            ]
          },
          "metadata": {
            "tags": []
          }
        }
      ]
    },
    {
      "cell_type": "code",
      "metadata": {
        "colab_type": "code",
        "id": "H5VAR8RQ98LN",
        "colab": {}
      },
      "source": [
        "results = scaler.inverse_transform(np.array(predict).reshape(12,1))"
      ],
      "execution_count": 0,
      "outputs": []
    },
    {
      "cell_type": "code",
      "metadata": {
        "colab_type": "code",
        "id": "bJgzXnlWDMp3",
        "outputId": "35034798-7a37-488e-b86d-09441b9f2de4",
        "colab": {
          "base_uri": "https://localhost:8080/",
          "height": 146
        }
      },
      "source": [
        "test_set['Generated'] = results"
      ],
      "execution_count": 52,
      "outputs": [
        {
          "output_type": "stream",
          "text": [
            "/usr/local/lib/python3.6/dist-packages/ipykernel_launcher.py:1: SettingWithCopyWarning: \n",
            "A value is trying to be set on a copy of a slice from a DataFrame.\n",
            "Try using .loc[row_indexer,col_indexer] = value instead\n",
            "\n",
            "See the caveats in the documentation: http://pandas.pydata.org/pandas-docs/stable/user_guide/indexing.html#returning-a-view-versus-a-copy\n",
            "  \"\"\"Entry point for launching an IPython kernel.\n"
          ],
          "name": "stderr"
        }
      ]
    },
    {
      "cell_type": "markdown",
      "metadata": {
        "colab_type": "text",
        "id": "omtVz1Crqo9f"
      },
      "source": [
        "Compare the generated data with the real data"
      ]
    },
    {
      "cell_type": "code",
      "metadata": {
        "colab_type": "code",
        "id": "bPZAXKyMDVAD",
        "outputId": "1403ae5f-b10e-4a8a-a658-b1767991868e",
        "colab": {
          "base_uri": "https://localhost:8080/",
          "height": 447
        }
      },
      "source": [
        "test_set"
      ],
      "execution_count": 53,
      "outputs": [
        {
          "output_type": "execute_result",
          "data": {
            "text/html": [
              "<div>\n",
              "<style scoped>\n",
              "    .dataframe tbody tr th:only-of-type {\n",
              "        vertical-align: middle;\n",
              "    }\n",
              "\n",
              "    .dataframe tbody tr th {\n",
              "        vertical-align: top;\n",
              "    }\n",
              "\n",
              "    .dataframe thead th {\n",
              "        text-align: right;\n",
              "    }\n",
              "</style>\n",
              "<table border=\"1\" class=\"dataframe\">\n",
              "  <thead>\n",
              "    <tr style=\"text-align: right;\">\n",
              "      <th></th>\n",
              "      <th>Milk Production</th>\n",
              "      <th>Generated</th>\n",
              "    </tr>\n",
              "    <tr>\n",
              "      <th>Month</th>\n",
              "      <th></th>\n",
              "      <th></th>\n",
              "    </tr>\n",
              "  </thead>\n",
              "  <tbody>\n",
              "    <tr>\n",
              "      <th>1975-01-01 01:00:00</th>\n",
              "      <td>834.0</td>\n",
              "      <td>827.510132</td>\n",
              "    </tr>\n",
              "    <tr>\n",
              "      <th>1975-02-01 01:00:00</th>\n",
              "      <td>782.0</td>\n",
              "      <td>806.098389</td>\n",
              "    </tr>\n",
              "    <tr>\n",
              "      <th>1975-03-01 01:00:00</th>\n",
              "      <td>892.0</td>\n",
              "      <td>879.101196</td>\n",
              "    </tr>\n",
              "    <tr>\n",
              "      <th>1975-04-01 01:00:00</th>\n",
              "      <td>903.0</td>\n",
              "      <td>904.815430</td>\n",
              "    </tr>\n",
              "    <tr>\n",
              "      <th>1975-05-01 01:00:00</th>\n",
              "      <td>966.0</td>\n",
              "      <td>953.602356</td>\n",
              "    </tr>\n",
              "    <tr>\n",
              "      <th>1975-06-01 01:00:00</th>\n",
              "      <td>937.0</td>\n",
              "      <td>950.758484</td>\n",
              "    </tr>\n",
              "    <tr>\n",
              "      <th>1975-07-01 01:00:00</th>\n",
              "      <td>896.0</td>\n",
              "      <td>926.439514</td>\n",
              "    </tr>\n",
              "    <tr>\n",
              "      <th>1975-08-01 01:00:00</th>\n",
              "      <td>858.0</td>\n",
              "      <td>888.573364</td>\n",
              "    </tr>\n",
              "    <tr>\n",
              "      <th>1975-09-01 01:00:00</th>\n",
              "      <td>817.0</td>\n",
              "      <td>837.547363</td>\n",
              "    </tr>\n",
              "    <tr>\n",
              "      <th>1975-10-01 01:00:00</th>\n",
              "      <td>827.0</td>\n",
              "      <td>819.590332</td>\n",
              "    </tr>\n",
              "    <tr>\n",
              "      <th>1975-11-01 01:00:00</th>\n",
              "      <td>797.0</td>\n",
              "      <td>786.962280</td>\n",
              "    </tr>\n",
              "    <tr>\n",
              "      <th>1975-12-01 01:00:00</th>\n",
              "      <td>843.0</td>\n",
              "      <td>809.943604</td>\n",
              "    </tr>\n",
              "  </tbody>\n",
              "</table>\n",
              "</div>"
            ],
            "text/plain": [
              "                     Milk Production   Generated\n",
              "Month                                           \n",
              "1975-01-01 01:00:00            834.0  827.510132\n",
              "1975-02-01 01:00:00            782.0  806.098389\n",
              "1975-03-01 01:00:00            892.0  879.101196\n",
              "1975-04-01 01:00:00            903.0  904.815430\n",
              "1975-05-01 01:00:00            966.0  953.602356\n",
              "1975-06-01 01:00:00            937.0  950.758484\n",
              "1975-07-01 01:00:00            896.0  926.439514\n",
              "1975-08-01 01:00:00            858.0  888.573364\n",
              "1975-09-01 01:00:00            817.0  837.547363\n",
              "1975-10-01 01:00:00            827.0  819.590332\n",
              "1975-11-01 01:00:00            797.0  786.962280\n",
              "1975-12-01 01:00:00            843.0  809.943604"
            ]
          },
          "metadata": {
            "tags": []
          },
          "execution_count": 53
        }
      ]
    },
    {
      "cell_type": "code",
      "metadata": {
        "id": "dsUl0PbuQ-QF",
        "colab_type": "code",
        "colab": {
          "base_uri": "https://localhost:8080/",
          "height": 35
        },
        "outputId": "8b9610c9-5f00-41c6-a42a-b76bd2a4c0e6"
      },
      "source": [
        "type(test_set.index[2])"
      ],
      "execution_count": 54,
      "outputs": [
        {
          "output_type": "execute_result",
          "data": {
            "text/plain": [
              "pandas._libs.tslibs.timestamps.Timestamp"
            ]
          },
          "metadata": {
            "tags": []
          },
          "execution_count": 54
        }
      ]
    },
    {
      "cell_type": "code",
      "metadata": {
        "colab_type": "code",
        "id": "6v-Ot8ZxDZvi",
        "outputId": "4d1740df-82ec-4c28-b72b-4db73bc61239",
        "colab": {
          "base_uri": "https://localhost:8080/",
          "height": 299
        }
      },
      "source": [
        "test_set.plot()"
      ],
      "execution_count": 55,
      "outputs": [
        {
          "output_type": "execute_result",
          "data": {
            "text/plain": [
              "<matplotlib.axes._subplots.AxesSubplot at 0x7fdd7a91f630>"
            ]
          },
          "metadata": {
            "tags": []
          },
          "execution_count": 55
        },
        {
          "output_type": "display_data",
          "data": {
            "image/png": "[encoded data removed]",
            "text/plain": [
              "<Figure size 432x288 with 1 Axes>"
            ]
          },
          "metadata": {
            "tags": []
          }
        }
      ]
    },
    {
      "cell_type": "markdown",
      "metadata": {
        "colab_type": "text",
        "id": "WkrgRIqzkXgq"
      },
      "source": [
        "### Predict more \n",
        "Use the first months data to predict the future 13 years' milk productions and compare with the real data"
      ]
    },
    {
      "cell_type": "code",
      "metadata": {
        "colab_type": "code",
        "id": "sbRNA4ERklYA",
        "colab": {}
      },
      "source": [
        "train_seed = list(train_scaled[:12].flatten())"
      ],
      "execution_count": 0,
      "outputs": []
    },
    {
      "cell_type": "code",
      "metadata": {
        "colab_type": "code",
        "id": "F91e0IzvklYE",
        "colab": {}
      },
      "source": [
        "def get_prediction(data_list):\n",
        "  predict = []\n",
        "  train_seed = data_list\n",
        "  for i in range(12*13):\n",
        "    x_train = np.array(train_seed[-12:]).reshape(1,12)\n",
        "    one_predict = model.predict(x_train)[0][0]\n",
        "    predict.append(one_predict) \n",
        "    train_seed.append(one_predict)\n",
        "   \n",
        "  return predict, train_seed"
      ],
      "execution_count": 0,
      "outputs": []
    },
    {
      "cell_type": "code",
      "metadata": {
        "colab_type": "code",
        "id": "BNW_8HJ2klYG",
        "colab": {}
      },
      "source": [
        "predict, train_seed = get_prediction(train_seed)"
      ],
      "execution_count": 0,
      "outputs": []
    },
    {
      "cell_type": "code",
      "metadata": {
        "colab_type": "code",
        "id": "TvgurkwHklYI",
        "outputId": "800e81f0-5865-4dd8-8c15-5bd3e71407dc",
        "colab": {
          "base_uri": "https://localhost:8080/",
          "height": 283
        }
      },
      "source": [
        "plt.plot(train_seed)"
      ],
      "execution_count": 59,
      "outputs": [
        {
          "output_type": "execute_result",
          "data": {
            "text/plain": [
              "[<matplotlib.lines.Line2D at 0x7fdd7a73b198>]"
            ]
          },
          "metadata": {
            "tags": []
          },
          "execution_count": 59
        },
        {
          "output_type": "display_data",
          "data": {
            "image/png": "[encoded data removed]",
            "text/plain": [
              "<Figure size 432x288 with 1 Axes>"
            ]
          },
          "metadata": {
            "tags": []
          }
        }
      ]
    },
    {
      "cell_type": "code",
      "metadata": {
        "colab_type": "code",
        "id": "pcNqRCbiklYN",
        "colab": {}
      },
      "source": [
        "results = scaler.inverse_transform(np.array(train_seed).reshape(-1,1))"
      ],
      "execution_count": 0,
      "outputs": []
    },
    {
      "cell_type": "code",
      "metadata": {
        "colab_type": "code",
        "id": "K-8x-sOFmBav",
        "colab": {}
      },
      "source": [
        "milk_predict = milk"
      ],
      "execution_count": 0,
      "outputs": []
    },
    {
      "cell_type": "code",
      "metadata": {
        "colab_type": "code",
        "id": "387zn4SBmKsl",
        "colab": {}
      },
      "source": [
        "milk_predict['Generated'] = results"
      ],
      "execution_count": 0,
      "outputs": []
    },
    {
      "cell_type": "code",
      "metadata": {
        "colab_type": "code",
        "id": "PDvQXKtjklYX",
        "outputId": "20c97e28-2f88-409e-b3b2-7e4b92ffcb19",
        "colab": {
          "base_uri": "https://localhost:8080/",
          "height": 0
        }
      },
      "source": [
        "milk_predict.plot()"
      ],
      "execution_count": 63,
      "outputs": [
        {
          "output_type": "execute_result",
          "data": {
            "text/plain": [
              "<matplotlib.axes._subplots.AxesSubplot at 0x7fdd7a73b5c0>"
            ]
          },
          "metadata": {
            "tags": []
          },
          "execution_count": 63
        },
        {
          "output_type": "display_data",
          "data": {
            "image/png": "[encoded data removed]",
            "text/plain": [
              "<Figure size 432x288 with 1 Axes>"
            ]
          },
          "metadata": {
            "tags": []
          }
        }
      ]
    },
    {
      "cell_type": "code",
      "metadata": {
        "colab_type": "code",
        "id": "zIAwIfd6JDa8",
        "colab": {}
      },
      "source": [
        ""
      ],
      "execution_count": 0,
      "outputs": []
    }
  ]
}