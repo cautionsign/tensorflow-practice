{
 "cells": [
  {
   "cell_type": "markdown",
   "metadata": {
    "colab_type": "text",
    "id": "XT2oM6FHVJCf"
   },
   "source": [
    "## Enviroment:\n",
    "\n",
    "Open AI gym [CartPole v0](https://github.com/openai/gym/wiki/CartPole-v0)\n",
    "\n",
    "### Observation\n",
    "\n",
    "Type: Box(4)\n",
    "\n",
    "| Num  | Observation          | Min      | Max     |\n",
    "| :--- | :------------------- | :------- | :------ |\n",
    "| 0    | Cart Position        | -2.4     | 2.4     |\n",
    "| 1    | Cart Velocity        | -Inf     | Inf     |\n",
    "| 2    | Pole Angle           | ~ -41.8° | ~ 41.8° |\n",
    "| 3    | Pole Velocity At Tip | -Inf     | Inf     |\n",
    "\n",
    "### Actions\n",
    "\n",
    "Type: Discrete(2)\n",
    "\n",
    "| Num  | Action                 |\n",
    "| :--- | :--------------------- |\n",
    "| 0    | Push cart to the left  |\n",
    "| 1    | Push cart to the right |\n",
    "\n",
    "Note: The amount the velocity is reduced or increased is not fixed as it depends on the angle the pole is pointing. This is because the center of gravity of the pole increases the amount of energy needed to move the cart underneath it\n",
    "\n",
    "### Reward\n",
    "\n",
    "Reward is 1 for every step taken, including the termination step\n",
    "\n",
    "### Starting State\n",
    "\n",
    "All observations are assigned a uniform random value between ±0.05\n",
    "\n",
    "### Episode Termination\n",
    "\n",
    "1. Pole Angle is more than ±12°\n",
    "2. Cart Position is more than ±2.4 (center of the cart reaches the edge of the display)\n",
    "3. Episode length is greater than 200\n",
    "\n",
    "### Solved Requirements\n",
    "\n",
    "Considered solved when the average reward is greater than or equal to 195.0 over 100 consecutive trials"
   ]
  },
  {
   "cell_type": "markdown",
   "metadata": {
    "colab_type": "text",
    "id": "xzVWtGxJVJCh"
   },
   "source": [
    "## 1. gym enviroment setup"
   ]
  },
  {
   "cell_type": "code",
   "execution_count": 1,
   "metadata": {
    "colab": {
     "base_uri": "https://localhost:8080/",
     "height": 34
    },
    "colab_type": "code",
    "id": "G312rzBjVJCi",
    "outputId": "9565b775-bc04-4b5b-d510-c5461a6c5233"
   },
   "outputs": [
    {
     "data": {
      "text/plain": [
       "array([ 0.01212204,  0.00559549,  0.03346642, -0.01407475])"
      ]
     },
     "execution_count": 1,
     "metadata": {},
     "output_type": "execute_result"
    }
   ],
   "source": [
    "import gym\n",
    "import numpy as np\n",
    "\n",
    "import matplotlib.pyplot as plt\n",
    "env = gym.make(\"CartPole-v0\")\n",
    "env.reset()"
   ]
  },
  {
   "cell_type": "code",
   "execution_count": 2,
   "metadata": {
    "colab": {},
    "colab_type": "code",
    "id": "80YCNcHUZYtI"
   },
   "outputs": [],
   "source": [
    "import tensorflow as tf\n",
    "from tqdm import tqdm"
   ]
  },
  {
   "cell_type": "code",
   "execution_count": 3,
   "metadata": {
    "colab": {},
    "colab_type": "code",
    "id": "IjkusASudj9W"
   },
   "outputs": [],
   "source": [
    "ACTION_SPACE_SIZE = env.action_space.n\n",
    "OBSERVATION_SPACE_SIZE = env.observation_space.shape[0]\n",
    "\n",
    "# reward discount\n",
    "GAMMA = 0.95\n",
    "EPISODES =30000\n",
    "\n",
    "ep_rewards = []\n",
    "\n",
    "AGGREGATE_STATS_EVERY = 50"
   ]
  },
  {
   "cell_type": "markdown",
   "metadata": {
    "colab_type": "text",
    "id": "lTRr9PZPZ1-1"
   },
   "source": [
    "## 3. Agent Class"
   ]
  },
  {
   "cell_type": "code",
   "execution_count": 12,
   "metadata": {
    "colab": {},
    "colab_type": "code",
    "id": "w_7sLLVzZ1Tj"
   },
   "outputs": [],
   "source": [
    "class PGAgent:\n",
    "\n",
    "  def __init__(self):\n",
    "\n",
    "    # build nn network\n",
    "    self._build_net()\n",
    "    \n",
    "    self.sess = tf.Session()\n",
    "\n",
    "    self.sess.run(tf.global_variables_initializer())\n",
    "\n",
    "    \n",
    "    \n",
    "  # build the policy modle a two layer neural network  \n",
    "  def _build_net(self):\n",
    "    self.states = tf.placeholder(tf.float32, [None,OBSERVATION_SPACE_SIZE])\n",
    "    self.actions = tf.placeholder(tf.int32, [None,])\n",
    "    self.discounted_episode_rewards = tf.placeholder(tf.float32, [None,])\n",
    "\n",
    "    fc1 = tf.layers.dense(\n",
    "        inputs = self.states,\n",
    "        units = 10,\n",
    "        activation = tf.nn.relu,\n",
    "        kernel_initializer=tf.random_normal_initializer(mean=0, stddev=0.3),\n",
    "        bias_initializer=tf.constant_initializer(0.1)\n",
    "    )\n",
    "    \n",
    "    act_logits = tf.layers.dense(\n",
    "        inputs = fc1,\n",
    "        units = ACTION_SPACE_SIZE,\n",
    "        kernel_initializer=tf.random_normal_initializer(mean=0, stddev=0.3),\n",
    "        bias_initializer=tf.constant_initializer(0.1),\n",
    "    )\n",
    "\n",
    "    self.actions_prob = tf.nn.softmax(act_logits)\n",
    "    \n",
    "    #sample an action from predicted probabilities    \n",
    "    self.sample_op = tf.multinomial(logits=act_logits, num_samples=1)\n",
    "\n",
    "    neg_log_prob = tf.reduce_sum(-tf.log(self.actions_prob) * tf.one_hot(self.actions, ACTION_SPACE_SIZE),axis =1)\n",
    "#     neg_log_prob = tf.nn.sparse_softmax_cross_entropy_with_logits(logits=act_logits, labels=self.actions)\n",
    "    loss = tf.reduce_mean(neg_log_prob * self.discounted_episode_rewards)\n",
    "\n",
    "    self.train_op = tf.train.AdamOptimizer(0.001).minimize(loss)\n",
    "\n",
    "  def choose_action(self, states):\n",
    "    action = self.sess.run(self.sample_op, feed_dict={self.states: states[np.newaxis,:]})\n",
    "    return action[0][0]\n",
    "  \n",
    "  def train(self, states, actions, rewards):\n",
    "    discounted_episode_rewards = self.discount_rewards(rewards)\n",
    "    self.sess.run(self.train_op,\n",
    "                  feed_dict = {self.states : states,\n",
    "                               self.actions : actions,\n",
    "                               self.discounted_episode_rewards : discounted_episode_rewards }\n",
    "                  )\n",
    "\n",
    "  def discount_rewards(self, rewards):\n",
    "    discount_rewards = np.zeros_like(rewards)\n",
    "    running_add = 0\n",
    "    for t in reversed(range(len(rewards))):\n",
    "      running_add = running_add * GAMMA + rewards[t]\n",
    "      discount_rewards[t] = running_add\n",
    "\n",
    "      mean = np.mean(discount_rewards)\n",
    "      std = np.std(discount_rewards)\n",
    "      discount_rewards = (discount_rewards - mean)/std\n",
    "\n",
    "      return discount_rewards"
   ]
  },
  {
   "cell_type": "code",
   "execution_count": 13,
   "metadata": {
    "colab": {
     "base_uri": "https://localhost:8080/",
     "height": 106
    },
    "colab_type": "code",
    "id": "TUDDhaxOadLa",
    "outputId": "15b478eb-3862-43af-8df2-92ce98e871d7"
   },
   "outputs": [],
   "source": [
    "agent = PGAgent()"
   ]
  },
  {
   "cell_type": "markdown",
   "metadata": {
    "colab_type": "text",
    "id": "Bpa2BCspawS3"
   },
   "source": [
    "## 4. Train the agent"
   ]
  },
  {
   "cell_type": "code",
   "execution_count": 14,
   "metadata": {
    "colab": {},
    "colab_type": "code",
    "id": "I7j_aM56tO2_"
   },
   "outputs": [],
   "source": [
    "aggr_ep_rewards = {'ep':[],'avg':[],'min':[],'max':[]}"
   ]
  },
  {
   "cell_type": "code",
   "execution_count": 15,
   "metadata": {
    "colab": {
     "base_uri": "https://localhost:8080/",
     "height": 34
    },
    "colab_type": "code",
    "id": "Xmoxp-PEjN3s",
    "outputId": "739674c0-4cbd-4e0e-e478-4385805a0cb9"
   },
   "outputs": [
    {
     "name": "stderr",
     "output_type": "stream",
     "text": [
      "100%|###################################################################| 30000/30000 [41:19<00:00, 12.67episodes/s]\n"
     ]
    }
   ],
   "source": [
    "# Iterate over episodes\n",
    "for episode in tqdm(range(1, EPISODES + 1), ascii=True, unit='episodes'):\n",
    "    # Restarting episode - reset episode states,actions, and rewards \n",
    "    episode_states, episode_actions, episode_rewards = [],[],[]\n",
    "    \n",
    "    #Reset single step reward\n",
    "    episode_reward = 0\n",
    "\n",
    "    # Reset environment and get initial state\n",
    "    current_state = env.reset()\n",
    "\n",
    "    # Reset flag and start iterating until episode ends\n",
    "    done = False\n",
    "    while not done:\n",
    "\n",
    "        action = agent.choose_action(current_state)\n",
    "        next_state, reward, done, _ = env.step(action)\n",
    "\n",
    "        # Store [s a r]\n",
    "        episode_states.append(current_state)\n",
    "        episode_actions.append(action)\n",
    "        episode_rewards.append(reward)\n",
    "\n",
    "\n",
    "        # Transform new continous state to new discrete state and count reward\n",
    "        episode_reward += reward\n",
    "\n",
    "#         if not episode % AGGREGATE_STATS_EVERY:\n",
    "#             env.render()\n",
    "\n",
    "        current_state = next_state\n",
    "\n",
    "    agent.train(np.vstack(episode_states), np.array(episode_actions), np.array(episode_rewards))\n",
    "    \n",
    "    \n",
    "    # Append episode reward to a list and log rewards (every given number of episodes)\n",
    "    ep_rewards.append(episode_reward)\n",
    "\n",
    "    if not episode % AGGREGATE_STATS_EVERY or episode == 1:\n",
    "        average_reward = sum(ep_rewards[-AGGREGATE_STATS_EVERY:])/len(ep_rewards[-AGGREGATE_STATS_EVERY:])\n",
    "        min_reward = min(ep_rewards[-AGGREGATE_STATS_EVERY:])\n",
    "        max_reward = max(ep_rewards[-AGGREGATE_STATS_EVERY:])\n",
    "        \n",
    "        aggr_ep_rewards['ep'].append(episode)\n",
    "        aggr_ep_rewards['avg'].append(average_reward)\n",
    "        aggr_ep_rewards['min'].append(min_reward)\n",
    "        aggr_ep_rewards['max'].append(max_reward)\n",
    "        \n",
    "#         agent.tensorboard.update_stats(reward_avg=average_reward, reward_min=min_reward, reward_max=max_reward, epsilon=epsilon)\n"
   ]
  },
  {
   "cell_type": "markdown",
   "metadata": {
    "colab_type": "text",
    "id": "QQ22Ry_q4mQS"
   },
   "source": [
    "## 5. Plot episodes vs rewards"
   ]
  },
  {
   "cell_type": "code",
   "execution_count": 16,
   "metadata": {},
   "outputs": [
    {
     "data": {
      "text/plain": [
       "Text(0,0.5,'Rewards')"
      ]
     },
     "execution_count": 16,
     "metadata": {},
     "output_type": "execute_result"
    },
    {
     "data": {
      "image/png": "[encoded data removed]",
      "text/plain": [
       "<Figure size 432x288 with 1 Axes>"
      ]
     },
     "metadata": {
      "needs_background": "light"
     },
     "output_type": "display_data"
    }
   ],
   "source": [
    "plt.plot(aggr_ep_rewards['ep'], aggr_ep_rewards['avg'], label = 'avg')\n",
    "plt.plot(aggr_ep_rewards['ep'], aggr_ep_rewards['min'], label = 'min')\n",
    "plt.plot(aggr_ep_rewards['ep'], aggr_ep_rewards['max'], label = 'max')\n",
    "plt.legend(loc='upper left')\n",
    "plt.xlabel('Episodes')\n",
    "plt.ylabel('Rewards')"
   ]
  },
  {
   "cell_type": "markdown",
   "metadata": {
    "colab_type": "text",
    "id": "9ILbxFFfIckN"
   },
   "source": [
    "### Rendering Test"
   ]
  },
  {
   "cell_type": "code",
   "execution_count": 21,
   "metadata": {
    "colab": {},
    "colab_type": "code",
    "id": "iFZ1eIgjHwXw"
   },
   "outputs": [],
   "source": [
    "done = False\n",
    "state = env.reset()\n",
    "for i in range(500):\n",
    "# while not done:\n",
    "    action = agent.choose_action(state)\n",
    "    next_state, _, done, _ = env.step(action)\n",
    "    state = next_state\n",
    "    env.render()\n",
    "\n",
    "env.close()\n",
    "    "
   ]
  },
  {
   "cell_type": "code",
   "execution_count": null,
   "metadata": {},
   "outputs": [],
   "source": []
  }
 ],
 "metadata": {
  "accelerator": "GPU",
  "colab": {
   "name": "1_policy_gradient_kearas_cartpole.ipynb",
   "provenance": [],
   "version": "0.3.2"
  },
  "kernelspec": {
   "display_name": "Python (spinningup)",
   "language": "python",
   "name": "spinningup"
  },
  "language_info": {
   "codemirror_mode": {
    "name": "ipython",
    "version": 3
   },
   "file_extension": ".py",
   "mimetype": "text/x-python",
   "name": "python",
   "nbconvert_exporter": "python",
   "pygments_lexer": "ipython3",
   "version": "3.6.8"
  }
 },
 "nbformat": 4,
 "nbformat_minor": 1
}
