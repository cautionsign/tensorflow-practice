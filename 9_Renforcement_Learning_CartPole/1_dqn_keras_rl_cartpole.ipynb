{
 "cells": [
  {
   "cell_type": "markdown",
   "metadata": {},
   "source": [
    "use the keras-rl library to implement deep Q-learning \n",
    "\n",
    "https://github.com/keras-rl/keras-rl\n",
    "\n",
    "\n",
    "### Installation\n",
    "\n",
    "Install Keras-RL from Pypi (recommended):\n",
    "```\n",
    "pip install keras-rl\n",
    "```\n",
    "\n",
    "\n",
    "Install from Github source:\n",
    "```\n",
    "git clone https://github.com/keras-rl/keras-rl.git\n",
    "cd keras-rl\n",
    "python setup.py install\n",
    "````"
   ]
  },
  {
   "cell_type": "code",
   "execution_count": 9,
   "metadata": {},
   "outputs": [],
   "source": [
    "import numpy as np\n",
    "import gym\n",
    "\n",
    "from keras.models import Sequential\n",
    "from keras.layers import Dense, Activation, Flatten\n",
    "from keras.optimizers import Adam\n",
    "\n",
    "from rl.agents.dqn import DQNAgent\n",
    "from rl.policy import EpsGreedyQPolicy\n",
    "from rl.memory import SequentialMemory\n"
   ]
  },
  {
   "cell_type": "code",
   "execution_count": 2,
   "metadata": {},
   "outputs": [],
   "source": [
    "ENV_NAME = 'CartPole-v0'"
   ]
  },
  {
   "cell_type": "code",
   "execution_count": 3,
   "metadata": {},
   "outputs": [],
   "source": [
    "# Get the environment and extract the number of actions.\n",
    "env = gym.make(ENV_NAME)\n",
    "np.random.seed(123)\n",
    "env.seed(123)\n",
    "nb_actions = env.action_space.n"
   ]
  },
  {
   "cell_type": "code",
   "execution_count": 4,
   "metadata": {},
   "outputs": [],
   "source": [
    "input_shape=(1,) + env.observation_space.shape"
   ]
  },
  {
   "cell_type": "code",
   "execution_count": 5,
   "metadata": {},
   "outputs": [
    {
     "data": {
      "text/plain": [
       "(1, 4)"
      ]
     },
     "execution_count": 5,
     "metadata": {},
     "output_type": "execute_result"
    }
   ],
   "source": [
    "input_shape"
   ]
  },
  {
   "cell_type": "code",
   "execution_count": 73,
   "metadata": {},
   "outputs": [
    {
     "name": "stdout",
     "output_type": "stream",
     "text": [
      "_________________________________________________________________\n",
      "Layer (type)                 Output Shape              Param #   \n",
      "=================================================================\n",
      "flatten_17 (Flatten)         (None, 4)                 0         \n",
      "_________________________________________________________________\n",
      "dense_54 (Dense)             (None, 16)                80        \n",
      "_________________________________________________________________\n",
      "activation_54 (Activation)   (None, 16)                0         \n",
      "_________________________________________________________________\n",
      "dense_55 (Dense)             (None, 16)                272       \n",
      "_________________________________________________________________\n",
      "activation_55 (Activation)   (None, 16)                0         \n",
      "_________________________________________________________________\n",
      "dense_56 (Dense)             (None, 16)                272       \n",
      "_________________________________________________________________\n",
      "activation_56 (Activation)   (None, 16)                0         \n",
      "_________________________________________________________________\n",
      "dense_57 (Dense)             (None, 2)                 34        \n",
      "_________________________________________________________________\n",
      "activation_57 (Activation)   (None, 2)                 0         \n",
      "=================================================================\n",
      "Total params: 658\n",
      "Trainable params: 658\n",
      "Non-trainable params: 0\n",
      "_________________________________________________________________\n",
      "None\n"
     ]
    }
   ],
   "source": [
    "model = Sequential()\n",
    "model.add(Flatten(input_shape=(1,) + env.observation_space.shape))\n",
    "model.add(Dense(16))\n",
    "model.add(Activation('relu'))\n",
    "model.add(Dense(16))\n",
    "model.add(Activation('relu'))\n",
    "model.add(Dense(16))\n",
    "model.add(Activation('relu'))\n",
    "model.add(Dense(nb_actions))\n",
    "model.add(Activation('linear'))\n",
    "print(model.summary())"
   ]
  },
  {
   "cell_type": "code",
   "execution_count": 6,
   "metadata": {},
   "outputs": [
    {
     "name": "stdout",
     "output_type": "stream",
     "text": [
      "_________________________________________________________________\n",
      "Layer (type)                 Output Shape              Param #   \n",
      "=================================================================\n",
      "dense_1 (Dense)              (None, 1, 16)             80        \n",
      "_________________________________________________________________\n",
      "activation_1 (Activation)    (None, 1, 16)             0         \n",
      "_________________________________________________________________\n",
      "dense_2 (Dense)              (None, 1, 16)             272       \n",
      "_________________________________________________________________\n",
      "activation_2 (Activation)    (None, 1, 16)             0         \n",
      "_________________________________________________________________\n",
      "dense_3 (Dense)              (None, 1, 16)             272       \n",
      "_________________________________________________________________\n",
      "activation_3 (Activation)    (None, 1, 16)             0         \n",
      "_________________________________________________________________\n",
      "flatten_1 (Flatten)          (None, 16)                0         \n",
      "_________________________________________________________________\n",
      "dense_4 (Dense)              (None, 2)                 34        \n",
      "_________________________________________________________________\n",
      "activation_4 (Activation)    (None, 2)                 0         \n",
      "=================================================================\n",
      "Total params: 658\n",
      "Trainable params: 658\n",
      "Non-trainable params: 0\n",
      "_________________________________________________________________\n",
      "None\n"
     ]
    }
   ],
   "source": [
    "model = Sequential()\n",
    "# model.add(Flatten(input_shape=(1,4)))\n",
    "model.add(Dense(16, input_shape=(1,4)))\n",
    "model.add(Activation('relu'))\n",
    "model.add(Dense(16))\n",
    "model.add(Activation('relu'))\n",
    "model.add(Dense(16))\n",
    "model.add(Activation('relu'))\n",
    "model.add(Flatten())\n",
    "model.add(Dense(nb_actions))\n",
    "model.add(Activation('linear'))\n",
    "print(model.summary())"
   ]
  },
  {
   "cell_type": "code",
   "execution_count": 10,
   "metadata": {},
   "outputs": [],
   "source": [
    "# Finally, we configure and compile our agent. You can use every built-in Keras optimizer and\n",
    "# even the metrics!\n",
    "memory = SequentialMemory(limit=50000, window_length=1)\n",
    "policy = EpsGreedyQPolicy()\n",
    "dqn = DQNAgent(model=model, nb_actions=nb_actions, memory=memory, nb_steps_warmup=10,\n",
    "               target_model_update=1e-2, policy=policy)\n",
    "dqn.compile(Adam(lr=1e-3), metrics=['mae'])"
   ]
  },
  {
   "cell_type": "code",
   "execution_count": 11,
   "metadata": {},
   "outputs": [
    {
     "name": "stdout",
     "output_type": "stream",
     "text": [
      "Training for 10000 steps ...\n"
     ]
    },
    {
     "name": "stderr",
     "output_type": "stream",
     "text": [
      "/Users/hongtao/anaconda3/envs/spinningup/lib/python3.6/site-packages/rl/memory.py:39: UserWarning: Not enough entries to sample without replacement. Consider increasing your warm-up phase to avoid oversampling!\n",
      "  warnings.warn('Not enough entries to sample without replacement. Consider increasing your warm-up phase to avoid oversampling!')\n"
     ]
    },
    {
     "name": "stdout",
     "output_type": "stream",
     "text": [
      "   12/10000: episode: 1, duration: 3.960s, episode steps: 12, steps per second: 3, episode reward: 12.000, mean reward: 1.000 [1.000, 1.000], mean action: 0.667 [0.000, 1.000], mean observation: -0.114 [-1.751, 0.973], loss: 0.497553, mean_absolute_error: 0.509256, mean_q: -0.016498\n",
      "   25/10000: episode: 2, duration: 0.149s, episode steps: 13, steps per second: 87, episode reward: 13.000, mean reward: 1.000 [1.000, 1.000], mean action: 0.923 [0.000, 1.000], mean observation: -0.074 [-3.253, 2.194], loss: 0.440938, mean_absolute_error: 0.486571, mean_q: 0.067862\n"
     ]
    },
    {
     "name": "stderr",
     "output_type": "stream",
     "text": [
      "/Users/hongtao/anaconda3/envs/spinningup/lib/python3.6/site-packages/rl/memory.py:39: UserWarning: Not enough entries to sample without replacement. Consider increasing your warm-up phase to avoid oversampling!\n",
      "  warnings.warn('Not enough entries to sample without replacement. Consider increasing your warm-up phase to avoid oversampling!')\n",
      "/Users/hongtao/anaconda3/envs/spinningup/lib/python3.6/site-packages/rl/memory.py:39: UserWarning: Not enough entries to sample without replacement. Consider increasing your warm-up phase to avoid oversampling!\n",
      "  warnings.warn('Not enough entries to sample without replacement. Consider increasing your warm-up phase to avoid oversampling!')\n"
     ]
    },
    {
     "name": "stdout",
     "output_type": "stream",
     "text": [
      "   34/10000: episode: 3, duration: 0.121s, episode steps: 9, steps per second: 74, episode reward: 9.000, mean reward: 1.000 [1.000, 1.000], mean action: 1.000 [1.000, 1.000], mean observation: -0.127 [-2.809, 1.812], loss: 0.323152, mean_absolute_error: 0.426584, mean_q: 0.237247\n",
      "   44/10000: episode: 4, duration: 0.118s, episode steps: 10, steps per second: 85, episode reward: 10.000, mean reward: 1.000 [1.000, 1.000], mean action: 1.000 [1.000, 1.000], mean observation: -0.157 [-3.116, 1.934], loss: 0.234744, mean_absolute_error: 0.355153, mean_q: 0.432159\n",
      "   52/10000: episode: 5, duration: 0.098s, episode steps: 8, steps per second: 82, episode reward: 8.000, mean reward: 1.000 [1.000, 1.000], mean action: 1.000 [1.000, 1.000], mean observation: -0.138 [-2.563, 1.604], loss: 0.185758, mean_absolute_error: 0.309132, mean_q: 0.622192\n",
      "   61/10000: episode: 6, duration: 0.115s, episode steps: 9, steps per second: 78, episode reward: 9.000, mean reward: 1.000 [1.000, 1.000], mean action: 1.000 [1.000, 1.000], mean observation: -0.124 [-2.762, 1.768], loss: 0.158073, mean_absolute_error: 0.291788, mean_q: 0.785875\n",
      "   70/10000: episode: 7, duration: 0.109s, episode steps: 9, steps per second: 82, episode reward: 9.000, mean reward: 1.000 [1.000, 1.000], mean action: 1.000 [1.000, 1.000], mean observation: -0.139 [-2.798, 1.804], loss: 0.138914, mean_absolute_error: 0.292803, mean_q: 0.906254\n",
      "   79/10000: episode: 8, duration: 0.111s, episode steps: 9, steps per second: 81, episode reward: 9.000, mean reward: 1.000 [1.000, 1.000], mean action: 1.000 [1.000, 1.000], mean observation: -0.138 [-2.817, 1.757], loss: 0.138887, mean_absolute_error: 0.328466, mean_q: 1.027576\n",
      "   88/10000: episode: 9, duration: 0.111s, episode steps: 9, steps per second: 81, episode reward: 9.000, mean reward: 1.000 [1.000, 1.000], mean action: 1.000 [1.000, 1.000], mean observation: -0.118 [-2.741, 1.805], loss: 0.123793, mean_absolute_error: 0.360581, mean_q: 1.116737\n",
      "   99/10000: episode: 10, duration: 0.126s, episode steps: 11, steps per second: 87, episode reward: 11.000, mean reward: 1.000 [1.000, 1.000], mean action: 0.909 [0.000, 1.000], mean observation: -0.136 [-2.749, 1.744], loss: 0.085117, mean_absolute_error: 0.386717, mean_q: 1.229742\n",
      "  108/10000: episode: 11, duration: 0.114s, episode steps: 9, steps per second: 79, episode reward: 9.000, mean reward: 1.000 [1.000, 1.000], mean action: 1.000 [1.000, 1.000], mean observation: -0.143 [-2.802, 1.734], loss: 0.061897, mean_absolute_error: 0.438897, mean_q: 1.445295\n",
      "  117/10000: episode: 12, duration: 0.123s, episode steps: 9, steps per second: 73, episode reward: 9.000, mean reward: 1.000 [1.000, 1.000], mean action: 1.000 [1.000, 1.000], mean observation: -0.136 [-2.795, 1.802], loss: 0.055966, mean_absolute_error: 0.505676, mean_q: 1.509498\n",
      "  126/10000: episode: 13, duration: 0.111s, episode steps: 9, steps per second: 81, episode reward: 9.000, mean reward: 1.000 [1.000, 1.000], mean action: 1.000 [1.000, 1.000], mean observation: -0.144 [-2.881, 1.804], loss: 0.046306, mean_absolute_error: 0.582813, mean_q: 1.573691\n",
      "  135/10000: episode: 14, duration: 0.111s, episode steps: 9, steps per second: 81, episode reward: 9.000, mean reward: 1.000 [1.000, 1.000], mean action: 0.889 [0.000, 1.000], mean observation: -0.126 [-2.230, 1.388], loss: 0.042492, mean_absolute_error: 0.629765, mean_q: 1.566971\n",
      "  145/10000: episode: 15, duration: 0.131s, episode steps: 10, steps per second: 76, episode reward: 10.000, mean reward: 1.000 [1.000, 1.000], mean action: 0.900 [0.000, 1.000], mean observation: -0.142 [-2.486, 1.559], loss: 0.037709, mean_absolute_error: 0.690687, mean_q: 1.619794\n",
      "  155/10000: episode: 16, duration: 0.124s, episode steps: 10, steps per second: 81, episode reward: 10.000, mean reward: 1.000 [1.000, 1.000], mean action: 1.000 [1.000, 1.000], mean observation: -0.132 [-3.016, 1.962], loss: 0.041534, mean_absolute_error: 0.751954, mean_q: 1.621642\n",
      "  164/10000: episode: 17, duration: 0.120s, episode steps: 9, steps per second: 75, episode reward: 9.000, mean reward: 1.000 [1.000, 1.000], mean action: 1.000 [1.000, 1.000], mean observation: -0.167 [-2.873, 1.780], loss: 0.040052, mean_absolute_error: 0.815021, mean_q: 1.669149\n",
      "  173/10000: episode: 18, duration: 0.121s, episode steps: 9, steps per second: 75, episode reward: 9.000, mean reward: 1.000 [1.000, 1.000], mean action: 1.000 [1.000, 1.000], mean observation: -0.152 [-2.835, 1.751], loss: 0.036849, mean_absolute_error: 0.873355, mean_q: 1.737483\n",
      "  182/10000: episode: 19, duration: 0.116s, episode steps: 9, steps per second: 78, episode reward: 9.000, mean reward: 1.000 [1.000, 1.000], mean action: 0.889 [0.000, 1.000], mean observation: -0.116 [-2.436, 1.588], loss: 0.024223, mean_absolute_error: 0.842290, mean_q: 1.593807\n",
      "  193/10000: episode: 20, duration: 0.170s, episode steps: 11, steps per second: 65, episode reward: 11.000, mean reward: 1.000 [1.000, 1.000], mean action: 0.727 [0.000, 1.000], mean observation: -0.118 [-1.921, 1.182], loss: 0.014280, mean_absolute_error: 0.834201, mean_q: 1.609290\n",
      "  204/10000: episode: 21, duration: 0.160s, episode steps: 11, steps per second: 69, episode reward: 11.000, mean reward: 1.000 [1.000, 1.000], mean action: 0.727 [0.000, 1.000], mean observation: -0.091 [-2.058, 1.388], loss: 0.010265, mean_absolute_error: 0.854559, mean_q: 1.694313\n",
      "  215/10000: episode: 22, duration: 0.153s, episode steps: 11, steps per second: 72, episode reward: 11.000, mean reward: 1.000 [1.000, 1.000], mean action: 0.727 [0.000, 1.000], mean observation: -0.119 [-1.760, 1.160], loss: 0.011508, mean_absolute_error: 0.873250, mean_q: 1.689020\n",
      "  227/10000: episode: 23, duration: 0.188s, episode steps: 12, steps per second: 64, episode reward: 12.000, mean reward: 1.000 [1.000, 1.000], mean action: 0.667 [0.000, 1.000], mean observation: -0.091 [-1.735, 1.207], loss: 0.013702, mean_absolute_error: 0.916551, mean_q: 1.764569\n",
      "  238/10000: episode: 24, duration: 0.140s, episode steps: 11, steps per second: 79, episode reward: 11.000, mean reward: 1.000 [1.000, 1.000], mean action: 0.727 [0.000, 1.000], mean observation: -0.118 [-2.102, 1.382], loss: 0.014939, mean_absolute_error: 0.938211, mean_q: 1.830701\n",
      "  248/10000: episode: 25, duration: 0.168s, episode steps: 10, steps per second: 60, episode reward: 10.000, mean reward: 1.000 [1.000, 1.000], mean action: 0.700 [0.000, 1.000], mean observation: -0.137 [-1.531, 0.963], loss: 0.013365, mean_absolute_error: 0.955171, mean_q: 1.846092\n",
      "  261/10000: episode: 26, duration: 0.204s, episode steps: 13, steps per second: 64, episode reward: 13.000, mean reward: 1.000 [1.000, 1.000], mean action: 0.615 [0.000, 1.000], mean observation: -0.101 [-1.704, 1.186], loss: 0.019122, mean_absolute_error: 1.012261, mean_q: 1.954772\n",
      "  270/10000: episode: 27, duration: 0.158s, episode steps: 9, steps per second: 57, episode reward: 9.000, mean reward: 1.000 [1.000, 1.000], mean action: 0.778 [0.000, 1.000], mean observation: -0.148 [-1.876, 1.164], loss: 0.022267, mean_absolute_error: 1.028419, mean_q: 1.979342\n",
      "  285/10000: episode: 28, duration: 0.252s, episode steps: 15, steps per second: 59, episode reward: 15.000, mean reward: 1.000 [1.000, 1.000], mean action: 0.600 [0.000, 1.000], mean observation: -0.104 [-1.420, 0.927], loss: 0.019197, mean_absolute_error: 1.095426, mean_q: 2.108922\n",
      "  295/10000: episode: 29, duration: 0.175s, episode steps: 10, steps per second: 57, episode reward: 10.000, mean reward: 1.000 [1.000, 1.000], mean action: 0.100 [0.000, 1.000], mean observation: 0.161 [-1.521, 2.531], loss: 0.021881, mean_absolute_error: 1.156726, mean_q: 2.196498\n",
      "  306/10000: episode: 30, duration: 0.183s, episode steps: 11, steps per second: 60, episode reward: 11.000, mean reward: 1.000 [1.000, 1.000], mean action: 0.091 [0.000, 1.000], mean observation: 0.125 [-1.717, 2.811], loss: 0.047369, mean_absolute_error: 1.208306, mean_q: 2.292123\n",
      "  316/10000: episode: 31, duration: 0.176s, episode steps: 10, steps per second: 57, episode reward: 10.000, mean reward: 1.000 [1.000, 1.000], mean action: 0.200 [0.000, 1.000], mean observation: 0.113 [-1.593, 2.366], loss: 0.120569, mean_absolute_error: 1.299114, mean_q: 2.372253\n"
     ]
    },
    {
     "name": "stdout",
     "output_type": "stream",
     "text": [
      "  342/10000: episode: 32, duration: 0.430s, episode steps: 26, steps per second: 61, episode reward: 26.000, mean reward: 1.000 [1.000, 1.000], mean action: 0.231 [0.000, 1.000], mean observation: -0.021 [-2.750, 3.620], loss: 0.096825, mean_absolute_error: 1.366028, mean_q: 2.531889\n",
      "  352/10000: episode: 33, duration: 0.189s, episode steps: 10, steps per second: 53, episode reward: 10.000, mean reward: 1.000 [1.000, 1.000], mean action: 0.100 [0.000, 1.000], mean observation: 0.148 [-1.544, 2.534], loss: 0.098142, mean_absolute_error: 1.481573, mean_q: 2.840460\n",
      "  361/10000: episode: 34, duration: 0.170s, episode steps: 9, steps per second: 53, episode reward: 9.000, mean reward: 1.000 [1.000, 1.000], mean action: 0.111 [0.000, 1.000], mean observation: 0.145 [-1.322, 2.257], loss: 0.196824, mean_absolute_error: 1.524436, mean_q: 2.806054\n",
      "  369/10000: episode: 35, duration: 0.151s, episode steps: 8, steps per second: 53, episode reward: 8.000, mean reward: 1.000 [1.000, 1.000], mean action: 0.000 [0.000, 0.000], mean observation: 0.144 [-1.590, 2.565], loss: 0.168530, mean_absolute_error: 1.564705, mean_q: 2.856247\n",
      "  379/10000: episode: 36, duration: 0.195s, episode steps: 10, steps per second: 51, episode reward: 10.000, mean reward: 1.000 [1.000, 1.000], mean action: 0.000 [0.000, 0.000], mean observation: 0.134 [-1.977, 3.069], loss: 0.297060, mean_absolute_error: 1.655295, mean_q: 3.016542\n",
      "  389/10000: episode: 37, duration: 0.159s, episode steps: 10, steps per second: 63, episode reward: 10.000, mean reward: 1.000 [1.000, 1.000], mean action: 0.000 [0.000, 0.000], mean observation: 0.135 [-1.937, 3.009], loss: 0.200282, mean_absolute_error: 1.637776, mean_q: 2.965510\n",
      "  397/10000: episode: 38, duration: 0.135s, episode steps: 8, steps per second: 59, episode reward: 8.000, mean reward: 1.000 [1.000, 1.000], mean action: 0.000 [0.000, 0.000], mean observation: 0.143 [-1.547, 2.531], loss: 0.206478, mean_absolute_error: 1.655385, mean_q: 2.992626\n",
      "  407/10000: episode: 39, duration: 0.182s, episode steps: 10, steps per second: 55, episode reward: 10.000, mean reward: 1.000 [1.000, 1.000], mean action: 0.000 [0.000, 0.000], mean observation: 0.137 [-1.958, 3.050], loss: 0.208824, mean_absolute_error: 1.735142, mean_q: 3.197716\n",
      "  416/10000: episode: 40, duration: 0.143s, episode steps: 9, steps per second: 63, episode reward: 9.000, mean reward: 1.000 [1.000, 1.000], mean action: 0.000 [0.000, 0.000], mean observation: 0.144 [-1.774, 2.819], loss: 0.195193, mean_absolute_error: 1.773987, mean_q: 3.302514\n",
      "  424/10000: episode: 41, duration: 0.122s, episode steps: 8, steps per second: 65, episode reward: 8.000, mean reward: 1.000 [1.000, 1.000], mean action: 0.000 [0.000, 0.000], mean observation: 0.169 [-1.565, 2.578], loss: 0.240618, mean_absolute_error: 1.818421, mean_q: 3.361008\n",
      "  435/10000: episode: 42, duration: 0.188s, episode steps: 11, steps per second: 59, episode reward: 11.000, mean reward: 1.000 [1.000, 1.000], mean action: 0.091 [0.000, 1.000], mean observation: 0.106 [-1.809, 2.808], loss: 0.218322, mean_absolute_error: 1.850535, mean_q: 3.424123\n",
      "  445/10000: episode: 43, duration: 0.186s, episode steps: 10, steps per second: 54, episode reward: 10.000, mean reward: 1.000 [1.000, 1.000], mean action: 0.200 [0.000, 1.000], mean observation: 0.162 [-1.336, 2.312], loss: 0.183743, mean_absolute_error: 1.823935, mean_q: 3.364591\n",
      "  455/10000: episode: 44, duration: 0.192s, episode steps: 10, steps per second: 52, episode reward: 10.000, mean reward: 1.000 [1.000, 1.000], mean action: 0.000 [0.000, 0.000], mean observation: 0.159 [-1.915, 3.070], loss: 0.207694, mean_absolute_error: 1.961151, mean_q: 3.736166\n",
      "  465/10000: episode: 45, duration: 0.161s, episode steps: 10, steps per second: 62, episode reward: 10.000, mean reward: 1.000 [1.000, 1.000], mean action: 0.100 [0.000, 1.000], mean observation: 0.154 [-1.528, 2.588], loss: 0.285569, mean_absolute_error: 1.965652, mean_q: 3.581646\n",
      "  474/10000: episode: 46, duration: 0.150s, episode steps: 9, steps per second: 60, episode reward: 9.000, mean reward: 1.000 [1.000, 1.000], mean action: 0.000 [0.000, 0.000], mean observation: 0.187 [-1.727, 2.899], loss: 0.232855, mean_absolute_error: 2.009974, mean_q: 3.831956\n",
      "  483/10000: episode: 47, duration: 0.185s, episode steps: 9, steps per second: 49, episode reward: 9.000, mean reward: 1.000 [1.000, 1.000], mean action: 0.000 [0.000, 0.000], mean observation: 0.164 [-1.721, 2.789], loss: 0.270802, mean_absolute_error: 2.042488, mean_q: 3.803957\n",
      "  493/10000: episode: 48, duration: 0.203s, episode steps: 10, steps per second: 49, episode reward: 10.000, mean reward: 1.000 [1.000, 1.000], mean action: 0.200 [0.000, 1.000], mean observation: 0.113 [-1.212, 1.985], loss: 0.253024, mean_absolute_error: 2.058556, mean_q: 3.844785\n",
      "  505/10000: episode: 49, duration: 0.252s, episode steps: 12, steps per second: 48, episode reward: 12.000, mean reward: 1.000 [1.000, 1.000], mean action: 0.167 [0.000, 1.000], mean observation: 0.110 [-1.575, 2.545], loss: 0.250075, mean_absolute_error: 2.126002, mean_q: 4.100665\n",
      "  515/10000: episode: 50, duration: 0.170s, episode steps: 10, steps per second: 59, episode reward: 10.000, mean reward: 1.000 [1.000, 1.000], mean action: 0.200 [0.000, 1.000], mean observation: 0.110 [-1.584, 2.364], loss: 0.259643, mean_absolute_error: 2.139257, mean_q: 4.045831\n",
      "  525/10000: episode: 51, duration: 0.185s, episode steps: 10, steps per second: 54, episode reward: 10.000, mean reward: 1.000 [1.000, 1.000], mean action: 0.000 [0.000, 0.000], mean observation: 0.151 [-1.922, 3.109], loss: 0.228265, mean_absolute_error: 2.167935, mean_q: 4.080089\n",
      "  536/10000: episode: 52, duration: 0.194s, episode steps: 11, steps per second: 57, episode reward: 11.000, mean reward: 1.000 [1.000, 1.000], mean action: 0.182 [0.000, 1.000], mean observation: 0.123 [-1.597, 2.422], loss: 0.265342, mean_absolute_error: 2.227136, mean_q: 4.060940\n",
      "  546/10000: episode: 53, duration: 0.197s, episode steps: 10, steps per second: 51, episode reward: 10.000, mean reward: 1.000 [1.000, 1.000], mean action: 0.000 [0.000, 0.000], mean observation: 0.132 [-1.994, 3.014], loss: 0.227026, mean_absolute_error: 2.242022, mean_q: 4.244925\n",
      "  555/10000: episode: 54, duration: 0.179s, episode steps: 9, steps per second: 50, episode reward: 9.000, mean reward: 1.000 [1.000, 1.000], mean action: 0.000 [0.000, 0.000], mean observation: 0.135 [-1.765, 2.769], loss: 0.253911, mean_absolute_error: 2.273658, mean_q: 4.330843\n",
      "  564/10000: episode: 55, duration: 0.163s, episode steps: 9, steps per second: 55, episode reward: 9.000, mean reward: 1.000 [1.000, 1.000], mean action: 0.000 [0.000, 0.000], mean observation: 0.145 [-1.742, 2.813], loss: 0.185570, mean_absolute_error: 2.273664, mean_q: 4.346209\n",
      "  575/10000: episode: 56, duration: 0.184s, episode steps: 11, steps per second: 60, episode reward: 11.000, mean reward: 1.000 [1.000, 1.000], mean action: 0.091 [0.000, 1.000], mean observation: 0.123 [-1.790, 2.815], loss: 0.268499, mean_absolute_error: 2.310026, mean_q: 4.377471\n",
      "  584/10000: episode: 57, duration: 0.163s, episode steps: 9, steps per second: 55, episode reward: 9.000, mean reward: 1.000 [1.000, 1.000], mean action: 0.000 [0.000, 0.000], mean observation: 0.143 [-1.775, 2.809], loss: 0.251009, mean_absolute_error: 2.362797, mean_q: 4.584296\n",
      "  594/10000: episode: 58, duration: 0.183s, episode steps: 10, steps per second: 55, episode reward: 10.000, mean reward: 1.000 [1.000, 1.000], mean action: 0.000 [0.000, 0.000], mean observation: 0.154 [-1.927, 3.118], loss: 0.247240, mean_absolute_error: 2.388568, mean_q: 4.587520\n",
      "  602/10000: episode: 59, duration: 0.149s, episode steps: 8, steps per second: 54, episode reward: 8.000, mean reward: 1.000 [1.000, 1.000], mean action: 0.000 [0.000, 0.000], mean observation: 0.140 [-1.605, 2.571], loss: 0.258900, mean_absolute_error: 2.404877, mean_q: 4.570201\n",
      "  612/10000: episode: 60, duration: 0.200s, episode steps: 10, steps per second: 50, episode reward: 10.000, mean reward: 1.000 [1.000, 1.000], mean action: 0.000 [0.000, 0.000], mean observation: 0.149 [-1.997, 3.097], loss: 0.215756, mean_absolute_error: 2.413985, mean_q: 4.621381\n"
     ]
    },
    {
     "name": "stdout",
     "output_type": "stream",
     "text": [
      "  623/10000: episode: 61, duration: 0.230s, episode steps: 11, steps per second: 48, episode reward: 11.000, mean reward: 1.000 [1.000, 1.000], mean action: 0.182 [0.000, 1.000], mean observation: 0.107 [-1.385, 2.240], loss: 0.252719, mean_absolute_error: 2.443873, mean_q: 4.652440\n",
      "  636/10000: episode: 62, duration: 0.228s, episode steps: 13, steps per second: 57, episode reward: 13.000, mean reward: 1.000 [1.000, 1.000], mean action: 0.154 [0.000, 1.000], mean observation: 0.097 [-1.756, 2.800], loss: 0.248125, mean_absolute_error: 2.526170, mean_q: 4.827978\n",
      "  647/10000: episode: 63, duration: 0.242s, episode steps: 11, steps per second: 45, episode reward: 11.000, mean reward: 1.000 [1.000, 1.000], mean action: 0.091 [0.000, 1.000], mean observation: 0.135 [-1.718, 2.705], loss: 0.179364, mean_absolute_error: 2.546573, mean_q: 4.927422\n",
      "  657/10000: episode: 64, duration: 0.221s, episode steps: 10, steps per second: 45, episode reward: 10.000, mean reward: 1.000 [1.000, 1.000], mean action: 0.100 [0.000, 1.000], mean observation: 0.140 [-1.717, 2.720], loss: 0.223092, mean_absolute_error: 2.519887, mean_q: 4.811268\n",
      "  668/10000: episode: 65, duration: 0.229s, episode steps: 11, steps per second: 48, episode reward: 11.000, mean reward: 1.000 [1.000, 1.000], mean action: 0.182 [0.000, 1.000], mean observation: 0.102 [-1.578, 2.414], loss: 0.230585, mean_absolute_error: 2.599591, mean_q: 4.989634\n",
      "  678/10000: episode: 66, duration: 0.212s, episode steps: 10, steps per second: 47, episode reward: 10.000, mean reward: 1.000 [1.000, 1.000], mean action: 0.200 [0.000, 1.000], mean observation: 0.123 [-1.352, 2.134], loss: 0.229576, mean_absolute_error: 2.603299, mean_q: 4.916408\n",
      "  691/10000: episode: 67, duration: 0.322s, episode steps: 13, steps per second: 40, episode reward: 13.000, mean reward: 1.000 [1.000, 1.000], mean action: 0.308 [0.000, 1.000], mean observation: 0.093 [-1.370, 2.041], loss: 0.176493, mean_absolute_error: 2.709732, mean_q: 5.178645\n",
      "  701/10000: episode: 68, duration: 0.191s, episode steps: 10, steps per second: 52, episode reward: 10.000, mean reward: 1.000 [1.000, 1.000], mean action: 0.300 [0.000, 1.000], mean observation: 0.126 [-0.961, 1.665], loss: 0.216088, mean_absolute_error: 2.653049, mean_q: 4.929430\n",
      "  736/10000: episode: 69, duration: 0.788s, episode steps: 35, steps per second: 44, episode reward: 35.000, mean reward: 1.000 [1.000, 1.000], mean action: 0.486 [0.000, 1.000], mean observation: -0.088 [-0.952, 0.601], loss: 0.176963, mean_absolute_error: 2.758446, mean_q: 5.209208\n",
      "  768/10000: episode: 70, duration: 0.680s, episode steps: 32, steps per second: 47, episode reward: 32.000, mean reward: 1.000 [1.000, 1.000], mean action: 0.469 [0.000, 1.000], mean observation: -0.084 [-0.714, 0.222], loss: 0.206260, mean_absolute_error: 2.819791, mean_q: 5.316781\n",
      "  790/10000: episode: 71, duration: 0.549s, episode steps: 22, steps per second: 40, episode reward: 22.000, mean reward: 1.000 [1.000, 1.000], mean action: 0.500 [0.000, 1.000], mean observation: 0.080 [-0.453, 1.020], loss: 0.143682, mean_absolute_error: 2.975178, mean_q: 5.730409\n",
      "  815/10000: episode: 72, duration: 0.687s, episode steps: 25, steps per second: 36, episode reward: 25.000, mean reward: 1.000 [1.000, 1.000], mean action: 0.480 [0.000, 1.000], mean observation: 0.111 [-0.197, 1.073], loss: 0.235535, mean_absolute_error: 3.062675, mean_q: 5.802898\n",
      "  844/10000: episode: 73, duration: 0.705s, episode steps: 29, steps per second: 41, episode reward: 29.000, mean reward: 1.000 [1.000, 1.000], mean action: 0.483 [0.000, 1.000], mean observation: 0.036 [-0.837, 1.476], loss: 0.222289, mean_absolute_error: 3.157141, mean_q: 6.011464\n",
      "  870/10000: episode: 74, duration: 0.748s, episode steps: 26, steps per second: 35, episode reward: 26.000, mean reward: 1.000 [1.000, 1.000], mean action: 0.500 [0.000, 1.000], mean observation: 0.120 [-0.206, 1.041], loss: 0.372700, mean_absolute_error: 3.228757, mean_q: 6.105584\n",
      "  893/10000: episode: 75, duration: 0.606s, episode steps: 23, steps per second: 38, episode reward: 23.000, mean reward: 1.000 [1.000, 1.000], mean action: 0.478 [0.000, 1.000], mean observation: 0.087 [-0.383, 0.902], loss: 0.325753, mean_absolute_error: 3.317826, mean_q: 6.293920\n",
      "  941/10000: episode: 76, duration: 1.180s, episode steps: 48, steps per second: 41, episode reward: 48.000, mean reward: 1.000 [1.000, 1.000], mean action: 0.458 [0.000, 1.000], mean observation: -0.071 [-0.726, 0.262], loss: 0.343608, mean_absolute_error: 3.444919, mean_q: 6.566545\n",
      " 1013/10000: episode: 77, duration: 2.306s, episode steps: 72, steps per second: 31, episode reward: 72.000, mean reward: 1.000 [1.000, 1.000], mean action: 0.472 [0.000, 1.000], mean observation: -0.096 [-0.961, 0.796], loss: 0.298714, mean_absolute_error: 3.587648, mean_q: 6.855951\n",
      " 1034/10000: episode: 78, duration: 0.605s, episode steps: 21, steps per second: 35, episode reward: 21.000, mean reward: 1.000 [1.000, 1.000], mean action: 0.524 [0.000, 1.000], mean observation: 0.105 [-0.360, 0.855], loss: 0.315850, mean_absolute_error: 3.806700, mean_q: 7.316886\n",
      " 1108/10000: episode: 79, duration: 2.408s, episode steps: 74, steps per second: 31, episode reward: 74.000, mean reward: 1.000 [1.000, 1.000], mean action: 0.486 [0.000, 1.000], mean observation: -0.104 [-1.094, 0.458], loss: 0.396730, mean_absolute_error: 3.994033, mean_q: 7.679094\n",
      " 1164/10000: episode: 80, duration: 2.287s, episode steps: 56, steps per second: 24, episode reward: 56.000, mean reward: 1.000 [1.000, 1.000], mean action: 0.464 [0.000, 1.000], mean observation: -0.145 [-0.863, 0.243], loss: 0.404512, mean_absolute_error: 4.202549, mean_q: 8.147038\n",
      " 1203/10000: episode: 81, duration: 1.336s, episode steps: 39, steps per second: 29, episode reward: 39.000, mean reward: 1.000 [1.000, 1.000], mean action: 0.538 [0.000, 1.000], mean observation: 0.101 [-0.195, 0.599], loss: 0.509438, mean_absolute_error: 4.334435, mean_q: 8.371168\n",
      " 1332/10000: episode: 82, duration: 3.422s, episode steps: 129, steps per second: 38, episode reward: 129.000, mean reward: 1.000 [1.000, 1.000], mean action: 0.496 [0.000, 1.000], mean observation: 0.203 [-1.067, 1.727], loss: 0.486339, mean_absolute_error: 4.710400, mean_q: 9.142510\n",
      " 1516/10000: episode: 83, duration: 5.089s, episode steps: 184, steps per second: 36, episode reward: 184.000, mean reward: 1.000 [1.000, 1.000], mean action: 0.516 [0.000, 1.000], mean observation: 0.390 [-0.976, 2.307], loss: 0.429089, mean_absolute_error: 5.195320, mean_q: 10.168212\n",
      " 1655/10000: episode: 84, duration: 3.010s, episode steps: 139, steps per second: 46, episode reward: 139.000, mean reward: 1.000 [1.000, 1.000], mean action: 0.540 [0.000, 1.000], mean observation: 0.353 [-0.465, 2.033], loss: 0.552532, mean_absolute_error: 5.823549, mean_q: 11.487599\n",
      " 1774/10000: episode: 85, duration: 2.535s, episode steps: 119, steps per second: 47, episode reward: 119.000, mean reward: 1.000 [1.000, 1.000], mean action: 0.471 [0.000, 1.000], mean observation: -0.135 [-1.287, 0.415], loss: 0.546631, mean_absolute_error: 6.292055, mean_q: 12.468135\n",
      " 1872/10000: episode: 86, duration: 2.255s, episode steps: 98, steps per second: 43, episode reward: 98.000, mean reward: 1.000 [1.000, 1.000], mean action: 0.459 [0.000, 1.000], mean observation: -0.189 [-1.446, 0.365], loss: 0.621248, mean_absolute_error: 6.676717, mean_q: 13.217762\n",
      " 1986/10000: episode: 87, duration: 2.585s, episode steps: 114, steps per second: 44, episode reward: 114.000, mean reward: 1.000 [1.000, 1.000], mean action: 0.474 [0.000, 1.000], mean observation: -0.144 [-1.227, 0.292], loss: 0.556783, mean_absolute_error: 7.079693, mean_q: 14.072614\n",
      " 2089/10000: episode: 88, duration: 2.189s, episode steps: 103, steps per second: 47, episode reward: 103.000, mean reward: 1.000 [1.000, 1.000], mean action: 0.466 [0.000, 1.000], mean observation: -0.212 [-1.308, 0.650], loss: 0.751858, mean_absolute_error: 7.412617, mean_q: 14.771662\n",
      " 2264/10000: episode: 89, duration: 3.743s, episode steps: 175, steps per second: 47, episode reward: 175.000, mean reward: 1.000 [1.000, 1.000], mean action: 0.474 [0.000, 1.000], mean observation: -0.177 [-1.657, 0.310], loss: 0.616657, mean_absolute_error: 7.955935, mean_q: 15.899356\n"
     ]
    },
    {
     "name": "stdout",
     "output_type": "stream",
     "text": [
      " 2406/10000: episode: 90, duration: 3.271s, episode steps: 142, steps per second: 43, episode reward: 142.000, mean reward: 1.000 [1.000, 1.000], mean action: 0.472 [0.000, 1.000], mean observation: -0.204 [-1.414, 0.402], loss: 0.689873, mean_absolute_error: 8.452146, mean_q: 16.981213\n",
      " 2546/10000: episode: 91, duration: 3.013s, episode steps: 140, steps per second: 46, episode reward: 140.000, mean reward: 1.000 [1.000, 1.000], mean action: 0.471 [0.000, 1.000], mean observation: -0.237 [-1.413, 0.595], loss: 0.652020, mean_absolute_error: 8.917190, mean_q: 18.000187\n",
      " 2696/10000: episode: 92, duration: 3.173s, episode steps: 150, steps per second: 47, episode reward: 150.000, mean reward: 1.000 [1.000, 1.000], mean action: 0.473 [0.000, 1.000], mean observation: -0.253 [-1.483, 0.556], loss: 0.632249, mean_absolute_error: 9.474723, mean_q: 19.130997\n",
      " 2831/10000: episode: 93, duration: 2.989s, episode steps: 135, steps per second: 45, episode reward: 135.000, mean reward: 1.000 [1.000, 1.000], mean action: 0.467 [0.000, 1.000], mean observation: -0.269 [-1.643, 0.513], loss: 0.644798, mean_absolute_error: 10.027730, mean_q: 20.292942\n",
      " 2983/10000: episode: 94, duration: 2.769s, episode steps: 152, steps per second: 55, episode reward: 152.000, mean reward: 1.000 [1.000, 1.000], mean action: 0.474 [0.000, 1.000], mean observation: -0.252 [-1.475, 0.560], loss: 0.586314, mean_absolute_error: 10.482678, mean_q: 21.169678\n",
      " 3183/10000: episode: 95, duration: 3.257s, episode steps: 200, steps per second: 61, episode reward: 200.000, mean reward: 1.000 [1.000, 1.000], mean action: 0.520 [0.000, 1.000], mean observation: 0.281 [-0.711, 1.886], loss: 0.771326, mean_absolute_error: 11.092213, mean_q: 22.419439\n",
      " 3348/10000: episode: 96, duration: 2.654s, episode steps: 165, steps per second: 62, episode reward: 165.000, mean reward: 1.000 [1.000, 1.000], mean action: 0.479 [0.000, 1.000], mean observation: -0.267 [-1.588, 0.793], loss: 0.885074, mean_absolute_error: 11.805822, mean_q: 23.939089\n",
      " 3482/10000: episode: 97, duration: 2.152s, episode steps: 134, steps per second: 62, episode reward: 134.000, mean reward: 1.000 [1.000, 1.000], mean action: 0.470 [0.000, 1.000], mean observation: -0.315 [-1.608, 0.323], loss: 0.825048, mean_absolute_error: 12.332193, mean_q: 24.986940\n",
      " 3682/10000: episode: 98, duration: 3.184s, episode steps: 200, steps per second: 63, episode reward: 200.000, mean reward: 1.000 [1.000, 1.000], mean action: 0.485 [0.000, 1.000], mean observation: -0.141 [-1.145, 0.704], loss: 0.884617, mean_absolute_error: 12.926129, mean_q: 26.212158\n",
      " 3872/10000: episode: 99, duration: 2.911s, episode steps: 190, steps per second: 65, episode reward: 190.000, mean reward: 1.000 [1.000, 1.000], mean action: 0.479 [0.000, 1.000], mean observation: -0.228 [-1.638, 0.845], loss: 1.063510, mean_absolute_error: 13.601347, mean_q: 27.522343\n",
      " 4012/10000: episode: 100, duration: 2.654s, episode steps: 140, steps per second: 53, episode reward: 140.000, mean reward: 1.000 [1.000, 1.000], mean action: 0.471 [0.000, 1.000], mean observation: -0.318 [-1.613, 0.445], loss: 0.937643, mean_absolute_error: 14.255636, mean_q: 28.952452\n",
      " 4155/10000: episode: 101, duration: 3.550s, episode steps: 143, steps per second: 40, episode reward: 143.000, mean reward: 1.000 [1.000, 1.000], mean action: 0.476 [0.000, 1.000], mean observation: -0.313 [-1.668, 0.492], loss: 1.082548, mean_absolute_error: 14.630658, mean_q: 29.698273\n",
      " 4307/10000: episode: 102, duration: 4.416s, episode steps: 152, steps per second: 34, episode reward: 152.000, mean reward: 1.000 [1.000, 1.000], mean action: 0.474 [0.000, 1.000], mean observation: -0.304 [-1.710, 0.357], loss: 1.053803, mean_absolute_error: 15.282689, mean_q: 31.021606\n",
      " 4473/10000: episode: 103, duration: 4.647s, episode steps: 166, steps per second: 36, episode reward: 166.000, mean reward: 1.000 [1.000, 1.000], mean action: 0.476 [0.000, 1.000], mean observation: -0.279 [-1.681, 0.516], loss: 0.922894, mean_absolute_error: 15.734209, mean_q: 31.977074\n",
      " 4673/10000: episode: 104, duration: 4.524s, episode steps: 200, steps per second: 44, episode reward: 200.000, mean reward: 1.000 [1.000, 1.000], mean action: 0.490 [0.000, 1.000], mean observation: -0.077 [-0.926, 0.529], loss: 0.997594, mean_absolute_error: 16.163971, mean_q: 32.883270\n",
      " 4840/10000: episode: 105, duration: 4.006s, episode steps: 167, steps per second: 42, episode reward: 167.000, mean reward: 1.000 [1.000, 1.000], mean action: 0.479 [0.000, 1.000], mean observation: -0.235 [-1.413, 0.494], loss: 1.360427, mean_absolute_error: 16.904472, mean_q: 34.294754\n",
      " 4996/10000: episode: 106, duration: 4.452s, episode steps: 156, steps per second: 35, episode reward: 156.000, mean reward: 1.000 [1.000, 1.000], mean action: 0.474 [0.000, 1.000], mean observation: -0.293 [-1.663, 0.413], loss: 0.923479, mean_absolute_error: 17.365913, mean_q: 35.308361\n",
      " 5196/10000: episode: 107, duration: 5.858s, episode steps: 200, steps per second: 34, episode reward: 200.000, mean reward: 1.000 [1.000, 1.000], mean action: 0.480 [0.000, 1.000], mean observation: -0.220 [-1.586, 0.416], loss: 1.153954, mean_absolute_error: 17.930222, mean_q: 36.455353\n",
      " 5388/10000: episode: 108, duration: 5.142s, episode steps: 192, steps per second: 37, episode reward: 192.000, mean reward: 1.000 [1.000, 1.000], mean action: 0.479 [0.000, 1.000], mean observation: -0.225 [-1.595, 0.444], loss: 1.576519, mean_absolute_error: 18.554817, mean_q: 37.587692\n",
      " 5588/10000: episode: 109, duration: 4.946s, episode steps: 200, steps per second: 40, episode reward: 200.000, mean reward: 1.000 [1.000, 1.000], mean action: 0.480 [0.000, 1.000], mean observation: -0.212 [-1.603, 0.439], loss: 0.941452, mean_absolute_error: 19.064342, mean_q: 38.793724\n",
      " 5735/10000: episode: 110, duration: 2.997s, episode steps: 147, steps per second: 49, episode reward: 147.000, mean reward: 1.000 [1.000, 1.000], mean action: 0.476 [0.000, 1.000], mean observation: -0.281 [-1.579, 0.448], loss: 1.222750, mean_absolute_error: 19.478548, mean_q: 39.682278\n",
      " 5888/10000: episode: 111, duration: 3.299s, episode steps: 153, steps per second: 46, episode reward: 153.000, mean reward: 1.000 [1.000, 1.000], mean action: 0.477 [0.000, 1.000], mean observation: -0.268 [-1.644, 0.309], loss: 1.296724, mean_absolute_error: 20.069969, mean_q: 40.778992\n",
      " 6052/10000: episode: 112, duration: 3.552s, episode steps: 164, steps per second: 46, episode reward: 164.000, mean reward: 1.000 [1.000, 1.000], mean action: 0.476 [0.000, 1.000], mean observation: -0.265 [-1.595, 0.513], loss: 1.405581, mean_absolute_error: 20.308460, mean_q: 41.219082\n",
      " 6252/10000: episode: 113, duration: 3.864s, episode steps: 200, steps per second: 52, episode reward: 200.000, mean reward: 1.000 [1.000, 1.000], mean action: 0.490 [0.000, 1.000], mean observation: -0.103 [-0.894, 0.487], loss: 1.504496, mean_absolute_error: 20.728043, mean_q: 42.087296\n",
      " 6436/10000: episode: 114, duration: 3.256s, episode steps: 184, steps per second: 57, episode reward: 184.000, mean reward: 1.000 [1.000, 1.000], mean action: 0.484 [0.000, 1.000], mean observation: -0.236 [-1.577, 0.730], loss: 1.438753, mean_absolute_error: 21.158022, mean_q: 43.072777\n",
      " 6633/10000: episode: 115, duration: 3.351s, episode steps: 197, steps per second: 59, episode reward: 197.000, mean reward: 1.000 [1.000, 1.000], mean action: 0.482 [0.000, 1.000], mean observation: -0.220 [-1.628, 0.463], loss: 1.196517, mean_absolute_error: 21.829971, mean_q: 44.355885\n",
      " 6833/10000: episode: 116, duration: 3.243s, episode steps: 200, steps per second: 62, episode reward: 200.000, mean reward: 1.000 [1.000, 1.000], mean action: 0.510 [0.000, 1.000], mean observation: 0.154 [-0.446, 1.083], loss: 1.411430, mean_absolute_error: 22.299932, mean_q: 45.246506\n",
      " 6978/10000: episode: 117, duration: 2.570s, episode steps: 145, steps per second: 56, episode reward: 145.000, mean reward: 1.000 [1.000, 1.000], mean action: 0.476 [0.000, 1.000], mean observation: -0.278 [-1.515, 0.469], loss: 1.566139, mean_absolute_error: 22.653406, mean_q: 45.947895\n",
      " 7124/10000: episode: 118, duration: 2.486s, episode steps: 146, steps per second: 59, episode reward: 146.000, mean reward: 1.000 [1.000, 1.000], mean action: 0.479 [0.000, 1.000], mean observation: -0.271 [-1.494, 0.907], loss: 1.572203, mean_absolute_error: 22.847200, mean_q: 46.418358\n"
     ]
    },
    {
     "name": "stdout",
     "output_type": "stream",
     "text": [
      " 7265/10000: episode: 119, duration: 2.619s, episode steps: 141, steps per second: 54, episode reward: 141.000, mean reward: 1.000 [1.000, 1.000], mean action: 0.482 [0.000, 1.000], mean observation: -0.306 [-1.822, 0.412], loss: 1.385589, mean_absolute_error: 23.075144, mean_q: 46.811882\n",
      " 7409/10000: episode: 120, duration: 2.593s, episode steps: 144, steps per second: 56, episode reward: 144.000, mean reward: 1.000 [1.000, 1.000], mean action: 0.479 [0.000, 1.000], mean observation: -0.275 [-1.600, 0.569], loss: 1.875434, mean_absolute_error: 23.552090, mean_q: 47.844639\n",
      " 7549/10000: episode: 121, duration: 2.462s, episode steps: 140, steps per second: 57, episode reward: 140.000, mean reward: 1.000 [1.000, 1.000], mean action: 0.486 [0.000, 1.000], mean observation: -0.297 [-1.682, 0.471], loss: 1.869521, mean_absolute_error: 24.073183, mean_q: 48.719387\n",
      " 7749/10000: episode: 122, duration: 4.474s, episode steps: 200, steps per second: 45, episode reward: 200.000, mean reward: 1.000 [1.000, 1.000], mean action: 0.515 [0.000, 1.000], mean observation: 0.202 [-0.640, 1.385], loss: 1.794757, mean_absolute_error: 23.969093, mean_q: 48.475727\n",
      " 7883/10000: episode: 123, duration: 3.408s, episode steps: 134, steps per second: 39, episode reward: 134.000, mean reward: 1.000 [1.000, 1.000], mean action: 0.470 [0.000, 1.000], mean observation: -0.313 [-1.673, 0.472], loss: 1.539937, mean_absolute_error: 24.531727, mean_q: 49.541504\n",
      " 8083/10000: episode: 124, duration: 5.841s, episode steps: 200, steps per second: 34, episode reward: 200.000, mean reward: 1.000 [1.000, 1.000], mean action: 0.480 [0.000, 1.000], mean observation: -0.165 [-1.457, 0.583], loss: 1.121291, mean_absolute_error: 24.657339, mean_q: 50.045200\n",
      " 8279/10000: episode: 125, duration: 5.414s, episode steps: 196, steps per second: 36, episode reward: 196.000, mean reward: 1.000 [1.000, 1.000], mean action: 0.485 [0.000, 1.000], mean observation: -0.211 [-1.511, 0.469], loss: 1.307432, mean_absolute_error: 25.174658, mean_q: 51.059826\n",
      " 8414/10000: episode: 126, duration: 3.973s, episode steps: 135, steps per second: 34, episode reward: 135.000, mean reward: 1.000 [1.000, 1.000], mean action: 0.481 [0.000, 1.000], mean observation: -0.295 [-1.610, 0.538], loss: 1.935436, mean_absolute_error: 25.807823, mean_q: 52.160748\n",
      " 8576/10000: episode: 127, duration: 4.191s, episode steps: 162, steps per second: 39, episode reward: 162.000, mean reward: 1.000 [1.000, 1.000], mean action: 0.475 [0.000, 1.000], mean observation: -0.251 [-1.606, 0.637], loss: 1.061363, mean_absolute_error: 25.737030, mean_q: 52.095764\n",
      " 8776/10000: episode: 128, duration: 4.979s, episode steps: 200, steps per second: 40, episode reward: 200.000, mean reward: 1.000 [1.000, 1.000], mean action: 0.500 [0.000, 1.000], mean observation: 0.018 [-0.633, 0.537], loss: 1.991469, mean_absolute_error: 26.008266, mean_q: 52.526329\n",
      " 8976/10000: episode: 129, duration: 4.314s, episode steps: 200, steps per second: 46, episode reward: 200.000, mean reward: 1.000 [1.000, 1.000], mean action: 0.480 [0.000, 1.000], mean observation: -0.157 [-1.480, 0.556], loss: 1.983715, mean_absolute_error: 26.327988, mean_q: 53.167389\n",
      " 9176/10000: episode: 130, duration: 3.792s, episode steps: 200, steps per second: 53, episode reward: 200.000, mean reward: 1.000 [1.000, 1.000], mean action: 0.485 [0.000, 1.000], mean observation: -0.120 [-1.307, 0.716], loss: 2.027106, mean_absolute_error: 26.988396, mean_q: 54.443127\n",
      " 9333/10000: episode: 131, duration: 2.549s, episode steps: 157, steps per second: 62, episode reward: 157.000, mean reward: 1.000 [1.000, 1.000], mean action: 0.478 [0.000, 1.000], mean observation: -0.273 [-1.853, 0.448], loss: 1.586850, mean_absolute_error: 27.123495, mean_q: 54.837280\n",
      " 9533/10000: episode: 132, duration: 3.031s, episode steps: 200, steps per second: 66, episode reward: 200.000, mean reward: 1.000 [1.000, 1.000], mean action: 0.515 [0.000, 1.000], mean observation: 0.247 [-0.606, 1.756], loss: 1.602828, mean_absolute_error: 27.348833, mean_q: 55.255898\n",
      " 9733/10000: episode: 133, duration: 3.357s, episode steps: 200, steps per second: 60, episode reward: 200.000, mean reward: 1.000 [1.000, 1.000], mean action: 0.495 [0.000, 1.000], mean observation: -0.039 [-0.905, 0.577], loss: 1.450481, mean_absolute_error: 27.698330, mean_q: 55.914707\n",
      " 9902/10000: episode: 134, duration: 2.783s, episode steps: 169, steps per second: 61, episode reward: 169.000, mean reward: 1.000 [1.000, 1.000], mean action: 0.473 [0.000, 1.000], mean observation: -0.244 [-1.796, 0.480], loss: 1.645377, mean_absolute_error: 28.061737, mean_q: 56.606770\n",
      "done, took 219.311 seconds\n"
     ]
    }
   ],
   "source": [
    "H = dqn.fit(env, nb_steps=10000, visualize=False, verbose=2)"
   ]
  },
  {
   "cell_type": "code",
   "execution_count": 12,
   "metadata": {},
   "outputs": [
    {
     "name": "stdout",
     "output_type": "stream",
     "text": [
      "Testing for 5 episodes ...\n",
      "Episode 1: reward: 189.000, steps: 189\n",
      "Episode 2: reward: 169.000, steps: 169\n",
      "Episode 3: reward: 170.000, steps: 170\n",
      "Episode 4: reward: 184.000, steps: 184\n",
      "Episode 5: reward: 142.000, steps: 142\n"
     ]
    },
    {
     "data": {
      "text/plain": [
       "<keras.callbacks.History at 0xb3289bbe0>"
      ]
     },
     "execution_count": 12,
     "metadata": {},
     "output_type": "execute_result"
    }
   ],
   "source": [
    "dqn.test(env, nb_episodes=5, visualize=True)"
   ]
  },
  {
   "cell_type": "code",
   "execution_count": 60,
   "metadata": {},
   "outputs": [
    {
     "data": {
      "text/plain": [
       "dict_keys(['episode_reward', 'nb_episode_steps', 'nb_steps'])"
      ]
     },
     "execution_count": 60,
     "metadata": {},
     "output_type": "execute_result"
    }
   ],
   "source": [
    "H.history.keys()"
   ]
  },
  {
   "cell_type": "code",
   "execution_count": 13,
   "metadata": {},
   "outputs": [],
   "source": [
    "import matplotlib.pyplot as plt\n",
    "%matplotlib inline\n",
    "import seaborn as sns"
   ]
  },
  {
   "cell_type": "code",
   "execution_count": 14,
   "metadata": {},
   "outputs": [
    {
     "data": {
      "text/plain": [
       "[<matplotlib.lines.Line2D at 0xb36f09ba8>]"
      ]
     },
     "execution_count": 14,
     "metadata": {},
     "output_type": "execute_result"
    },
    {
     "data": {
      "image/png": "[encoded data removed]",
      "text/plain": [
       "<Figure size 432x288 with 1 Axes>"
      ]
     },
     "metadata": {
      "needs_background": "light"
     },
     "output_type": "display_data"
    }
   ],
   "source": [
    "plt.plot(H.history['nb_steps'],H.history['episode_reward'])"
   ]
  },
  {
   "cell_type": "code",
   "execution_count": null,
   "metadata": {},
   "outputs": [],
   "source": []
  }
 ],
 "metadata": {
  "kernelspec": {
   "display_name": "Python (spinningup)",
   "language": "python",
   "name": "spinningup"
  },
  "language_info": {
   "codemirror_mode": {
    "name": "ipython",
    "version": 3
   },
   "file_extension": ".py",
   "mimetype": "text/x-python",
   "name": "python",
   "nbconvert_exporter": "python",
   "pygments_lexer": "ipython3",
   "version": "3.6.8"
  }
 },
 "nbformat": 4,
 "nbformat_minor": 2
}
