{
  "nbformat": 4,
  "nbformat_minor": 0,
  "metadata": {
    "accelerator": "GPU",
    "colab": {
      "name": "1_dqn_kearas_cartpole.ipynb",
      "version": "0.3.2",
      "provenance": []
    },
    "kernelspec": {
      "display_name": "Python (spinningup)",
      "language": "python",
      "name": "spinningup"
    },
    "language_info": {
      "codemirror_mode": {
        "name": "ipython",
        "version": 3
      },
      "file_extension": ".py",
      "mimetype": "text/x-python",
      "name": "python",
      "nbconvert_exporter": "python",
      "pygments_lexer": "ipython3",
      "version": "3.6.8"
    }
  },
  "cells": [
    {
      "cell_type": "markdown",
      "metadata": {
        "colab_type": "text",
        "id": "XT2oM6FHVJCf"
      },
      "source": [
        "## Enviroment:\n",
        "\n",
        "Open AI gym [CartPole v0](https://github.com/openai/gym/wiki/CartPole-v0)\n",
        "\n",
        "### Observation\n",
        "\n",
        "Type: Box(4)\n",
        "\n",
        "| Num  | Observation          | Min      | Max     |\n",
        "| :--- | :------------------- | :------- | :------ |\n",
        "| 0    | Cart Position        | -2.4     | 2.4     |\n",
        "| 1    | Cart Velocity        | -Inf     | Inf     |\n",
        "| 2    | Pole Angle           | ~ -41.8° | ~ 41.8° |\n",
        "| 3    | Pole Velocity At Tip | -Inf     | Inf     |\n",
        "\n",
        "### Actions\n",
        "\n",
        "Type: Discrete(2)\n",
        "\n",
        "| Num  | Action                 |\n",
        "| :--- | :--------------------- |\n",
        "| 0    | Push cart to the left  |\n",
        "| 1    | Push cart to the right |\n",
        "\n",
        "Note: The amount the velocity is reduced or increased is not fixed as it depends on the angle the pole is pointing. This is because the center of gravity of the pole increases the amount of energy needed to move the cart underneath it\n",
        "\n",
        "### Reward\n",
        "\n",
        "Reward is 1 for every step taken, including the termination step\n",
        "\n",
        "### Starting State\n",
        "\n",
        "All observations are assigned a uniform random value between ±0.05\n",
        "\n",
        "### Episode Termination\n",
        "\n",
        "1. Pole Angle is more than ±12°\n",
        "2. Cart Position is more than ±2.4 (center of the cart reaches the edge of the display)\n",
        "3. Episode length is greater than 200\n",
        "\n",
        "### Solved Requirements\n",
        "\n",
        "Considered solved when the average reward is greater than or equal to 195.0 over 100 consecutive trials"
      ]
    },
    {
      "cell_type": "markdown",
      "metadata": {
        "colab_type": "text",
        "id": "xzVWtGxJVJCh"
      },
      "source": [
        "## 1. gym enviroment setup"
      ]
    },
    {
      "cell_type": "code",
      "metadata": {
        "colab_type": "code",
        "id": "G312rzBjVJCi",
        "outputId": "edbd06e3-9424-4033-893f-0cef8e232a93",
        "colab": {
          "base_uri": "https://localhost:8080/",
          "height": 34
        }
      },
      "source": [
        "import gym\n",
        "import numpy as np\n",
        "\n",
        "import matplotlib.pyplot as plt\n",
        "\n",
        "env = gym.make(\"CartPole-v0\")\n",
        "env.reset()"
      ],
      "execution_count": 1,
      "outputs": [
        {
          "output_type": "execute_result",
          "data": {
            "text/plain": [
              "array([-0.03753636, -0.01905513,  0.03099227, -0.04468279])"
            ]
          },
          "metadata": {
            "tags": []
          },
          "execution_count": 1
        }
      ]
    },
    {
      "cell_type": "code",
      "metadata": {
        "colab_type": "code",
        "id": "80YCNcHUZYtI",
        "colab": {}
      },
      "source": [
        "import tensorflow as tf\n",
        "from tensorflow import keras\n",
        "from tensorflow.keras import models\n",
        "from tensorflow.keras import losses,optimizers,metrics\n",
        "from tensorflow.keras.layers import Dense, Activation, Flatten\n",
        "from tensorflow.keras.optimizers import Adam\n",
        "from collections import deque\n",
        "import random\n",
        "from tqdm import tqdm"
      ],
      "execution_count": 0,
      "outputs": []
    },
    {
      "cell_type": "code",
      "metadata": {
        "colab_type": "code",
        "id": "IjkusASudj9W",
        "colab": {}
      },
      "source": [
        "ACTION_SPACE_SIZE = env.action_space.n\n",
        "REPLAY_MEMORY_SIZE = 50_000\n",
        "MIN_REPLAY_MEMORY_SIZE = 1_000\n",
        "MINIBATCH_SIZE = 64\n",
        "UPDATE_TARGET_EVERY = 5\n",
        "DISCOUNT = 0.99\n",
        "EPISODES =1000\n",
        "\n",
        "# Exploration settings\n",
        "epsilon = 1  # not a constant, going to be decayed\n",
        "EPSILON_DECAY = 0.995\n",
        "MIN_EPSILON = 0.001\n",
        "\n",
        "ep_rewards = []\n",
        "\n",
        "AGGREGATE_STATS_EVERY = 50\n",
        "MIN_EPSILON = 0.001"
      ],
      "execution_count": 0,
      "outputs": []
    },
    {
      "cell_type": "markdown",
      "metadata": {
        "colab_type": "text",
        "id": "k4-a2aU0YCbL"
      },
      "source": [
        "### Plot epsilon decay "
      ]
    },
    {
      "cell_type": "code",
      "metadata": {
        "colab_type": "code",
        "id": "41yF0b4u46gb",
        "outputId": "1cd1b940-84cd-492f-8597-b8414dfc195c",
        "colab": {
          "base_uri": "https://localhost:8080/",
          "height": 286
        }
      },
      "source": [
        "recorder = {\"epsode\":[],\"epsilon\":[]}\n",
        "\n",
        "for epsode in range(EPISODES):\n",
        "    if epsilon > MIN_EPSILON:\n",
        "        epsilon *= EPSILON_DECAY\n",
        "        epsilon = max(MIN_EPSILON, epsilon)\n",
        "    \n",
        "    recorder[\"epsode\"].append(epsode)\n",
        "    recorder[\"epsilon\"].append(epsilon)\n",
        "\n",
        "plt.plot(recorder[\"epsode\"], recorder[\"epsilon\"])"
      ],
      "execution_count": 4,
      "outputs": [
        {
          "output_type": "execute_result",
          "data": {
            "text/plain": [
              "[<matplotlib.lines.Line2D at 0x7f4b19c8f438>]"
            ]
          },
          "metadata": {
            "tags": []
          },
          "execution_count": 4
        },
        {
          "output_type": "display_data",
          "data": {
            "image/png": "[encoded data removed]",
            "text/plain": [
              "<Figure size 432x288 with 1 Axes>"
            ]
          },
          "metadata": {
            "tags": []
          }
        }
      ]
    },
    {
      "cell_type": "markdown",
      "metadata": {
        "colab_type": "text",
        "id": "2bEwIRskgFVq"
      },
      "source": [
        "## 2.  create_model"
      ]
    },
    {
      "cell_type": "code",
      "metadata": {
        "colab_type": "code",
        "id": "jjosMYBJYk4J",
        "colab": {}
      },
      "source": [
        "def create_model():\n",
        "  model = models.Sequential()\n",
        "  \n",
        "#   model.add(Flatten(input_shape=(2,)))\n",
        "  model.add(Dense(16 ,input_shape=(env.observation_space.shape)))\n",
        "  model.add(Activation('relu'))\n",
        "  model.add(Dense(16))\n",
        "  model.add(Activation('relu'))\n",
        "  model.add(Dense(16))\n",
        "  model.add(Activation('relu'))\n",
        "  model.add(Dense(ACTION_SPACE_SIZE))\n",
        "  model.add(Activation('linear'))\n",
        "  \n",
        "  print(model.summary())\n",
        "  \n",
        "  model.compile(loss = 'mse', optimizer=Adam(lr=0.001),metrics=['accuracy'])\n",
        "  \n",
        "  return model\n"
      ],
      "execution_count": 0,
      "outputs": []
    },
    {
      "cell_type": "markdown",
      "metadata": {
        "colab_type": "text",
        "id": "lTRr9PZPZ1-1"
      },
      "source": [
        "## 3. Agent Class"
      ]
    },
    {
      "cell_type": "code",
      "metadata": {
        "colab_type": "code",
        "id": "w_7sLLVzZ1Tj",
        "colab": {}
      },
      "source": [
        "class DQNAgent:\n",
        "\n",
        "  def __init__(self):\n",
        "    \n",
        "    # Replay memory\n",
        "    self.replay_memory = deque(maxlen=REPLAY_MEMORY_SIZE)\n",
        "    \n",
        "    # Prediction Network (the main Model)\n",
        "    self.model_prediction = create_model()\n",
        "    \n",
        "    # Target Network\n",
        "    self.model_target = create_model()\n",
        "    self.model_target.set_weights(self.model_prediction.get_weights())\n",
        "    \n",
        "   \n",
        "    \n",
        "    # Used to count when to update target network with prediction network's weights\n",
        "    self.target_update_counter = 0\n",
        "    \n",
        "    \n",
        "  \n",
        "  # Adds step's data to a memory replay array\n",
        "  # (current_state, action, reward, next_state, done)\n",
        "  def update_replay_memory(self, transition):\n",
        "    self.replay_memory.append(transition)\n",
        "  \n",
        "  \n",
        "  \n",
        "  # Queries prediction network for Q values given current observation space (environment state)\n",
        "  def get_qs(self, state):\n",
        "    return self.model_prediction.predict(np.array(state).reshape(-1, *state.shape))[0]\n",
        "  \n",
        "  def train(self, terminal_state, step):\n",
        "    \n",
        "    if len(self.replay_memory) < MIN_REPLAY_MEMORY_SIZE:\n",
        "      return\n",
        "    \n",
        "    minibatch = random.sample(self.replay_memory, MINIBATCH_SIZE)\n",
        "    \n",
        "    # Get current states from minibatch, then query NN model_prediction for current Q values\n",
        "    current_states = np.array([transition[0] for transition in minibatch])\n",
        "    current_qs_list = self.model_prediction.predict(current_states)   \n",
        "    \n",
        "    # Get next_states from minibatch, then query NN model_target for target Q values\n",
        "    # When using target network, query it, otherwise main network should be queried\n",
        "    next_states = np.array([transition[3] for transition in minibatch])\n",
        "    next_qs_list = self.model_prediction.predict(next_states)\n",
        "    \n",
        "    target_qs_list = self.model_target.predict(next_states)\n",
        "    \n",
        "    X = []\n",
        "    y = []\n",
        "    \n",
        "    # Now we need to enumerate our batches\n",
        "    for index, (current_state, action, reward, next_state, done) in enumerate(minibatch):\n",
        "\n",
        "        # If not a terminal state, get new q from future states, otherwise set it to 0\n",
        "        # almost like with Q Learning, but we use just part of equation here\n",
        "        if not done:\n",
        "            max_target_a = np.argmax(next_qs_list[index])\n",
        "\n",
        "#             max_target_q = np.max(target_qs_list[index])\n",
        "            max_target_q = target_qs_list[index][max_target_a]\n",
        "            new_q = reward + DISCOUNT * max_target_q\n",
        "        else:\n",
        "            new_q = reward\n",
        "\n",
        "        # Update Q value for given state\n",
        "        current_qs = current_qs_list[index]\n",
        "        current_qs[action] = new_q\n",
        "\n",
        "        # And append to our training data\n",
        "        X.append(current_state)\n",
        "        y.append(current_qs)    \n",
        "    \n",
        "    # Fit on all samples as one batch, log only on terminal state\n",
        "    self.model_prediction.fit(np.array(X), np.array(y), batch_size=MINIBATCH_SIZE, verbose=0, shuffle=False if terminal_state else None)\n",
        "    \n",
        "    # Update target network counter every episode\n",
        "    if terminal_state:\n",
        "        self.target_update_counter +=1\n",
        "    \n",
        "    # If counter reaches set value, update target network with weights of main network\n",
        "    if self.target_update_counter > UPDATE_TARGET_EVERY:\n",
        "      self.model_target.set_weights(self.model_prediction.get_weights())\n",
        "      self.target_update_counter = 0"
      ],
      "execution_count": 0,
      "outputs": []
    },
    {
      "cell_type": "code",
      "metadata": {
        "colab_type": "code",
        "id": "TUDDhaxOadLa",
        "outputId": "459d19dd-2afd-4c16-ccd9-0b5b60d624f9",
        "colab": {
          "base_uri": "https://localhost:8080/",
          "height": 867
        }
      },
      "source": [
        "agent = DQNAgent()"
      ],
      "execution_count": 11,
      "outputs": [
        {
          "output_type": "stream",
          "text": [
            "Model: \"sequential_2\"\n",
            "_________________________________________________________________\n",
            "Layer (type)                 Output Shape              Param #   \n",
            "=================================================================\n",
            "dense_8 (Dense)              (None, 16)                80        \n",
            "_________________________________________________________________\n",
            "activation_8 (Activation)    (None, 16)                0         \n",
            "_________________________________________________________________\n",
            "dense_9 (Dense)              (None, 16)                272       \n",
            "_________________________________________________________________\n",
            "activation_9 (Activation)    (None, 16)                0         \n",
            "_________________________________________________________________\n",
            "dense_10 (Dense)             (None, 16)                272       \n",
            "_________________________________________________________________\n",
            "activation_10 (Activation)   (None, 16)                0         \n",
            "_________________________________________________________________\n",
            "dense_11 (Dense)             (None, 2)                 34        \n",
            "_________________________________________________________________\n",
            "activation_11 (Activation)   (None, 2)                 0         \n",
            "=================================================================\n",
            "Total params: 658\n",
            "Trainable params: 658\n",
            "Non-trainable params: 0\n",
            "_________________________________________________________________\n",
            "None\n",
            "Model: \"sequential_3\"\n",
            "_________________________________________________________________\n",
            "Layer (type)                 Output Shape              Param #   \n",
            "=================================================================\n",
            "dense_12 (Dense)             (None, 16)                80        \n",
            "_________________________________________________________________\n",
            "activation_12 (Activation)   (None, 16)                0         \n",
            "_________________________________________________________________\n",
            "dense_13 (Dense)             (None, 16)                272       \n",
            "_________________________________________________________________\n",
            "activation_13 (Activation)   (None, 16)                0         \n",
            "_________________________________________________________________\n",
            "dense_14 (Dense)             (None, 16)                272       \n",
            "_________________________________________________________________\n",
            "activation_14 (Activation)   (None, 16)                0         \n",
            "_________________________________________________________________\n",
            "dense_15 (Dense)             (None, 2)                 34        \n",
            "_________________________________________________________________\n",
            "activation_15 (Activation)   (None, 2)                 0         \n",
            "=================================================================\n",
            "Total params: 658\n",
            "Trainable params: 658\n",
            "Non-trainable params: 0\n",
            "_________________________________________________________________\n",
            "None\n"
          ],
          "name": "stdout"
        }
      ]
    },
    {
      "cell_type": "markdown",
      "metadata": {
        "colab_type": "text",
        "id": "Bpa2BCspawS3"
      },
      "source": [
        "## 4. Train the agent"
      ]
    },
    {
      "cell_type": "code",
      "metadata": {
        "colab_type": "code",
        "id": "I7j_aM56tO2_",
        "colab": {}
      },
      "source": [
        "aggr_ep_rewards = {'ep':[],'avg':[],'min':[],'max':[]}"
      ],
      "execution_count": 0,
      "outputs": []
    },
    {
      "cell_type": "code",
      "metadata": {
        "colab_type": "code",
        "id": "Xmoxp-PEjN3s",
        "outputId": "8ff7730f-6793-4b16-d486-1f6caaaa0003",
        "colab": {
          "base_uri": "https://localhost:8080/",
          "height": 34
        }
      },
      "source": [
        "# Iterate over episodes\n",
        "for episode in tqdm(range(1, EPISODES + 1), ascii=True, unit='episodes'):\n",
        "\n",
        "\n",
        "    # Restarting episode - reset episode reward and step number\n",
        "    episode_reward = 0\n",
        "    step = 1\n",
        "\n",
        "    # Reset environment and get initial state\n",
        "    current_state = env.reset()\n",
        "\n",
        "    # Reset flag and start iterating until episode ends\n",
        "    done = False\n",
        "    while not done:\n",
        "\n",
        "        # This part stays mostly the same, the change is to query a model for Q values\n",
        "        if np.random.random() > epsilon:\n",
        "            # Get action from Q table\n",
        "            action = np.argmax(agent.get_qs(current_state))\n",
        "        else:\n",
        "            # Get random action\n",
        "            action = np.random.randint(0, ACTION_SPACE_SIZE)\n",
        "\n",
        "        next_state, reward, done, _ = env.step(action)\n",
        "\n",
        "        # Transform new continous state to new discrete state and count reward\n",
        "        episode_reward += reward\n",
        "\n",
        "#         if SHOW_PREVIEW and not episode % AGGREGATE_STATS_EVERY:\n",
        "#             env.render()\n",
        "\n",
        "        # Every step we update replay memory and train main network\n",
        "        agent.update_replay_memory((current_state, action, reward, next_state, done))\n",
        "        agent.train(done, step)\n",
        "\n",
        "        current_state = next_state\n",
        "        step += 1\n",
        "\n",
        "    # Append episode reward to a list and log rewards (every given number of episodes)\n",
        "    ep_rewards.append(episode_reward)\n",
        "    if not episode % AGGREGATE_STATS_EVERY or episode == 1:\n",
        "        average_reward = sum(ep_rewards[-AGGREGATE_STATS_EVERY:])/len(ep_rewards[-AGGREGATE_STATS_EVERY:])\n",
        "        min_reward = min(ep_rewards[-AGGREGATE_STATS_EVERY:])\n",
        "        max_reward = max(ep_rewards[-AGGREGATE_STATS_EVERY:])\n",
        "        \n",
        "        aggr_ep_rewards['ep'].append(episode)\n",
        "        aggr_ep_rewards['avg'].append(average_reward)\n",
        "        aggr_ep_rewards['min'].append(min_reward)\n",
        "        aggr_ep_rewards['max'].append(max_reward)\n",
        "        \n",
        "#         agent.tensorboard.update_stats(reward_avg=average_reward, reward_min=min_reward, reward_max=max_reward, epsilon=epsilon)\n",
        "\n",
        "        # Save model, but only when min reward is greater or equal a set value\n",
        "#         if min_reward >= MIN_REWARD:\n",
        "#             agent.model.save(f'models/{MODEL_NAME}__{max_reward:_>7.2f}max_{average_reward:_>7.2f}avg_{min_reward:_>7.2f}min__{int(time.time())}.model')\n",
        "\n",
        "    # Decay epsilon\n",
        "    if epsilon > MIN_EPSILON:\n",
        "        epsilon *= EPSILON_DECAY\n",
        "        epsilon = max(MIN_EPSILON, epsilon)\n"
      ],
      "execution_count": 13,
      "outputs": [
        {
          "output_type": "stream",
          "text": [
            "100%|##########| 1000/1000 [45:33<00:00,  3.57s/episodes]\n"
          ],
          "name": "stderr"
        }
      ]
    },
    {
      "cell_type": "markdown",
      "metadata": {
        "colab_type": "text",
        "id": "QQ22Ry_q4mQS"
      },
      "source": [
        "## 5. Plot episodes vs rewards"
      ]
    },
    {
      "cell_type": "code",
      "metadata": {
        "colab_type": "code",
        "id": "G1TtpQaZVJDA",
        "outputId": "3b1c022e-ba9c-4fba-9d5f-8dc26cfff01c",
        "colab": {
          "base_uri": "https://localhost:8080/",
          "height": 300
        }
      },
      "source": [
        "plt.plot(aggr_ep_rewards['ep'], aggr_ep_rewards['avg'], label = 'avg')\n",
        "plt.plot(aggr_ep_rewards['ep'], aggr_ep_rewards['min'], label = 'min')\n",
        "plt.plot(aggr_ep_rewards['ep'], aggr_ep_rewards['max'], label = 'max')\n",
        "plt.legend(loc='upper left')\n",
        "plt.xlabel('Episodes')\n",
        "plt.ylabel('Rewards')"
      ],
      "execution_count": 14,
      "outputs": [
        {
          "output_type": "execute_result",
          "data": {
            "text/plain": [
              "Text(0, 0.5, 'Rewards')"
            ]
          },
          "metadata": {
            "tags": []
          },
          "execution_count": 14
        },
        {
          "output_type": "display_data",
          "data": {
            "image/png": "[encoded data removed]",
            "text/plain": [
              "<Figure size 432x288 with 1 Axes>"
            ]
          },
          "metadata": {
            "tags": []
          }
        }
      ]
    },
    {
      "cell_type": "markdown",
      "metadata": {
        "colab_type": "text",
        "id": "nwD41YstHyGx"
      },
      "source": [
        "### Save model"
      ]
    },
    {
      "cell_type": "code",
      "metadata": {
        "colab_type": "code",
        "id": "YU3N0zE_HxQb",
        "colab": {}
      },
      "source": [
        "agent.model_prediction.save('dqn_1.model')"
      ],
      "execution_count": 0,
      "outputs": []
    },
    {
      "cell_type": "markdown",
      "metadata": {
        "colab_type": "text",
        "id": "9ILbxFFfIckN"
      },
      "source": [
        "### Rendering Test"
      ]
    },
    {
      "cell_type": "code",
      "metadata": {
        "colab_type": "code",
        "id": "iFZ1eIgjHwXw",
        "colab": {}
      },
      "source": [
        "done = False\n",
        "state = env.reset()\n",
        "while not done:\n",
        "    qs_list = agent.get_qs(state)\n",
        "    action = np.argmax(qs_list())\n",
        "    next_state, _, done, _ = env.step(action)\n",
        "    state = next_state\n",
        "    env.render()\n",
        "\n",
        "env.close()\n",
        "    "
      ],
      "execution_count": 0,
      "outputs": []
    }
  ]
}